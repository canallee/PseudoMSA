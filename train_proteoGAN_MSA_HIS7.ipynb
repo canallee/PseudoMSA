{
 "cells": [
  {
   "cell_type": "code",
   "execution_count": 1,
   "metadata": {},
   "outputs": [],
   "source": [
    "import torch\n",
    "from torch.utils.tensorboard import SummaryWriter\n",
    "import torch.optim as optim\n",
    "TB_writer = SummaryWriter()\n",
    "from GAN_model.resnetGAN import *\n",
    "from GAN_model.ProteoGAN import *\n",
    "from utils.dataloader import *\n",
    "from utils.torch_utils import *\n",
    "from utils.metrics import *"
   ]
  },
  {
   "cell_type": "code",
   "execution_count": 2,
   "metadata": {},
   "outputs": [],
   "source": [
    "args_run_name = 'ProteoGAN_HIS7_MSA'\n",
    "# args; TODO: move these to parser for script\n",
    "args_batch_size=64; args_seed=42; args_eval_n_seq = 500\n",
    "args_epoch = 300\n",
    "# GAN specific param\n",
    "args_z_dim = 128; args_dim = 256\n",
    "# optimizer specific param\n",
    "args_lr_Gen = 1e-4; args_lr_Disc = 8e-5; args_loss = 'hinge'\n",
    "# train discriminator more initially\n",
    "# according to https://livebook.manning.com/book/gans-in-action/chapter-5/185\n",
    "args_disc_iters_init = 2; args_disc_iters = 1; args_disc_iters_init_epoch = 50\n",
    "# make dir\n",
    "os.makedirs('checkpoints/'+args_run_name, exist_ok=True)\n",
    "os.makedirs('out/'+args_run_name+'/plot_out/', exist_ok=True)\n",
    "os.makedirs('out/'+args_run_name+'/seq_out/', exist_ok=True)"
   ]
  },
  {
   "cell_type": "code",
   "execution_count": 3,
   "metadata": {},
   "outputs": [
    {
     "name": "stderr",
     "output_type": "stream",
     "text": [
      "100%|██████████| 14747/14747 [00:12<00:00, 1141.19it/s]\n"
     ]
    }
   ],
   "source": [
    "seed_everything(args_seed)\n",
    "use_cuda = torch.cuda.is_available()\n",
    "device = torch.device(\"cuda:0\" if use_cuda else \"cpu\")\n",
    "# keep dataset in cpu\n",
    "MSA_data = MSA_dataset('HIS7_data/his7_MSA.fasta', \n",
    "    torch.device('cpu'), pseudo_MSA=False) "
   ]
  },
  {
   "cell_type": "markdown",
   "metadata": {},
   "source": [
    "### Creating data sets"
   ]
  },
  {
   "cell_type": "code",
   "execution_count": 4,
   "metadata": {},
   "outputs": [],
   "source": [
    "# creating data set with train/val split\n",
    "train_len = int(MSA_data.length*0.85-MSA_data.length)\n",
    "val_len = MSA_data.length - train_len\n",
    "train_data, val_data = torch.utils.data.random_split(\n",
    "    MSA_data, [train_len, val_len], \n",
    "    generator=torch.Generator().manual_seed(args_seed))\n",
    "# decoding train and validation sequences for evaluation\n",
    "val_seqs = [decode_one_seq(torch.argmax(data, dim=-1).detach().cpu()) \n",
    "            for data in val_data]\n",
    "tr_seqs = [decode_one_seq(torch.argmax(data, dim=-1).detach().cpu()) \n",
    "           for data in train_data]\n",
    "# creating dataloader for training data\n",
    "loader = torch.utils.data.DataLoader(\n",
    "    train_data, batch_size=args_batch_size, shuffle=True,\n",
    "    num_workers=1, pin_memory=True)\n",
    "# fixed parameters\n",
    "n_chars = 21; seq_len = len(val_seqs[0])"
   ]
  },
  {
   "cell_type": "markdown",
   "metadata": {},
   "source": [
    "### Evaluating positive and negative control sequences to obtain baseline metrics\n",
    "Positive: sample of real sequences and simulates a perfect model\n",
    "\n",
    "Negative: a sample that simulates the worst possible model for each metric: \\\n",
    "    (constant sequence for MMD, repeated sequences for diversity measures).\n"
   ]
  },
  {
   "cell_type": "code",
   "execution_count": 5,
   "metadata": {},
   "outputs": [
    {
     "name": "stderr",
     "output_type": "stream",
     "text": [
      "C:\\Users\\canal\\AppData\\Roaming\\Python\\Python38\\site-packages\\numpy\\lib\\function_base.py:2642: RuntimeWarning: invalid value encountered in true_divide\n",
      "  c /= stddev[:, None]\n",
      "C:\\Users\\canal\\AppData\\Roaming\\Python\\Python38\\site-packages\\numpy\\lib\\function_base.py:2643: RuntimeWarning: invalid value encountered in true_divide\n",
      "  c /= stddev[None, :]\n"
     ]
    }
   ],
   "source": [
    "pos_ctrl_seqs = np.random.choice(tr_seqs, size=len(val_seqs), replace=False)\n",
    "# constant sequences for MMD\n",
    "neg_ctrl_seqs_MMD = []\n",
    "for _ in range(len(val_seqs)):\n",
    "    rand_aa_idx = np.random.randint(0, high=19)\n",
    "    rand_seq = decode_one_seq(\n",
    "        np.random.randint(rand_aa_idx, high=rand_aa_idx+2, size=seq_len))\n",
    "    neg_ctrl_seqs_MMD.append(rand_seq)\n",
    "# repeated sequences for diversity measures\n",
    "rand_seq = decode_one_seq(np.random.randint(0, high=21, size=seq_len))\n",
    "neg_ctrl_seqs_diversity = [rand_seq for _ in range(len(val_seqs))]\n",
    "# report baseline\n",
    "MMD_pos = mmd(seq1=pos_ctrl_seqs, seq2=val_seqs)\n",
    "MMD_neg = mmd(seq1=neg_ctrl_seqs_MMD, seq2=val_seqs)\n",
    "Entropy_pos = abs(entropy(seq1=pos_ctrl_seqs, seq2=val_seqs))\n",
    "Entropy_neg = abs(entropy(seq1=neg_ctrl_seqs_diversity, seq2=val_seqs))\n",
    "Distance_pos = abs(distance(seq1=pos_ctrl_seqs, seq2=val_seqs))\n",
    "Distance_neg = abs(distance(seq1=neg_ctrl_seqs_diversity, seq2=val_seqs))\n",
    "Pearson_cor_pos = pearson_cor(seq1=pos_ctrl_seqs, seq2=val_seqs, random_n=1000)[1].item()"
   ]
  },
  {
   "cell_type": "code",
   "execution_count": 6,
   "metadata": {},
   "outputs": [
    {
     "name": "stdout",
     "output_type": "stream",
     "text": [
      ">>> MMD | abs(D_Entropy) | abs(D_Distance) | Pearson Corr\n",
      ">>> For postivie control:\n",
      "0.014261 , 2.6973e-05 , 0.009592 , nan\n",
      ">>> For negative control:\n",
      "0.89876 , 0.18894 , 0.50313 , 0.000\n"
     ]
    }
   ],
   "source": [
    "## Pearson corr higher the better, all other lower the better\n",
    "print('>>> MMD | abs(D_Entropy) | abs(D_Distance) | Pearson Corr' )\n",
    "print(f'>>> For postivie control:\\n'\n",
    "      f'{MMD_pos:.5} , {Entropy_pos:.5} , {Distance_pos:.5} , {Pearson_cor_pos:.5}')\n",
    "print(f'>>> For negative control:\\n'\n",
    "      f'{MMD_neg:.5} , {Entropy_neg:.5} , {Distance_neg:.5} , 0.000')"
   ]
  },
  {
   "cell_type": "code",
   "execution_count": 7,
   "metadata": {},
   "outputs": [],
   "source": [
    "def save_checkpoints(discriminator, generator, optim_D, optim_G,  \n",
    "               scheduler_D, scheduler_G, epoch):\n",
    "    torch.save({\n",
    "        'epoch': epoch,\n",
    "        'disc_state_dict': discriminator.state_dict(),\n",
    "        'gen_state_dict': generator.state_dict(),\n",
    "        'optim_D_state_dict': optim_D.state_dict(),\n",
    "        'optim_G_state_dict': optim_G.state_dict(),\n",
    "        'scheduler_D_state_dict': scheduler_D.state_dict(),\n",
    "        'scheduler_G_state_dict': scheduler_G.state_dict(),\n",
    "    }, os.path.join('checkpoints/'+args_run_name, 'epoch_{}'.format(epoch)))\n",
    "    return\n",
    "\n",
    "def load_checkpoints(discriminator, generator, optim_D, optim_G,\n",
    "                     scheduler_D, scheduler_G, epoch):\n",
    "    checkpoints = torch.load(\n",
    "        os.path.join('checkpoints'+args_run_name, 'epoch_{}'.format(epoch)))  \n",
    "    discriminator.load_state_dict(checkpoints['disc_state_dict'])\n",
    "    generator.load_state_dict(checkpoints['gen_state_dict'])\n",
    "    optim_D.load_state_dict(checkpoints['optim_D_state_dict'])\n",
    "    optim_G.load_state_dict(checkpoints['optim_G_state_dict'])\n",
    "    scheduler_D.load_state_dict(checkpoints['scheduler_D_state_dict'])\n",
    "    scheduler_G.load_state_dict(checkpoints['scheduler_G_state_dict'])\n",
    "    return"
   ]
  },
  {
   "cell_type": "markdown",
   "metadata": {},
   "source": [
    "## Init model"
   ]
  },
  {
   "cell_type": "code",
   "execution_count": 8,
   "metadata": {},
   "outputs": [],
   "source": [
    "# init model and optimizer\n",
    "\n",
    "Disc = Discriminator(args_dim, seq_len=seq_len, n_chars=n_chars).to(device)\n",
    "Gen = Generator(args_dim, seq_len=seq_len, n_chars=n_chars, \n",
    "                z_dim=args_z_dim).to(device)\n",
    "\n",
    "# Disc = ResNetSN_Discriminator(args_dim, seq_len, n_chars).to(device)\n",
    "# Gen = ResNetSN_Generator(args_dim, seq_len, n_chars, args_z_dim).to(device)\n",
    "\n",
    "optim_disc = optim.Adam(filter(lambda p: p.requires_grad, Disc.parameters()),\n",
    "                        lr=args_lr_Disc, betas=(0.0, 0.9))\n",
    "optim_gen = optim.Adam(Gen.parameters(), lr=args_lr_Gen, betas=(0.0, 0.9))\n",
    "# use an exponentially decaying learning rate\n",
    "scheduler_d = optim.lr_scheduler.ExponentialLR(optim_disc, gamma=0.99)\n",
    "scheduler_g = optim.lr_scheduler.ExponentialLR(optim_gen, gamma=0.99)\n",
    "\n",
    "#load_checkpoints(Disc, Gen, optim_disc, optim_gen, scheduler_d, scheduler_g, 0)\n",
    "#save_checkpoints(Disc, Gen, optim_disc, optim_gen, scheduler_d, scheduler_g, 0)"
   ]
  },
  {
   "cell_type": "code",
   "execution_count": 9,
   "metadata": {},
   "outputs": [],
   "source": [
    "def sample_generated(generator, epoch, run_name, n_seq=500):\n",
    "    # random sampling n_seq noise, batched 100 noise at a time\n",
    "    # return sampled n_seq sequences, also saving them to fasta file\n",
    "    gen_seqs = []\n",
    "    max_batch_size = 100\n",
    "    for _ in range(n_seq//max_batch_size):\n",
    "        z = torch.randn(max_batch_size, args_z_dim, device=device)\n",
    "        gen_probs = generator(z)\n",
    "        batched_seq = [decode_one_seq(\n",
    "            gen_prob.argmax(-1).cpu().numpy()) for gen_prob in gen_probs]\n",
    "        gen_seqs += batched_seq\n",
    "        torch.cuda.empty_cache()\n",
    "    # saving seqs in fasta\n",
    "    fasta_name = 'out/' + run_name + '/seq_out/epoch_' + str(epoch) + '.fasta'\n",
    "    outfile = open(fasta_name, 'w')\n",
    "    for i, seq in enumerate(gen_seqs):\n",
    "        seq_id = 'Epoch'+str(epoch)+'_seq'+str(i)\n",
    "        outfile.write('>' + seq_id + '\\n')\n",
    "        outfile.write(seq + '\\n')\n",
    "    return gen_seqs\n",
    "\n",
    "\n",
    "def write_eval_TB(writer, MMD, Entropy, Distance, Pearson, epoch):\n",
    "    writer.add_scalar(args_run_name+'/MMD',  MMD, epoch)\n",
    "    writer.add_scalar(args_run_name+'/abs(D_Entropy)', Entropy, epoch)\n",
    "    writer.add_scalar(args_run_name+'/abs(D_Distance)', Distance, epoch)\n",
    "    writer.add_scalar(args_run_name+'/Pearson Correlation', Pearson, epoch)\n",
    "    return\n",
    "\n",
    "def evaluate(epoch):\n",
    "    # eval mode\n",
    "    Gen.eval()\n",
    "    # sample args_eval_n_seq sequences\n",
    "    gen_seqs = sample_generated(Gen, epoch, args_run_name, n_seq=args_eval_n_seq)\n",
    "    MMD = mmd(seq1=gen_seqs, seq2=val_seqs)\n",
    "    Entropy = abs(entropy(seq1=gen_seqs, seq2=val_seqs))\n",
    "    Distance = abs(distance(seq1=gen_seqs, seq2=val_seqs))\n",
    "    Pearson = pearson_cor(\n",
    "        seq1=gen_seqs, seq2=val_seqs, random_n=args_eval_n_seq)[1].item()\n",
    "    print(f'#========== evaluating for epoch ' f'{epoch} ' f'==========#')\n",
    "    print('>>> MMD | abs(D_Entropy) | abs(D_Distance) | Pearson Corr \\n'\n",
    "          f'{MMD:.5} , {Entropy:.5} , {Distance:.5} , {Pearson:.5}')\n",
    "    # save the gap distribution plot\n",
    "    plot_gap_dist(seqs=gen_seqs, run_name=args_run_name, epoch=epoch)\n",
    "    write_eval_TB(TB_writer, MMD, Entropy, Distance, Pearson, epoch)\n",
    "    # revert to train mode\n",
    "    Gen.train()\n",
    "    return\n"
   ]
  },
  {
   "cell_type": "code",
   "execution_count": 10,
   "metadata": {},
   "outputs": [],
   "source": [
    "def train(epoch):\n",
    "    for batch_idx, data in enumerate(loader):\n",
    "        if data.size()[0] != args_batch_size:\n",
    "            continue\n",
    "        else:\n",
    "            data = data.to(device)\n",
    "        # train discriminator more initially\n",
    "        if epoch <= args_disc_iters_init_epoch: \n",
    "            disc_iters = args_disc_iters_init\n",
    "        else:\n",
    "            disc_iters = args_disc_iters\n",
    "        # update discriminator\n",
    "        for _ in range(disc_iters):\n",
    "            z = torch.randn(args_batch_size, args_z_dim, device=device)\n",
    "            optim_disc.zero_grad()\n",
    "            optim_gen.zero_grad()\n",
    "            real_D = Disc(data)\n",
    "            fake_D = Disc(Gen(z))\n",
    "            if args_loss == 'hinge':\n",
    "                disc_loss = nn.ReLU()(1.0 - real_D).mean() + \\\n",
    "                nn.ReLU()(1.0 + fake_D).mean()\n",
    "            disc_loss.backward()\n",
    "            optim_disc.step()\n",
    "        # record output for both fake and real from discriminator\n",
    "        real_prob_avg = real_D.mean()\n",
    "        fake_prob_avg = fake_D.mean()\n",
    "        \n",
    "        # update generator\n",
    "        z = torch.randn(args_batch_size, args_z_dim, device=device)\n",
    "        optim_disc.zero_grad()\n",
    "        optim_gen.zero_grad()\n",
    "        if args_loss == 'hinge' or args_loss == 'wasserstein':\n",
    "            gen_loss = -Disc(Gen(z)).mean()\n",
    "        gen_loss.backward()\n",
    "        optim_gen.step()\n",
    "        \n",
    "        # write to Tensor board\n",
    "        iter = len(loader)*epoch + batch_idx\n",
    "        TB_writer.add_scalars(\n",
    "            args_run_name+'/GAN loss', {\n",
    "            'Disc_loss': disc_loss,\n",
    "            'Gen_loss': gen_loss,\n",
    "        }, iter)\n",
    "        TB_writer.add_scalars(\n",
    "            args_run_name+'/Discriminator out', {\n",
    "            'Real prob': real_prob_avg,\n",
    "            'Fake prob': fake_prob_avg,\n",
    "        }, iter)\n",
    "        if batch_idx % 60 == 0:\n",
    "            print('disc loss', disc_loss.item(), 'gen loss', gen_loss.item())\n",
    "    # update lr scheduler\n",
    "    scheduler_d.step()\n",
    "    scheduler_g.step()\n",
    "    return\n"
   ]
  },
  {
   "cell_type": "code",
   "execution_count": 11,
   "metadata": {},
   "outputs": [
    {
     "name": "stdout",
     "output_type": "stream",
     "text": [
      "disc loss 1.937320351600647 gen loss -0.032582491636276245\n",
      "disc loss 0.021944429725408554 gen loss 1.0660433769226074\n",
      "disc loss 0.0 gen loss 1.2910759449005127\n",
      "disc loss 0.0010433066636323929 gen loss 1.280122995376587\n",
      "#========== evaluating for epoch 0 ==========#\n",
      ">>> MMD | abs(D_Entropy) | abs(D_Distance) | Pearson Corr \n",
      "0.77043 , 0.027427 , 1.3698 , nan\n",
      "# ================== Sampling 500 sequences at epoch 0 ================== #\n",
      "The loci with percentage of gap >= 95% in the cleaned MSA: \n",
      " []\n",
      "Their percentage gap are:\n",
      " []\n",
      "# ====================================================== #\n",
      "disc loss 0.009129540994763374 gen loss 1.4036619663238525\n",
      "disc loss 0.04773637652397156 gen loss 1.2121655941009521\n",
      "disc loss 0.26264524459838867 gen loss 0.9322355389595032\n",
      "disc loss 0.5100820064544678 gen loss 0.8507874011993408\n",
      "disc loss 0.6933207511901855 gen loss 0.896632194519043\n",
      "disc loss 0.7926701307296753 gen loss 0.7051809430122375\n",
      "disc loss 0.8934520483016968 gen loss 0.7078176736831665\n",
      "disc loss 0.9051604270935059 gen loss 0.8011696934700012\n"
     ]
    },
    {
     "name": "stderr",
     "output_type": "stream",
     "text": [
      "C:\\Users\\canal\\AppData\\Roaming\\Python\\Python38\\site-packages\\numpy\\lib\\function_base.py:2642: RuntimeWarning: invalid value encountered in true_divide\n",
      "  c /= stddev[:, None]\n",
      "C:\\Users\\canal\\AppData\\Roaming\\Python\\Python38\\site-packages\\numpy\\lib\\function_base.py:2643: RuntimeWarning: invalid value encountered in true_divide\n",
      "  c /= stddev[None, :]\n"
     ]
    },
    {
     "name": "stdout",
     "output_type": "stream",
     "text": [
      "#========== evaluating for epoch 2 ==========#\n",
      ">>> MMD | abs(D_Entropy) | abs(D_Distance) | Pearson Corr \n",
      "0.10306 , 0.0065845 , 0.0026246 , nan\n",
      "# ================== Sampling 500 sequences at epoch 2 ================== #\n",
      "The loci with percentage of gap >= 95% in the cleaned MSA: \n",
      " [0, 1, 25, 26, 27, 28, 29, 30, 31, 32, 33, 34, 35, 36, 37, 38, 39, 40, 41, 42, 43, 44, 45, 46, 47, 48, 219]\n",
      "Their percentage gap are:\n",
      " [99.2, 99.6, 98.4, 98.2, 98.4, 99.2, 97.8, 99.6, 99.0, 99.4, 99.4, 99.8, 97.6, 99.0, 99.0, 99.4, 99.4, 99.8, 99.0, 98.8, 98.8, 97.4, 96.4, 97.8, 96.8, 97.8, 99.2]\n",
      "# ====================================================== #\n",
      "disc loss 0.9501191973686218 gen loss 0.6149370074272156\n",
      "disc loss 1.0332316160202026 gen loss 0.5338668823242188\n",
      "disc loss 1.1372942924499512 gen loss 0.5990921258926392\n",
      "disc loss 1.3264915943145752 gen loss 0.3982865810394287\n",
      "disc loss 1.0596551895141602 gen loss 0.5673372745513916\n",
      "disc loss 1.1340094804763794 gen loss 0.4160841107368469\n",
      "disc loss 1.116335391998291 gen loss 0.5366306304931641\n",
      "disc loss 0.9305362105369568 gen loss 0.4847993850708008\n"
     ]
    },
    {
     "name": "stderr",
     "output_type": "stream",
     "text": [
      "C:\\Users\\canal\\AppData\\Roaming\\Python\\Python38\\site-packages\\numpy\\lib\\function_base.py:2642: RuntimeWarning: invalid value encountered in true_divide\n",
      "  c /= stddev[:, None]\n",
      "C:\\Users\\canal\\AppData\\Roaming\\Python\\Python38\\site-packages\\numpy\\lib\\function_base.py:2643: RuntimeWarning: invalid value encountered in true_divide\n",
      "  c /= stddev[None, :]\n"
     ]
    },
    {
     "name": "stdout",
     "output_type": "stream",
     "text": [
      "#========== evaluating for epoch 4 ==========#\n",
      ">>> MMD | abs(D_Entropy) | abs(D_Distance) | Pearson Corr \n",
      "0.10379 , 0.0056457 , 0.0030841 , nan\n",
      "# ================== Sampling 500 sequences at epoch 4 ================== #\n",
      "The loci with percentage of gap >= 95% in the cleaned MSA: \n",
      " [0, 1, 25, 26, 27, 28, 29, 30, 31, 32, 33, 34, 35, 36, 37, 38, 39, 40, 41, 42, 43, 44, 45, 46, 47, 48, 219]\n",
      "Their percentage gap are:\n",
      " [99.8, 100.0, 96.8, 98.6, 97.0, 98.0, 98.2, 98.6, 99.4, 99.2, 98.0, 98.0, 98.8, 99.2, 98.8, 98.8, 98.4, 98.0, 98.0, 98.4, 97.8, 97.2, 98.6, 99.2, 98.6, 97.4, 100.0]\n",
      "# ====================================================== #\n",
      "disc loss 0.9685254096984863 gen loss 0.6691887378692627\n",
      "disc loss 0.7081364393234253 gen loss 0.5583799481391907\n",
      "disc loss 0.8710240125656128 gen loss 0.7179151773452759\n",
      "disc loss 0.6455428600311279 gen loss 0.6323131322860718\n",
      "disc loss 0.6926182508468628 gen loss 0.7433863878250122\n",
      "disc loss 0.6591252684593201 gen loss 0.8319277763366699\n",
      "disc loss 0.6006133556365967 gen loss 0.6052801012992859\n",
      "disc loss 0.53917396068573 gen loss 0.8015657663345337\n"
     ]
    },
    {
     "name": "stderr",
     "output_type": "stream",
     "text": [
      "C:\\Users\\canal\\AppData\\Roaming\\Python\\Python38\\site-packages\\numpy\\lib\\function_base.py:2642: RuntimeWarning: invalid value encountered in true_divide\n",
      "  c /= stddev[:, None]\n",
      "C:\\Users\\canal\\AppData\\Roaming\\Python\\Python38\\site-packages\\numpy\\lib\\function_base.py:2643: RuntimeWarning: invalid value encountered in true_divide\n",
      "  c /= stddev[None, :]\n"
     ]
    },
    {
     "name": "stdout",
     "output_type": "stream",
     "text": [
      "#========== evaluating for epoch 6 ==========#\n",
      ">>> MMD | abs(D_Entropy) | abs(D_Distance) | Pearson Corr \n",
      "0.10049 , 0.010525 , 0.028504 , nan\n",
      "# ================== Sampling 500 sequences at epoch 6 ================== #\n",
      "The loci with percentage of gap >= 95% in the cleaned MSA: \n",
      " [0, 1, 25, 26, 27, 28, 29, 30, 31, 32, 33, 34, 35, 36, 37, 38, 39, 40, 41, 42, 43, 44, 45, 46, 47, 48, 219]\n",
      "Their percentage gap are:\n",
      " [100.0, 99.4, 99.4, 98.0, 99.4, 97.8, 99.0, 99.4, 99.0, 100.0, 99.8, 99.6, 99.6, 99.4, 98.8, 99.8, 98.8, 99.2, 99.2, 100.0, 99.0, 99.4, 99.2, 99.0, 99.4, 98.2, 100.0]\n",
      "# ====================================================== #\n",
      "disc loss 0.4685444235801697 gen loss 0.7662312984466553\n",
      "disc loss 0.49050912261009216 gen loss 0.736843466758728\n",
      "disc loss 0.4374871551990509 gen loss 0.6850435733795166\n",
      "disc loss 0.4891619384288788 gen loss 0.7649023532867432\n",
      "disc loss 0.5134121179580688 gen loss 0.9601417779922485\n",
      "disc loss 0.4641852378845215 gen loss 1.180381417274475\n",
      "disc loss 0.4194987416267395 gen loss 0.7010616064071655\n",
      "disc loss 0.5705360174179077 gen loss 0.9064290523529053\n"
     ]
    },
    {
     "name": "stderr",
     "output_type": "stream",
     "text": [
      "C:\\Users\\canal\\AppData\\Roaming\\Python\\Python38\\site-packages\\numpy\\lib\\function_base.py:2642: RuntimeWarning: invalid value encountered in true_divide\n",
      "  c /= stddev[:, None]\n",
      "C:\\Users\\canal\\AppData\\Roaming\\Python\\Python38\\site-packages\\numpy\\lib\\function_base.py:2643: RuntimeWarning: invalid value encountered in true_divide\n",
      "  c /= stddev[None, :]\n"
     ]
    },
    {
     "name": "stdout",
     "output_type": "stream",
     "text": [
      "#========== evaluating for epoch 8 ==========#\n",
      ">>> MMD | abs(D_Entropy) | abs(D_Distance) | Pearson Corr \n",
      "0.10953 , 0.014586 , 0.0026032 , nan\n",
      "# ================== Sampling 500 sequences at epoch 8 ================== #\n",
      "The loci with percentage of gap >= 95% in the cleaned MSA: \n",
      " [0, 1, 25, 26, 27, 28, 29, 30, 31, 32, 33, 34, 35, 36, 37, 38, 39, 40, 41, 42, 43, 44, 45, 46, 47, 48, 219]\n",
      "Their percentage gap are:\n",
      " [99.8, 99.4, 100.0, 99.8, 99.2, 96.8, 98.2, 99.6, 100.0, 99.6, 99.4, 99.6, 99.6, 99.8, 99.8, 99.4, 100.0, 98.8, 99.0, 98.6, 98.6, 97.8, 99.4, 99.2, 99.4, 95.4, 99.8]\n",
      "# ====================================================== #\n",
      "disc loss 0.4224713444709778 gen loss 0.8267027139663696\n",
      "disc loss 0.49074751138687134 gen loss 1.1311193704605103\n",
      "disc loss 0.32322314381599426 gen loss 0.7155109643936157\n",
      "disc loss 0.467793732881546 gen loss 0.7568262219429016\n",
      "disc loss 0.40055686235427856 gen loss 0.9750322103500366\n",
      "disc loss 0.29367735981941223 gen loss 1.1406211853027344\n",
      "disc loss 0.4539375305175781 gen loss 0.9168922901153564\n",
      "disc loss 0.4213128685951233 gen loss 1.2209618091583252\n"
     ]
    },
    {
     "name": "stderr",
     "output_type": "stream",
     "text": [
      "C:\\Users\\canal\\AppData\\Roaming\\Python\\Python38\\site-packages\\numpy\\lib\\function_base.py:2642: RuntimeWarning: invalid value encountered in true_divide\n",
      "  c /= stddev[:, None]\n",
      "C:\\Users\\canal\\AppData\\Roaming\\Python\\Python38\\site-packages\\numpy\\lib\\function_base.py:2643: RuntimeWarning: invalid value encountered in true_divide\n",
      "  c /= stddev[None, :]\n"
     ]
    },
    {
     "name": "stdout",
     "output_type": "stream",
     "text": [
      "#========== evaluating for epoch 10 ==========#\n",
      ">>> MMD | abs(D_Entropy) | abs(D_Distance) | Pearson Corr \n",
      "0.10429 , 0.017987 , 0.032463 , nan\n",
      "# ================== Sampling 500 sequences at epoch 10 ================== #\n",
      "The loci with percentage of gap >= 95% in the cleaned MSA: \n",
      " [0, 1, 25, 26, 27, 28, 29, 30, 31, 32, 33, 34, 35, 36, 37, 38, 39, 40, 41, 42, 43, 44, 45, 46, 47, 48, 219]\n",
      "Their percentage gap are:\n",
      " [99.8, 100.0, 100.0, 100.0, 100.0, 99.8, 99.8, 99.4, 100.0, 99.4, 99.8, 99.6, 99.2, 100.0, 100.0, 99.8, 99.4, 99.8, 99.8, 100.0, 99.8, 100.0, 99.6, 99.6, 99.4, 98.0, 100.0]\n",
      "# ====================================================== #\n",
      "disc loss 0.438276469707489 gen loss 0.8146087527275085\n",
      "disc loss 0.4245263338088989 gen loss 1.2921526432037354\n",
      "disc loss 0.4260152578353882 gen loss 0.9103332161903381\n",
      "disc loss 0.4020768404006958 gen loss 0.8607996702194214\n",
      "disc loss 0.37900465726852417 gen loss 0.9363479018211365\n",
      "disc loss 0.4476175308227539 gen loss 0.7967548370361328\n",
      "disc loss 0.355339914560318 gen loss 0.7945374250411987\n",
      "disc loss 0.41617345809936523 gen loss 0.7864261865615845\n"
     ]
    },
    {
     "name": "stderr",
     "output_type": "stream",
     "text": [
      "C:\\Users\\canal\\AppData\\Roaming\\Python\\Python38\\site-packages\\numpy\\lib\\function_base.py:2642: RuntimeWarning: invalid value encountered in true_divide\n",
      "  c /= stddev[:, None]\n",
      "C:\\Users\\canal\\AppData\\Roaming\\Python\\Python38\\site-packages\\numpy\\lib\\function_base.py:2643: RuntimeWarning: invalid value encountered in true_divide\n",
      "  c /= stddev[None, :]\n"
     ]
    },
    {
     "name": "stdout",
     "output_type": "stream",
     "text": [
      "#========== evaluating for epoch 12 ==========#\n",
      ">>> MMD | abs(D_Entropy) | abs(D_Distance) | Pearson Corr \n",
      "0.10647 , 0.019146 , 0.031455 , nan\n",
      "# ================== Sampling 500 sequences at epoch 12 ================== #\n",
      "The loci with percentage of gap >= 95% in the cleaned MSA: \n",
      " [0, 1, 25, 26, 27, 28, 29, 30, 31, 32, 33, 34, 35, 36, 37, 38, 39, 40, 41, 42, 43, 44, 45, 46, 47, 48, 219]\n",
      "Their percentage gap are:\n",
      " [100.0, 100.0, 100.0, 99.8, 100.0, 100.0, 100.0, 100.0, 99.8, 99.8, 100.0, 99.6, 99.8, 99.4, 99.8, 99.2, 99.6, 99.6, 99.6, 99.6, 99.8, 99.2, 99.4, 99.6, 97.6, 99.8, 99.8]\n",
      "# ====================================================== #\n",
      "disc loss 0.40108147263526917 gen loss 0.7856219410896301\n",
      "disc loss 0.31029388308525085 gen loss 1.1502525806427002\n",
      "disc loss 0.2736014425754547 gen loss 0.8986478447914124\n",
      "disc loss 0.4324966073036194 gen loss 0.6772009134292603\n",
      "disc loss 0.36928296089172363 gen loss 0.879785418510437\n",
      "disc loss 0.4895492196083069 gen loss 1.2675164937973022\n",
      "disc loss 0.3029173016548157 gen loss 1.1772624254226685\n",
      "disc loss 0.33242732286453247 gen loss 0.7274446487426758\n"
     ]
    },
    {
     "name": "stderr",
     "output_type": "stream",
     "text": [
      "C:\\Users\\canal\\AppData\\Roaming\\Python\\Python38\\site-packages\\numpy\\lib\\function_base.py:2642: RuntimeWarning: invalid value encountered in true_divide\n",
      "  c /= stddev[:, None]\n",
      "C:\\Users\\canal\\AppData\\Roaming\\Python\\Python38\\site-packages\\numpy\\lib\\function_base.py:2643: RuntimeWarning: invalid value encountered in true_divide\n",
      "  c /= stddev[None, :]\n"
     ]
    },
    {
     "name": "stdout",
     "output_type": "stream",
     "text": [
      "#========== evaluating for epoch 14 ==========#\n",
      ">>> MMD | abs(D_Entropy) | abs(D_Distance) | Pearson Corr \n",
      "0.10557 , 0.021959 , 0.050947 , nan\n",
      "# ================== Sampling 500 sequences at epoch 14 ================== #\n",
      "The loci with percentage of gap >= 95% in the cleaned MSA: \n",
      " [0, 1, 25, 26, 27, 28, 29, 30, 31, 32, 33, 34, 35, 36, 37, 38, 39, 40, 41, 42, 43, 44, 45, 46, 47, 48, 219]\n",
      "Their percentage gap are:\n",
      " [100.0, 100.0, 100.0, 100.0, 100.0, 100.0, 100.0, 100.0, 99.8, 99.8, 100.0, 100.0, 100.0, 99.8, 100.0, 99.8, 100.0, 99.6, 99.6, 99.4, 100.0, 100.0, 100.0, 100.0, 99.6, 99.4, 100.0]\n",
      "# ====================================================== #\n",
      "disc loss 0.3228519558906555 gen loss 0.9583032131195068\n",
      "disc loss 0.3547808825969696 gen loss 0.9039180278778076\n",
      "disc loss 0.3773600459098816 gen loss 1.299159288406372\n",
      "disc loss 0.2754618525505066 gen loss 0.9944020509719849\n",
      "disc loss 0.37782615423202515 gen loss 1.1180723905563354\n",
      "disc loss 0.38572126626968384 gen loss 1.2643604278564453\n",
      "disc loss 0.35772696137428284 gen loss 1.2007145881652832\n",
      "disc loss 0.430806964635849 gen loss 1.2085576057434082\n"
     ]
    },
    {
     "name": "stderr",
     "output_type": "stream",
     "text": [
      "C:\\Users\\canal\\AppData\\Roaming\\Python\\Python38\\site-packages\\numpy\\lib\\function_base.py:2642: RuntimeWarning: invalid value encountered in true_divide\n",
      "  c /= stddev[:, None]\n",
      "C:\\Users\\canal\\AppData\\Roaming\\Python\\Python38\\site-packages\\numpy\\lib\\function_base.py:2643: RuntimeWarning: invalid value encountered in true_divide\n",
      "  c /= stddev[None, :]\n"
     ]
    },
    {
     "name": "stdout",
     "output_type": "stream",
     "text": [
      "#========== evaluating for epoch 16 ==========#\n",
      ">>> MMD | abs(D_Entropy) | abs(D_Distance) | Pearson Corr \n",
      "0.094543 , 0.020025 , 0.034179 , nan\n",
      "# ================== Sampling 500 sequences at epoch 16 ================== #\n",
      "The loci with percentage of gap >= 95% in the cleaned MSA: \n",
      " [0, 1, 25, 26, 27, 28, 29, 30, 31, 32, 33, 34, 35, 36, 37, 38, 39, 40, 41, 42, 43, 44, 45, 46, 47, 48, 219]\n",
      "Their percentage gap are:\n",
      " [100.0, 100.0, 99.8, 99.8, 100.0, 100.0, 100.0, 100.0, 100.0, 100.0, 100.0, 100.0, 99.8, 100.0, 99.6, 100.0, 100.0, 99.6, 99.8, 98.8, 99.6, 99.6, 100.0, 99.4, 99.0, 96.2, 99.6]\n",
      "# ====================================================== #\n",
      "disc loss 0.32022857666015625 gen loss 0.9377598166465759\n",
      "disc loss 0.2599906921386719 gen loss 1.1702011823654175\n",
      "disc loss 0.39648672938346863 gen loss 1.3095369338989258\n",
      "disc loss 0.3928830921649933 gen loss 0.6468541622161865\n",
      "disc loss 0.34133732318878174 gen loss 0.9451143741607666\n",
      "disc loss 0.2835351824760437 gen loss 1.193519115447998\n",
      "disc loss 0.2636483311653137 gen loss 0.8534935116767883\n",
      "disc loss 0.37978726625442505 gen loss 0.8900796175003052\n"
     ]
    },
    {
     "name": "stderr",
     "output_type": "stream",
     "text": [
      "C:\\Users\\canal\\AppData\\Roaming\\Python\\Python38\\site-packages\\numpy\\lib\\function_base.py:2642: RuntimeWarning: invalid value encountered in true_divide\n",
      "  c /= stddev[:, None]\n",
      "C:\\Users\\canal\\AppData\\Roaming\\Python\\Python38\\site-packages\\numpy\\lib\\function_base.py:2643: RuntimeWarning: invalid value encountered in true_divide\n",
      "  c /= stddev[None, :]\n"
     ]
    },
    {
     "name": "stdout",
     "output_type": "stream",
     "text": [
      "#========== evaluating for epoch 18 ==========#\n",
      ">>> MMD | abs(D_Entropy) | abs(D_Distance) | Pearson Corr \n",
      "0.097861 , 0.015515 , 0.030207 , nan\n",
      "# ================== Sampling 500 sequences at epoch 18 ================== #\n",
      "The loci with percentage of gap >= 95% in the cleaned MSA: \n",
      " [0, 1, 25, 26, 27, 28, 29, 30, 31, 32, 33, 34, 35, 36, 37, 38, 39, 40, 41, 42, 43, 44, 45, 46, 47, 48, 219]\n",
      "Their percentage gap are:\n",
      " [100.0, 100.0, 100.0, 99.6, 100.0, 99.6, 99.8, 99.8, 100.0, 100.0, 99.8, 99.8, 99.8, 100.0, 100.0, 99.8, 99.6, 99.8, 100.0, 100.0, 98.6, 99.4, 98.0, 98.0, 98.0, 98.6, 100.0]\n",
      "# ====================================================== #\n",
      "disc loss 0.32558247447013855 gen loss 0.9182341694831848\n",
      "disc loss 0.260428249835968 gen loss 1.0015363693237305\n",
      "disc loss 0.30544400215148926 gen loss 1.411850929260254\n",
      "disc loss 0.37746843695640564 gen loss 0.779030442237854\n",
      "disc loss 0.38443806767463684 gen loss 0.7853305339813232\n",
      "disc loss 0.3183767795562744 gen loss 1.443737268447876\n",
      "disc loss 0.38830626010894775 gen loss 1.1879239082336426\n",
      "disc loss 0.2278684377670288 gen loss 1.1722512245178223\n"
     ]
    },
    {
     "name": "stderr",
     "output_type": "stream",
     "text": [
      "C:\\Users\\canal\\AppData\\Roaming\\Python\\Python38\\site-packages\\numpy\\lib\\function_base.py:2642: RuntimeWarning: invalid value encountered in true_divide\n",
      "  c /= stddev[:, None]\n",
      "C:\\Users\\canal\\AppData\\Roaming\\Python\\Python38\\site-packages\\numpy\\lib\\function_base.py:2643: RuntimeWarning: invalid value encountered in true_divide\n",
      "  c /= stddev[None, :]\n"
     ]
    },
    {
     "name": "stdout",
     "output_type": "stream",
     "text": [
      "#========== evaluating for epoch 20 ==========#\n",
      ">>> MMD | abs(D_Entropy) | abs(D_Distance) | Pearson Corr \n",
      "0.093973 , 0.022252 , 0.024154 , nan\n",
      "# ================== Sampling 500 sequences at epoch 20 ================== #\n",
      "The loci with percentage of gap >= 95% in the cleaned MSA: \n",
      " [0, 1, 25, 26, 27, 28, 29, 30, 31, 32, 33, 34, 35, 36, 37, 38, 39, 40, 41, 42, 43, 44, 45, 46, 47, 48, 219]\n",
      "Their percentage gap are:\n",
      " [100.0, 100.0, 99.6, 99.8, 100.0, 99.8, 99.8, 100.0, 99.8, 99.8, 100.0, 99.6, 99.8, 100.0, 100.0, 99.8, 99.8, 99.8, 100.0, 99.8, 100.0, 100.0, 99.8, 99.8, 99.4, 99.6, 100.0]\n",
      "# ====================================================== #\n",
      "disc loss 0.25832411646842957 gen loss 1.0687010288238525\n",
      "disc loss 0.2454594075679779 gen loss 1.2486809492111206\n",
      "disc loss 0.23849140107631683 gen loss 0.9562437534332275\n",
      "disc loss 0.21682754158973694 gen loss 1.3322319984436035\n",
      "disc loss 0.374725341796875 gen loss 0.8444780111312866\n",
      "disc loss 0.37374991178512573 gen loss 1.4700826406478882\n",
      "disc loss 0.19593220949172974 gen loss 1.1869010925292969\n",
      "disc loss 0.40437471866607666 gen loss 0.6744382977485657\n"
     ]
    },
    {
     "name": "stderr",
     "output_type": "stream",
     "text": [
      "C:\\Users\\canal\\AppData\\Roaming\\Python\\Python38\\site-packages\\numpy\\lib\\function_base.py:2642: RuntimeWarning: invalid value encountered in true_divide\n",
      "  c /= stddev[:, None]\n",
      "C:\\Users\\canal\\AppData\\Roaming\\Python\\Python38\\site-packages\\numpy\\lib\\function_base.py:2643: RuntimeWarning: invalid value encountered in true_divide\n",
      "  c /= stddev[None, :]\n"
     ]
    },
    {
     "name": "stdout",
     "output_type": "stream",
     "text": [
      "#========== evaluating for epoch 22 ==========#\n",
      ">>> MMD | abs(D_Entropy) | abs(D_Distance) | Pearson Corr \n",
      "0.090512 , 0.021751 , 0.035557 , nan\n",
      "# ================== Sampling 500 sequences at epoch 22 ================== #\n",
      "The loci with percentage of gap >= 95% in the cleaned MSA: \n",
      " [0, 1, 25, 26, 27, 28, 29, 30, 31, 32, 33, 34, 35, 36, 37, 38, 39, 40, 41, 42, 43, 44, 45, 46, 47, 48, 219]\n",
      "Their percentage gap are:\n",
      " [100.0, 100.0, 99.8, 100.0, 100.0, 100.0, 99.8, 99.8, 100.0, 100.0, 100.0, 99.4, 99.8, 100.0, 100.0, 100.0, 100.0, 100.0, 100.0, 100.0, 99.8, 99.0, 99.8, 98.2, 99.2, 98.8, 100.0]\n",
      "# ====================================================== #\n",
      "disc loss 0.32762569189071655 gen loss 1.1448622941970825\n",
      "disc loss 0.4346647560596466 gen loss 1.2488431930541992\n",
      "disc loss 0.33813461661338806 gen loss 1.1694412231445312\n",
      "disc loss 0.3022385537624359 gen loss 1.1772162914276123\n",
      "disc loss 0.22643618285655975 gen loss 1.2497538328170776\n",
      "disc loss 0.3374326825141907 gen loss 1.4030215740203857\n",
      "disc loss 0.31554535031318665 gen loss 0.8551316857337952\n",
      "disc loss 0.31579798460006714 gen loss 1.3606808185577393\n"
     ]
    },
    {
     "name": "stderr",
     "output_type": "stream",
     "text": [
      "C:\\Users\\canal\\AppData\\Roaming\\Python\\Python38\\site-packages\\numpy\\lib\\function_base.py:2642: RuntimeWarning: invalid value encountered in true_divide\n",
      "  c /= stddev[:, None]\n",
      "C:\\Users\\canal\\AppData\\Roaming\\Python\\Python38\\site-packages\\numpy\\lib\\function_base.py:2643: RuntimeWarning: invalid value encountered in true_divide\n",
      "  c /= stddev[None, :]\n"
     ]
    },
    {
     "name": "stdout",
     "output_type": "stream",
     "text": [
      "#========== evaluating for epoch 24 ==========#\n",
      ">>> MMD | abs(D_Entropy) | abs(D_Distance) | Pearson Corr \n",
      "0.096399 , 0.022667 , 0.030431 , nan\n",
      "# ================== Sampling 500 sequences at epoch 24 ================== #\n",
      "The loci with percentage of gap >= 95% in the cleaned MSA: \n",
      " [0, 1, 25, 26, 27, 28, 29, 30, 31, 32, 33, 34, 35, 36, 37, 38, 39, 40, 41, 42, 43, 44, 45, 46, 47, 48, 219]\n",
      "Their percentage gap are:\n",
      " [99.6, 100.0, 99.4, 99.8, 100.0, 100.0, 100.0, 100.0, 100.0, 99.8, 100.0, 100.0, 100.0, 100.0, 100.0, 100.0, 100.0, 100.0, 99.6, 100.0, 99.6, 99.0, 99.0, 100.0, 98.6, 98.4, 100.0]\n",
      "# ====================================================== #\n",
      "disc loss 0.2980090379714966 gen loss 1.4168325662612915\n",
      "disc loss 0.2210952639579773 gen loss 1.218796968460083\n",
      "disc loss 0.27443474531173706 gen loss 0.8907886147499084\n",
      "disc loss 0.2989411950111389 gen loss 0.8117809891700745\n",
      "disc loss 0.3144659698009491 gen loss 0.9299166202545166\n",
      "disc loss 0.3205254375934601 gen loss 0.8745086789131165\n",
      "disc loss 0.2609955072402954 gen loss 1.3556890487670898\n",
      "disc loss 0.2353331744670868 gen loss 1.3164684772491455\n"
     ]
    },
    {
     "name": "stderr",
     "output_type": "stream",
     "text": [
      "C:\\Users\\canal\\AppData\\Roaming\\Python\\Python38\\site-packages\\numpy\\lib\\function_base.py:2642: RuntimeWarning: invalid value encountered in true_divide\n",
      "  c /= stddev[:, None]\n",
      "C:\\Users\\canal\\AppData\\Roaming\\Python\\Python38\\site-packages\\numpy\\lib\\function_base.py:2643: RuntimeWarning: invalid value encountered in true_divide\n",
      "  c /= stddev[None, :]\n"
     ]
    },
    {
     "name": "stdout",
     "output_type": "stream",
     "text": [
      "#========== evaluating for epoch 26 ==========#\n",
      ">>> MMD | abs(D_Entropy) | abs(D_Distance) | Pearson Corr \n",
      "0.087941 , 0.020652 , 0.037507 , nan\n",
      "# ================== Sampling 500 sequences at epoch 26 ================== #\n",
      "The loci with percentage of gap >= 95% in the cleaned MSA: \n",
      " [0, 1, 25, 26, 27, 28, 29, 30, 31, 32, 33, 34, 35, 36, 37, 38, 39, 40, 41, 42, 43, 44, 45, 46, 47, 48, 219]\n",
      "Their percentage gap are:\n",
      " [100.0, 100.0, 100.0, 100.0, 100.0, 99.8, 99.8, 100.0, 100.0, 99.8, 100.0, 100.0, 99.8, 100.0, 99.8, 100.0, 100.0, 100.0, 99.2, 100.0, 99.8, 100.0, 99.8, 99.8, 99.2, 96.0, 100.0]\n",
      "# ====================================================== #\n",
      "disc loss 0.28569725155830383 gen loss 1.1005229949951172\n",
      "disc loss 0.2801308333873749 gen loss 0.8656069040298462\n",
      "disc loss 0.23654550313949585 gen loss 0.6674741506576538\n",
      "disc loss 0.2314060628414154 gen loss 1.2706859111785889\n",
      "disc loss 0.3088303804397583 gen loss 0.8682182431221008\n",
      "disc loss 0.17872297763824463 gen loss 0.7817932963371277\n",
      "disc loss 0.42194998264312744 gen loss 1.2857935428619385\n",
      "disc loss 0.36053037643432617 gen loss 1.1970574855804443\n"
     ]
    },
    {
     "name": "stderr",
     "output_type": "stream",
     "text": [
      "C:\\Users\\canal\\AppData\\Roaming\\Python\\Python38\\site-packages\\numpy\\lib\\function_base.py:2642: RuntimeWarning: invalid value encountered in true_divide\n",
      "  c /= stddev[:, None]\n",
      "C:\\Users\\canal\\AppData\\Roaming\\Python\\Python38\\site-packages\\numpy\\lib\\function_base.py:2643: RuntimeWarning: invalid value encountered in true_divide\n",
      "  c /= stddev[None, :]\n"
     ]
    },
    {
     "name": "stdout",
     "output_type": "stream",
     "text": [
      "#========== evaluating for epoch 28 ==========#\n",
      ">>> MMD | abs(D_Entropy) | abs(D_Distance) | Pearson Corr \n",
      "0.090904 , 0.016754 , 0.044693 , nan\n",
      "# ================== Sampling 500 sequences at epoch 28 ================== #\n",
      "The loci with percentage of gap >= 95% in the cleaned MSA: \n",
      " [0, 1, 25, 26, 27, 28, 29, 30, 31, 32, 33, 34, 35, 36, 37, 38, 39, 40, 41, 42, 43, 44, 45, 46, 47, 48, 219]\n",
      "Their percentage gap are:\n",
      " [100.0, 100.0, 100.0, 99.8, 100.0, 100.0, 100.0, 100.0, 100.0, 100.0, 100.0, 100.0, 100.0, 100.0, 100.0, 100.0, 100.0, 100.0, 100.0, 99.6, 100.0, 100.0, 100.0, 100.0, 99.8, 100.0, 100.0]\n",
      "# ====================================================== #\n",
      "disc loss 0.38937321305274963 gen loss 0.7618603110313416\n",
      "disc loss 0.22580385208129883 gen loss 1.145298719406128\n",
      "disc loss 0.3045746684074402 gen loss 1.2597795724868774\n",
      "disc loss 0.3771691918373108 gen loss 0.7927696704864502\n",
      "disc loss 0.26268455386161804 gen loss 1.3161510229110718\n",
      "disc loss 0.2689215838909149 gen loss 1.1578818559646606\n",
      "disc loss 0.2262309491634369 gen loss 1.1970243453979492\n",
      "disc loss 0.40847232937812805 gen loss 1.4316822290420532\n"
     ]
    },
    {
     "name": "stderr",
     "output_type": "stream",
     "text": [
      "C:\\Users\\canal\\AppData\\Roaming\\Python\\Python38\\site-packages\\numpy\\lib\\function_base.py:2642: RuntimeWarning: invalid value encountered in true_divide\n",
      "  c /= stddev[:, None]\n",
      "C:\\Users\\canal\\AppData\\Roaming\\Python\\Python38\\site-packages\\numpy\\lib\\function_base.py:2643: RuntimeWarning: invalid value encountered in true_divide\n",
      "  c /= stddev[None, :]\n"
     ]
    },
    {
     "name": "stdout",
     "output_type": "stream",
     "text": [
      "#========== evaluating for epoch 30 ==========#\n",
      ">>> MMD | abs(D_Entropy) | abs(D_Distance) | Pearson Corr \n",
      "0.0926 , 0.021622 , 0.020227 , nan\n",
      "# ================== Sampling 500 sequences at epoch 30 ================== #\n",
      "The loci with percentage of gap >= 95% in the cleaned MSA: \n",
      " [0, 1, 25, 26, 27, 28, 29, 30, 31, 32, 33, 34, 35, 36, 37, 38, 39, 40, 41, 42, 43, 44, 45, 46, 47, 48, 219]\n",
      "Their percentage gap are:\n",
      " [100.0, 100.0, 100.0, 99.8, 100.0, 99.8, 100.0, 99.6, 100.0, 100.0, 100.0, 99.8, 100.0, 100.0, 99.2, 99.6, 100.0, 100.0, 99.8, 99.8, 100.0, 100.0, 98.6, 100.0, 99.0, 96.8, 100.0]\n",
      "# ====================================================== #\n",
      "disc loss 0.29678812623023987 gen loss 1.276623010635376\n",
      "disc loss 0.3160898685455322 gen loss 0.7725898027420044\n",
      "disc loss 0.34131789207458496 gen loss 1.234846591949463\n",
      "disc loss 0.3123400807380676 gen loss 1.3886295557022095\n",
      "disc loss 0.2920888364315033 gen loss 1.1978365182876587\n",
      "disc loss 0.3629460036754608 gen loss 1.3921904563903809\n",
      "disc loss 0.22679512202739716 gen loss 0.9976921081542969\n",
      "disc loss 0.2910548448562622 gen loss 1.276689052581787\n"
     ]
    },
    {
     "name": "stderr",
     "output_type": "stream",
     "text": [
      "C:\\Users\\canal\\AppData\\Roaming\\Python\\Python38\\site-packages\\numpy\\lib\\function_base.py:2642: RuntimeWarning: invalid value encountered in true_divide\n",
      "  c /= stddev[:, None]\n",
      "C:\\Users\\canal\\AppData\\Roaming\\Python\\Python38\\site-packages\\numpy\\lib\\function_base.py:2643: RuntimeWarning: invalid value encountered in true_divide\n",
      "  c /= stddev[None, :]\n"
     ]
    },
    {
     "name": "stdout",
     "output_type": "stream",
     "text": [
      "#========== evaluating for epoch 32 ==========#\n",
      ">>> MMD | abs(D_Entropy) | abs(D_Distance) | Pearson Corr \n",
      "0.085988 , 0.023933 , 0.038186 , nan\n",
      "# ================== Sampling 500 sequences at epoch 32 ================== #\n",
      "The loci with percentage of gap >= 95% in the cleaned MSA: \n",
      " [0, 1, 25, 26, 27, 28, 29, 30, 31, 32, 33, 34, 35, 36, 37, 38, 39, 40, 41, 42, 43, 44, 45, 46, 47, 48, 219]\n",
      "Their percentage gap are:\n",
      " [100.0, 100.0, 100.0, 99.8, 100.0, 99.8, 100.0, 100.0, 100.0, 100.0, 99.8, 100.0, 100.0, 99.8, 99.8, 98.0, 100.0, 99.6, 100.0, 99.8, 100.0, 100.0, 99.2, 99.0, 99.0, 97.0, 100.0]\n",
      "# ====================================================== #\n",
      "disc loss 0.23646244406700134 gen loss 1.2244272232055664\n",
      "disc loss 0.21455927193164825 gen loss 0.9613428115844727\n",
      "disc loss 0.21451273560523987 gen loss 1.0378354787826538\n",
      "disc loss 0.2701636254787445 gen loss 0.885556697845459\n",
      "disc loss 0.28711825609207153 gen loss 1.0060961246490479\n",
      "disc loss 0.28233233094215393 gen loss 0.877957820892334\n",
      "disc loss 0.31281307339668274 gen loss 0.7483041286468506\n",
      "disc loss 0.2553810179233551 gen loss 0.8543307781219482\n"
     ]
    },
    {
     "name": "stderr",
     "output_type": "stream",
     "text": [
      "C:\\Users\\canal\\AppData\\Roaming\\Python\\Python38\\site-packages\\numpy\\lib\\function_base.py:2642: RuntimeWarning: invalid value encountered in true_divide\n",
      "  c /= stddev[:, None]\n",
      "C:\\Users\\canal\\AppData\\Roaming\\Python\\Python38\\site-packages\\numpy\\lib\\function_base.py:2643: RuntimeWarning: invalid value encountered in true_divide\n",
      "  c /= stddev[None, :]\n"
     ]
    },
    {
     "name": "stdout",
     "output_type": "stream",
     "text": [
      "#========== evaluating for epoch 34 ==========#\n",
      ">>> MMD | abs(D_Entropy) | abs(D_Distance) | Pearson Corr \n",
      "0.08694 , 0.021722 , 0.036311 , nan\n",
      "# ================== Sampling 500 sequences at epoch 34 ================== #\n",
      "The loci with percentage of gap >= 95% in the cleaned MSA: \n",
      " [0, 1, 25, 26, 27, 28, 29, 30, 31, 32, 33, 34, 35, 36, 37, 38, 39, 40, 41, 42, 43, 44, 45, 46, 47, 48, 219]\n",
      "Their percentage gap are:\n",
      " [100.0, 100.0, 100.0, 99.8, 99.8, 99.8, 99.8, 100.0, 100.0, 99.8, 100.0, 100.0, 99.6, 100.0, 99.6, 99.6, 99.8, 99.4, 99.8, 100.0, 100.0, 99.0, 99.8, 99.8, 98.8, 97.2, 99.8]\n",
      "# ====================================================== #\n",
      "disc loss 0.29155412316322327 gen loss 1.4263211488723755\n",
      "disc loss 0.34506314992904663 gen loss 1.2654244899749756\n",
      "disc loss 0.25522440671920776 gen loss 1.028153657913208\n",
      "disc loss 0.3190770447254181 gen loss 0.7928689122200012\n",
      "disc loss 0.3409913182258606 gen loss 0.7896418571472168\n",
      "disc loss 0.3433630168437958 gen loss 0.8001097440719604\n",
      "disc loss 0.3737353980541229 gen loss 1.4804368019104004\n",
      "disc loss 0.4290308654308319 gen loss 1.500077247619629\n"
     ]
    },
    {
     "name": "stderr",
     "output_type": "stream",
     "text": [
      "C:\\Users\\canal\\AppData\\Roaming\\Python\\Python38\\site-packages\\numpy\\lib\\function_base.py:2642: RuntimeWarning: invalid value encountered in true_divide\n",
      "  c /= stddev[:, None]\n",
      "C:\\Users\\canal\\AppData\\Roaming\\Python\\Python38\\site-packages\\numpy\\lib\\function_base.py:2643: RuntimeWarning: invalid value encountered in true_divide\n",
      "  c /= stddev[None, :]\n"
     ]
    },
    {
     "name": "stdout",
     "output_type": "stream",
     "text": [
      "#========== evaluating for epoch 36 ==========#\n",
      ">>> MMD | abs(D_Entropy) | abs(D_Distance) | Pearson Corr \n",
      "0.079884 , 0.020665 , 0.045788 , nan\n",
      "# ================== Sampling 500 sequences at epoch 36 ================== #\n",
      "The loci with percentage of gap >= 95% in the cleaned MSA: \n",
      " [0, 1, 25, 26, 27, 28, 29, 30, 31, 32, 33, 34, 35, 36, 37, 38, 39, 40, 41, 42, 43, 44, 45, 46, 47, 48, 219]\n",
      "Their percentage gap are:\n",
      " [100.0, 100.0, 100.0, 100.0, 100.0, 100.0, 100.0, 100.0, 100.0, 100.0, 100.0, 100.0, 99.8, 100.0, 100.0, 100.0, 100.0, 100.0, 99.8, 100.0, 100.0, 100.0, 100.0, 100.0, 99.8, 99.6, 100.0]\n",
      "# ====================================================== #\n",
      "disc loss 0.2303290069103241 gen loss 1.2030208110809326\n",
      "disc loss 0.27342069149017334 gen loss 1.3614287376403809\n",
      "disc loss 0.28645798563957214 gen loss 0.9377725124359131\n",
      "disc loss 0.31803637742996216 gen loss 1.3273005485534668\n",
      "disc loss 0.2358088493347168 gen loss 0.9316830635070801\n",
      "disc loss 0.35453978180885315 gen loss 0.7965054512023926\n",
      "disc loss 0.2320079505443573 gen loss 1.3144958019256592\n",
      "disc loss 0.2468598186969757 gen loss 0.917518675327301\n"
     ]
    },
    {
     "name": "stderr",
     "output_type": "stream",
     "text": [
      "C:\\Users\\canal\\AppData\\Roaming\\Python\\Python38\\site-packages\\numpy\\lib\\function_base.py:2642: RuntimeWarning: invalid value encountered in true_divide\n",
      "  c /= stddev[:, None]\n",
      "C:\\Users\\canal\\AppData\\Roaming\\Python\\Python38\\site-packages\\numpy\\lib\\function_base.py:2643: RuntimeWarning: invalid value encountered in true_divide\n",
      "  c /= stddev[None, :]\n"
     ]
    },
    {
     "name": "stdout",
     "output_type": "stream",
     "text": [
      "#========== evaluating for epoch 38 ==========#\n",
      ">>> MMD | abs(D_Entropy) | abs(D_Distance) | Pearson Corr \n",
      "0.083972 , 0.023074 , 0.038911 , nan\n",
      "# ================== Sampling 500 sequences at epoch 38 ================== #\n",
      "The loci with percentage of gap >= 95% in the cleaned MSA: \n",
      " [0, 1, 25, 26, 27, 28, 29, 30, 31, 32, 33, 34, 35, 36, 37, 38, 39, 40, 41, 42, 43, 44, 45, 46, 47, 48, 219]\n",
      "Their percentage gap are:\n",
      " [100.0, 100.0, 100.0, 100.0, 100.0, 100.0, 100.0, 99.8, 100.0, 99.8, 99.6, 99.8, 100.0, 100.0, 99.6, 99.8, 100.0, 100.0, 100.0, 100.0, 99.4, 99.6, 99.8, 99.2, 100.0, 99.4, 99.8]\n",
      "# ====================================================== #\n",
      "disc loss 0.1803169846534729 gen loss 0.888202428817749\n",
      "disc loss 0.3049963116645813 gen loss 1.2156881093978882\n",
      "disc loss 0.29169708490371704 gen loss 1.2931838035583496\n",
      "disc loss 0.2155619114637375 gen loss 1.085292100906372\n",
      "disc loss 0.3183846175670624 gen loss 0.9443880915641785\n",
      "disc loss 0.3279552459716797 gen loss 1.419083833694458\n",
      "disc loss 0.2408534437417984 gen loss 1.3421440124511719\n",
      "disc loss 0.26154211163520813 gen loss 1.1198939085006714\n"
     ]
    },
    {
     "name": "stderr",
     "output_type": "stream",
     "text": [
      "C:\\Users\\canal\\AppData\\Roaming\\Python\\Python38\\site-packages\\numpy\\lib\\function_base.py:2642: RuntimeWarning: invalid value encountered in true_divide\n",
      "  c /= stddev[:, None]\n",
      "C:\\Users\\canal\\AppData\\Roaming\\Python\\Python38\\site-packages\\numpy\\lib\\function_base.py:2643: RuntimeWarning: invalid value encountered in true_divide\n",
      "  c /= stddev[None, :]\n"
     ]
    },
    {
     "name": "stdout",
     "output_type": "stream",
     "text": [
      "#========== evaluating for epoch 40 ==========#\n",
      ">>> MMD | abs(D_Entropy) | abs(D_Distance) | Pearson Corr \n",
      "0.083582 , 0.022434 , 0.036206 , nan\n",
      "# ================== Sampling 500 sequences at epoch 40 ================== #\n",
      "The loci with percentage of gap >= 95% in the cleaned MSA: \n",
      " [0, 1, 25, 26, 27, 28, 29, 30, 31, 32, 33, 34, 35, 36, 37, 38, 39, 40, 41, 42, 43, 44, 45, 46, 47, 48, 219]\n",
      "Their percentage gap are:\n",
      " [99.8, 100.0, 100.0, 100.0, 100.0, 100.0, 99.6, 100.0, 100.0, 100.0, 100.0, 100.0, 100.0, 99.8, 100.0, 100.0, 100.0, 100.0, 100.0, 100.0, 100.0, 99.8, 99.6, 99.8, 99.8, 99.2, 100.0]\n",
      "# ====================================================== #\n",
      "disc loss 0.2010345160961151 gen loss 1.05538010597229\n",
      "disc loss 0.2548501491546631 gen loss 0.8878499269485474\n",
      "disc loss 0.24531546235084534 gen loss 0.8602789640426636\n",
      "disc loss 0.2764924168586731 gen loss 1.117533802986145\n",
      "disc loss 0.26631373167037964 gen loss 1.2863719463348389\n",
      "disc loss 0.3107404410839081 gen loss 0.7329590320587158\n",
      "disc loss 0.3465336859226227 gen loss 1.3359031677246094\n",
      "disc loss 0.22858799993991852 gen loss 1.0540416240692139\n"
     ]
    },
    {
     "name": "stderr",
     "output_type": "stream",
     "text": [
      "C:\\Users\\canal\\AppData\\Roaming\\Python\\Python38\\site-packages\\numpy\\lib\\function_base.py:2642: RuntimeWarning: invalid value encountered in true_divide\n",
      "  c /= stddev[:, None]\n",
      "C:\\Users\\canal\\AppData\\Roaming\\Python\\Python38\\site-packages\\numpy\\lib\\function_base.py:2643: RuntimeWarning: invalid value encountered in true_divide\n",
      "  c /= stddev[None, :]\n"
     ]
    },
    {
     "name": "stdout",
     "output_type": "stream",
     "text": [
      "#========== evaluating for epoch 42 ==========#\n",
      ">>> MMD | abs(D_Entropy) | abs(D_Distance) | Pearson Corr \n",
      "0.082915 , 0.02552 , 0.041812 , nan\n",
      "# ================== Sampling 500 sequences at epoch 42 ================== #\n",
      "The loci with percentage of gap >= 95% in the cleaned MSA: \n",
      " [0, 1, 25, 26, 27, 28, 29, 30, 31, 32, 33, 34, 35, 36, 37, 38, 39, 40, 41, 42, 43, 44, 45, 46, 47, 48, 219]\n",
      "Their percentage gap are:\n",
      " [100.0, 99.8, 100.0, 100.0, 99.6, 99.6, 100.0, 99.8, 100.0, 99.8, 99.8, 99.8, 100.0, 100.0, 100.0, 100.0, 99.8, 99.6, 99.8, 100.0, 100.0, 99.8, 100.0, 99.8, 99.2, 99.4, 100.0]\n",
      "# ====================================================== #\n",
      "disc loss 0.19430693984031677 gen loss 1.257015585899353\n",
      "disc loss 0.1923036426305771 gen loss 1.320281982421875\n",
      "disc loss 0.2633849084377289 gen loss 1.319533348083496\n",
      "disc loss 0.2915510833263397 gen loss 1.2502901554107666\n",
      "disc loss 0.3726176917552948 gen loss 0.6346896290779114\n",
      "disc loss 0.331099271774292 gen loss 0.6889798641204834\n",
      "disc loss 0.31443947553634644 gen loss 0.9138475656509399\n",
      "disc loss 0.24393540620803833 gen loss 0.9591620564460754\n"
     ]
    },
    {
     "name": "stderr",
     "output_type": "stream",
     "text": [
      "C:\\Users\\canal\\AppData\\Roaming\\Python\\Python38\\site-packages\\numpy\\lib\\function_base.py:2642: RuntimeWarning: invalid value encountered in true_divide\n",
      "  c /= stddev[:, None]\n",
      "C:\\Users\\canal\\AppData\\Roaming\\Python\\Python38\\site-packages\\numpy\\lib\\function_base.py:2643: RuntimeWarning: invalid value encountered in true_divide\n",
      "  c /= stddev[None, :]\n"
     ]
    },
    {
     "name": "stdout",
     "output_type": "stream",
     "text": [
      "#========== evaluating for epoch 44 ==========#\n",
      ">>> MMD | abs(D_Entropy) | abs(D_Distance) | Pearson Corr \n",
      "0.082905 , 0.024529 , 0.042417 , nan\n",
      "# ================== Sampling 500 sequences at epoch 44 ================== #\n",
      "The loci with percentage of gap >= 95% in the cleaned MSA: \n",
      " [0, 1, 25, 26, 27, 28, 29, 30, 31, 32, 33, 34, 35, 36, 37, 38, 39, 40, 41, 42, 43, 44, 45, 46, 47, 48, 219]\n",
      "Their percentage gap are:\n",
      " [100.0, 100.0, 100.0, 100.0, 100.0, 100.0, 100.0, 100.0, 100.0, 100.0, 100.0, 100.0, 100.0, 100.0, 100.0, 100.0, 100.0, 99.8, 100.0, 100.0, 100.0, 100.0, 100.0, 100.0, 99.8, 99.6, 100.0]\n",
      "# ====================================================== #\n",
      "disc loss 0.2195766121149063 gen loss 1.297280192375183\n",
      "disc loss 0.2040800154209137 gen loss 0.7292684316635132\n",
      "disc loss 0.27542945742607117 gen loss 0.8432971835136414\n",
      "disc loss 0.2930589020252228 gen loss 1.2536518573760986\n",
      "disc loss 0.26826512813568115 gen loss 1.3065447807312012\n",
      "disc loss 0.23284055292606354 gen loss 1.2553141117095947\n",
      "disc loss 0.2973375916481018 gen loss 1.362440586090088\n",
      "disc loss 0.29311129450798035 gen loss 0.7721394300460815\n"
     ]
    },
    {
     "name": "stderr",
     "output_type": "stream",
     "text": [
      "C:\\Users\\canal\\AppData\\Roaming\\Python\\Python38\\site-packages\\numpy\\lib\\function_base.py:2642: RuntimeWarning: invalid value encountered in true_divide\n",
      "  c /= stddev[:, None]\n",
      "C:\\Users\\canal\\AppData\\Roaming\\Python\\Python38\\site-packages\\numpy\\lib\\function_base.py:2643: RuntimeWarning: invalid value encountered in true_divide\n",
      "  c /= stddev[None, :]\n"
     ]
    },
    {
     "name": "stdout",
     "output_type": "stream",
     "text": [
      "#========== evaluating for epoch 46 ==========#\n",
      ">>> MMD | abs(D_Entropy) | abs(D_Distance) | Pearson Corr \n",
      "0.085101 , 0.023954 , 0.040474 , nan\n",
      "# ================== Sampling 500 sequences at epoch 46 ================== #\n",
      "The loci with percentage of gap >= 95% in the cleaned MSA: \n",
      " [0, 1, 25, 26, 27, 28, 29, 30, 31, 32, 33, 34, 35, 36, 37, 38, 39, 40, 41, 42, 43, 44, 45, 46, 47, 48, 219]\n",
      "Their percentage gap are:\n",
      " [100.0, 100.0, 100.0, 100.0, 100.0, 100.0, 100.0, 99.8, 99.8, 100.0, 100.0, 100.0, 100.0, 100.0, 100.0, 100.0, 100.0, 100.0, 100.0, 100.0, 99.8, 100.0, 100.0, 100.0, 100.0, 98.8, 100.0]\n",
      "# ====================================================== #\n",
      "disc loss 0.22913998365402222 gen loss 1.4119288921356201\n",
      "disc loss 0.28661298751831055 gen loss 1.2326146364212036\n",
      "disc loss 0.3129972815513611 gen loss 1.464530348777771\n",
      "disc loss 0.30798348784446716 gen loss 1.2660000324249268\n",
      "disc loss 0.36331653594970703 gen loss 1.1284925937652588\n",
      "disc loss 0.360139399766922 gen loss 1.1909241676330566\n",
      "disc loss 0.26924046874046326 gen loss 1.0553375482559204\n",
      "disc loss 0.26290491223335266 gen loss 1.4157284498214722\n"
     ]
    },
    {
     "name": "stderr",
     "output_type": "stream",
     "text": [
      "C:\\Users\\canal\\AppData\\Roaming\\Python\\Python38\\site-packages\\numpy\\lib\\function_base.py:2642: RuntimeWarning: invalid value encountered in true_divide\n",
      "  c /= stddev[:, None]\n",
      "C:\\Users\\canal\\AppData\\Roaming\\Python\\Python38\\site-packages\\numpy\\lib\\function_base.py:2643: RuntimeWarning: invalid value encountered in true_divide\n",
      "  c /= stddev[None, :]\n"
     ]
    },
    {
     "name": "stdout",
     "output_type": "stream",
     "text": [
      "#========== evaluating for epoch 48 ==========#\n",
      ">>> MMD | abs(D_Entropy) | abs(D_Distance) | Pearson Corr \n",
      "0.081353 , 0.025383 , 0.047682 , nan\n",
      "# ================== Sampling 500 sequences at epoch 48 ================== #\n",
      "The loci with percentage of gap >= 95% in the cleaned MSA: \n",
      " [0, 1, 25, 26, 27, 28, 29, 30, 31, 32, 33, 34, 35, 36, 37, 38, 39, 40, 41, 42, 43, 44, 45, 46, 47, 48, 219]\n",
      "Their percentage gap are:\n",
      " [99.8, 100.0, 100.0, 100.0, 100.0, 100.0, 100.0, 100.0, 100.0, 100.0, 100.0, 100.0, 100.0, 99.8, 100.0, 100.0, 99.8, 100.0, 99.8, 100.0, 99.8, 100.0, 100.0, 99.8, 99.4, 99.8, 100.0]\n",
      "# ====================================================== #\n",
      "disc loss 0.24178072810173035 gen loss 1.2880369424819946\n",
      "disc loss 0.22232243418693542 gen loss 0.9964286684989929\n",
      "disc loss 0.22836405038833618 gen loss 1.4129747152328491\n",
      "disc loss 0.21823765337467194 gen loss 1.2959173917770386\n",
      "disc loss 0.26899436116218567 gen loss 0.7967933416366577\n",
      "disc loss 0.22149121761322021 gen loss 0.8938709497451782\n",
      "disc loss 0.3274492025375366 gen loss 0.8413938879966736\n",
      "disc loss 0.21688324213027954 gen loss 0.9516275525093079\n"
     ]
    },
    {
     "name": "stderr",
     "output_type": "stream",
     "text": [
      "C:\\Users\\canal\\AppData\\Roaming\\Python\\Python38\\site-packages\\numpy\\lib\\function_base.py:2642: RuntimeWarning: invalid value encountered in true_divide\n",
      "  c /= stddev[:, None]\n",
      "C:\\Users\\canal\\AppData\\Roaming\\Python\\Python38\\site-packages\\numpy\\lib\\function_base.py:2643: RuntimeWarning: invalid value encountered in true_divide\n",
      "  c /= stddev[None, :]\n"
     ]
    },
    {
     "name": "stdout",
     "output_type": "stream",
     "text": [
      "#========== evaluating for epoch 50 ==========#\n",
      ">>> MMD | abs(D_Entropy) | abs(D_Distance) | Pearson Corr \n",
      "0.079417 , 0.024658 , 0.052861 , nan\n",
      "# ================== Sampling 500 sequences at epoch 50 ================== #\n",
      "The loci with percentage of gap >= 95% in the cleaned MSA: \n",
      " [0, 1, 25, 26, 27, 28, 29, 30, 31, 32, 33, 34, 35, 36, 37, 38, 39, 40, 41, 42, 43, 44, 45, 46, 47, 48, 219]\n",
      "Their percentage gap are:\n",
      " [100.0, 99.8, 100.0, 99.8, 100.0, 100.0, 99.8, 100.0, 100.0, 100.0, 100.0, 100.0, 100.0, 100.0, 100.0, 100.0, 100.0, 100.0, 100.0, 100.0, 100.0, 99.6, 100.0, 99.8, 100.0, 99.4, 100.0]\n",
      "# ====================================================== #\n",
      "disc loss 0.2520362436771393 gen loss 1.214699149131775\n",
      "disc loss 0.4303969740867615 gen loss 1.280932903289795\n",
      "disc loss 0.3716936707496643 gen loss 0.897564172744751\n",
      "disc loss 0.42703571915626526 gen loss 1.0339395999908447\n",
      "disc loss 0.48388081789016724 gen loss 1.085474967956543\n",
      "disc loss 0.3762921988964081 gen loss 0.7151690125465393\n",
      "disc loss 0.41389912366867065 gen loss 0.8403944969177246\n",
      "disc loss 0.42669159173965454 gen loss 1.254106044769287\n"
     ]
    },
    {
     "name": "stderr",
     "output_type": "stream",
     "text": [
      "C:\\Users\\canal\\AppData\\Roaming\\Python\\Python38\\site-packages\\numpy\\lib\\function_base.py:2642: RuntimeWarning: invalid value encountered in true_divide\n",
      "  c /= stddev[:, None]\n",
      "C:\\Users\\canal\\AppData\\Roaming\\Python\\Python38\\site-packages\\numpy\\lib\\function_base.py:2643: RuntimeWarning: invalid value encountered in true_divide\n",
      "  c /= stddev[None, :]\n"
     ]
    },
    {
     "name": "stdout",
     "output_type": "stream",
     "text": [
      "#========== evaluating for epoch 52 ==========#\n",
      ">>> MMD | abs(D_Entropy) | abs(D_Distance) | Pearson Corr \n",
      "0.091828 , 0.02201 , 0.035142 , nan\n",
      "# ================== Sampling 500 sequences at epoch 52 ================== #\n",
      "The loci with percentage of gap >= 95% in the cleaned MSA: \n",
      " [0, 1, 25, 26, 27, 28, 29, 30, 31, 32, 33, 34, 35, 36, 37, 38, 39, 40, 41, 42, 43, 44, 45, 46, 47, 48, 219]\n",
      "Their percentage gap are:\n",
      " [100.0, 100.0, 99.8, 100.0, 100.0, 100.0, 100.0, 100.0, 100.0, 100.0, 100.0, 100.0, 100.0, 100.0, 100.0, 100.0, 100.0, 100.0, 100.0, 100.0, 100.0, 100.0, 100.0, 100.0, 100.0, 99.2, 100.0]\n",
      "# ====================================================== #\n",
      "disc loss 0.32823604345321655 gen loss 0.9472317099571228\n",
      "disc loss 0.3096791207790375 gen loss 0.9576671719551086\n",
      "disc loss 0.2998969256877899 gen loss 0.9579404592514038\n",
      "disc loss 0.37269529700279236 gen loss 1.2316802740097046\n",
      "disc loss 0.42992696166038513 gen loss 1.2478183507919312\n",
      "disc loss 0.2847541272640228 gen loss 1.1884294748306274\n",
      "disc loss 0.437117338180542 gen loss 1.2708051204681396\n",
      "disc loss 0.478925496339798 gen loss 0.917934000492096\n"
     ]
    },
    {
     "name": "stderr",
     "output_type": "stream",
     "text": [
      "C:\\Users\\canal\\AppData\\Roaming\\Python\\Python38\\site-packages\\numpy\\lib\\function_base.py:2642: RuntimeWarning: invalid value encountered in true_divide\n",
      "  c /= stddev[:, None]\n",
      "C:\\Users\\canal\\AppData\\Roaming\\Python\\Python38\\site-packages\\numpy\\lib\\function_base.py:2643: RuntimeWarning: invalid value encountered in true_divide\n",
      "  c /= stddev[None, :]\n"
     ]
    },
    {
     "name": "stdout",
     "output_type": "stream",
     "text": [
      "#========== evaluating for epoch 54 ==========#\n",
      ">>> MMD | abs(D_Entropy) | abs(D_Distance) | Pearson Corr \n",
      "0.095025 , 0.018662 , 0.046564 , nan\n",
      "# ================== Sampling 500 sequences at epoch 54 ================== #\n",
      "The loci with percentage of gap >= 95% in the cleaned MSA: \n",
      " [0, 1, 25, 26, 27, 28, 29, 30, 31, 32, 33, 34, 35, 36, 37, 38, 39, 40, 41, 42, 43, 44, 45, 46, 47, 48, 219]\n",
      "Their percentage gap are:\n",
      " [100.0, 100.0, 100.0, 99.8, 100.0, 100.0, 99.8, 99.8, 99.8, 100.0, 100.0, 100.0, 100.0, 99.8, 100.0, 100.0, 100.0, 100.0, 100.0, 100.0, 99.8, 100.0, 100.0, 100.0, 99.4, 99.0, 100.0]\n",
      "# ====================================================== #\n",
      "disc loss 0.5162153244018555 gen loss 0.7676297426223755\n",
      "disc loss 0.3748565912246704 gen loss 1.1869449615478516\n",
      "disc loss 0.37996983528137207 gen loss 0.864870548248291\n",
      "disc loss 0.3432614207267761 gen loss 1.1053545475006104\n",
      "disc loss 0.38893333077430725 gen loss 0.8738769292831421\n",
      "disc loss 0.31588876247406006 gen loss 1.1264950037002563\n",
      "disc loss 0.38125962018966675 gen loss 1.3423333168029785\n",
      "disc loss 0.3946523368358612 gen loss 0.811647891998291\n"
     ]
    },
    {
     "name": "stderr",
     "output_type": "stream",
     "text": [
      "C:\\Users\\canal\\AppData\\Roaming\\Python\\Python38\\site-packages\\numpy\\lib\\function_base.py:2642: RuntimeWarning: invalid value encountered in true_divide\n",
      "  c /= stddev[:, None]\n",
      "C:\\Users\\canal\\AppData\\Roaming\\Python\\Python38\\site-packages\\numpy\\lib\\function_base.py:2643: RuntimeWarning: invalid value encountered in true_divide\n",
      "  c /= stddev[None, :]\n"
     ]
    },
    {
     "name": "stdout",
     "output_type": "stream",
     "text": [
      "#========== evaluating for epoch 56 ==========#\n",
      ">>> MMD | abs(D_Entropy) | abs(D_Distance) | Pearson Corr \n",
      "0.089339 , 0.023301 , 0.048509 , nan\n",
      "# ================== Sampling 500 sequences at epoch 56 ================== #\n",
      "The loci with percentage of gap >= 95% in the cleaned MSA: \n",
      " [0, 1, 25, 26, 27, 28, 29, 30, 31, 32, 33, 34, 35, 36, 37, 38, 39, 40, 41, 42, 43, 44, 45, 46, 47, 48, 219]\n",
      "Their percentage gap are:\n",
      " [100.0, 100.0, 100.0, 100.0, 100.0, 100.0, 100.0, 100.0, 100.0, 100.0, 100.0, 100.0, 100.0, 99.8, 100.0, 100.0, 100.0, 100.0, 99.8, 100.0, 99.4, 100.0, 99.2, 98.8, 98.8, 99.2, 100.0]\n",
      "# ====================================================== #\n",
      "disc loss 0.3708890974521637 gen loss 0.8294243812561035\n",
      "disc loss 0.40118178725242615 gen loss 1.1415146589279175\n",
      "disc loss 0.30973052978515625 gen loss 0.8406073451042175\n",
      "disc loss 0.3443808853626251 gen loss 1.3350355625152588\n",
      "disc loss 0.4040563106536865 gen loss 1.2754062414169312\n",
      "disc loss 0.3848811984062195 gen loss 1.059074878692627\n",
      "disc loss 0.3564474582672119 gen loss 1.1582200527191162\n",
      "disc loss 0.41920700669288635 gen loss 0.862241268157959\n"
     ]
    },
    {
     "name": "stderr",
     "output_type": "stream",
     "text": [
      "C:\\Users\\canal\\AppData\\Roaming\\Python\\Python38\\site-packages\\numpy\\lib\\function_base.py:2642: RuntimeWarning: invalid value encountered in true_divide\n",
      "  c /= stddev[:, None]\n",
      "C:\\Users\\canal\\AppData\\Roaming\\Python\\Python38\\site-packages\\numpy\\lib\\function_base.py:2643: RuntimeWarning: invalid value encountered in true_divide\n",
      "  c /= stddev[None, :]\n"
     ]
    },
    {
     "name": "stdout",
     "output_type": "stream",
     "text": [
      "#========== evaluating for epoch 58 ==========#\n",
      ">>> MMD | abs(D_Entropy) | abs(D_Distance) | Pearson Corr \n",
      "0.093004 , 0.021518 , 0.038293 , nan\n",
      "# ================== Sampling 500 sequences at epoch 58 ================== #\n",
      "The loci with percentage of gap >= 95% in the cleaned MSA: \n",
      " [0, 1, 25, 26, 27, 28, 29, 30, 31, 32, 33, 34, 35, 36, 37, 38, 39, 40, 41, 42, 43, 44, 45, 46, 47, 48, 219]\n",
      "Their percentage gap are:\n",
      " [100.0, 100.0, 100.0, 100.0, 100.0, 100.0, 99.8, 100.0, 100.0, 100.0, 100.0, 100.0, 100.0, 100.0, 100.0, 100.0, 100.0, 100.0, 100.0, 99.6, 100.0, 100.0, 100.0, 100.0, 99.8, 100.0, 99.8]\n",
      "# ====================================================== #\n",
      "disc loss 0.5425258278846741 gen loss 0.7249746322631836\n",
      "disc loss 0.4180547595024109 gen loss 1.1923134326934814\n",
      "disc loss 0.30036985874176025 gen loss 1.1934740543365479\n",
      "disc loss 0.4325697422027588 gen loss 1.1791672706604004\n",
      "disc loss 0.3627486526966095 gen loss 1.0935665369033813\n",
      "disc loss 0.4008786082267761 gen loss 1.144312858581543\n",
      "disc loss 0.44618046283721924 gen loss 0.7916791439056396\n",
      "disc loss 0.4285767376422882 gen loss 1.2397868633270264\n"
     ]
    },
    {
     "name": "stderr",
     "output_type": "stream",
     "text": [
      "C:\\Users\\canal\\AppData\\Roaming\\Python\\Python38\\site-packages\\numpy\\lib\\function_base.py:2642: RuntimeWarning: invalid value encountered in true_divide\n",
      "  c /= stddev[:, None]\n",
      "C:\\Users\\canal\\AppData\\Roaming\\Python\\Python38\\site-packages\\numpy\\lib\\function_base.py:2643: RuntimeWarning: invalid value encountered in true_divide\n",
      "  c /= stddev[None, :]\n"
     ]
    },
    {
     "name": "stdout",
     "output_type": "stream",
     "text": [
      "#========== evaluating for epoch 60 ==========#\n",
      ">>> MMD | abs(D_Entropy) | abs(D_Distance) | Pearson Corr \n",
      "0.094607 , 0.019543 , 0.031191 , nan\n",
      "# ================== Sampling 500 sequences at epoch 60 ================== #\n",
      "The loci with percentage of gap >= 95% in the cleaned MSA: \n",
      " [0, 1, 25, 26, 27, 28, 29, 30, 31, 32, 33, 34, 35, 36, 37, 38, 39, 40, 41, 42, 43, 44, 45, 46, 47, 48, 219]\n",
      "Their percentage gap are:\n",
      " [99.8, 100.0, 100.0, 99.8, 99.6, 100.0, 100.0, 99.6, 99.8, 100.0, 99.8, 99.8, 99.8, 100.0, 99.8, 100.0, 100.0, 99.8, 99.8, 100.0, 100.0, 99.8, 98.8, 99.2, 99.2, 98.0, 100.0]\n",
      "# ====================================================== #\n",
      "disc loss 0.317399263381958 gen loss 0.9182305335998535\n",
      "disc loss 0.36188796162605286 gen loss 1.4230613708496094\n",
      "disc loss 0.4252129793167114 gen loss 0.8335525989532471\n",
      "disc loss 0.3403439521789551 gen loss 1.1750977039337158\n",
      "disc loss 0.37521445751190186 gen loss 1.1483231782913208\n",
      "disc loss 0.45354652404785156 gen loss 0.8448412418365479\n",
      "disc loss 0.28110653162002563 gen loss 0.916633129119873\n",
      "disc loss 0.27429765462875366 gen loss 1.0523004531860352\n"
     ]
    },
    {
     "name": "stderr",
     "output_type": "stream",
     "text": [
      "C:\\Users\\canal\\AppData\\Roaming\\Python\\Python38\\site-packages\\numpy\\lib\\function_base.py:2642: RuntimeWarning: invalid value encountered in true_divide\n",
      "  c /= stddev[:, None]\n",
      "C:\\Users\\canal\\AppData\\Roaming\\Python\\Python38\\site-packages\\numpy\\lib\\function_base.py:2643: RuntimeWarning: invalid value encountered in true_divide\n",
      "  c /= stddev[None, :]\n"
     ]
    },
    {
     "name": "stdout",
     "output_type": "stream",
     "text": [
      "#========== evaluating for epoch 62 ==========#\n",
      ">>> MMD | abs(D_Entropy) | abs(D_Distance) | Pearson Corr \n",
      "0.093433 , 0.026854 , 0.044362 , nan\n",
      "# ================== Sampling 500 sequences at epoch 62 ================== #\n",
      "The loci with percentage of gap >= 95% in the cleaned MSA: \n",
      " [0, 1, 25, 26, 27, 28, 29, 30, 31, 32, 33, 34, 35, 36, 37, 38, 39, 40, 41, 42, 43, 44, 45, 46, 47, 48, 219]\n",
      "Their percentage gap are:\n",
      " [99.8, 100.0, 100.0, 100.0, 100.0, 100.0, 100.0, 100.0, 100.0, 100.0, 100.0, 100.0, 100.0, 100.0, 100.0, 100.0, 100.0, 100.0, 99.8, 99.8, 100.0, 100.0, 99.8, 99.6, 100.0, 99.4, 100.0]\n",
      "# ====================================================== #\n",
      "disc loss 0.3435676693916321 gen loss 1.2425482273101807\n",
      "disc loss 0.301234632730484 gen loss 1.061145305633545\n",
      "disc loss 0.4086627960205078 gen loss 1.1617093086242676\n",
      "disc loss 0.5402588844299316 gen loss 1.2816143035888672\n",
      "disc loss 0.29303523898124695 gen loss 1.0769634246826172\n",
      "disc loss 0.3949250280857086 gen loss 0.8625271320343018\n",
      "disc loss 0.3504425585269928 gen loss 1.0079489946365356\n",
      "disc loss 0.455003559589386 gen loss 1.2873207330703735\n"
     ]
    },
    {
     "name": "stderr",
     "output_type": "stream",
     "text": [
      "C:\\Users\\canal\\AppData\\Roaming\\Python\\Python38\\site-packages\\numpy\\lib\\function_base.py:2642: RuntimeWarning: invalid value encountered in true_divide\n",
      "  c /= stddev[:, None]\n",
      "C:\\Users\\canal\\AppData\\Roaming\\Python\\Python38\\site-packages\\numpy\\lib\\function_base.py:2643: RuntimeWarning: invalid value encountered in true_divide\n",
      "  c /= stddev[None, :]\n"
     ]
    },
    {
     "name": "stdout",
     "output_type": "stream",
     "text": [
      "#========== evaluating for epoch 64 ==========#\n",
      ">>> MMD | abs(D_Entropy) | abs(D_Distance) | Pearson Corr \n",
      "0.090078 , 0.026516 , 0.045499 , nan\n",
      "# ================== Sampling 500 sequences at epoch 64 ================== #\n",
      "The loci with percentage of gap >= 95% in the cleaned MSA: \n",
      " [0, 1, 25, 26, 27, 28, 29, 30, 31, 32, 33, 34, 35, 36, 37, 38, 39, 40, 41, 42, 43, 44, 45, 46, 47, 48, 219]\n",
      "Their percentage gap are:\n",
      " [100.0, 100.0, 100.0, 100.0, 100.0, 100.0, 100.0, 100.0, 99.8, 100.0, 100.0, 100.0, 100.0, 100.0, 100.0, 100.0, 100.0, 100.0, 100.0, 100.0, 99.6, 100.0, 99.8, 99.6, 99.4, 98.8, 100.0]\n",
      "# ====================================================== #\n",
      "disc loss 0.3403923511505127 gen loss 1.1974155902862549\n",
      "disc loss 0.3637574315071106 gen loss 0.7295404672622681\n",
      "disc loss 0.3341362774372101 gen loss 0.8046836853027344\n",
      "disc loss 0.34452593326568604 gen loss 1.2727473974227905\n",
      "disc loss 0.36518192291259766 gen loss 0.9102495908737183\n",
      "disc loss 0.3403136134147644 gen loss 0.8915261626243591\n",
      "disc loss 0.4383322596549988 gen loss 1.276674747467041\n",
      "disc loss 0.3922731280326843 gen loss 1.283902883529663\n"
     ]
    },
    {
     "name": "stderr",
     "output_type": "stream",
     "text": [
      "C:\\Users\\canal\\AppData\\Roaming\\Python\\Python38\\site-packages\\numpy\\lib\\function_base.py:2642: RuntimeWarning: invalid value encountered in true_divide\n",
      "  c /= stddev[:, None]\n",
      "C:\\Users\\canal\\AppData\\Roaming\\Python\\Python38\\site-packages\\numpy\\lib\\function_base.py:2643: RuntimeWarning: invalid value encountered in true_divide\n",
      "  c /= stddev[None, :]\n"
     ]
    },
    {
     "name": "stdout",
     "output_type": "stream",
     "text": [
      "#========== evaluating for epoch 66 ==========#\n",
      ">>> MMD | abs(D_Entropy) | abs(D_Distance) | Pearson Corr \n",
      "0.092833 , 0.026036 , 0.04539 , nan\n",
      "# ================== Sampling 500 sequences at epoch 66 ================== #\n",
      "The loci with percentage of gap >= 95% in the cleaned MSA: \n",
      " [0, 1, 25, 26, 27, 28, 29, 30, 31, 32, 33, 34, 35, 36, 37, 38, 39, 40, 41, 42, 43, 44, 45, 46, 47, 48, 219]\n",
      "Their percentage gap are:\n",
      " [100.0, 100.0, 100.0, 100.0, 100.0, 100.0, 100.0, 100.0, 100.0, 100.0, 100.0, 99.8, 100.0, 100.0, 100.0, 100.0, 100.0, 100.0, 100.0, 100.0, 100.0, 100.0, 99.8, 100.0, 99.8, 99.6, 100.0]\n",
      "# ====================================================== #\n",
      "disc loss 0.429764062166214 gen loss 0.8695603609085083\n",
      "disc loss 0.47038769721984863 gen loss 0.7757707834243774\n",
      "disc loss 0.39139634370803833 gen loss 0.814885675907135\n",
      "disc loss 0.3593500256538391 gen loss 1.2190581560134888\n",
      "disc loss 0.46783363819122314 gen loss 0.7967245578765869\n",
      "disc loss 0.4015554189682007 gen loss 1.3948087692260742\n",
      "disc loss 0.4242149293422699 gen loss 1.274949312210083\n",
      "disc loss 0.35157737135887146 gen loss 1.0100271701812744\n"
     ]
    },
    {
     "name": "stderr",
     "output_type": "stream",
     "text": [
      "C:\\Users\\canal\\AppData\\Roaming\\Python\\Python38\\site-packages\\numpy\\lib\\function_base.py:2642: RuntimeWarning: invalid value encountered in true_divide\n",
      "  c /= stddev[:, None]\n",
      "C:\\Users\\canal\\AppData\\Roaming\\Python\\Python38\\site-packages\\numpy\\lib\\function_base.py:2643: RuntimeWarning: invalid value encountered in true_divide\n",
      "  c /= stddev[None, :]\n"
     ]
    },
    {
     "name": "stdout",
     "output_type": "stream",
     "text": [
      "#========== evaluating for epoch 68 ==========#\n",
      ">>> MMD | abs(D_Entropy) | abs(D_Distance) | Pearson Corr \n",
      "0.099806 , 0.02341 , 0.028039 , nan\n",
      "# ================== Sampling 500 sequences at epoch 68 ================== #\n",
      "The loci with percentage of gap >= 95% in the cleaned MSA: \n",
      " [0, 1, 25, 26, 27, 28, 29, 30, 31, 32, 33, 34, 35, 36, 37, 38, 39, 40, 41, 42, 43, 44, 45, 46, 47, 48, 219]\n",
      "Their percentage gap are:\n",
      " [99.8, 100.0, 99.8, 99.8, 100.0, 100.0, 100.0, 100.0, 99.8, 99.6, 99.6, 100.0, 100.0, 99.8, 100.0, 100.0, 99.6, 99.8, 100.0, 99.6, 99.6, 99.8, 99.4, 99.4, 97.6, 98.6, 99.6]\n",
      "# ====================================================== #\n",
      "disc loss 0.3241328001022339 gen loss 0.9639415740966797\n",
      "disc loss 0.3802655339241028 gen loss 0.836374044418335\n",
      "disc loss 0.5234046578407288 gen loss 0.8481594324111938\n",
      "disc loss 0.32794883847236633 gen loss 1.121046781539917\n",
      "disc loss 0.3787228465080261 gen loss 0.8734011650085449\n",
      "disc loss 0.3271232843399048 gen loss 1.3064155578613281\n",
      "disc loss 0.32586386799812317 gen loss 1.160364031791687\n",
      "disc loss 0.3528381884098053 gen loss 1.03974187374115\n"
     ]
    },
    {
     "name": "stderr",
     "output_type": "stream",
     "text": [
      "C:\\Users\\canal\\AppData\\Roaming\\Python\\Python38\\site-packages\\numpy\\lib\\function_base.py:2642: RuntimeWarning: invalid value encountered in true_divide\n",
      "  c /= stddev[:, None]\n",
      "C:\\Users\\canal\\AppData\\Roaming\\Python\\Python38\\site-packages\\numpy\\lib\\function_base.py:2643: RuntimeWarning: invalid value encountered in true_divide\n",
      "  c /= stddev[None, :]\n"
     ]
    },
    {
     "name": "stdout",
     "output_type": "stream",
     "text": [
      "#========== evaluating for epoch 70 ==========#\n",
      ">>> MMD | abs(D_Entropy) | abs(D_Distance) | Pearson Corr \n",
      "0.098587 , 0.026365 , 0.046759 , nan\n",
      "# ================== Sampling 500 sequences at epoch 70 ================== #\n",
      "The loci with percentage of gap >= 95% in the cleaned MSA: \n",
      " [0, 1, 25, 26, 27, 28, 29, 30, 31, 32, 33, 34, 35, 36, 37, 38, 39, 40, 41, 42, 43, 44, 45, 46, 47, 48, 219]\n",
      "Their percentage gap are:\n",
      " [100.0, 100.0, 100.0, 100.0, 100.0, 100.0, 99.8, 100.0, 99.8, 100.0, 100.0, 99.8, 100.0, 100.0, 100.0, 100.0, 100.0, 100.0, 99.4, 100.0, 100.0, 100.0, 99.2, 98.8, 99.4, 97.8, 100.0]\n",
      "# ====================================================== #\n",
      "disc loss 0.3432379364967346 gen loss 1.0809369087219238\n",
      "disc loss 0.3290923833847046 gen loss 0.8115589618682861\n",
      "disc loss 0.3762385845184326 gen loss 0.6854374408721924\n",
      "disc loss 0.36529821157455444 gen loss 1.0628702640533447\n",
      "disc loss 0.42944973707199097 gen loss 0.784845232963562\n",
      "disc loss 0.3511943221092224 gen loss 1.1034568548202515\n",
      "disc loss 0.322543740272522 gen loss 1.0885814428329468\n",
      "disc loss 0.39023327827453613 gen loss 0.947805643081665\n"
     ]
    },
    {
     "name": "stderr",
     "output_type": "stream",
     "text": [
      "C:\\Users\\canal\\AppData\\Roaming\\Python\\Python38\\site-packages\\numpy\\lib\\function_base.py:2642: RuntimeWarning: invalid value encountered in true_divide\n",
      "  c /= stddev[:, None]\n",
      "C:\\Users\\canal\\AppData\\Roaming\\Python\\Python38\\site-packages\\numpy\\lib\\function_base.py:2643: RuntimeWarning: invalid value encountered in true_divide\n",
      "  c /= stddev[None, :]\n"
     ]
    },
    {
     "name": "stdout",
     "output_type": "stream",
     "text": [
      "#========== evaluating for epoch 72 ==========#\n",
      ">>> MMD | abs(D_Entropy) | abs(D_Distance) | Pearson Corr \n",
      "0.094328 , 0.022659 , 0.033974 , nan\n",
      "# ================== Sampling 500 sequences at epoch 72 ================== #\n",
      "The loci with percentage of gap >= 95% in the cleaned MSA: \n",
      " [0, 1, 25, 26, 27, 28, 29, 30, 31, 32, 33, 34, 35, 36, 37, 38, 39, 40, 41, 42, 43, 44, 45, 46, 47, 48, 219]\n",
      "Their percentage gap are:\n",
      " [100.0, 100.0, 99.6, 100.0, 100.0, 100.0, 100.0, 100.0, 100.0, 100.0, 100.0, 100.0, 100.0, 100.0, 100.0, 100.0, 100.0, 99.8, 99.2, 99.6, 100.0, 98.6, 99.4, 99.4, 98.8, 96.4, 100.0]\n",
      "# ====================================================== #\n",
      "disc loss 0.4062722325325012 gen loss 1.3355326652526855\n",
      "disc loss 0.37240365147590637 gen loss 0.8340202569961548\n",
      "disc loss 0.3357791304588318 gen loss 1.3170368671417236\n",
      "disc loss 0.3256937861442566 gen loss 1.1370311975479126\n",
      "disc loss 0.431415319442749 gen loss 0.751095175743103\n",
      "disc loss 0.4428439736366272 gen loss 0.8975441455841064\n",
      "disc loss 0.3652837574481964 gen loss 1.2113068103790283\n",
      "disc loss 0.3564054071903229 gen loss 1.206556797027588\n"
     ]
    },
    {
     "name": "stderr",
     "output_type": "stream",
     "text": [
      "C:\\Users\\canal\\AppData\\Roaming\\Python\\Python38\\site-packages\\numpy\\lib\\function_base.py:2642: RuntimeWarning: invalid value encountered in true_divide\n",
      "  c /= stddev[:, None]\n",
      "C:\\Users\\canal\\AppData\\Roaming\\Python\\Python38\\site-packages\\numpy\\lib\\function_base.py:2643: RuntimeWarning: invalid value encountered in true_divide\n",
      "  c /= stddev[None, :]\n"
     ]
    },
    {
     "name": "stdout",
     "output_type": "stream",
     "text": [
      "#========== evaluating for epoch 74 ==========#\n",
      ">>> MMD | abs(D_Entropy) | abs(D_Distance) | Pearson Corr \n",
      "0.09356 , 0.027425 , 0.04967 , nan\n",
      "# ================== Sampling 500 sequences at epoch 74 ================== #\n",
      "The loci with percentage of gap >= 95% in the cleaned MSA: \n",
      " [0, 1, 25, 26, 27, 28, 29, 30, 31, 32, 33, 34, 35, 36, 37, 38, 39, 40, 41, 42, 43, 44, 45, 46, 47, 48, 219]\n",
      "Their percentage gap are:\n",
      " [100.0, 100.0, 100.0, 100.0, 100.0, 100.0, 100.0, 100.0, 100.0, 99.8, 100.0, 100.0, 100.0, 100.0, 100.0, 100.0, 100.0, 100.0, 100.0, 100.0, 100.0, 100.0, 100.0, 99.6, 100.0, 99.4, 100.0]\n",
      "# ====================================================== #\n",
      "disc loss 0.4199359118938446 gen loss 0.6673352718353271\n",
      "disc loss 0.3412259519100189 gen loss 0.8704652786254883\n",
      "disc loss 0.3751526474952698 gen loss 0.9762111902236938\n",
      "disc loss 0.3924693167209625 gen loss 0.6696417331695557\n",
      "disc loss 0.4019976258277893 gen loss 0.7379162311553955\n",
      "disc loss 0.40989917516708374 gen loss 1.3090343475341797\n",
      "disc loss 0.26256540417671204 gen loss 0.9235316514968872\n",
      "disc loss 0.3623674511909485 gen loss 0.941615879535675\n"
     ]
    },
    {
     "name": "stderr",
     "output_type": "stream",
     "text": [
      "C:\\Users\\canal\\AppData\\Roaming\\Python\\Python38\\site-packages\\numpy\\lib\\function_base.py:2642: RuntimeWarning: invalid value encountered in true_divide\n",
      "  c /= stddev[:, None]\n",
      "C:\\Users\\canal\\AppData\\Roaming\\Python\\Python38\\site-packages\\numpy\\lib\\function_base.py:2643: RuntimeWarning: invalid value encountered in true_divide\n",
      "  c /= stddev[None, :]\n"
     ]
    },
    {
     "name": "stdout",
     "output_type": "stream",
     "text": [
      "#========== evaluating for epoch 76 ==========#\n",
      ">>> MMD | abs(D_Entropy) | abs(D_Distance) | Pearson Corr \n",
      "0.094886 , 0.019836 , 0.042021 , nan\n",
      "# ================== Sampling 500 sequences at epoch 76 ================== #\n",
      "The loci with percentage of gap >= 95% in the cleaned MSA: \n",
      " [0, 1, 25, 26, 27, 28, 29, 30, 31, 32, 33, 34, 35, 36, 37, 38, 39, 40, 41, 42, 43, 44, 45, 46, 47, 48, 219]\n",
      "Their percentage gap are:\n",
      " [100.0, 100.0, 100.0, 100.0, 99.8, 100.0, 100.0, 100.0, 100.0, 100.0, 100.0, 100.0, 99.8, 100.0, 100.0, 99.8, 100.0, 100.0, 99.6, 99.6, 99.6, 99.4, 99.8, 99.0, 99.2, 97.2, 99.8]\n",
      "# ====================================================== #\n",
      "disc loss 0.3504866361618042 gen loss 0.9820917844772339\n",
      "disc loss 0.42588457465171814 gen loss 1.0997155904769897\n",
      "disc loss 0.37371575832366943 gen loss 1.2690634727478027\n",
      "disc loss 0.39488571882247925 gen loss 1.2860190868377686\n",
      "disc loss 0.4672416150569916 gen loss 0.6517956256866455\n",
      "disc loss 0.4377337396144867 gen loss 0.7856568098068237\n",
      "disc loss 0.32851824164390564 gen loss 1.1524752378463745\n",
      "disc loss 0.46582597494125366 gen loss 0.7440401315689087\n"
     ]
    },
    {
     "name": "stderr",
     "output_type": "stream",
     "text": [
      "C:\\Users\\canal\\AppData\\Roaming\\Python\\Python38\\site-packages\\numpy\\lib\\function_base.py:2642: RuntimeWarning: invalid value encountered in true_divide\n",
      "  c /= stddev[:, None]\n",
      "C:\\Users\\canal\\AppData\\Roaming\\Python\\Python38\\site-packages\\numpy\\lib\\function_base.py:2643: RuntimeWarning: invalid value encountered in true_divide\n",
      "  c /= stddev[None, :]\n"
     ]
    },
    {
     "name": "stdout",
     "output_type": "stream",
     "text": [
      "#========== evaluating for epoch 78 ==========#\n",
      ">>> MMD | abs(D_Entropy) | abs(D_Distance) | Pearson Corr \n",
      "0.099348 , 0.020036 , 0.040755 , nan\n",
      "# ================== Sampling 500 sequences at epoch 78 ================== #\n",
      "The loci with percentage of gap >= 95% in the cleaned MSA: \n",
      " [0, 1, 25, 26, 27, 28, 29, 30, 31, 32, 33, 34, 35, 36, 37, 38, 39, 40, 41, 42, 43, 44, 45, 46, 48, 219]\n",
      "Their percentage gap are:\n",
      " [99.4, 98.8, 98.2, 97.6, 98.2, 96.8, 99.4, 98.2, 97.6, 98.6, 98.4, 97.0, 98.2, 97.8, 98.2, 97.0, 96.6, 97.2, 97.0, 95.8, 98.8, 98.6, 96.0, 97.4, 98.4, 98.8]\n",
      "# ====================================================== #\n",
      "disc loss 0.4813750386238098 gen loss 0.7531148195266724\n",
      "disc loss 0.2794181704521179 gen loss 1.0404314994812012\n",
      "disc loss 0.42243120074272156 gen loss 0.7479472756385803\n",
      "disc loss 0.406494677066803 gen loss 1.104507565498352\n",
      "disc loss 0.41667115688323975 gen loss 0.9768893718719482\n",
      "disc loss 0.359287291765213 gen loss 0.9980968236923218\n",
      "disc loss 0.39030250906944275 gen loss 0.9659005403518677\n",
      "disc loss 0.35276639461517334 gen loss 1.160893440246582\n"
     ]
    },
    {
     "name": "stderr",
     "output_type": "stream",
     "text": [
      "C:\\Users\\canal\\AppData\\Roaming\\Python\\Python38\\site-packages\\numpy\\lib\\function_base.py:2642: RuntimeWarning: invalid value encountered in true_divide\n",
      "  c /= stddev[:, None]\n",
      "C:\\Users\\canal\\AppData\\Roaming\\Python\\Python38\\site-packages\\numpy\\lib\\function_base.py:2643: RuntimeWarning: invalid value encountered in true_divide\n",
      "  c /= stddev[None, :]\n"
     ]
    },
    {
     "name": "stdout",
     "output_type": "stream",
     "text": [
      "#========== evaluating for epoch 80 ==========#\n",
      ">>> MMD | abs(D_Entropy) | abs(D_Distance) | Pearson Corr \n",
      "0.094901 , 0.027609 , 0.050814 , nan\n",
      "# ================== Sampling 500 sequences at epoch 80 ================== #\n",
      "The loci with percentage of gap >= 95% in the cleaned MSA: \n",
      " [0, 1, 25, 26, 27, 28, 29, 30, 31, 32, 33, 34, 35, 36, 37, 38, 39, 40, 41, 42, 43, 44, 45, 46, 47, 48, 219]\n",
      "Their percentage gap are:\n",
      " [100.0, 100.0, 100.0, 100.0, 100.0, 100.0, 100.0, 100.0, 100.0, 100.0, 100.0, 100.0, 100.0, 99.8, 100.0, 100.0, 100.0, 100.0, 100.0, 100.0, 100.0, 100.0, 100.0, 100.0, 100.0, 100.0, 100.0]\n",
      "# ====================================================== #\n",
      "disc loss 0.34603750705718994 gen loss 0.8812259435653687\n",
      "disc loss 0.26307106018066406 gen loss 0.9770165681838989\n",
      "disc loss 0.2759225070476532 gen loss 0.8309897184371948\n",
      "disc loss 0.26447606086730957 gen loss 1.237987756729126\n",
      "disc loss 0.3988821506500244 gen loss 0.8982150554656982\n",
      "disc loss 0.385187029838562 gen loss 1.1122183799743652\n",
      "disc loss 0.3761207163333893 gen loss 1.0766395330429077\n",
      "disc loss 0.31407463550567627 gen loss 0.7043984532356262\n"
     ]
    },
    {
     "name": "stderr",
     "output_type": "stream",
     "text": [
      "C:\\Users\\canal\\AppData\\Roaming\\Python\\Python38\\site-packages\\numpy\\lib\\function_base.py:2642: RuntimeWarning: invalid value encountered in true_divide\n",
      "  c /= stddev[:, None]\n",
      "C:\\Users\\canal\\AppData\\Roaming\\Python\\Python38\\site-packages\\numpy\\lib\\function_base.py:2643: RuntimeWarning: invalid value encountered in true_divide\n",
      "  c /= stddev[None, :]\n"
     ]
    },
    {
     "name": "stdout",
     "output_type": "stream",
     "text": [
      "#========== evaluating for epoch 82 ==========#\n",
      ">>> MMD | abs(D_Entropy) | abs(D_Distance) | Pearson Corr \n",
      "0.092078 , 0.023245 , 0.035384 , nan\n",
      "# ================== Sampling 500 sequences at epoch 82 ================== #\n",
      "The loci with percentage of gap >= 95% in the cleaned MSA: \n",
      " [0, 1, 25, 26, 27, 28, 29, 30, 31, 32, 33, 34, 35, 36, 37, 38, 39, 40, 41, 42, 43, 44, 45, 46, 47, 48, 219]\n",
      "Their percentage gap are:\n",
      " [100.0, 100.0, 100.0, 100.0, 99.8, 100.0, 100.0, 100.0, 100.0, 100.0, 100.0, 100.0, 100.0, 100.0, 100.0, 100.0, 100.0, 100.0, 100.0, 99.8, 100.0, 99.8, 100.0, 100.0, 99.8, 99.6, 100.0]\n",
      "# ====================================================== #\n",
      "disc loss 0.4830739498138428 gen loss 0.9876952171325684\n",
      "disc loss 0.21239863336086273 gen loss 0.897787868976593\n",
      "disc loss 0.3045613169670105 gen loss 1.0846872329711914\n",
      "disc loss 0.3019101619720459 gen loss 1.2580466270446777\n",
      "disc loss 0.3475349545478821 gen loss 0.890459418296814\n",
      "disc loss 0.38640743494033813 gen loss 0.8296271562576294\n",
      "disc loss 0.293893426656723 gen loss 0.7085375785827637\n",
      "disc loss 0.38934481143951416 gen loss 0.8085327744483948\n"
     ]
    },
    {
     "name": "stderr",
     "output_type": "stream",
     "text": [
      "C:\\Users\\canal\\AppData\\Roaming\\Python\\Python38\\site-packages\\numpy\\lib\\function_base.py:2642: RuntimeWarning: invalid value encountered in true_divide\n",
      "  c /= stddev[:, None]\n",
      "C:\\Users\\canal\\AppData\\Roaming\\Python\\Python38\\site-packages\\numpy\\lib\\function_base.py:2643: RuntimeWarning: invalid value encountered in true_divide\n",
      "  c /= stddev[None, :]\n"
     ]
    },
    {
     "name": "stdout",
     "output_type": "stream",
     "text": [
      "#========== evaluating for epoch 84 ==========#\n",
      ">>> MMD | abs(D_Entropy) | abs(D_Distance) | Pearson Corr \n",
      "0.089595 , 0.020529 , 0.014635 , nan\n",
      "# ================== Sampling 500 sequences at epoch 84 ================== #\n",
      "The loci with percentage of gap >= 95% in the cleaned MSA: \n",
      " [0, 1, 25, 26, 27, 28, 29, 30, 31, 32, 33, 34, 35, 36, 37, 38, 39, 40, 41, 42, 43, 44, 45, 46, 47, 219]\n",
      "Their percentage gap are:\n",
      " [99.6, 99.4, 99.4, 99.4, 100.0, 99.8, 99.6, 99.4, 99.4, 99.6, 99.8, 99.6, 99.8, 99.8, 99.8, 100.0, 98.8, 99.0, 99.6, 99.0, 99.6, 99.4, 98.8, 99.2, 97.8, 100.0]\n",
      "# ====================================================== #\n",
      "disc loss 0.41877275705337524 gen loss 0.9958739876747131\n",
      "disc loss 0.47974109649658203 gen loss 0.7129530310630798\n",
      "disc loss 0.4731958210468292 gen loss 1.1819796562194824\n",
      "disc loss 0.38744378089904785 gen loss 1.1366829872131348\n",
      "disc loss 0.4252031445503235 gen loss 1.1504895687103271\n",
      "disc loss 0.39332371950149536 gen loss 0.8363731503486633\n",
      "disc loss 0.37283360958099365 gen loss 0.8854000568389893\n",
      "disc loss 0.35775700211524963 gen loss 0.8022695183753967\n"
     ]
    },
    {
     "name": "stderr",
     "output_type": "stream",
     "text": [
      "C:\\Users\\canal\\AppData\\Roaming\\Python\\Python38\\site-packages\\numpy\\lib\\function_base.py:2642: RuntimeWarning: invalid value encountered in true_divide\n",
      "  c /= stddev[:, None]\n",
      "C:\\Users\\canal\\AppData\\Roaming\\Python\\Python38\\site-packages\\numpy\\lib\\function_base.py:2643: RuntimeWarning: invalid value encountered in true_divide\n",
      "  c /= stddev[None, :]\n"
     ]
    },
    {
     "name": "stdout",
     "output_type": "stream",
     "text": [
      "#========== evaluating for epoch 86 ==========#\n",
      ">>> MMD | abs(D_Entropy) | abs(D_Distance) | Pearson Corr \n",
      "0.08352 , 0.024454 , 0.044721 , nan\n",
      "# ================== Sampling 500 sequences at epoch 86 ================== #\n",
      "The loci with percentage of gap >= 95% in the cleaned MSA: \n",
      " [0, 1, 25, 26, 27, 28, 29, 30, 31, 32, 33, 34, 35, 36, 37, 38, 39, 40, 41, 42, 43, 44, 45, 46, 47, 48, 219]\n",
      "Their percentage gap are:\n",
      " [100.0, 100.0, 99.8, 100.0, 100.0, 100.0, 100.0, 100.0, 100.0, 100.0, 100.0, 100.0, 100.0, 100.0, 100.0, 100.0, 100.0, 100.0, 100.0, 100.0, 99.8, 100.0, 99.8, 100.0, 100.0, 98.0, 100.0]\n",
      "# ====================================================== #\n",
      "disc loss 0.30840176343917847 gen loss 1.3250994682312012\n",
      "disc loss 0.3453201353549957 gen loss 0.8851729035377502\n",
      "disc loss 0.44164079427719116 gen loss 1.085289478302002\n",
      "disc loss 0.26719677448272705 gen loss 1.0569469928741455\n",
      "disc loss 0.3977104127407074 gen loss 0.9310904145240784\n",
      "disc loss 0.362251341342926 gen loss 0.8716652393341064\n",
      "disc loss 0.6308010816574097 gen loss 0.8942263126373291\n",
      "disc loss 0.36295223236083984 gen loss 1.075042486190796\n"
     ]
    },
    {
     "name": "stderr",
     "output_type": "stream",
     "text": [
      "C:\\Users\\canal\\AppData\\Roaming\\Python\\Python38\\site-packages\\numpy\\lib\\function_base.py:2642: RuntimeWarning: invalid value encountered in true_divide\n",
      "  c /= stddev[:, None]\n",
      "C:\\Users\\canal\\AppData\\Roaming\\Python\\Python38\\site-packages\\numpy\\lib\\function_base.py:2643: RuntimeWarning: invalid value encountered in true_divide\n",
      "  c /= stddev[None, :]\n"
     ]
    },
    {
     "name": "stdout",
     "output_type": "stream",
     "text": [
      "#========== evaluating for epoch 88 ==========#\n",
      ">>> MMD | abs(D_Entropy) | abs(D_Distance) | Pearson Corr \n",
      "0.086777 , 0.022094 , 0.041708 , nan\n",
      "# ================== Sampling 500 sequences at epoch 88 ================== #\n",
      "The loci with percentage of gap >= 95% in the cleaned MSA: \n",
      " [0, 1, 25, 26, 27, 28, 29, 30, 31, 32, 33, 34, 35, 36, 37, 38, 39, 40, 41, 42, 43, 44, 45, 46, 47, 48, 219]\n",
      "Their percentage gap are:\n",
      " [100.0, 100.0, 99.0, 100.0, 100.0, 99.8, 100.0, 100.0, 100.0, 99.8, 100.0, 99.8, 100.0, 100.0, 100.0, 100.0, 100.0, 100.0, 99.8, 99.8, 100.0, 100.0, 98.8, 99.4, 100.0, 99.6, 100.0]\n",
      "# ====================================================== #\n",
      "disc loss 0.37824055552482605 gen loss 1.2957139015197754\n",
      "disc loss 0.35604697465896606 gen loss 1.0013296604156494\n",
      "disc loss 0.39859339594841003 gen loss 0.9642646312713623\n",
      "disc loss 0.4360526204109192 gen loss 1.2031148672103882\n",
      "disc loss 0.42706215381622314 gen loss 1.0080949068069458\n",
      "disc loss 0.4377421438694 gen loss 1.1215091943740845\n",
      "disc loss 0.3956890106201172 gen loss 0.9043430089950562\n",
      "disc loss 0.3983488380908966 gen loss 0.9538630247116089\n"
     ]
    },
    {
     "name": "stderr",
     "output_type": "stream",
     "text": [
      "C:\\Users\\canal\\AppData\\Roaming\\Python\\Python38\\site-packages\\numpy\\lib\\function_base.py:2642: RuntimeWarning: invalid value encountered in true_divide\n",
      "  c /= stddev[:, None]\n",
      "C:\\Users\\canal\\AppData\\Roaming\\Python\\Python38\\site-packages\\numpy\\lib\\function_base.py:2643: RuntimeWarning: invalid value encountered in true_divide\n",
      "  c /= stddev[None, :]\n"
     ]
    },
    {
     "name": "stdout",
     "output_type": "stream",
     "text": [
      "#========== evaluating for epoch 90 ==========#\n",
      ">>> MMD | abs(D_Entropy) | abs(D_Distance) | Pearson Corr \n",
      "0.085469 , 0.021391 , 0.032936 , nan\n",
      "# ================== Sampling 500 sequences at epoch 90 ================== #\n",
      "The loci with percentage of gap >= 95% in the cleaned MSA: \n",
      " [0, 1, 25, 26, 27, 28, 29, 30, 31, 32, 33, 34, 35, 36, 37, 38, 39, 40, 41, 42, 43, 44, 45, 46, 47, 48, 219]\n",
      "Their percentage gap are:\n",
      " [100.0, 100.0, 100.0, 99.8, 100.0, 99.8, 100.0, 99.6, 99.8, 99.8, 100.0, 99.8, 100.0, 100.0, 100.0, 99.8, 99.8, 99.4, 99.8, 100.0, 99.8, 99.6, 98.6, 97.0, 99.2, 99.4, 99.8]\n",
      "# ====================================================== #\n",
      "disc loss 0.390613317489624 gen loss 1.0528538227081299\n",
      "disc loss 0.43423497676849365 gen loss 0.810293436050415\n",
      "disc loss 0.42937272787094116 gen loss 0.935139000415802\n",
      "disc loss 0.3565795421600342 gen loss 1.1974422931671143\n",
      "disc loss 0.39023709297180176 gen loss 1.120371699333191\n",
      "disc loss 0.40668901801109314 gen loss 0.9731749296188354\n",
      "disc loss 0.4069115221500397 gen loss 1.2025514841079712\n",
      "disc loss 0.3954557180404663 gen loss 0.8046716451644897\n"
     ]
    },
    {
     "name": "stderr",
     "output_type": "stream",
     "text": [
      "C:\\Users\\canal\\AppData\\Roaming\\Python\\Python38\\site-packages\\numpy\\lib\\function_base.py:2642: RuntimeWarning: invalid value encountered in true_divide\n",
      "  c /= stddev[:, None]\n",
      "C:\\Users\\canal\\AppData\\Roaming\\Python\\Python38\\site-packages\\numpy\\lib\\function_base.py:2643: RuntimeWarning: invalid value encountered in true_divide\n",
      "  c /= stddev[None, :]\n"
     ]
    },
    {
     "name": "stdout",
     "output_type": "stream",
     "text": [
      "#========== evaluating for epoch 92 ==========#\n",
      ">>> MMD | abs(D_Entropy) | abs(D_Distance) | Pearson Corr \n",
      "0.077836 , 0.021271 , 0.031353 , nan\n",
      "# ================== Sampling 500 sequences at epoch 92 ================== #\n",
      "The loci with percentage of gap >= 95% in the cleaned MSA: \n",
      " [0, 1, 25, 26, 27, 28, 29, 30, 31, 32, 33, 34, 35, 36, 37, 38, 39, 40, 41, 42, 43, 44, 45, 46, 47, 48, 219]\n",
      "Their percentage gap are:\n",
      " [100.0, 99.8, 99.8, 99.6, 99.8, 99.8, 100.0, 100.0, 100.0, 100.0, 100.0, 99.8, 100.0, 100.0, 100.0, 99.8, 100.0, 100.0, 100.0, 100.0, 99.4, 99.6, 99.6, 99.2, 100.0, 98.8, 100.0]\n",
      "# ====================================================== #\n",
      "disc loss 0.3741718828678131 gen loss 1.211801290512085\n",
      "disc loss 0.383009672164917 gen loss 1.2307054996490479\n",
      "disc loss 0.38072893023490906 gen loss 1.0369617938995361\n",
      "disc loss 0.4129197299480438 gen loss 0.9130457043647766\n",
      "disc loss 0.34636154770851135 gen loss 1.1948548555374146\n",
      "disc loss 0.37757623195648193 gen loss 0.704412579536438\n",
      "disc loss 0.3858988583087921 gen loss 0.9726914167404175\n",
      "disc loss 0.35653847455978394 gen loss 0.918476939201355\n"
     ]
    },
    {
     "name": "stderr",
     "output_type": "stream",
     "text": [
      "C:\\Users\\canal\\AppData\\Roaming\\Python\\Python38\\site-packages\\numpy\\lib\\function_base.py:2642: RuntimeWarning: invalid value encountered in true_divide\n",
      "  c /= stddev[:, None]\n",
      "C:\\Users\\canal\\AppData\\Roaming\\Python\\Python38\\site-packages\\numpy\\lib\\function_base.py:2643: RuntimeWarning: invalid value encountered in true_divide\n",
      "  c /= stddev[None, :]\n"
     ]
    },
    {
     "name": "stdout",
     "output_type": "stream",
     "text": [
      "#========== evaluating for epoch 94 ==========#\n",
      ">>> MMD | abs(D_Entropy) | abs(D_Distance) | Pearson Corr \n",
      "0.085917 , 0.023264 , 0.025759 , nan\n",
      "# ================== Sampling 500 sequences at epoch 94 ================== #\n",
      "The loci with percentage of gap >= 95% in the cleaned MSA: \n",
      " [0, 1, 25, 26, 27, 28, 29, 30, 31, 32, 33, 34, 35, 36, 37, 38, 39, 40, 41, 42, 43, 44, 45, 46, 47, 48, 219]\n",
      "Their percentage gap are:\n",
      " [100.0, 100.0, 100.0, 100.0, 100.0, 99.8, 99.8, 100.0, 100.0, 99.8, 100.0, 100.0, 100.0, 100.0, 100.0, 100.0, 100.0, 100.0, 100.0, 99.8, 99.8, 99.6, 99.8, 99.8, 99.6, 97.6, 100.0]\n",
      "# ====================================================== #\n",
      "disc loss 0.42107778787612915 gen loss 1.0319123268127441\n",
      "disc loss 0.4987555146217346 gen loss 1.2731003761291504\n",
      "disc loss 0.32578766345977783 gen loss 1.1313345432281494\n",
      "disc loss 0.2611198425292969 gen loss 1.075531244277954\n",
      "disc loss 0.3714878559112549 gen loss 0.8324410319328308\n",
      "disc loss 0.35194605588912964 gen loss 1.0305207967758179\n",
      "disc loss 0.3871770203113556 gen loss 1.2339712381362915\n",
      "disc loss 0.34223657846450806 gen loss 0.8872718811035156\n"
     ]
    },
    {
     "name": "stderr",
     "output_type": "stream",
     "text": [
      "C:\\Users\\canal\\AppData\\Roaming\\Python\\Python38\\site-packages\\numpy\\lib\\function_base.py:2642: RuntimeWarning: invalid value encountered in true_divide\n",
      "  c /= stddev[:, None]\n",
      "C:\\Users\\canal\\AppData\\Roaming\\Python\\Python38\\site-packages\\numpy\\lib\\function_base.py:2643: RuntimeWarning: invalid value encountered in true_divide\n",
      "  c /= stddev[None, :]\n"
     ]
    },
    {
     "name": "stdout",
     "output_type": "stream",
     "text": [
      "#========== evaluating for epoch 96 ==========#\n",
      ">>> MMD | abs(D_Entropy) | abs(D_Distance) | Pearson Corr \n",
      "0.090474 , 0.019159 , 0.069597 , nan\n",
      "# ================== Sampling 500 sequences at epoch 96 ================== #\n",
      "The loci with percentage of gap >= 95% in the cleaned MSA: \n",
      " [0, 1, 25, 26, 27, 28, 29, 30, 31, 32, 33, 34, 35, 36, 37, 38, 39, 40, 41, 42, 43, 44, 45, 46, 47, 219]\n",
      "Their percentage gap are:\n",
      " [98.0, 98.4, 98.6, 95.6, 95.6, 97.8, 96.6, 97.4, 97.8, 98.2, 97.0, 97.0, 96.4, 96.2, 97.0, 97.4, 96.8, 96.2, 96.0, 97.2, 97.2, 95.2, 96.2, 95.2, 95.0, 98.4]\n",
      "# ====================================================== #\n",
      "disc loss 0.39986011385917664 gen loss 1.2535858154296875\n",
      "disc loss 0.43693897128105164 gen loss 1.2361335754394531\n",
      "disc loss 0.3433682918548584 gen loss 1.005527138710022\n",
      "disc loss 0.4073520600795746 gen loss 0.9997235536575317\n",
      "disc loss 0.3454629182815552 gen loss 1.309520959854126\n",
      "disc loss 0.49443918466567993 gen loss 1.0508298873901367\n",
      "disc loss 0.4800630807876587 gen loss 1.0306122303009033\n",
      "disc loss 0.36504727602005005 gen loss 1.0043772459030151\n"
     ]
    },
    {
     "name": "stderr",
     "output_type": "stream",
     "text": [
      "C:\\Users\\canal\\AppData\\Roaming\\Python\\Python38\\site-packages\\numpy\\lib\\function_base.py:2642: RuntimeWarning: invalid value encountered in true_divide\n",
      "  c /= stddev[:, None]\n",
      "C:\\Users\\canal\\AppData\\Roaming\\Python\\Python38\\site-packages\\numpy\\lib\\function_base.py:2643: RuntimeWarning: invalid value encountered in true_divide\n",
      "  c /= stddev[None, :]\n"
     ]
    },
    {
     "name": "stdout",
     "output_type": "stream",
     "text": [
      "#========== evaluating for epoch 98 ==========#\n",
      ">>> MMD | abs(D_Entropy) | abs(D_Distance) | Pearson Corr \n",
      "0.077824 , 0.019622 , 0.01913 , nan\n",
      "# ================== Sampling 500 sequences at epoch 98 ================== #\n",
      "The loci with percentage of gap >= 95% in the cleaned MSA: \n",
      " [0, 1, 25, 26, 27, 28, 29, 30, 31, 32, 33, 34, 35, 36, 37, 38, 39, 40, 41, 42, 43, 44, 45, 46, 47, 48, 219]\n",
      "Their percentage gap are:\n",
      " [100.0, 99.8, 99.8, 99.2, 99.4, 99.2, 100.0, 99.8, 99.4, 99.8, 99.2, 99.6, 99.4, 99.6, 99.6, 99.2, 99.6, 99.6, 99.0, 99.6, 99.8, 99.0, 99.6, 99.2, 99.2, 99.4, 100.0]\n",
      "# ====================================================== #\n",
      "disc loss 0.3745551109313965 gen loss 0.9459210634231567\n",
      "disc loss 0.39761170744895935 gen loss 1.2362313270568848\n",
      "disc loss 0.3605393171310425 gen loss 1.1304242610931396\n",
      "disc loss 0.38362979888916016 gen loss 1.1620978116989136\n",
      "disc loss 0.3924742043018341 gen loss 0.9329580068588257\n",
      "disc loss 0.2953937351703644 gen loss 0.9875156879425049\n",
      "disc loss 0.4241003394126892 gen loss 0.8127188682556152\n",
      "disc loss 0.35691606998443604 gen loss 0.8373183012008667\n"
     ]
    },
    {
     "name": "stderr",
     "output_type": "stream",
     "text": [
      "C:\\Users\\canal\\AppData\\Roaming\\Python\\Python38\\site-packages\\numpy\\lib\\function_base.py:2642: RuntimeWarning: invalid value encountered in true_divide\n",
      "  c /= stddev[:, None]\n",
      "C:\\Users\\canal\\AppData\\Roaming\\Python\\Python38\\site-packages\\numpy\\lib\\function_base.py:2643: RuntimeWarning: invalid value encountered in true_divide\n",
      "  c /= stddev[None, :]\n"
     ]
    },
    {
     "name": "stdout",
     "output_type": "stream",
     "text": [
      "#========== evaluating for epoch 100 ==========#\n",
      ">>> MMD | abs(D_Entropy) | abs(D_Distance) | Pearson Corr \n",
      "0.079419 , 0.020213 , 0.043472 , nan\n",
      "# ================== Sampling 500 sequences at epoch 100 ================== #\n",
      "The loci with percentage of gap >= 95% in the cleaned MSA: \n",
      " [0, 1, 25, 26, 27, 28, 29, 30, 31, 32, 33, 34, 35, 36, 37, 38, 39, 40, 41, 42, 43, 44, 45, 46, 47, 48, 219]\n",
      "Their percentage gap are:\n",
      " [100.0, 100.0, 100.0, 100.0, 100.0, 100.0, 100.0, 100.0, 100.0, 100.0, 100.0, 100.0, 100.0, 100.0, 100.0, 100.0, 100.0, 100.0, 100.0, 100.0, 99.8, 99.8, 100.0, 100.0, 99.8, 99.6, 100.0]\n",
      "# ====================================================== #\n",
      "disc loss 0.2928207516670227 gen loss 1.0223233699798584\n",
      "disc loss 0.30346405506134033 gen loss 0.9018471837043762\n",
      "disc loss 0.43918293714523315 gen loss 1.2631690502166748\n",
      "disc loss 0.2835506796836853 gen loss 0.9753690958023071\n",
      "disc loss 0.2997063398361206 gen loss 1.1512935161590576\n",
      "disc loss 0.38541528582572937 gen loss 0.7432093024253845\n",
      "disc loss 0.3947664499282837 gen loss 0.9020021557807922\n",
      "disc loss 0.4667500853538513 gen loss 1.180456280708313\n"
     ]
    },
    {
     "name": "stderr",
     "output_type": "stream",
     "text": [
      "C:\\Users\\canal\\AppData\\Roaming\\Python\\Python38\\site-packages\\numpy\\lib\\function_base.py:2642: RuntimeWarning: invalid value encountered in true_divide\n",
      "  c /= stddev[:, None]\n",
      "C:\\Users\\canal\\AppData\\Roaming\\Python\\Python38\\site-packages\\numpy\\lib\\function_base.py:2643: RuntimeWarning: invalid value encountered in true_divide\n",
      "  c /= stddev[None, :]\n"
     ]
    },
    {
     "name": "stdout",
     "output_type": "stream",
     "text": [
      "#========== evaluating for epoch 102 ==========#\n",
      ">>> MMD | abs(D_Entropy) | abs(D_Distance) | Pearson Corr \n",
      "0.080681 , 0.019072 , 0.032267 , nan\n",
      "# ================== Sampling 500 sequences at epoch 102 ================== #\n",
      "The loci with percentage of gap >= 95% in the cleaned MSA: \n",
      " [0, 1, 25, 26, 27, 28, 29, 30, 31, 32, 33, 34, 35, 36, 37, 38, 39, 40, 41, 42, 43, 44, 45, 46, 47, 48, 219]\n",
      "Their percentage gap are:\n",
      " [100.0, 100.0, 100.0, 99.8, 99.6, 100.0, 100.0, 100.0, 100.0, 100.0, 100.0, 100.0, 99.8, 99.6, 100.0, 100.0, 100.0, 100.0, 99.6, 99.8, 100.0, 99.8, 100.0, 99.8, 99.6, 98.8, 100.0]\n",
      "# ====================================================== #\n",
      "disc loss 0.34266483783721924 gen loss 1.2093740701675415\n",
      "disc loss 0.3464088439941406 gen loss 1.1758475303649902\n",
      "disc loss 0.5255610346794128 gen loss 1.2720284461975098\n",
      "disc loss 0.3994120657444 gen loss 1.1302506923675537\n",
      "disc loss 0.43688637018203735 gen loss 1.1156980991363525\n",
      "disc loss 0.31301435828208923 gen loss 1.2949353456497192\n",
      "disc loss 0.3519972264766693 gen loss 0.9884160757064819\n",
      "disc loss 0.3748629689216614 gen loss 1.1454395055770874\n"
     ]
    },
    {
     "name": "stderr",
     "output_type": "stream",
     "text": [
      "C:\\Users\\canal\\AppData\\Roaming\\Python\\Python38\\site-packages\\numpy\\lib\\function_base.py:2642: RuntimeWarning: invalid value encountered in true_divide\n",
      "  c /= stddev[:, None]\n",
      "C:\\Users\\canal\\AppData\\Roaming\\Python\\Python38\\site-packages\\numpy\\lib\\function_base.py:2643: RuntimeWarning: invalid value encountered in true_divide\n",
      "  c /= stddev[None, :]\n"
     ]
    },
    {
     "name": "stdout",
     "output_type": "stream",
     "text": [
      "#========== evaluating for epoch 104 ==========#\n",
      ">>> MMD | abs(D_Entropy) | abs(D_Distance) | Pearson Corr \n",
      "0.079411 , 0.022723 , 0.042314 , nan\n",
      "# ================== Sampling 500 sequences at epoch 104 ================== #\n",
      "The loci with percentage of gap >= 95% in the cleaned MSA: \n",
      " [0, 1, 25, 26, 27, 28, 29, 30, 31, 32, 33, 34, 35, 36, 37, 38, 39, 40, 41, 42, 43, 44, 45, 46, 47, 48, 219]\n",
      "Their percentage gap are:\n",
      " [100.0, 100.0, 100.0, 99.8, 99.6, 100.0, 100.0, 99.6, 100.0, 100.0, 99.8, 100.0, 99.8, 99.6, 100.0, 99.6, 100.0, 100.0, 99.4, 100.0, 100.0, 99.8, 99.4, 99.6, 99.6, 98.4, 100.0]\n",
      "# ====================================================== #\n",
      "disc loss 0.41950222849845886 gen loss 0.8760520815849304\n",
      "disc loss 0.43340444564819336 gen loss 0.8752965927124023\n",
      "disc loss 0.2695099115371704 gen loss 0.941859245300293\n",
      "disc loss 0.41408464312553406 gen loss 1.3179852962493896\n",
      "disc loss 0.40661489963531494 gen loss 0.7351929545402527\n",
      "disc loss 0.3834734857082367 gen loss 1.2043890953063965\n",
      "disc loss 0.414842426776886 gen loss 1.1977735757827759\n",
      "disc loss 0.4566110670566559 gen loss 1.1075165271759033\n"
     ]
    },
    {
     "name": "stderr",
     "output_type": "stream",
     "text": [
      "C:\\Users\\canal\\AppData\\Roaming\\Python\\Python38\\site-packages\\numpy\\lib\\function_base.py:2642: RuntimeWarning: invalid value encountered in true_divide\n",
      "  c /= stddev[:, None]\n",
      "C:\\Users\\canal\\AppData\\Roaming\\Python\\Python38\\site-packages\\numpy\\lib\\function_base.py:2643: RuntimeWarning: invalid value encountered in true_divide\n",
      "  c /= stddev[None, :]\n"
     ]
    },
    {
     "name": "stdout",
     "output_type": "stream",
     "text": [
      "#========== evaluating for epoch 106 ==========#\n",
      ">>> MMD | abs(D_Entropy) | abs(D_Distance) | Pearson Corr \n",
      "0.077651 , 0.020052 , 0.030582 , nan\n",
      "# ================== Sampling 500 sequences at epoch 106 ================== #\n",
      "The loci with percentage of gap >= 95% in the cleaned MSA: \n",
      " [0, 1, 25, 26, 27, 28, 29, 30, 31, 32, 33, 34, 35, 36, 37, 38, 39, 40, 41, 42, 43, 44, 45, 46, 47, 48, 219]\n",
      "Their percentage gap are:\n",
      " [100.0, 100.0, 100.0, 100.0, 100.0, 100.0, 100.0, 99.8, 100.0, 100.0, 99.8, 100.0, 100.0, 100.0, 99.8, 100.0, 100.0, 100.0, 100.0, 100.0, 99.8, 99.8, 99.6, 100.0, 98.4, 98.6, 99.8]\n",
      "# ====================================================== #\n",
      "disc loss 0.4096558094024658 gen loss 0.8939177989959717\n",
      "disc loss 0.2750104069709778 gen loss 0.8981673121452332\n",
      "disc loss 0.5364081263542175 gen loss 0.8990278840065002\n",
      "disc loss 0.3885260224342346 gen loss 0.9124003648757935\n",
      "disc loss 0.3439829349517822 gen loss 1.0262691974639893\n",
      "disc loss 0.3862469494342804 gen loss 1.2665563821792603\n",
      "disc loss 0.37790387868881226 gen loss 0.9276005029678345\n",
      "disc loss 0.42439162731170654 gen loss 1.2820303440093994\n"
     ]
    },
    {
     "name": "stderr",
     "output_type": "stream",
     "text": [
      "C:\\Users\\canal\\AppData\\Roaming\\Python\\Python38\\site-packages\\numpy\\lib\\function_base.py:2642: RuntimeWarning: invalid value encountered in true_divide\n",
      "  c /= stddev[:, None]\n",
      "C:\\Users\\canal\\AppData\\Roaming\\Python\\Python38\\site-packages\\numpy\\lib\\function_base.py:2643: RuntimeWarning: invalid value encountered in true_divide\n",
      "  c /= stddev[None, :]\n"
     ]
    },
    {
     "name": "stdout",
     "output_type": "stream",
     "text": [
      "#========== evaluating for epoch 108 ==========#\n",
      ">>> MMD | abs(D_Entropy) | abs(D_Distance) | Pearson Corr \n",
      "0.080465 , 0.025617 , 0.038558 , nan\n",
      "# ================== Sampling 500 sequences at epoch 108 ================== #\n",
      "The loci with percentage of gap >= 95% in the cleaned MSA: \n",
      " [0, 1, 25, 26, 27, 28, 29, 30, 31, 32, 33, 34, 35, 36, 37, 38, 39, 40, 41, 42, 43, 44, 45, 46, 47, 48, 219]\n",
      "Their percentage gap are:\n",
      " [100.0, 100.0, 100.0, 99.8, 99.8, 100.0, 100.0, 100.0, 100.0, 100.0, 99.8, 100.0, 99.8, 99.8, 100.0, 99.8, 100.0, 99.6, 99.8, 100.0, 99.6, 99.8, 99.8, 99.6, 99.0, 97.6, 100.0]\n",
      "# ====================================================== #\n",
      "disc loss 0.3142297863960266 gen loss 1.1273964643478394\n",
      "disc loss 0.3627285361289978 gen loss 0.9961215257644653\n",
      "disc loss 0.3134883642196655 gen loss 1.1854851245880127\n",
      "disc loss 0.3627472519874573 gen loss 1.2458724975585938\n",
      "disc loss 0.32448774576187134 gen loss 1.1709465980529785\n",
      "disc loss 0.37896817922592163 gen loss 1.2122368812561035\n",
      "disc loss 0.3421807885169983 gen loss 0.9424649477005005\n",
      "disc loss 0.3916415572166443 gen loss 1.0168648958206177\n"
     ]
    },
    {
     "name": "stderr",
     "output_type": "stream",
     "text": [
      "C:\\Users\\canal\\AppData\\Roaming\\Python\\Python38\\site-packages\\numpy\\lib\\function_base.py:2642: RuntimeWarning: invalid value encountered in true_divide\n",
      "  c /= stddev[:, None]\n",
      "C:\\Users\\canal\\AppData\\Roaming\\Python\\Python38\\site-packages\\numpy\\lib\\function_base.py:2643: RuntimeWarning: invalid value encountered in true_divide\n",
      "  c /= stddev[None, :]\n"
     ]
    },
    {
     "name": "stdout",
     "output_type": "stream",
     "text": [
      "#========== evaluating for epoch 110 ==========#\n",
      ">>> MMD | abs(D_Entropy) | abs(D_Distance) | Pearson Corr \n",
      "0.080042 , 0.020518 , 0.0048054 , nan\n",
      "# ================== Sampling 500 sequences at epoch 110 ================== #\n",
      "The loci with percentage of gap >= 95% in the cleaned MSA: \n",
      " [0, 1, 25, 26, 27, 28, 29, 30, 31, 32, 33, 34, 35, 36, 37, 38, 39, 40, 41, 42, 43, 44, 45, 46, 48, 219]\n",
      "Their percentage gap are:\n",
      " [100.0, 99.6, 98.2, 99.6, 99.6, 99.8, 99.4, 99.6, 99.4, 98.8, 99.4, 99.2, 99.2, 99.6, 98.8, 99.2, 99.4, 98.8, 98.6, 99.2, 96.6, 98.0, 96.6, 98.0, 95.6, 99.8]\n",
      "# ====================================================== #\n",
      "disc loss 0.3647616505622864 gen loss 1.1479456424713135\n",
      "disc loss 0.4020010232925415 gen loss 0.7711911201477051\n",
      "disc loss 0.4024791419506073 gen loss 0.7053396701812744\n",
      "disc loss 0.3772696852684021 gen loss 1.364776611328125\n",
      "disc loss 0.385866641998291 gen loss 1.1784725189208984\n",
      "disc loss 0.30659380555152893 gen loss 1.1656622886657715\n",
      "disc loss 0.36336830258369446 gen loss 0.8285894393920898\n",
      "disc loss 0.3429834246635437 gen loss 0.9919595122337341\n"
     ]
    },
    {
     "name": "stderr",
     "output_type": "stream",
     "text": [
      "C:\\Users\\canal\\AppData\\Roaming\\Python\\Python38\\site-packages\\numpy\\lib\\function_base.py:2642: RuntimeWarning: invalid value encountered in true_divide\n",
      "  c /= stddev[:, None]\n",
      "C:\\Users\\canal\\AppData\\Roaming\\Python\\Python38\\site-packages\\numpy\\lib\\function_base.py:2643: RuntimeWarning: invalid value encountered in true_divide\n",
      "  c /= stddev[None, :]\n"
     ]
    },
    {
     "name": "stdout",
     "output_type": "stream",
     "text": [
      "#========== evaluating for epoch 112 ==========#\n",
      ">>> MMD | abs(D_Entropy) | abs(D_Distance) | Pearson Corr \n",
      "0.081043 , 0.027201 , 0.049029 , nan\n",
      "# ================== Sampling 500 sequences at epoch 112 ================== #\n",
      "The loci with percentage of gap >= 95% in the cleaned MSA: \n",
      " [0, 1, 25, 26, 27, 28, 29, 30, 31, 32, 33, 34, 35, 36, 37, 38, 39, 40, 41, 42, 43, 44, 45, 46, 47, 48, 219]\n",
      "Their percentage gap are:\n",
      " [100.0, 100.0, 100.0, 100.0, 100.0, 100.0, 100.0, 100.0, 100.0, 100.0, 100.0, 99.8, 100.0, 100.0, 100.0, 100.0, 100.0, 100.0, 100.0, 100.0, 100.0, 100.0, 99.8, 100.0, 99.4, 99.6, 100.0]\n",
      "# ====================================================== #\n",
      "disc loss 0.33983856439590454 gen loss 1.047719955444336\n",
      "disc loss 0.33520251512527466 gen loss 1.0266910791397095\n",
      "disc loss 0.40436702966690063 gen loss 1.0751513242721558\n",
      "disc loss 0.3650217652320862 gen loss 1.2187070846557617\n",
      "disc loss 0.37353259325027466 gen loss 0.9984155297279358\n",
      "disc loss 0.3819453716278076 gen loss 0.9874692559242249\n",
      "disc loss 0.3719743490219116 gen loss 1.0078020095825195\n",
      "disc loss 0.42584431171417236 gen loss 1.1953022480010986\n"
     ]
    },
    {
     "name": "stderr",
     "output_type": "stream",
     "text": [
      "C:\\Users\\canal\\AppData\\Roaming\\Python\\Python38\\site-packages\\numpy\\lib\\function_base.py:2642: RuntimeWarning: invalid value encountered in true_divide\n",
      "  c /= stddev[:, None]\n",
      "C:\\Users\\canal\\AppData\\Roaming\\Python\\Python38\\site-packages\\numpy\\lib\\function_base.py:2643: RuntimeWarning: invalid value encountered in true_divide\n",
      "  c /= stddev[None, :]\n"
     ]
    },
    {
     "name": "stdout",
     "output_type": "stream",
     "text": [
      "#========== evaluating for epoch 114 ==========#\n",
      ">>> MMD | abs(D_Entropy) | abs(D_Distance) | Pearson Corr \n",
      "0.07526 , 0.020882 , 0.037463 , nan\n",
      "# ================== Sampling 500 sequences at epoch 114 ================== #\n",
      "The loci with percentage of gap >= 95% in the cleaned MSA: \n",
      " [0, 1, 25, 26, 27, 28, 29, 30, 31, 32, 33, 34, 35, 36, 37, 38, 39, 40, 41, 42, 43, 44, 45, 46, 47, 48, 219]\n",
      "Their percentage gap are:\n",
      " [100.0, 100.0, 100.0, 100.0, 100.0, 100.0, 100.0, 100.0, 100.0, 100.0, 100.0, 100.0, 100.0, 100.0, 100.0, 100.0, 100.0, 99.8, 100.0, 99.8, 99.8, 100.0, 99.8, 99.8, 99.8, 100.0, 99.8]\n",
      "# ====================================================== #\n",
      "disc loss 0.2812589406967163 gen loss 0.9999399781227112\n",
      "disc loss 0.38434773683547974 gen loss 1.1805998086929321\n",
      "disc loss 0.32869207859039307 gen loss 1.1073644161224365\n",
      "disc loss 0.28245246410369873 gen loss 1.0508196353912354\n",
      "disc loss 0.37265250086784363 gen loss 0.967159628868103\n",
      "disc loss 0.33401331305503845 gen loss 1.1003968715667725\n",
      "disc loss 0.2790135443210602 gen loss 1.1557013988494873\n",
      "disc loss 0.32555824518203735 gen loss 0.8468073010444641\n"
     ]
    },
    {
     "name": "stderr",
     "output_type": "stream",
     "text": [
      "C:\\Users\\canal\\AppData\\Roaming\\Python\\Python38\\site-packages\\numpy\\lib\\function_base.py:2642: RuntimeWarning: invalid value encountered in true_divide\n",
      "  c /= stddev[:, None]\n",
      "C:\\Users\\canal\\AppData\\Roaming\\Python\\Python38\\site-packages\\numpy\\lib\\function_base.py:2643: RuntimeWarning: invalid value encountered in true_divide\n",
      "  c /= stddev[None, :]\n"
     ]
    },
    {
     "name": "stdout",
     "output_type": "stream",
     "text": [
      "#========== evaluating for epoch 116 ==========#\n",
      ">>> MMD | abs(D_Entropy) | abs(D_Distance) | Pearson Corr \n",
      "0.081206 , 0.023595 , 0.037145 , nan\n",
      "# ================== Sampling 500 sequences at epoch 116 ================== #\n",
      "The loci with percentage of gap >= 95% in the cleaned MSA: \n",
      " [0, 1, 25, 26, 27, 28, 29, 30, 31, 32, 33, 34, 35, 36, 37, 38, 39, 40, 41, 42, 43, 44, 45, 46, 47, 48, 219]\n",
      "Their percentage gap are:\n",
      " [100.0, 99.8, 100.0, 100.0, 100.0, 100.0, 100.0, 100.0, 100.0, 100.0, 100.0, 100.0, 100.0, 100.0, 100.0, 100.0, 100.0, 100.0, 100.0, 99.8, 99.4, 99.8, 100.0, 99.8, 99.2, 96.8, 100.0]\n",
      "# ====================================================== #\n",
      "disc loss 0.3104410767555237 gen loss 1.2247862815856934\n",
      "disc loss 0.22662347555160522 gen loss 1.087138056755066\n",
      "disc loss 0.333560585975647 gen loss 1.2998113632202148\n",
      "disc loss 0.34019073843955994 gen loss 0.9980485439300537\n",
      "disc loss 0.3431504964828491 gen loss 1.096182107925415\n",
      "disc loss 0.3526856601238251 gen loss 1.0249853134155273\n",
      "disc loss 0.4202869236469269 gen loss 1.232499361038208\n",
      "disc loss 0.3808717429637909 gen loss 0.90948486328125\n"
     ]
    },
    {
     "name": "stderr",
     "output_type": "stream",
     "text": [
      "C:\\Users\\canal\\AppData\\Roaming\\Python\\Python38\\site-packages\\numpy\\lib\\function_base.py:2642: RuntimeWarning: invalid value encountered in true_divide\n",
      "  c /= stddev[:, None]\n",
      "C:\\Users\\canal\\AppData\\Roaming\\Python\\Python38\\site-packages\\numpy\\lib\\function_base.py:2643: RuntimeWarning: invalid value encountered in true_divide\n",
      "  c /= stddev[None, :]\n"
     ]
    },
    {
     "name": "stdout",
     "output_type": "stream",
     "text": [
      "#========== evaluating for epoch 118 ==========#\n",
      ">>> MMD | abs(D_Entropy) | abs(D_Distance) | Pearson Corr \n",
      "0.082693 , 0.023544 , 0.044786 , nan\n",
      "# ================== Sampling 500 sequences at epoch 118 ================== #\n",
      "The loci with percentage of gap >= 95% in the cleaned MSA: \n",
      " [0, 1, 25, 26, 27, 28, 29, 30, 31, 32, 33, 34, 35, 36, 37, 38, 39, 40, 41, 42, 43, 44, 45, 46, 47, 219]\n",
      "Their percentage gap are:\n",
      " [100.0, 100.0, 100.0, 100.0, 100.0, 100.0, 100.0, 100.0, 100.0, 100.0, 100.0, 100.0, 100.0, 100.0, 100.0, 100.0, 100.0, 100.0, 99.8, 100.0, 99.8, 100.0, 99.4, 99.4, 99.6, 100.0]\n",
      "# ====================================================== #\n",
      "disc loss 0.2812499403953552 gen loss 1.0393335819244385\n",
      "disc loss 0.4160112738609314 gen loss 0.8245238661766052\n",
      "disc loss 0.36239320039749146 gen loss 1.140324354171753\n",
      "disc loss 0.38230055570602417 gen loss 0.9984403848648071\n",
      "disc loss 0.35271337628364563 gen loss 0.738537609577179\n",
      "disc loss 0.3199828863143921 gen loss 1.2900499105453491\n",
      "disc loss 0.4636503756046295 gen loss 1.1878076791763306\n",
      "disc loss 0.30563271045684814 gen loss 0.8405988216400146\n"
     ]
    },
    {
     "name": "stderr",
     "output_type": "stream",
     "text": [
      "C:\\Users\\canal\\AppData\\Roaming\\Python\\Python38\\site-packages\\numpy\\lib\\function_base.py:2642: RuntimeWarning: invalid value encountered in true_divide\n",
      "  c /= stddev[:, None]\n",
      "C:\\Users\\canal\\AppData\\Roaming\\Python\\Python38\\site-packages\\numpy\\lib\\function_base.py:2643: RuntimeWarning: invalid value encountered in true_divide\n",
      "  c /= stddev[None, :]\n"
     ]
    },
    {
     "name": "stdout",
     "output_type": "stream",
     "text": [
      "#========== evaluating for epoch 120 ==========#\n",
      ">>> MMD | abs(D_Entropy) | abs(D_Distance) | Pearson Corr \n",
      "0.079671 , 0.021759 , 0.034008 , nan\n",
      "# ================== Sampling 500 sequences at epoch 120 ================== #\n",
      "The loci with percentage of gap >= 95% in the cleaned MSA: \n",
      " [0, 1, 25, 26, 27, 28, 29, 30, 31, 32, 33, 34, 35, 36, 37, 38, 39, 40, 41, 42, 43, 44, 45, 46, 47, 48, 219]\n",
      "Their percentage gap are:\n",
      " [100.0, 100.0, 100.0, 100.0, 100.0, 100.0, 100.0, 100.0, 100.0, 100.0, 100.0, 100.0, 100.0, 100.0, 100.0, 100.0, 99.8, 100.0, 100.0, 100.0, 100.0, 99.6, 100.0, 99.4, 99.6, 98.4, 100.0]\n",
      "# ====================================================== #\n",
      "disc loss 0.29332321882247925 gen loss 1.1069406270980835\n",
      "disc loss 0.2665554881095886 gen loss 1.206243634223938\n",
      "disc loss 0.32773175835609436 gen loss 1.0374951362609863\n",
      "disc loss 0.39272263646125793 gen loss 1.3592109680175781\n",
      "disc loss 0.3682006597518921 gen loss 1.2317655086517334\n",
      "disc loss 0.35226523876190186 gen loss 1.0941309928894043\n",
      "disc loss 0.31193143129348755 gen loss 1.1916382312774658\n",
      "disc loss 0.3864438533782959 gen loss 1.1831002235412598\n"
     ]
    },
    {
     "name": "stderr",
     "output_type": "stream",
     "text": [
      "C:\\Users\\canal\\AppData\\Roaming\\Python\\Python38\\site-packages\\numpy\\lib\\function_base.py:2642: RuntimeWarning: invalid value encountered in true_divide\n",
      "  c /= stddev[:, None]\n",
      "C:\\Users\\canal\\AppData\\Roaming\\Python\\Python38\\site-packages\\numpy\\lib\\function_base.py:2643: RuntimeWarning: invalid value encountered in true_divide\n",
      "  c /= stddev[None, :]\n"
     ]
    },
    {
     "name": "stdout",
     "output_type": "stream",
     "text": [
      "#========== evaluating for epoch 122 ==========#\n",
      ">>> MMD | abs(D_Entropy) | abs(D_Distance) | Pearson Corr \n",
      "0.075646 , 0.023715 , 0.038379 , nan\n",
      "# ================== Sampling 500 sequences at epoch 122 ================== #\n",
      "The loci with percentage of gap >= 95% in the cleaned MSA: \n",
      " [0, 1, 25, 26, 27, 28, 29, 30, 31, 32, 33, 34, 35, 36, 37, 38, 39, 40, 41, 42, 43, 44, 45, 46, 47, 48, 219]\n",
      "Their percentage gap are:\n",
      " [100.0, 99.8, 99.8, 99.8, 100.0, 100.0, 99.8, 100.0, 100.0, 99.6, 99.8, 99.8, 99.6, 100.0, 99.8, 100.0, 99.8, 100.0, 99.8, 100.0, 99.8, 99.6, 99.4, 99.4, 99.8, 99.0, 100.0]\n",
      "# ====================================================== #\n",
      "disc loss 0.24252498149871826 gen loss 1.1229703426361084\n",
      "disc loss 0.3023991584777832 gen loss 0.9645662307739258\n",
      "disc loss 0.2706466317176819 gen loss 1.0958547592163086\n",
      "disc loss 0.3091186285018921 gen loss 1.0097684860229492\n",
      "disc loss 0.30935192108154297 gen loss 1.0485278367996216\n",
      "disc loss 0.29266369342803955 gen loss 1.0128509998321533\n",
      "disc loss 0.34385666251182556 gen loss 1.130927562713623\n",
      "disc loss 0.2146146148443222 gen loss 1.0411945581436157\n"
     ]
    },
    {
     "name": "stderr",
     "output_type": "stream",
     "text": [
      "C:\\Users\\canal\\AppData\\Roaming\\Python\\Python38\\site-packages\\numpy\\lib\\function_base.py:2642: RuntimeWarning: invalid value encountered in true_divide\n",
      "  c /= stddev[:, None]\n",
      "C:\\Users\\canal\\AppData\\Roaming\\Python\\Python38\\site-packages\\numpy\\lib\\function_base.py:2643: RuntimeWarning: invalid value encountered in true_divide\n",
      "  c /= stddev[None, :]\n"
     ]
    },
    {
     "name": "stdout",
     "output_type": "stream",
     "text": [
      "#========== evaluating for epoch 124 ==========#\n",
      ">>> MMD | abs(D_Entropy) | abs(D_Distance) | Pearson Corr \n",
      "0.07618 , 0.025693 , 0.041098 , nan\n",
      "# ================== Sampling 500 sequences at epoch 124 ================== #\n",
      "The loci with percentage of gap >= 95% in the cleaned MSA: \n",
      " [0, 1, 25, 26, 27, 28, 29, 30, 31, 32, 33, 34, 35, 36, 37, 38, 39, 40, 41, 42, 43, 44, 45, 46, 47, 48, 219]\n",
      "Their percentage gap are:\n",
      " [100.0, 100.0, 100.0, 100.0, 100.0, 100.0, 100.0, 100.0, 100.0, 100.0, 100.0, 100.0, 100.0, 100.0, 100.0, 100.0, 100.0, 100.0, 100.0, 100.0, 99.6, 100.0, 100.0, 99.4, 99.2, 99.6, 100.0]\n",
      "# ====================================================== #\n",
      "disc loss 0.3212255835533142 gen loss 1.2222797870635986\n",
      "disc loss 0.3554580807685852 gen loss 1.1290247440338135\n",
      "disc loss 0.27488669753074646 gen loss 1.1249892711639404\n",
      "disc loss 0.32731401920318604 gen loss 1.140753984451294\n",
      "disc loss 0.3625718951225281 gen loss 0.8933326005935669\n",
      "disc loss 0.3796028196811676 gen loss 0.8649956583976746\n",
      "disc loss 0.3646726608276367 gen loss 1.1448092460632324\n",
      "disc loss 0.3708987832069397 gen loss 0.9279152750968933\n"
     ]
    },
    {
     "name": "stderr",
     "output_type": "stream",
     "text": [
      "C:\\Users\\canal\\AppData\\Roaming\\Python\\Python38\\site-packages\\numpy\\lib\\function_base.py:2642: RuntimeWarning: invalid value encountered in true_divide\n",
      "  c /= stddev[:, None]\n",
      "C:\\Users\\canal\\AppData\\Roaming\\Python\\Python38\\site-packages\\numpy\\lib\\function_base.py:2643: RuntimeWarning: invalid value encountered in true_divide\n",
      "  c /= stddev[None, :]\n"
     ]
    },
    {
     "name": "stdout",
     "output_type": "stream",
     "text": [
      "#========== evaluating for epoch 126 ==========#\n",
      ">>> MMD | abs(D_Entropy) | abs(D_Distance) | Pearson Corr \n",
      "0.068618 , 0.021828 , 0.032211 , nan\n",
      "# ================== Sampling 500 sequences at epoch 126 ================== #\n",
      "The loci with percentage of gap >= 95% in the cleaned MSA: \n",
      " [0, 1, 25, 26, 27, 28, 29, 30, 31, 32, 33, 34, 35, 36, 37, 38, 39, 40, 41, 42, 43, 44, 45, 46, 47, 48, 219]\n",
      "Their percentage gap are:\n",
      " [100.0, 100.0, 100.0, 100.0, 99.8, 100.0, 99.8, 100.0, 100.0, 100.0, 100.0, 99.8, 100.0, 100.0, 100.0, 100.0, 99.8, 100.0, 100.0, 100.0, 99.8, 99.8, 99.6, 99.6, 99.0, 99.4, 100.0]\n",
      "# ====================================================== #\n",
      "disc loss 0.34420299530029297 gen loss 1.070367693901062\n",
      "disc loss 0.3566199243068695 gen loss 0.9610157608985901\n",
      "disc loss 0.3507274091243744 gen loss 1.3694486618041992\n",
      "disc loss 0.4027773141860962 gen loss 1.221038579940796\n",
      "disc loss 0.3157317638397217 gen loss 0.9924250841140747\n",
      "disc loss 0.37895798683166504 gen loss 1.1479859352111816\n",
      "disc loss 0.38332536816596985 gen loss 0.9624508619308472\n",
      "disc loss 0.4110724925994873 gen loss 0.8614441752433777\n"
     ]
    },
    {
     "name": "stderr",
     "output_type": "stream",
     "text": [
      "C:\\Users\\canal\\AppData\\Roaming\\Python\\Python38\\site-packages\\numpy\\lib\\function_base.py:2642: RuntimeWarning: invalid value encountered in true_divide\n",
      "  c /= stddev[:, None]\n",
      "C:\\Users\\canal\\AppData\\Roaming\\Python\\Python38\\site-packages\\numpy\\lib\\function_base.py:2643: RuntimeWarning: invalid value encountered in true_divide\n",
      "  c /= stddev[None, :]\n"
     ]
    },
    {
     "name": "stdout",
     "output_type": "stream",
     "text": [
      "#========== evaluating for epoch 128 ==========#\n",
      ">>> MMD | abs(D_Entropy) | abs(D_Distance) | Pearson Corr \n",
      "0.087417 , 0.009633 , 0.081249 , nan\n",
      "# ================== Sampling 500 sequences at epoch 128 ================== #\n",
      "The loci with percentage of gap >= 95% in the cleaned MSA: \n",
      " [0, 1, 25, 26, 27, 28, 29, 30, 31, 32, 33, 34, 35, 36, 37, 38, 39, 40, 42, 44, 219]\n",
      "Their percentage gap are:\n",
      " [99.2, 99.4, 99.4, 98.4, 98.4, 98.2, 99.4, 99.2, 98.0, 98.6, 97.8, 97.4, 98.2, 98.8, 96.8, 96.4, 97.8, 97.4, 95.8, 95.0, 99.4]\n",
      "# ====================================================== #\n",
      "disc loss 0.3718089461326599 gen loss 1.1388328075408936\n",
      "disc loss 0.34469661116600037 gen loss 1.094825267791748\n",
      "disc loss 0.48591989278793335 gen loss 0.8231130838394165\n",
      "disc loss 0.4684807360172272 gen loss 0.9431416988372803\n",
      "disc loss 0.4436471164226532 gen loss 1.1645601987838745\n",
      "disc loss 0.36525601148605347 gen loss 0.9477696418762207\n",
      "disc loss 0.3692234754562378 gen loss 0.8491846323013306\n",
      "disc loss 0.3568102717399597 gen loss 1.0028705596923828\n"
     ]
    },
    {
     "name": "stderr",
     "output_type": "stream",
     "text": [
      "C:\\Users\\canal\\AppData\\Roaming\\Python\\Python38\\site-packages\\numpy\\lib\\function_base.py:2642: RuntimeWarning: invalid value encountered in true_divide\n",
      "  c /= stddev[:, None]\n",
      "C:\\Users\\canal\\AppData\\Roaming\\Python\\Python38\\site-packages\\numpy\\lib\\function_base.py:2643: RuntimeWarning: invalid value encountered in true_divide\n",
      "  c /= stddev[None, :]\n"
     ]
    },
    {
     "name": "stdout",
     "output_type": "stream",
     "text": [
      "#========== evaluating for epoch 130 ==========#\n",
      ">>> MMD | abs(D_Entropy) | abs(D_Distance) | Pearson Corr \n",
      "0.073904 , 0.022003 , 0.032989 , nan\n",
      "# ================== Sampling 500 sequences at epoch 130 ================== #\n",
      "The loci with percentage of gap >= 95% in the cleaned MSA: \n",
      " [0, 1, 25, 26, 27, 28, 29, 30, 31, 32, 33, 34, 35, 36, 37, 38, 39, 40, 41, 42, 43, 44, 45, 46, 47, 48, 219]\n",
      "Their percentage gap are:\n",
      " [100.0, 100.0, 100.0, 100.0, 100.0, 100.0, 100.0, 100.0, 99.8, 100.0, 99.8, 100.0, 100.0, 100.0, 99.8, 99.8, 100.0, 99.8, 100.0, 99.2, 99.2, 99.6, 98.4, 99.2, 99.2, 98.0, 100.0]\n",
      "# ====================================================== #\n",
      "disc loss 0.38387948274612427 gen loss 1.2021315097808838\n",
      "disc loss 0.2979191243648529 gen loss 0.9939760565757751\n",
      "disc loss 0.3425636291503906 gen loss 0.9776816368103027\n",
      "disc loss 0.34595227241516113 gen loss 0.985381007194519\n",
      "disc loss 0.4089043140411377 gen loss 1.1567431688308716\n",
      "disc loss 0.45788902044296265 gen loss 0.8561490178108215\n",
      "disc loss 0.3859729766845703 gen loss 0.9086387157440186\n",
      "disc loss 0.3507364094257355 gen loss 1.1397104263305664\n"
     ]
    },
    {
     "name": "stderr",
     "output_type": "stream",
     "text": [
      "C:\\Users\\canal\\AppData\\Roaming\\Python\\Python38\\site-packages\\numpy\\lib\\function_base.py:2642: RuntimeWarning: invalid value encountered in true_divide\n",
      "  c /= stddev[:, None]\n",
      "C:\\Users\\canal\\AppData\\Roaming\\Python\\Python38\\site-packages\\numpy\\lib\\function_base.py:2643: RuntimeWarning: invalid value encountered in true_divide\n",
      "  c /= stddev[None, :]\n"
     ]
    },
    {
     "name": "stdout",
     "output_type": "stream",
     "text": [
      "#========== evaluating for epoch 132 ==========#\n",
      ">>> MMD | abs(D_Entropy) | abs(D_Distance) | Pearson Corr \n",
      "0.078606 , 0.02309 , 0.033958 , nan\n",
      "# ================== Sampling 500 sequences at epoch 132 ================== #\n",
      "The loci with percentage of gap >= 95% in the cleaned MSA: \n",
      " [0, 1, 25, 26, 27, 28, 29, 30, 31, 32, 33, 34, 35, 36, 37, 38, 39, 40, 41, 42, 43, 44, 45, 46, 47, 48, 219]\n",
      "Their percentage gap are:\n",
      " [100.0, 100.0, 100.0, 100.0, 100.0, 100.0, 100.0, 100.0, 100.0, 100.0, 99.8, 100.0, 100.0, 100.0, 100.0, 100.0, 100.0, 100.0, 100.0, 99.6, 99.8, 99.8, 99.4, 99.6, 99.6, 98.0, 100.0]\n",
      "# ====================================================== #\n",
      "disc loss 0.333229124546051 gen loss 1.1213349103927612\n",
      "disc loss 0.3540993630886078 gen loss 0.9364265203475952\n",
      "disc loss 0.31329625844955444 gen loss 1.1372214555740356\n",
      "disc loss 0.31209540367126465 gen loss 1.0279784202575684\n",
      "disc loss 0.32956722378730774 gen loss 1.1540480852127075\n",
      "disc loss 0.3312361538410187 gen loss 1.0003992319107056\n",
      "disc loss 0.2815897464752197 gen loss 1.2451542615890503\n",
      "disc loss 0.2754143476486206 gen loss 1.2015748023986816\n"
     ]
    },
    {
     "name": "stderr",
     "output_type": "stream",
     "text": [
      "C:\\Users\\canal\\AppData\\Roaming\\Python\\Python38\\site-packages\\numpy\\lib\\function_base.py:2642: RuntimeWarning: invalid value encountered in true_divide\n",
      "  c /= stddev[:, None]\n",
      "C:\\Users\\canal\\AppData\\Roaming\\Python\\Python38\\site-packages\\numpy\\lib\\function_base.py:2643: RuntimeWarning: invalid value encountered in true_divide\n",
      "  c /= stddev[None, :]\n"
     ]
    },
    {
     "name": "stdout",
     "output_type": "stream",
     "text": [
      "#========== evaluating for epoch 134 ==========#\n",
      ">>> MMD | abs(D_Entropy) | abs(D_Distance) | Pearson Corr \n",
      "0.074212 , 0.026028 , 0.046018 , nan\n",
      "# ================== Sampling 500 sequences at epoch 134 ================== #\n",
      "The loci with percentage of gap >= 95% in the cleaned MSA: \n",
      " [0, 1, 25, 26, 27, 28, 29, 30, 31, 32, 33, 34, 35, 36, 37, 38, 39, 40, 41, 42, 43, 44, 45, 46, 47, 48, 219]\n",
      "Their percentage gap are:\n",
      " [100.0, 100.0, 100.0, 100.0, 100.0, 100.0, 100.0, 100.0, 100.0, 100.0, 100.0, 100.0, 100.0, 100.0, 100.0, 100.0, 100.0, 100.0, 100.0, 100.0, 100.0, 100.0, 99.8, 100.0, 100.0, 99.8, 100.0]\n",
      "# ====================================================== #\n",
      "disc loss 0.23779863119125366 gen loss 0.8815264105796814\n",
      "disc loss 0.3116537034511566 gen loss 1.1593388319015503\n",
      "disc loss 0.3024497628211975 gen loss 1.0833313465118408\n",
      "disc loss 0.37757644057273865 gen loss 1.1298243999481201\n",
      "disc loss 0.39674049615859985 gen loss 0.939461350440979\n",
      "disc loss 0.35850536823272705 gen loss 1.0849099159240723\n",
      "disc loss 0.3036597967147827 gen loss 0.9268296360969543\n",
      "disc loss 0.40435972809791565 gen loss 1.2191152572631836\n"
     ]
    },
    {
     "name": "stderr",
     "output_type": "stream",
     "text": [
      "C:\\Users\\canal\\AppData\\Roaming\\Python\\Python38\\site-packages\\numpy\\lib\\function_base.py:2642: RuntimeWarning: invalid value encountered in true_divide\n",
      "  c /= stddev[:, None]\n",
      "C:\\Users\\canal\\AppData\\Roaming\\Python\\Python38\\site-packages\\numpy\\lib\\function_base.py:2643: RuntimeWarning: invalid value encountered in true_divide\n",
      "  c /= stddev[None, :]\n"
     ]
    },
    {
     "name": "stdout",
     "output_type": "stream",
     "text": [
      "#========== evaluating for epoch 136 ==========#\n",
      ">>> MMD | abs(D_Entropy) | abs(D_Distance) | Pearson Corr \n",
      "0.071809 , 0.022053 , 0.036514 , nan\n",
      "# ================== Sampling 500 sequences at epoch 136 ================== #\n",
      "The loci with percentage of gap >= 95% in the cleaned MSA: \n",
      " [0, 1, 25, 26, 27, 28, 29, 30, 31, 32, 33, 34, 35, 36, 37, 38, 39, 40, 41, 42, 43, 44, 45, 46, 47, 48, 219]\n",
      "Their percentage gap are:\n",
      " [99.8, 100.0, 100.0, 100.0, 100.0, 100.0, 100.0, 100.0, 100.0, 100.0, 100.0, 100.0, 100.0, 100.0, 100.0, 99.8, 100.0, 100.0, 100.0, 100.0, 100.0, 100.0, 100.0, 99.8, 100.0, 99.4, 100.0]\n",
      "# ====================================================== #\n",
      "disc loss 0.26212117075920105 gen loss 1.2229427099227905\n",
      "disc loss 0.35574162006378174 gen loss 1.1763110160827637\n",
      "disc loss 0.3568152189254761 gen loss 0.9444182515144348\n",
      "disc loss 0.291115939617157 gen loss 0.8937163352966309\n",
      "disc loss 0.3056483864784241 gen loss 1.1523282527923584\n",
      "disc loss 0.367801696062088 gen loss 1.0974369049072266\n",
      "disc loss 0.3440927267074585 gen loss 0.7771990299224854\n",
      "disc loss 0.30834177136421204 gen loss 0.8952345848083496\n"
     ]
    },
    {
     "name": "stderr",
     "output_type": "stream",
     "text": [
      "C:\\Users\\canal\\AppData\\Roaming\\Python\\Python38\\site-packages\\numpy\\lib\\function_base.py:2642: RuntimeWarning: invalid value encountered in true_divide\n",
      "  c /= stddev[:, None]\n",
      "C:\\Users\\canal\\AppData\\Roaming\\Python\\Python38\\site-packages\\numpy\\lib\\function_base.py:2643: RuntimeWarning: invalid value encountered in true_divide\n",
      "  c /= stddev[None, :]\n"
     ]
    },
    {
     "name": "stdout",
     "output_type": "stream",
     "text": [
      "#========== evaluating for epoch 138 ==========#\n",
      ">>> MMD | abs(D_Entropy) | abs(D_Distance) | Pearson Corr \n",
      "0.070818 , 0.023427 , 0.044102 , nan\n",
      "# ================== Sampling 500 sequences at epoch 138 ================== #\n",
      "The loci with percentage of gap >= 95% in the cleaned MSA: \n",
      " [0, 1, 25, 26, 27, 28, 29, 30, 31, 32, 33, 34, 35, 36, 37, 38, 39, 40, 41, 42, 43, 44, 45, 46, 47, 48, 219]\n",
      "Their percentage gap are:\n",
      " [100.0, 100.0, 100.0, 100.0, 100.0, 100.0, 100.0, 100.0, 100.0, 100.0, 100.0, 100.0, 100.0, 100.0, 100.0, 100.0, 100.0, 100.0, 100.0, 100.0, 100.0, 100.0, 100.0, 99.8, 100.0, 99.8, 100.0]\n",
      "# ====================================================== #\n",
      "disc loss 0.2882245182991028 gen loss 1.1639082431793213\n",
      "disc loss 0.3467056155204773 gen loss 1.2109203338623047\n",
      "disc loss 0.2787567377090454 gen loss 1.0668084621429443\n",
      "disc loss 0.3510984778404236 gen loss 0.9551280736923218\n",
      "disc loss 0.33653995394706726 gen loss 1.028984785079956\n",
      "disc loss 0.3448018431663513 gen loss 1.0648467540740967\n",
      "disc loss 0.3601457476615906 gen loss 1.0407936573028564\n",
      "disc loss 0.3113499581813812 gen loss 1.0848937034606934\n"
     ]
    },
    {
     "name": "stderr",
     "output_type": "stream",
     "text": [
      "C:\\Users\\canal\\AppData\\Roaming\\Python\\Python38\\site-packages\\numpy\\lib\\function_base.py:2642: RuntimeWarning: invalid value encountered in true_divide\n",
      "  c /= stddev[:, None]\n",
      "C:\\Users\\canal\\AppData\\Roaming\\Python\\Python38\\site-packages\\numpy\\lib\\function_base.py:2643: RuntimeWarning: invalid value encountered in true_divide\n",
      "  c /= stddev[None, :]\n"
     ]
    },
    {
     "name": "stdout",
     "output_type": "stream",
     "text": [
      "#========== evaluating for epoch 140 ==========#\n",
      ">>> MMD | abs(D_Entropy) | abs(D_Distance) | Pearson Corr \n",
      "0.073124 , 0.021879 , 0.043051 , nan\n",
      "# ================== Sampling 500 sequences at epoch 140 ================== #\n",
      "The loci with percentage of gap >= 95% in the cleaned MSA: \n",
      " [0, 1, 25, 26, 27, 28, 29, 30, 31, 32, 33, 34, 35, 36, 37, 38, 39, 40, 41, 42, 43, 44, 45, 46, 47, 48, 219]\n",
      "Their percentage gap are:\n",
      " [100.0, 100.0, 100.0, 100.0, 100.0, 100.0, 100.0, 100.0, 100.0, 100.0, 100.0, 100.0, 100.0, 100.0, 100.0, 100.0, 100.0, 100.0, 100.0, 99.8, 100.0, 99.8, 99.8, 99.8, 100.0, 99.8, 100.0]\n",
      "# ====================================================== #\n",
      "disc loss 0.37887898087501526 gen loss 1.1631560325622559\n",
      "disc loss 0.39595741033554077 gen loss 1.133073091506958\n",
      "disc loss 0.331007182598114 gen loss 1.0844249725341797\n",
      "disc loss 0.4235663414001465 gen loss 0.9984965324401855\n",
      "disc loss 0.35238349437713623 gen loss 0.9513499140739441\n",
      "disc loss 0.33568158745765686 gen loss 0.8494738340377808\n",
      "disc loss 0.293972373008728 gen loss 1.1539324522018433\n",
      "disc loss 0.3736409544944763 gen loss 1.0085033178329468\n"
     ]
    },
    {
     "name": "stderr",
     "output_type": "stream",
     "text": [
      "C:\\Users\\canal\\AppData\\Roaming\\Python\\Python38\\site-packages\\numpy\\lib\\function_base.py:2642: RuntimeWarning: invalid value encountered in true_divide\n",
      "  c /= stddev[:, None]\n",
      "C:\\Users\\canal\\AppData\\Roaming\\Python\\Python38\\site-packages\\numpy\\lib\\function_base.py:2643: RuntimeWarning: invalid value encountered in true_divide\n",
      "  c /= stddev[None, :]\n"
     ]
    },
    {
     "name": "stdout",
     "output_type": "stream",
     "text": [
      "#========== evaluating for epoch 142 ==========#\n",
      ">>> MMD | abs(D_Entropy) | abs(D_Distance) | Pearson Corr \n",
      "0.072309 , 0.021178 , 0.043647 , nan\n",
      "# ================== Sampling 500 sequences at epoch 142 ================== #\n",
      "The loci with percentage of gap >= 95% in the cleaned MSA: \n",
      " [0, 1, 25, 26, 27, 28, 29, 30, 31, 32, 33, 34, 35, 36, 37, 38, 39, 40, 41, 42, 43, 44, 45, 46, 47, 48, 219]\n",
      "Their percentage gap are:\n",
      " [100.0, 100.0, 100.0, 100.0, 100.0, 100.0, 100.0, 100.0, 100.0, 100.0, 100.0, 100.0, 99.8, 100.0, 100.0, 99.8, 100.0, 100.0, 100.0, 99.4, 100.0, 99.8, 100.0, 99.6, 99.8, 99.2, 100.0]\n",
      "# ====================================================== #\n",
      "disc loss 0.3502567708492279 gen loss 0.9835091829299927\n",
      "disc loss 0.38092243671417236 gen loss 1.1174039840698242\n",
      "disc loss 0.33039551973342896 gen loss 1.0051023960113525\n",
      "disc loss 0.4063663184642792 gen loss 1.1024806499481201\n",
      "disc loss 0.30253878235816956 gen loss 0.9896434545516968\n",
      "disc loss 0.27879220247268677 gen loss 1.0794267654418945\n",
      "disc loss 0.19619455933570862 gen loss 1.2659224271774292\n",
      "disc loss 0.3480719029903412 gen loss 0.9615657925605774\n"
     ]
    },
    {
     "name": "stderr",
     "output_type": "stream",
     "text": [
      "C:\\Users\\canal\\AppData\\Roaming\\Python\\Python38\\site-packages\\numpy\\lib\\function_base.py:2642: RuntimeWarning: invalid value encountered in true_divide\n",
      "  c /= stddev[:, None]\n",
      "C:\\Users\\canal\\AppData\\Roaming\\Python\\Python38\\site-packages\\numpy\\lib\\function_base.py:2643: RuntimeWarning: invalid value encountered in true_divide\n",
      "  c /= stddev[None, :]\n"
     ]
    },
    {
     "name": "stdout",
     "output_type": "stream",
     "text": [
      "#========== evaluating for epoch 144 ==========#\n",
      ">>> MMD | abs(D_Entropy) | abs(D_Distance) | Pearson Corr \n",
      "0.070953 , 0.025135 , 0.042832 , nan\n",
      "# ================== Sampling 500 sequences at epoch 144 ================== #\n",
      "The loci with percentage of gap >= 95% in the cleaned MSA: \n",
      " [0, 1, 25, 26, 27, 28, 29, 30, 31, 32, 33, 34, 35, 36, 37, 38, 39, 40, 41, 42, 43, 44, 45, 46, 47, 48, 219]\n",
      "Their percentage gap are:\n",
      " [100.0, 100.0, 100.0, 99.8, 100.0, 100.0, 100.0, 100.0, 100.0, 100.0, 100.0, 100.0, 100.0, 100.0, 99.8, 100.0, 100.0, 100.0, 100.0, 100.0, 100.0, 99.8, 100.0, 99.6, 99.4, 99.0, 100.0]\n",
      "# ====================================================== #\n",
      "disc loss 0.40315890312194824 gen loss 0.9406088590621948\n",
      "disc loss 0.4066380560398102 gen loss 0.8246362209320068\n",
      "disc loss 0.29088473320007324 gen loss 1.0623691082000732\n",
      "disc loss 0.3343556523323059 gen loss 1.0447320938110352\n",
      "disc loss 0.3750270903110504 gen loss 0.9837117195129395\n",
      "disc loss 0.4140743017196655 gen loss 0.9482111930847168\n",
      "disc loss 0.3159363865852356 gen loss 0.9302377104759216\n",
      "disc loss 0.3913170099258423 gen loss 0.9269837141036987\n"
     ]
    },
    {
     "name": "stderr",
     "output_type": "stream",
     "text": [
      "C:\\Users\\canal\\AppData\\Roaming\\Python\\Python38\\site-packages\\numpy\\lib\\function_base.py:2642: RuntimeWarning: invalid value encountered in true_divide\n",
      "  c /= stddev[:, None]\n",
      "C:\\Users\\canal\\AppData\\Roaming\\Python\\Python38\\site-packages\\numpy\\lib\\function_base.py:2643: RuntimeWarning: invalid value encountered in true_divide\n",
      "  c /= stddev[None, :]\n"
     ]
    },
    {
     "name": "stdout",
     "output_type": "stream",
     "text": [
      "#========== evaluating for epoch 146 ==========#\n",
      ">>> MMD | abs(D_Entropy) | abs(D_Distance) | Pearson Corr \n",
      "0.07225 , 0.022077 , 0.038645 , nan\n",
      "# ================== Sampling 500 sequences at epoch 146 ================== #\n",
      "The loci with percentage of gap >= 95% in the cleaned MSA: \n",
      " [0, 1, 25, 26, 27, 28, 29, 30, 31, 32, 33, 34, 35, 36, 37, 38, 39, 40, 41, 42, 43, 44, 45, 46, 47, 48, 219]\n",
      "Their percentage gap are:\n",
      " [100.0, 100.0, 100.0, 100.0, 100.0, 100.0, 100.0, 100.0, 100.0, 100.0, 100.0, 100.0, 100.0, 100.0, 99.8, 100.0, 100.0, 100.0, 100.0, 99.6, 100.0, 99.6, 99.6, 99.6, 99.8, 98.2, 100.0]\n",
      "# ====================================================== #\n",
      "disc loss 0.46491682529449463 gen loss 0.968845009803772\n",
      "disc loss 0.35272058844566345 gen loss 1.0610551834106445\n",
      "disc loss 0.3538109064102173 gen loss 1.1101107597351074\n",
      "disc loss 0.32248926162719727 gen loss 0.9486773014068604\n",
      "disc loss 0.3530583381652832 gen loss 1.0086510181427002\n",
      "disc loss 0.3706310987472534 gen loss 0.8597801923751831\n",
      "disc loss 0.3538993299007416 gen loss 1.0671322345733643\n",
      "disc loss 0.32179564237594604 gen loss 1.1109817028045654\n"
     ]
    },
    {
     "name": "stderr",
     "output_type": "stream",
     "text": [
      "C:\\Users\\canal\\AppData\\Roaming\\Python\\Python38\\site-packages\\numpy\\lib\\function_base.py:2642: RuntimeWarning: invalid value encountered in true_divide\n",
      "  c /= stddev[:, None]\n",
      "C:\\Users\\canal\\AppData\\Roaming\\Python\\Python38\\site-packages\\numpy\\lib\\function_base.py:2643: RuntimeWarning: invalid value encountered in true_divide\n",
      "  c /= stddev[None, :]\n"
     ]
    },
    {
     "name": "stdout",
     "output_type": "stream",
     "text": [
      "#========== evaluating for epoch 148 ==========#\n",
      ">>> MMD | abs(D_Entropy) | abs(D_Distance) | Pearson Corr \n",
      "0.072688 , 0.019876 , 0.031412 , nan\n",
      "# ================== Sampling 500 sequences at epoch 148 ================== #\n",
      "The loci with percentage of gap >= 95% in the cleaned MSA: \n",
      " [0, 1, 25, 26, 27, 28, 29, 30, 31, 32, 33, 34, 35, 36, 37, 38, 39, 40, 41, 42, 43, 44, 45, 46, 47, 48, 219]\n",
      "Their percentage gap are:\n",
      " [100.0, 100.0, 100.0, 100.0, 100.0, 99.8, 100.0, 99.8, 99.8, 99.8, 100.0, 100.0, 99.8, 100.0, 100.0, 99.8, 100.0, 99.4, 100.0, 99.8, 100.0, 100.0, 99.6, 99.2, 98.4, 97.4, 99.8]\n",
      "# ====================================================== #\n",
      "disc loss 0.3109358251094818 gen loss 0.8210337162017822\n",
      "disc loss 0.3194197416305542 gen loss 0.8421529531478882\n",
      "disc loss 0.34255874156951904 gen loss 0.9881727695465088\n",
      "disc loss 0.3894300162792206 gen loss 0.981277585029602\n",
      "disc loss 0.28933054208755493 gen loss 0.8934014439582825\n",
      "disc loss 0.36770063638687134 gen loss 1.1366639137268066\n",
      "disc loss 0.299404114484787 gen loss 1.131960153579712\n",
      "disc loss 0.26232796907424927 gen loss 0.9873535633087158\n"
     ]
    },
    {
     "name": "stderr",
     "output_type": "stream",
     "text": [
      "C:\\Users\\canal\\AppData\\Roaming\\Python\\Python38\\site-packages\\numpy\\lib\\function_base.py:2642: RuntimeWarning: invalid value encountered in true_divide\n",
      "  c /= stddev[:, None]\n",
      "C:\\Users\\canal\\AppData\\Roaming\\Python\\Python38\\site-packages\\numpy\\lib\\function_base.py:2643: RuntimeWarning: invalid value encountered in true_divide\n",
      "  c /= stddev[None, :]\n"
     ]
    },
    {
     "name": "stdout",
     "output_type": "stream",
     "text": [
      "#========== evaluating for epoch 150 ==========#\n",
      ">>> MMD | abs(D_Entropy) | abs(D_Distance) | Pearson Corr \n",
      "0.068773 , 0.017819 , 0.025032 , nan\n",
      "# ================== Sampling 500 sequences at epoch 150 ================== #\n",
      "The loci with percentage of gap >= 95% in the cleaned MSA: \n",
      " [0, 1, 25, 26, 27, 28, 29, 30, 31, 32, 33, 34, 35, 36, 37, 38, 39, 40, 41, 42, 43, 44, 45, 46, 219]\n",
      "Their percentage gap are:\n",
      " [99.4, 99.6, 98.8, 98.8, 99.2, 99.2, 99.0, 98.6, 98.2, 97.6, 98.4, 99.6, 98.8, 99.2, 97.8, 98.4, 98.4, 95.6, 98.8, 99.4, 98.8, 98.2, 97.2, 96.6, 99.4]\n",
      "# ====================================================== #\n",
      "disc loss 0.3954726457595825 gen loss 1.2192912101745605\n",
      "disc loss 0.2987227141857147 gen loss 1.169485330581665\n",
      "disc loss 0.3365115225315094 gen loss 1.0548582077026367\n",
      "disc loss 0.35701578855514526 gen loss 1.0568276643753052\n",
      "disc loss 0.3532422184944153 gen loss 1.118296504020691\n",
      "disc loss 0.34285226464271545 gen loss 0.9776713252067566\n",
      "disc loss 0.23602204024791718 gen loss 0.9566867351531982\n",
      "disc loss 0.3493332266807556 gen loss 1.260016918182373\n"
     ]
    },
    {
     "name": "stderr",
     "output_type": "stream",
     "text": [
      "C:\\Users\\canal\\AppData\\Roaming\\Python\\Python38\\site-packages\\numpy\\lib\\function_base.py:2642: RuntimeWarning: invalid value encountered in true_divide\n",
      "  c /= stddev[:, None]\n",
      "C:\\Users\\canal\\AppData\\Roaming\\Python\\Python38\\site-packages\\numpy\\lib\\function_base.py:2643: RuntimeWarning: invalid value encountered in true_divide\n",
      "  c /= stddev[None, :]\n"
     ]
    },
    {
     "name": "stdout",
     "output_type": "stream",
     "text": [
      "#========== evaluating for epoch 152 ==========#\n",
      ">>> MMD | abs(D_Entropy) | abs(D_Distance) | Pearson Corr \n",
      "0.059852 , 0.02299 , 0.03584 , nan\n",
      "# ================== Sampling 500 sequences at epoch 152 ================== #\n",
      "The loci with percentage of gap >= 95% in the cleaned MSA: \n",
      " [0, 1, 25, 26, 27, 28, 29, 30, 31, 32, 33, 34, 35, 36, 37, 38, 39, 40, 41, 42, 43, 44, 45, 46, 47, 48, 219]\n",
      "Their percentage gap are:\n",
      " [100.0, 100.0, 100.0, 100.0, 100.0, 100.0, 99.8, 99.8, 100.0, 100.0, 99.8, 100.0, 100.0, 100.0, 99.8, 99.8, 100.0, 100.0, 99.6, 99.8, 99.8, 100.0, 99.8, 99.6, 98.8, 99.2, 100.0]\n",
      "# ====================================================== #\n",
      "disc loss 0.3871970772743225 gen loss 1.1521315574645996\n",
      "disc loss 0.43650728464126587 gen loss 0.8505674004554749\n",
      "disc loss 0.3582235872745514 gen loss 1.0233356952667236\n",
      "disc loss 0.4730449914932251 gen loss 1.029193639755249\n",
      "disc loss 0.42944812774658203 gen loss 0.8932328224182129\n",
      "disc loss 0.4240940511226654 gen loss 1.1963000297546387\n",
      "disc loss 0.34672772884368896 gen loss 1.0880969762802124\n",
      "disc loss 0.41250306367874146 gen loss 0.8958479166030884\n"
     ]
    },
    {
     "name": "stderr",
     "output_type": "stream",
     "text": [
      "C:\\Users\\canal\\AppData\\Roaming\\Python\\Python38\\site-packages\\numpy\\lib\\function_base.py:2642: RuntimeWarning: invalid value encountered in true_divide\n",
      "  c /= stddev[:, None]\n",
      "C:\\Users\\canal\\AppData\\Roaming\\Python\\Python38\\site-packages\\numpy\\lib\\function_base.py:2643: RuntimeWarning: invalid value encountered in true_divide\n",
      "  c /= stddev[None, :]\n"
     ]
    },
    {
     "name": "stdout",
     "output_type": "stream",
     "text": [
      "#========== evaluating for epoch 154 ==========#\n",
      ">>> MMD | abs(D_Entropy) | abs(D_Distance) | Pearson Corr \n",
      "0.065307 , 0.024301 , 0.039014 , nan\n",
      "# ================== Sampling 500 sequences at epoch 154 ================== #\n",
      "The loci with percentage of gap >= 95% in the cleaned MSA: \n",
      " [0, 1, 25, 26, 27, 28, 29, 30, 31, 32, 33, 34, 35, 36, 37, 38, 39, 40, 41, 42, 43, 44, 45, 46, 47, 48, 219]\n",
      "Their percentage gap are:\n",
      " [100.0, 100.0, 100.0, 100.0, 100.0, 100.0, 100.0, 100.0, 100.0, 100.0, 100.0, 100.0, 100.0, 100.0, 100.0, 100.0, 100.0, 100.0, 100.0, 100.0, 100.0, 100.0, 100.0, 100.0, 100.0, 99.8, 100.0]\n",
      "# ====================================================== #\n",
      "disc loss 0.3273811340332031 gen loss 0.9659509062767029\n",
      "disc loss 0.34456777572631836 gen loss 0.9011196494102478\n",
      "disc loss 0.41035473346710205 gen loss 1.0745978355407715\n",
      "disc loss 0.3610263764858246 gen loss 0.9159409999847412\n",
      "disc loss 0.3568606376647949 gen loss 0.9859448671340942\n",
      "disc loss 0.3298180103302002 gen loss 0.9770298004150391\n",
      "disc loss 0.3157127797603607 gen loss 0.9796901345252991\n",
      "disc loss 0.3474070429801941 gen loss 1.0232908725738525\n"
     ]
    },
    {
     "name": "stderr",
     "output_type": "stream",
     "text": [
      "C:\\Users\\canal\\AppData\\Roaming\\Python\\Python38\\site-packages\\numpy\\lib\\function_base.py:2642: RuntimeWarning: invalid value encountered in true_divide\n",
      "  c /= stddev[:, None]\n",
      "C:\\Users\\canal\\AppData\\Roaming\\Python\\Python38\\site-packages\\numpy\\lib\\function_base.py:2643: RuntimeWarning: invalid value encountered in true_divide\n",
      "  c /= stddev[None, :]\n"
     ]
    },
    {
     "name": "stdout",
     "output_type": "stream",
     "text": [
      "#========== evaluating for epoch 156 ==========#\n",
      ">>> MMD | abs(D_Entropy) | abs(D_Distance) | Pearson Corr \n",
      "0.066683 , 0.023988 , 0.040006 , nan\n",
      "# ================== Sampling 500 sequences at epoch 156 ================== #\n",
      "The loci with percentage of gap >= 95% in the cleaned MSA: \n",
      " [0, 1, 25, 26, 27, 28, 29, 30, 31, 32, 33, 34, 35, 36, 37, 38, 39, 40, 41, 42, 43, 44, 45, 46, 47, 48, 219]\n",
      "Their percentage gap are:\n",
      " [100.0, 100.0, 100.0, 100.0, 100.0, 100.0, 100.0, 100.0, 100.0, 100.0, 100.0, 100.0, 100.0, 100.0, 100.0, 100.0, 100.0, 100.0, 100.0, 100.0, 100.0, 100.0, 100.0, 100.0, 100.0, 100.0, 100.0]\n",
      "# ====================================================== #\n",
      "disc loss 0.3576414883136749 gen loss 1.2851699590682983\n",
      "disc loss 0.3148193359375 gen loss 1.0184097290039062\n",
      "disc loss 0.2925225794315338 gen loss 0.9199471473693848\n",
      "disc loss 0.276082843542099 gen loss 0.8754073977470398\n",
      "disc loss 0.4031115770339966 gen loss 1.1933821439743042\n",
      "disc loss 0.38900381326675415 gen loss 0.8609300851821899\n",
      "disc loss 0.28562331199645996 gen loss 1.1512629985809326\n",
      "disc loss 0.32786399126052856 gen loss 1.179903268814087\n"
     ]
    },
    {
     "name": "stderr",
     "output_type": "stream",
     "text": [
      "C:\\Users\\canal\\AppData\\Roaming\\Python\\Python38\\site-packages\\numpy\\lib\\function_base.py:2642: RuntimeWarning: invalid value encountered in true_divide\n",
      "  c /= stddev[:, None]\n",
      "C:\\Users\\canal\\AppData\\Roaming\\Python\\Python38\\site-packages\\numpy\\lib\\function_base.py:2643: RuntimeWarning: invalid value encountered in true_divide\n",
      "  c /= stddev[None, :]\n"
     ]
    },
    {
     "name": "stdout",
     "output_type": "stream",
     "text": [
      "#========== evaluating for epoch 158 ==========#\n",
      ">>> MMD | abs(D_Entropy) | abs(D_Distance) | Pearson Corr \n",
      "0.060359 , 0.021005 , 0.032887 , nan\n",
      "# ================== Sampling 500 sequences at epoch 158 ================== #\n",
      "The loci with percentage of gap >= 95% in the cleaned MSA: \n",
      " [0, 1, 25, 26, 27, 28, 29, 30, 31, 32, 33, 34, 35, 36, 37, 38, 39, 40, 41, 42, 43, 44, 45, 46, 47, 48, 219]\n",
      "Their percentage gap are:\n",
      " [100.0, 100.0, 100.0, 100.0, 100.0, 100.0, 100.0, 100.0, 100.0, 100.0, 100.0, 100.0, 100.0, 100.0, 100.0, 100.0, 100.0, 100.0, 100.0, 100.0, 100.0, 100.0, 100.0, 100.0, 100.0, 99.8, 100.0]\n",
      "# ====================================================== #\n",
      "disc loss 0.33295080065727234 gen loss 1.0925884246826172\n",
      "disc loss 0.3736296594142914 gen loss 1.0660879611968994\n",
      "disc loss 0.37685638666152954 gen loss 0.9755383729934692\n",
      "disc loss 0.3695964813232422 gen loss 1.0428030490875244\n",
      "disc loss 0.48827898502349854 gen loss 1.0824291706085205\n",
      "disc loss 0.3746248185634613 gen loss 1.0705901384353638\n",
      "disc loss 0.3529701232910156 gen loss 1.209817886352539\n",
      "disc loss 0.36833417415618896 gen loss 0.9923373460769653\n"
     ]
    },
    {
     "name": "stderr",
     "output_type": "stream",
     "text": [
      "C:\\Users\\canal\\AppData\\Roaming\\Python\\Python38\\site-packages\\numpy\\lib\\function_base.py:2642: RuntimeWarning: invalid value encountered in true_divide\n",
      "  c /= stddev[:, None]\n",
      "C:\\Users\\canal\\AppData\\Roaming\\Python\\Python38\\site-packages\\numpy\\lib\\function_base.py:2643: RuntimeWarning: invalid value encountered in true_divide\n",
      "  c /= stddev[None, :]\n"
     ]
    },
    {
     "name": "stdout",
     "output_type": "stream",
     "text": [
      "#========== evaluating for epoch 160 ==========#\n",
      ">>> MMD | abs(D_Entropy) | abs(D_Distance) | Pearson Corr \n",
      "0.061722 , 0.023081 , 0.038795 , nan\n",
      "# ================== Sampling 500 sequences at epoch 160 ================== #\n",
      "The loci with percentage of gap >= 95% in the cleaned MSA: \n",
      " [0, 1, 25, 26, 27, 28, 29, 30, 31, 32, 33, 34, 35, 36, 37, 38, 39, 40, 41, 42, 43, 44, 45, 46, 47, 48, 219]\n",
      "Their percentage gap are:\n",
      " [100.0, 100.0, 100.0, 100.0, 100.0, 100.0, 100.0, 100.0, 100.0, 100.0, 100.0, 100.0, 100.0, 100.0, 100.0, 100.0, 100.0, 100.0, 100.0, 100.0, 100.0, 100.0, 99.8, 100.0, 99.8, 100.0, 100.0]\n",
      "# ====================================================== #\n",
      "disc loss 0.3160909414291382 gen loss 1.1360502243041992\n",
      "disc loss 0.3839592933654785 gen loss 0.9214307069778442\n",
      "disc loss 0.3232797384262085 gen loss 1.0556244850158691\n",
      "disc loss 0.39616161584854126 gen loss 1.078799843788147\n",
      "disc loss 0.2833857536315918 gen loss 1.0969674587249756\n",
      "disc loss 0.42516931891441345 gen loss 1.1426161527633667\n",
      "disc loss 0.43879544734954834 gen loss 0.8446861505508423\n",
      "disc loss 0.2768857479095459 gen loss 1.0147371292114258\n"
     ]
    },
    {
     "name": "stderr",
     "output_type": "stream",
     "text": [
      "C:\\Users\\canal\\AppData\\Roaming\\Python\\Python38\\site-packages\\numpy\\lib\\function_base.py:2642: RuntimeWarning: invalid value encountered in true_divide\n",
      "  c /= stddev[:, None]\n",
      "C:\\Users\\canal\\AppData\\Roaming\\Python\\Python38\\site-packages\\numpy\\lib\\function_base.py:2643: RuntimeWarning: invalid value encountered in true_divide\n",
      "  c /= stddev[None, :]\n"
     ]
    },
    {
     "name": "stdout",
     "output_type": "stream",
     "text": [
      "#========== evaluating for epoch 162 ==========#\n",
      ">>> MMD | abs(D_Entropy) | abs(D_Distance) | Pearson Corr \n",
      "0.062264 , 0.025206 , 0.04217 , nan\n",
      "# ================== Sampling 500 sequences at epoch 162 ================== #\n",
      "The loci with percentage of gap >= 95% in the cleaned MSA: \n",
      " [0, 1, 25, 26, 27, 28, 29, 30, 31, 32, 33, 34, 35, 36, 37, 38, 39, 40, 41, 42, 43, 44, 45, 46, 47, 48, 219]\n",
      "Their percentage gap are:\n",
      " [100.0, 100.0, 100.0, 100.0, 100.0, 100.0, 100.0, 100.0, 100.0, 100.0, 100.0, 100.0, 100.0, 100.0, 100.0, 100.0, 100.0, 100.0, 100.0, 100.0, 100.0, 100.0, 100.0, 100.0, 100.0, 100.0, 100.0]\n",
      "# ====================================================== #\n",
      "disc loss 0.39388683438301086 gen loss 0.9172388911247253\n",
      "disc loss 0.347351610660553 gen loss 0.9182363748550415\n",
      "disc loss 0.33134955167770386 gen loss 1.2692198753356934\n",
      "disc loss 0.3572808802127838 gen loss 1.059802770614624\n",
      "disc loss 0.35756781697273254 gen loss 1.1006968021392822\n",
      "disc loss 0.4354201555252075 gen loss 1.1426197290420532\n",
      "disc loss 0.38138288259506226 gen loss 0.8994646668434143\n",
      "disc loss 0.33590471744537354 gen loss 1.0321447849273682\n"
     ]
    },
    {
     "name": "stderr",
     "output_type": "stream",
     "text": [
      "C:\\Users\\canal\\AppData\\Roaming\\Python\\Python38\\site-packages\\numpy\\lib\\function_base.py:2642: RuntimeWarning: invalid value encountered in true_divide\n",
      "  c /= stddev[:, None]\n",
      "C:\\Users\\canal\\AppData\\Roaming\\Python\\Python38\\site-packages\\numpy\\lib\\function_base.py:2643: RuntimeWarning: invalid value encountered in true_divide\n",
      "  c /= stddev[None, :]\n"
     ]
    },
    {
     "name": "stdout",
     "output_type": "stream",
     "text": [
      "#========== evaluating for epoch 164 ==========#\n",
      ">>> MMD | abs(D_Entropy) | abs(D_Distance) | Pearson Corr \n",
      "0.067808 , 0.024634 , 0.045267 , nan\n",
      "# ================== Sampling 500 sequences at epoch 164 ================== #\n",
      "The loci with percentage of gap >= 95% in the cleaned MSA: \n",
      " [0, 1, 25, 26, 27, 28, 29, 30, 31, 32, 33, 34, 35, 36, 37, 38, 39, 40, 41, 42, 43, 44, 45, 46, 47, 48, 219]\n",
      "Their percentage gap are:\n",
      " [100.0, 100.0, 100.0, 100.0, 100.0, 99.8, 100.0, 100.0, 100.0, 100.0, 100.0, 99.8, 100.0, 100.0, 100.0, 100.0, 100.0, 100.0, 100.0, 100.0, 100.0, 100.0, 100.0, 100.0, 100.0, 99.8, 100.0]\n",
      "# ====================================================== #\n",
      "disc loss 0.4031098186969757 gen loss 0.9905077815055847\n",
      "disc loss 0.37043386697769165 gen loss 1.1064417362213135\n",
      "disc loss 0.36920833587646484 gen loss 1.0282922983169556\n",
      "disc loss 0.29954588413238525 gen loss 0.9897418022155762\n",
      "disc loss 0.29518547654151917 gen loss 0.8830289840698242\n",
      "disc loss 0.4231164753437042 gen loss 0.8543903827667236\n",
      "disc loss 0.337343692779541 gen loss 1.0153154134750366\n",
      "disc loss 0.39895838499069214 gen loss 1.043505311012268\n"
     ]
    },
    {
     "name": "stderr",
     "output_type": "stream",
     "text": [
      "C:\\Users\\canal\\AppData\\Roaming\\Python\\Python38\\site-packages\\numpy\\lib\\function_base.py:2642: RuntimeWarning: invalid value encountered in true_divide\n",
      "  c /= stddev[:, None]\n",
      "C:\\Users\\canal\\AppData\\Roaming\\Python\\Python38\\site-packages\\numpy\\lib\\function_base.py:2643: RuntimeWarning: invalid value encountered in true_divide\n",
      "  c /= stddev[None, :]\n"
     ]
    },
    {
     "name": "stdout",
     "output_type": "stream",
     "text": [
      "#========== evaluating for epoch 166 ==========#\n",
      ">>> MMD | abs(D_Entropy) | abs(D_Distance) | Pearson Corr \n",
      "0.06525 , 0.022933 , 0.03726 , nan\n",
      "# ================== Sampling 500 sequences at epoch 166 ================== #\n",
      "The loci with percentage of gap >= 95% in the cleaned MSA: \n",
      " [0, 1, 25, 26, 27, 28, 29, 30, 31, 32, 33, 34, 35, 36, 37, 38, 39, 40, 41, 42, 43, 44, 45, 46, 47, 48, 219]\n",
      "Their percentage gap are:\n",
      " [100.0, 100.0, 100.0, 100.0, 100.0, 100.0, 100.0, 100.0, 100.0, 100.0, 100.0, 100.0, 100.0, 99.8, 100.0, 100.0, 100.0, 100.0, 100.0, 100.0, 100.0, 99.8, 99.8, 100.0, 99.8, 100.0, 100.0]\n",
      "# ====================================================== #\n",
      "disc loss 0.2817029356956482 gen loss 1.0376834869384766\n",
      "disc loss 0.42368829250335693 gen loss 0.9583408236503601\n",
      "disc loss 0.32384443283081055 gen loss 1.103205680847168\n",
      "disc loss 0.2694091796875 gen loss 1.230450987815857\n",
      "disc loss 0.2817137539386749 gen loss 1.0530622005462646\n",
      "disc loss 0.4112895131111145 gen loss 1.184288740158081\n",
      "disc loss 0.3700650930404663 gen loss 0.8910403251647949\n",
      "disc loss 0.2795342206954956 gen loss 1.0864907503128052\n"
     ]
    },
    {
     "name": "stderr",
     "output_type": "stream",
     "text": [
      "C:\\Users\\canal\\AppData\\Roaming\\Python\\Python38\\site-packages\\numpy\\lib\\function_base.py:2642: RuntimeWarning: invalid value encountered in true_divide\n",
      "  c /= stddev[:, None]\n",
      "C:\\Users\\canal\\AppData\\Roaming\\Python\\Python38\\site-packages\\numpy\\lib\\function_base.py:2643: RuntimeWarning: invalid value encountered in true_divide\n",
      "  c /= stddev[None, :]\n"
     ]
    },
    {
     "name": "stdout",
     "output_type": "stream",
     "text": [
      "#========== evaluating for epoch 168 ==========#\n",
      ">>> MMD | abs(D_Entropy) | abs(D_Distance) | Pearson Corr \n",
      "0.062667 , 0.023452 , 0.036999 , nan\n",
      "# ================== Sampling 500 sequences at epoch 168 ================== #\n",
      "The loci with percentage of gap >= 95% in the cleaned MSA: \n",
      " [0, 1, 25, 26, 27, 28, 29, 30, 31, 32, 33, 34, 35, 36, 37, 38, 39, 40, 41, 42, 43, 44, 45, 46, 47, 48, 219]\n",
      "Their percentage gap are:\n",
      " [99.8, 100.0, 100.0, 100.0, 100.0, 99.6, 100.0, 100.0, 100.0, 100.0, 100.0, 100.0, 100.0, 100.0, 100.0, 100.0, 100.0, 100.0, 99.8, 100.0, 100.0, 99.8, 100.0, 100.0, 99.8, 99.0, 100.0]\n",
      "# ====================================================== #\n",
      "disc loss 0.3380948305130005 gen loss 1.1083199977874756\n",
      "disc loss 0.39032238721847534 gen loss 1.2568386793136597\n",
      "disc loss 0.370758593082428 gen loss 0.9423183798789978\n",
      "disc loss 0.25291016697883606 gen loss 1.0576094388961792\n",
      "disc loss 0.2849888503551483 gen loss 1.0898523330688477\n",
      "disc loss 0.3225894272327423 gen loss 1.0790700912475586\n",
      "disc loss 0.37662839889526367 gen loss 1.1057660579681396\n",
      "disc loss 0.3803821802139282 gen loss 1.150034785270691\n"
     ]
    },
    {
     "name": "stderr",
     "output_type": "stream",
     "text": [
      "C:\\Users\\canal\\AppData\\Roaming\\Python\\Python38\\site-packages\\numpy\\lib\\function_base.py:2642: RuntimeWarning: invalid value encountered in true_divide\n",
      "  c /= stddev[:, None]\n",
      "C:\\Users\\canal\\AppData\\Roaming\\Python\\Python38\\site-packages\\numpy\\lib\\function_base.py:2643: RuntimeWarning: invalid value encountered in true_divide\n",
      "  c /= stddev[None, :]\n"
     ]
    },
    {
     "name": "stdout",
     "output_type": "stream",
     "text": [
      "#========== evaluating for epoch 170 ==========#\n",
      ">>> MMD | abs(D_Entropy) | abs(D_Distance) | Pearson Corr \n",
      "0.067261 , 0.017019 , 0.017239 , nan\n",
      "# ================== Sampling 500 sequences at epoch 170 ================== #\n",
      "The loci with percentage of gap >= 95% in the cleaned MSA: \n",
      " [0, 1, 25, 26, 27, 28, 29, 30, 31, 32, 33, 34, 35, 36, 37, 38, 39, 40, 41, 42, 43, 44, 45, 46, 47, 219]\n",
      "Their percentage gap are:\n",
      " [99.4, 100.0, 99.2, 99.6, 99.6, 99.6, 99.2, 99.2, 99.4, 99.2, 99.2, 99.2, 100.0, 99.6, 99.8, 99.6, 99.0, 99.4, 99.4, 99.0, 99.4, 99.0, 98.6, 98.6, 96.6, 99.6]\n",
      "# ====================================================== #\n",
      "disc loss 0.3193049132823944 gen loss 1.123448133468628\n",
      "disc loss 0.2695853114128113 gen loss 1.049328327178955\n",
      "disc loss 0.2953546643257141 gen loss 1.016491413116455\n",
      "disc loss 0.2560789883136749 gen loss 0.9748849272727966\n",
      "disc loss 0.3750342130661011 gen loss 1.183322787284851\n",
      "disc loss 0.3452008366584778 gen loss 0.9678054451942444\n",
      "disc loss 0.25248637795448303 gen loss 1.0895206928253174\n",
      "disc loss 0.37563925981521606 gen loss 1.2537845373153687\n"
     ]
    },
    {
     "name": "stderr",
     "output_type": "stream",
     "text": [
      "C:\\Users\\canal\\AppData\\Roaming\\Python\\Python38\\site-packages\\numpy\\lib\\function_base.py:2642: RuntimeWarning: invalid value encountered in true_divide\n",
      "  c /= stddev[:, None]\n",
      "C:\\Users\\canal\\AppData\\Roaming\\Python\\Python38\\site-packages\\numpy\\lib\\function_base.py:2643: RuntimeWarning: invalid value encountered in true_divide\n",
      "  c /= stddev[None, :]\n"
     ]
    },
    {
     "name": "stdout",
     "output_type": "stream",
     "text": [
      "#========== evaluating for epoch 172 ==========#\n",
      ">>> MMD | abs(D_Entropy) | abs(D_Distance) | Pearson Corr \n",
      "0.064883 , 0.020241 , 0.040923 , nan\n",
      "# ================== Sampling 500 sequences at epoch 172 ================== #\n",
      "The loci with percentage of gap >= 95% in the cleaned MSA: \n",
      " [0, 1, 25, 26, 27, 28, 29, 30, 31, 32, 33, 34, 35, 36, 37, 38, 39, 40, 41, 42, 43, 44, 45, 46, 47, 48, 219]\n",
      "Their percentage gap are:\n",
      " [100.0, 100.0, 100.0, 100.0, 100.0, 100.0, 100.0, 100.0, 99.8, 100.0, 100.0, 100.0, 100.0, 100.0, 99.8, 99.6, 100.0, 100.0, 99.8, 100.0, 99.8, 99.6, 99.6, 99.8, 99.8, 95.4, 100.0]\n",
      "# ====================================================== #\n",
      "disc loss 0.26677531003952026 gen loss 1.0856249332427979\n",
      "disc loss 0.4048311412334442 gen loss 0.9369866847991943\n",
      "disc loss 0.2579377293586731 gen loss 0.9391019344329834\n",
      "disc loss 0.22970810532569885 gen loss 0.988172173500061\n",
      "disc loss 0.3291338384151459 gen loss 1.2043873071670532\n",
      "disc loss 0.3097720146179199 gen loss 1.0019307136535645\n",
      "disc loss 0.3880574107170105 gen loss 0.9259963035583496\n",
      "disc loss 0.3334345817565918 gen loss 1.0951383113861084\n"
     ]
    },
    {
     "name": "stderr",
     "output_type": "stream",
     "text": [
      "C:\\Users\\canal\\AppData\\Roaming\\Python\\Python38\\site-packages\\numpy\\lib\\function_base.py:2642: RuntimeWarning: invalid value encountered in true_divide\n",
      "  c /= stddev[:, None]\n",
      "C:\\Users\\canal\\AppData\\Roaming\\Python\\Python38\\site-packages\\numpy\\lib\\function_base.py:2643: RuntimeWarning: invalid value encountered in true_divide\n",
      "  c /= stddev[None, :]\n"
     ]
    },
    {
     "name": "stdout",
     "output_type": "stream",
     "text": [
      "#========== evaluating for epoch 174 ==========#\n",
      ">>> MMD | abs(D_Entropy) | abs(D_Distance) | Pearson Corr \n",
      "0.059904 , 0.020073 , 0.036903 , nan\n",
      "# ================== Sampling 500 sequences at epoch 174 ================== #\n",
      "The loci with percentage of gap >= 95% in the cleaned MSA: \n",
      " [0, 1, 25, 26, 27, 28, 29, 30, 31, 32, 33, 34, 35, 36, 37, 38, 39, 40, 41, 42, 43, 44, 45, 46, 47, 48, 219]\n",
      "Their percentage gap are:\n",
      " [100.0, 100.0, 100.0, 100.0, 100.0, 100.0, 100.0, 100.0, 100.0, 100.0, 100.0, 100.0, 100.0, 100.0, 99.8, 100.0, 100.0, 100.0, 100.0, 100.0, 99.8, 100.0, 99.8, 99.8, 99.2, 98.8, 100.0]\n",
      "# ====================================================== #\n",
      "disc loss 0.37882333993911743 gen loss 0.9774875640869141\n",
      "disc loss 0.2559375762939453 gen loss 1.076559066772461\n",
      "disc loss 0.2955120801925659 gen loss 0.9246708154678345\n",
      "disc loss 0.32705819606781006 gen loss 1.079275131225586\n",
      "disc loss 0.2869272828102112 gen loss 1.1534833908081055\n",
      "disc loss 0.2782970368862152 gen loss 1.1690891981124878\n",
      "disc loss 0.2937813997268677 gen loss 0.967529296875\n",
      "disc loss 0.28492259979248047 gen loss 1.0760806798934937\n"
     ]
    },
    {
     "name": "stderr",
     "output_type": "stream",
     "text": [
      "C:\\Users\\canal\\AppData\\Roaming\\Python\\Python38\\site-packages\\numpy\\lib\\function_base.py:2642: RuntimeWarning: invalid value encountered in true_divide\n",
      "  c /= stddev[:, None]\n",
      "C:\\Users\\canal\\AppData\\Roaming\\Python\\Python38\\site-packages\\numpy\\lib\\function_base.py:2643: RuntimeWarning: invalid value encountered in true_divide\n",
      "  c /= stddev[None, :]\n"
     ]
    },
    {
     "name": "stdout",
     "output_type": "stream",
     "text": [
      "#========== evaluating for epoch 176 ==========#\n",
      ">>> MMD | abs(D_Entropy) | abs(D_Distance) | Pearson Corr \n",
      "0.059467 , 0.023526 , 0.037689 , nan\n",
      "# ================== Sampling 500 sequences at epoch 176 ================== #\n",
      "The loci with percentage of gap >= 95% in the cleaned MSA: \n",
      " [0, 1, 25, 26, 27, 28, 29, 30, 31, 32, 33, 34, 35, 36, 37, 38, 39, 40, 41, 42, 43, 44, 45, 46, 47, 48, 219]\n",
      "Their percentage gap are:\n",
      " [100.0, 100.0, 99.8, 100.0, 100.0, 100.0, 100.0, 99.8, 100.0, 100.0, 100.0, 100.0, 100.0, 100.0, 100.0, 100.0, 100.0, 99.8, 100.0, 100.0, 99.8, 100.0, 100.0, 99.8, 99.8, 98.8, 99.8]\n",
      "# ====================================================== #\n",
      "disc loss 0.36593979597091675 gen loss 0.8765575885772705\n",
      "disc loss 0.3709006905555725 gen loss 1.0760996341705322\n",
      "disc loss 0.23481988906860352 gen loss 1.110641360282898\n",
      "disc loss 0.3273046314716339 gen loss 1.0151947736740112\n",
      "disc loss 0.3779841661453247 gen loss 1.0233793258666992\n",
      "disc loss 0.28257134556770325 gen loss 1.134561538696289\n",
      "disc loss 0.43547552824020386 gen loss 0.9577407836914062\n",
      "disc loss 0.3854920268058777 gen loss 0.8893650770187378\n"
     ]
    },
    {
     "name": "stderr",
     "output_type": "stream",
     "text": [
      "C:\\Users\\canal\\AppData\\Roaming\\Python\\Python38\\site-packages\\numpy\\lib\\function_base.py:2642: RuntimeWarning: invalid value encountered in true_divide\n",
      "  c /= stddev[:, None]\n",
      "C:\\Users\\canal\\AppData\\Roaming\\Python\\Python38\\site-packages\\numpy\\lib\\function_base.py:2643: RuntimeWarning: invalid value encountered in true_divide\n",
      "  c /= stddev[None, :]\n"
     ]
    },
    {
     "name": "stdout",
     "output_type": "stream",
     "text": [
      "#========== evaluating for epoch 178 ==========#\n",
      ">>> MMD | abs(D_Entropy) | abs(D_Distance) | Pearson Corr \n",
      "0.059562 , 0.023286 , 0.038575 , nan\n",
      "# ================== Sampling 500 sequences at epoch 178 ================== #\n",
      "The loci with percentage of gap >= 95% in the cleaned MSA: \n",
      " [0, 1, 25, 26, 27, 28, 29, 30, 31, 32, 33, 34, 35, 36, 37, 38, 39, 40, 41, 42, 43, 44, 45, 46, 47, 48, 219]\n",
      "Their percentage gap are:\n",
      " [100.0, 100.0, 100.0, 100.0, 100.0, 100.0, 100.0, 100.0, 100.0, 100.0, 99.8, 100.0, 100.0, 100.0, 100.0, 100.0, 100.0, 100.0, 100.0, 100.0, 100.0, 100.0, 100.0, 100.0, 99.4, 99.4, 100.0]\n",
      "# ====================================================== #\n",
      "disc loss 0.37058648467063904 gen loss 0.952507734298706\n",
      "disc loss 0.4227128028869629 gen loss 0.9536890983581543\n",
      "disc loss 0.3213518559932709 gen loss 0.9888185858726501\n",
      "disc loss 0.2383095622062683 gen loss 1.0032262802124023\n",
      "disc loss 0.3415079116821289 gen loss 1.0503414869308472\n",
      "disc loss 0.3317696750164032 gen loss 1.1722910404205322\n",
      "disc loss 0.3301132023334503 gen loss 0.8194305896759033\n",
      "disc loss 0.31598126888275146 gen loss 1.027991533279419\n"
     ]
    },
    {
     "name": "stderr",
     "output_type": "stream",
     "text": [
      "C:\\Users\\canal\\AppData\\Roaming\\Python\\Python38\\site-packages\\numpy\\lib\\function_base.py:2642: RuntimeWarning: invalid value encountered in true_divide\n",
      "  c /= stddev[:, None]\n",
      "C:\\Users\\canal\\AppData\\Roaming\\Python\\Python38\\site-packages\\numpy\\lib\\function_base.py:2643: RuntimeWarning: invalid value encountered in true_divide\n",
      "  c /= stddev[None, :]\n"
     ]
    },
    {
     "name": "stdout",
     "output_type": "stream",
     "text": [
      "#========== evaluating for epoch 180 ==========#\n",
      ">>> MMD | abs(D_Entropy) | abs(D_Distance) | Pearson Corr \n",
      "0.061302 , 0.023689 , 0.038412 , nan\n",
      "# ================== Sampling 500 sequences at epoch 180 ================== #\n",
      "The loci with percentage of gap >= 95% in the cleaned MSA: \n",
      " [0, 1, 25, 26, 27, 28, 29, 30, 31, 32, 33, 34, 35, 36, 37, 38, 39, 40, 41, 42, 43, 44, 45, 46, 47, 48, 219]\n",
      "Their percentage gap are:\n",
      " [100.0, 100.0, 100.0, 100.0, 100.0, 100.0, 100.0, 100.0, 99.8, 100.0, 100.0, 100.0, 100.0, 99.8, 100.0, 99.8, 99.8, 100.0, 100.0, 100.0, 100.0, 100.0, 100.0, 99.6, 100.0, 99.0, 100.0]\n",
      "# ====================================================== #\n",
      "disc loss 0.4097500145435333 gen loss 1.122647762298584\n",
      "disc loss 0.3362751603126526 gen loss 1.1233088970184326\n",
      "disc loss 0.36746424436569214 gen loss 0.9776261448860168\n",
      "disc loss 0.36788105964660645 gen loss 1.017241358757019\n",
      "disc loss 0.40408772230148315 gen loss 1.1173665523529053\n",
      "disc loss 0.3387554883956909 gen loss 1.1250648498535156\n",
      "disc loss 0.35746267437934875 gen loss 1.0970954895019531\n",
      "disc loss 0.2800387144088745 gen loss 1.1950116157531738\n"
     ]
    },
    {
     "name": "stderr",
     "output_type": "stream",
     "text": [
      "C:\\Users\\canal\\AppData\\Roaming\\Python\\Python38\\site-packages\\numpy\\lib\\function_base.py:2642: RuntimeWarning: invalid value encountered in true_divide\n",
      "  c /= stddev[:, None]\n",
      "C:\\Users\\canal\\AppData\\Roaming\\Python\\Python38\\site-packages\\numpy\\lib\\function_base.py:2643: RuntimeWarning: invalid value encountered in true_divide\n",
      "  c /= stddev[None, :]\n"
     ]
    },
    {
     "name": "stdout",
     "output_type": "stream",
     "text": [
      "#========== evaluating for epoch 182 ==========#\n",
      ">>> MMD | abs(D_Entropy) | abs(D_Distance) | Pearson Corr \n",
      "0.06068 , 0.021754 , 0.035613 , nan\n",
      "# ================== Sampling 500 sequences at epoch 182 ================== #\n",
      "The loci with percentage of gap >= 95% in the cleaned MSA: \n",
      " [0, 1, 25, 26, 27, 28, 29, 30, 31, 32, 33, 34, 35, 36, 37, 38, 39, 40, 41, 42, 43, 44, 45, 46, 47, 48, 219]\n",
      "Their percentage gap are:\n",
      " [100.0, 100.0, 100.0, 100.0, 100.0, 100.0, 100.0, 100.0, 100.0, 100.0, 99.8, 100.0, 100.0, 99.8, 100.0, 99.8, 99.8, 100.0, 100.0, 100.0, 100.0, 99.8, 99.8, 99.6, 98.0, 97.0, 100.0]\n",
      "# ====================================================== #\n",
      "disc loss 0.4034365117549896 gen loss 0.9717718362808228\n",
      "disc loss 0.32615387439727783 gen loss 1.0129402875900269\n",
      "disc loss 0.505043625831604 gen loss 1.0739136934280396\n",
      "disc loss 0.34817877411842346 gen loss 0.9669944047927856\n",
      "disc loss 0.38414710760116577 gen loss 0.773798942565918\n",
      "disc loss 0.32993394136428833 gen loss 1.1880673170089722\n",
      "disc loss 0.3165830969810486 gen loss 0.9608662128448486\n",
      "disc loss 0.3850943148136139 gen loss 1.0242947340011597\n"
     ]
    },
    {
     "name": "stderr",
     "output_type": "stream",
     "text": [
      "C:\\Users\\canal\\AppData\\Roaming\\Python\\Python38\\site-packages\\numpy\\lib\\function_base.py:2642: RuntimeWarning: invalid value encountered in true_divide\n",
      "  c /= stddev[:, None]\n",
      "C:\\Users\\canal\\AppData\\Roaming\\Python\\Python38\\site-packages\\numpy\\lib\\function_base.py:2643: RuntimeWarning: invalid value encountered in true_divide\n",
      "  c /= stddev[None, :]\n"
     ]
    },
    {
     "name": "stdout",
     "output_type": "stream",
     "text": [
      "#========== evaluating for epoch 184 ==========#\n",
      ">>> MMD | abs(D_Entropy) | abs(D_Distance) | Pearson Corr \n",
      "0.061541 , 0.021436 , 0.024166 , nan\n",
      "# ================== Sampling 500 sequences at epoch 184 ================== #\n",
      "The loci with percentage of gap >= 95% in the cleaned MSA: \n",
      " [0, 1, 25, 26, 27, 28, 29, 30, 31, 32, 33, 34, 35, 36, 37, 38, 39, 40, 41, 42, 43, 44, 45, 46, 47, 48, 219]\n",
      "Their percentage gap are:\n",
      " [99.6, 99.4, 99.6, 99.6, 99.6, 99.8, 99.6, 99.6, 99.6, 99.6, 99.4, 99.6, 99.8, 99.4, 99.2, 99.6, 99.2, 99.6, 99.4, 99.4, 99.6, 99.2, 99.6, 99.0, 97.6, 98.6, 99.4]\n",
      "# ====================================================== #\n",
      "disc loss 0.36444035172462463 gen loss 0.8375539779663086\n",
      "disc loss 0.3703121542930603 gen loss 1.1359691619873047\n",
      "disc loss 0.33953535556793213 gen loss 1.0715901851654053\n",
      "disc loss 0.28361040353775024 gen loss 1.137094259262085\n",
      "disc loss 0.34799662232398987 gen loss 1.197843313217163\n",
      "disc loss 0.3952770233154297 gen loss 1.0516802072525024\n",
      "disc loss 0.3485225439071655 gen loss 1.0286774635314941\n",
      "disc loss 0.3117545247077942 gen loss 0.9586521983146667\n"
     ]
    },
    {
     "name": "stderr",
     "output_type": "stream",
     "text": [
      "C:\\Users\\canal\\AppData\\Roaming\\Python\\Python38\\site-packages\\numpy\\lib\\function_base.py:2642: RuntimeWarning: invalid value encountered in true_divide\n",
      "  c /= stddev[:, None]\n",
      "C:\\Users\\canal\\AppData\\Roaming\\Python\\Python38\\site-packages\\numpy\\lib\\function_base.py:2643: RuntimeWarning: invalid value encountered in true_divide\n",
      "  c /= stddev[None, :]\n"
     ]
    },
    {
     "name": "stdout",
     "output_type": "stream",
     "text": [
      "#========== evaluating for epoch 186 ==========#\n",
      ">>> MMD | abs(D_Entropy) | abs(D_Distance) | Pearson Corr \n",
      "0.061724 , 0.022749 , 0.038034 , nan\n",
      "# ================== Sampling 500 sequences at epoch 186 ================== #\n",
      "The loci with percentage of gap >= 95% in the cleaned MSA: \n",
      " [0, 1, 25, 26, 27, 28, 29, 30, 31, 32, 33, 34, 35, 36, 37, 38, 39, 40, 41, 42, 43, 44, 45, 46, 47, 48, 219]\n",
      "Their percentage gap are:\n",
      " [100.0, 100.0, 99.6, 100.0, 100.0, 100.0, 100.0, 100.0, 100.0, 100.0, 100.0, 100.0, 100.0, 100.0, 100.0, 100.0, 100.0, 100.0, 100.0, 100.0, 100.0, 99.8, 99.8, 99.6, 99.0, 99.2, 100.0]\n",
      "# ====================================================== #\n",
      "disc loss 0.34694454073905945 gen loss 1.16337251663208\n",
      "disc loss 0.2793322801589966 gen loss 1.0739357471466064\n",
      "disc loss 0.37740814685821533 gen loss 1.0312130451202393\n",
      "disc loss 0.2987028956413269 gen loss 0.9668524265289307\n",
      "disc loss 0.3464260399341583 gen loss 1.159799337387085\n",
      "disc loss 0.365535706281662 gen loss 0.9838808178901672\n",
      "disc loss 0.41012096405029297 gen loss 0.9026303887367249\n",
      "disc loss 0.3447416424751282 gen loss 1.0878305435180664\n"
     ]
    },
    {
     "name": "stderr",
     "output_type": "stream",
     "text": [
      "C:\\Users\\canal\\AppData\\Roaming\\Python\\Python38\\site-packages\\numpy\\lib\\function_base.py:2642: RuntimeWarning: invalid value encountered in true_divide\n",
      "  c /= stddev[:, None]\n",
      "C:\\Users\\canal\\AppData\\Roaming\\Python\\Python38\\site-packages\\numpy\\lib\\function_base.py:2643: RuntimeWarning: invalid value encountered in true_divide\n",
      "  c /= stddev[None, :]\n"
     ]
    },
    {
     "name": "stdout",
     "output_type": "stream",
     "text": [
      "#========== evaluating for epoch 188 ==========#\n",
      ">>> MMD | abs(D_Entropy) | abs(D_Distance) | Pearson Corr \n",
      "0.062069 , 0.025098 , 0.042015 , nan\n",
      "# ================== Sampling 500 sequences at epoch 188 ================== #\n",
      "The loci with percentage of gap >= 95% in the cleaned MSA: \n",
      " [0, 1, 25, 26, 27, 28, 29, 30, 31, 32, 33, 34, 35, 36, 37, 38, 39, 40, 41, 42, 43, 44, 45, 46, 47, 48, 219]\n",
      "Their percentage gap are:\n",
      " [100.0, 100.0, 100.0, 100.0, 100.0, 100.0, 100.0, 100.0, 100.0, 100.0, 100.0, 100.0, 99.8, 100.0, 100.0, 100.0, 100.0, 100.0, 100.0, 100.0, 100.0, 100.0, 100.0, 100.0, 99.8, 100.0, 100.0]\n",
      "# ====================================================== #\n",
      "disc loss 0.2766072750091553 gen loss 1.1077427864074707\n",
      "disc loss 0.28351789712905884 gen loss 1.0289971828460693\n",
      "disc loss 0.3214857578277588 gen loss 1.018456220626831\n",
      "disc loss 0.34478825330734253 gen loss 1.0890699625015259\n",
      "disc loss 0.28554266691207886 gen loss 1.0882638692855835\n",
      "disc loss 0.3293309509754181 gen loss 1.0618847608566284\n",
      "disc loss 0.4007105231285095 gen loss 1.232835292816162\n",
      "disc loss 0.2918350100517273 gen loss 0.916702151298523\n"
     ]
    },
    {
     "name": "stderr",
     "output_type": "stream",
     "text": [
      "C:\\Users\\canal\\AppData\\Roaming\\Python\\Python38\\site-packages\\numpy\\lib\\function_base.py:2642: RuntimeWarning: invalid value encountered in true_divide\n",
      "  c /= stddev[:, None]\n",
      "C:\\Users\\canal\\AppData\\Roaming\\Python\\Python38\\site-packages\\numpy\\lib\\function_base.py:2643: RuntimeWarning: invalid value encountered in true_divide\n",
      "  c /= stddev[None, :]\n"
     ]
    },
    {
     "name": "stdout",
     "output_type": "stream",
     "text": [
      "#========== evaluating for epoch 190 ==========#\n",
      ">>> MMD | abs(D_Entropy) | abs(D_Distance) | Pearson Corr \n",
      "0.060038 , 0.024022 , 0.03944 , nan\n",
      "# ================== Sampling 500 sequences at epoch 190 ================== #\n",
      "The loci with percentage of gap >= 95% in the cleaned MSA: \n",
      " [0, 1, 25, 26, 27, 28, 29, 30, 31, 32, 33, 34, 35, 36, 37, 38, 39, 40, 41, 42, 43, 44, 45, 46, 47, 48, 219]\n",
      "Their percentage gap are:\n",
      " [100.0, 100.0, 100.0, 100.0, 100.0, 100.0, 100.0, 100.0, 100.0, 100.0, 100.0, 100.0, 100.0, 100.0, 100.0, 100.0, 99.8, 100.0, 100.0, 100.0, 100.0, 100.0, 100.0, 99.0, 99.6, 99.8, 100.0]\n",
      "# ====================================================== #\n",
      "disc loss 0.3206396996974945 gen loss 1.0413687229156494\n",
      "disc loss 0.30964547395706177 gen loss 0.9482500553131104\n",
      "disc loss 0.25882488489151 gen loss 1.0643980503082275\n",
      "disc loss 0.35132429003715515 gen loss 1.0827878713607788\n",
      "disc loss 0.3779796361923218 gen loss 0.9748566746711731\n",
      "disc loss 0.349784791469574 gen loss 0.9484713673591614\n",
      "disc loss 0.2932126224040985 gen loss 1.2746633291244507\n",
      "disc loss 0.24785365164279938 gen loss 0.9262372255325317\n"
     ]
    },
    {
     "name": "stderr",
     "output_type": "stream",
     "text": [
      "C:\\Users\\canal\\AppData\\Roaming\\Python\\Python38\\site-packages\\numpy\\lib\\function_base.py:2642: RuntimeWarning: invalid value encountered in true_divide\n",
      "  c /= stddev[:, None]\n",
      "C:\\Users\\canal\\AppData\\Roaming\\Python\\Python38\\site-packages\\numpy\\lib\\function_base.py:2643: RuntimeWarning: invalid value encountered in true_divide\n",
      "  c /= stddev[None, :]\n"
     ]
    },
    {
     "name": "stdout",
     "output_type": "stream",
     "text": [
      "#========== evaluating for epoch 192 ==========#\n",
      ">>> MMD | abs(D_Entropy) | abs(D_Distance) | Pearson Corr \n",
      "0.061337 , 0.023865 , 0.038488 , nan\n",
      "# ================== Sampling 500 sequences at epoch 192 ================== #\n",
      "The loci with percentage of gap >= 95% in the cleaned MSA: \n",
      " [0, 1, 25, 26, 27, 28, 29, 30, 31, 32, 33, 34, 35, 36, 37, 38, 39, 40, 41, 42, 43, 44, 45, 46, 47, 48, 219]\n",
      "Their percentage gap are:\n",
      " [100.0, 100.0, 100.0, 100.0, 100.0, 100.0, 100.0, 100.0, 100.0, 100.0, 100.0, 100.0, 100.0, 100.0, 100.0, 100.0, 100.0, 100.0, 100.0, 100.0, 100.0, 100.0, 100.0, 99.6, 100.0, 99.4, 100.0]\n",
      "# ====================================================== #\n",
      "disc loss 0.3693469166755676 gen loss 1.0226069688796997\n",
      "disc loss 0.27163612842559814 gen loss 1.1661310195922852\n",
      "disc loss 0.30132222175598145 gen loss 1.0937803983688354\n",
      "disc loss 0.2977176606655121 gen loss 1.0976202487945557\n",
      "disc loss 0.25496265292167664 gen loss 1.014894723892212\n",
      "disc loss 0.29744821786880493 gen loss 1.133047103881836\n",
      "disc loss 0.38898447155952454 gen loss 1.068890929222107\n",
      "disc loss 0.35584574937820435 gen loss 1.0932056903839111\n"
     ]
    },
    {
     "name": "stderr",
     "output_type": "stream",
     "text": [
      "C:\\Users\\canal\\AppData\\Roaming\\Python\\Python38\\site-packages\\numpy\\lib\\function_base.py:2642: RuntimeWarning: invalid value encountered in true_divide\n",
      "  c /= stddev[:, None]\n",
      "C:\\Users\\canal\\AppData\\Roaming\\Python\\Python38\\site-packages\\numpy\\lib\\function_base.py:2643: RuntimeWarning: invalid value encountered in true_divide\n",
      "  c /= stddev[None, :]\n"
     ]
    },
    {
     "name": "stdout",
     "output_type": "stream",
     "text": [
      "#========== evaluating for epoch 194 ==========#\n",
      ">>> MMD | abs(D_Entropy) | abs(D_Distance) | Pearson Corr \n",
      "0.057947 , 0.024014 , 0.035627 , nan\n",
      "# ================== Sampling 500 sequences at epoch 194 ================== #\n",
      "The loci with percentage of gap >= 95% in the cleaned MSA: \n",
      " [0, 1, 25, 26, 27, 28, 29, 30, 31, 32, 33, 34, 35, 36, 37, 38, 39, 40, 41, 42, 43, 44, 45, 46, 47, 48, 219]\n",
      "Their percentage gap are:\n",
      " [100.0, 100.0, 100.0, 100.0, 100.0, 100.0, 100.0, 100.0, 100.0, 100.0, 100.0, 100.0, 100.0, 100.0, 100.0, 100.0, 100.0, 100.0, 100.0, 100.0, 100.0, 100.0, 99.6, 99.6, 99.2, 99.6, 100.0]\n",
      "# ====================================================== #\n",
      "disc loss 0.3384633958339691 gen loss 0.9857361316680908\n",
      "disc loss 0.29037579894065857 gen loss 0.9335591197013855\n",
      "disc loss 0.29679277539253235 gen loss 0.921104907989502\n",
      "disc loss 0.2824562191963196 gen loss 0.9920709133148193\n",
      "disc loss 0.3453548848628998 gen loss 0.9676268696784973\n",
      "disc loss 0.33034396171569824 gen loss 1.0600738525390625\n",
      "disc loss 0.3442288339138031 gen loss 1.078850269317627\n",
      "disc loss 0.30437541007995605 gen loss 1.0793499946594238\n"
     ]
    },
    {
     "name": "stderr",
     "output_type": "stream",
     "text": [
      "C:\\Users\\canal\\AppData\\Roaming\\Python\\Python38\\site-packages\\numpy\\lib\\function_base.py:2642: RuntimeWarning: invalid value encountered in true_divide\n",
      "  c /= stddev[:, None]\n",
      "C:\\Users\\canal\\AppData\\Roaming\\Python\\Python38\\site-packages\\numpy\\lib\\function_base.py:2643: RuntimeWarning: invalid value encountered in true_divide\n",
      "  c /= stddev[None, :]\n"
     ]
    },
    {
     "name": "stdout",
     "output_type": "stream",
     "text": [
      "#========== evaluating for epoch 196 ==========#\n",
      ">>> MMD | abs(D_Entropy) | abs(D_Distance) | Pearson Corr \n",
      "0.060329 , 0.021601 , 0.036057 , nan\n",
      "# ================== Sampling 500 sequences at epoch 196 ================== #\n",
      "The loci with percentage of gap >= 95% in the cleaned MSA: \n",
      " [0, 1, 25, 26, 27, 28, 29, 30, 31, 32, 33, 34, 35, 36, 37, 38, 39, 40, 41, 42, 43, 44, 45, 46, 47, 48, 219]\n",
      "Their percentage gap are:\n",
      " [100.0, 100.0, 100.0, 100.0, 100.0, 100.0, 100.0, 100.0, 100.0, 99.8, 100.0, 99.8, 100.0, 100.0, 100.0, 100.0, 100.0, 100.0, 100.0, 99.8, 100.0, 99.6, 99.6, 100.0, 99.8, 99.8, 100.0]\n",
      "# ====================================================== #\n",
      "disc loss 0.27917975187301636 gen loss 0.9599220752716064\n",
      "disc loss 0.3228912651538849 gen loss 1.2080609798431396\n",
      "disc loss 0.33390581607818604 gen loss 1.0830157995224\n",
      "disc loss 0.3961447775363922 gen loss 1.057016134262085\n",
      "disc loss 0.38402628898620605 gen loss 1.042588710784912\n",
      "disc loss 0.40184155106544495 gen loss 1.0202407836914062\n",
      "disc loss 0.29009389877319336 gen loss 1.159909963607788\n",
      "disc loss 0.29123181104660034 gen loss 0.9072827100753784\n"
     ]
    },
    {
     "name": "stderr",
     "output_type": "stream",
     "text": [
      "C:\\Users\\canal\\AppData\\Roaming\\Python\\Python38\\site-packages\\numpy\\lib\\function_base.py:2642: RuntimeWarning: invalid value encountered in true_divide\n",
      "  c /= stddev[:, None]\n",
      "C:\\Users\\canal\\AppData\\Roaming\\Python\\Python38\\site-packages\\numpy\\lib\\function_base.py:2643: RuntimeWarning: invalid value encountered in true_divide\n",
      "  c /= stddev[None, :]\n"
     ]
    },
    {
     "name": "stdout",
     "output_type": "stream",
     "text": [
      "#========== evaluating for epoch 198 ==========#\n",
      ">>> MMD | abs(D_Entropy) | abs(D_Distance) | Pearson Corr \n",
      "0.058867 , 0.019751 , 0.03427 , nan\n",
      "# ================== Sampling 500 sequences at epoch 198 ================== #\n",
      "The loci with percentage of gap >= 95% in the cleaned MSA: \n",
      " [0, 1, 25, 26, 27, 28, 29, 30, 31, 32, 33, 34, 35, 36, 37, 38, 39, 40, 41, 42, 43, 44, 45, 46, 47, 48, 219]\n",
      "Their percentage gap are:\n",
      " [100.0, 100.0, 100.0, 99.8, 100.0, 100.0, 99.8, 100.0, 100.0, 100.0, 100.0, 100.0, 99.8, 99.8, 100.0, 100.0, 100.0, 100.0, 100.0, 100.0, 100.0, 99.0, 98.6, 99.6, 98.8, 98.4, 100.0]\n",
      "# ====================================================== #\n",
      "disc loss 0.2809780240058899 gen loss 0.9995492100715637\n",
      "disc loss 0.35905617475509644 gen loss 0.8741496801376343\n",
      "disc loss 0.3950197100639343 gen loss 1.1093065738677979\n",
      "disc loss 0.2932323217391968 gen loss 1.0449484586715698\n",
      "disc loss 0.3025461435317993 gen loss 1.0396018028259277\n",
      "disc loss 0.3191998302936554 gen loss 0.875461220741272\n",
      "disc loss 0.3479327857494354 gen loss 1.0161691904067993\n",
      "disc loss 0.2807708978652954 gen loss 1.2022160291671753\n"
     ]
    },
    {
     "name": "stderr",
     "output_type": "stream",
     "text": [
      "C:\\Users\\canal\\AppData\\Roaming\\Python\\Python38\\site-packages\\numpy\\lib\\function_base.py:2642: RuntimeWarning: invalid value encountered in true_divide\n",
      "  c /= stddev[:, None]\n",
      "C:\\Users\\canal\\AppData\\Roaming\\Python\\Python38\\site-packages\\numpy\\lib\\function_base.py:2643: RuntimeWarning: invalid value encountered in true_divide\n",
      "  c /= stddev[None, :]\n"
     ]
    },
    {
     "name": "stdout",
     "output_type": "stream",
     "text": [
      "#========== evaluating for epoch 200 ==========#\n",
      ">>> MMD | abs(D_Entropy) | abs(D_Distance) | Pearson Corr \n",
      "0.061496 , 0.020472 , 0.036532 , nan\n",
      "# ================== Sampling 500 sequences at epoch 200 ================== #\n",
      "The loci with percentage of gap >= 95% in the cleaned MSA: \n",
      " [0, 1, 25, 26, 27, 28, 29, 30, 31, 32, 33, 34, 35, 36, 37, 38, 39, 40, 41, 42, 43, 44, 45, 46, 47, 48, 219]\n",
      "Their percentage gap are:\n",
      " [100.0, 100.0, 100.0, 100.0, 100.0, 100.0, 100.0, 100.0, 100.0, 100.0, 100.0, 100.0, 100.0, 100.0, 99.8, 99.8, 99.6, 100.0, 100.0, 99.8, 99.6, 99.8, 99.0, 99.6, 99.2, 98.8, 100.0]\n",
      "# ====================================================== #\n",
      "disc loss 0.3565617799758911 gen loss 1.0430810451507568\n",
      "disc loss 0.4353618025779724 gen loss 0.877966582775116\n",
      "disc loss 0.3517899811267853 gen loss 0.9654028415679932\n",
      "disc loss 0.3557847738265991 gen loss 1.032663345336914\n",
      "disc loss 0.36305466294288635 gen loss 1.0127147436141968\n",
      "disc loss 0.4568488597869873 gen loss 1.0358366966247559\n",
      "disc loss 0.31407031416893005 gen loss 1.0146856307983398\n",
      "disc loss 0.2647741436958313 gen loss 1.1612333059310913\n"
     ]
    },
    {
     "name": "stderr",
     "output_type": "stream",
     "text": [
      "C:\\Users\\canal\\AppData\\Roaming\\Python\\Python38\\site-packages\\numpy\\lib\\function_base.py:2642: RuntimeWarning: invalid value encountered in true_divide\n",
      "  c /= stddev[:, None]\n",
      "C:\\Users\\canal\\AppData\\Roaming\\Python\\Python38\\site-packages\\numpy\\lib\\function_base.py:2643: RuntimeWarning: invalid value encountered in true_divide\n",
      "  c /= stddev[None, :]\n"
     ]
    },
    {
     "name": "stdout",
     "output_type": "stream",
     "text": [
      "#========== evaluating for epoch 202 ==========#\n",
      ">>> MMD | abs(D_Entropy) | abs(D_Distance) | Pearson Corr \n",
      "0.062067 , 0.018962 , 0.031357 , nan\n",
      "# ================== Sampling 500 sequences at epoch 202 ================== #\n",
      "The loci with percentage of gap >= 95% in the cleaned MSA: \n",
      " [0, 1, 25, 26, 27, 28, 29, 30, 31, 32, 33, 34, 35, 36, 37, 38, 39, 40, 41, 42, 43, 44, 45, 46, 47, 48, 219]\n",
      "Their percentage gap are:\n",
      " [100.0, 100.0, 99.8, 100.0, 100.0, 99.8, 100.0, 100.0, 100.0, 100.0, 100.0, 100.0, 100.0, 100.0, 99.8, 100.0, 100.0, 100.0, 100.0, 100.0, 99.8, 99.8, 99.4, 99.8, 99.4, 98.4, 100.0]\n",
      "# ====================================================== #\n",
      "disc loss 0.375380277633667 gen loss 0.9063857197761536\n",
      "disc loss 0.2815990447998047 gen loss 1.1291874647140503\n",
      "disc loss 0.3277657628059387 gen loss 1.1462429761886597\n",
      "disc loss 0.35223498940467834 gen loss 1.062098741531372\n",
      "disc loss 0.3771320581436157 gen loss 1.2416167259216309\n",
      "disc loss 0.29045483469963074 gen loss 1.1000301837921143\n",
      "disc loss 0.29754048585891724 gen loss 1.0423264503479004\n",
      "disc loss 0.30791574716567993 gen loss 1.2047874927520752\n"
     ]
    },
    {
     "name": "stderr",
     "output_type": "stream",
     "text": [
      "C:\\Users\\canal\\AppData\\Roaming\\Python\\Python38\\site-packages\\numpy\\lib\\function_base.py:2642: RuntimeWarning: invalid value encountered in true_divide\n",
      "  c /= stddev[:, None]\n",
      "C:\\Users\\canal\\AppData\\Roaming\\Python\\Python38\\site-packages\\numpy\\lib\\function_base.py:2643: RuntimeWarning: invalid value encountered in true_divide\n",
      "  c /= stddev[None, :]\n"
     ]
    },
    {
     "name": "stdout",
     "output_type": "stream",
     "text": [
      "#========== evaluating for epoch 204 ==========#\n",
      ">>> MMD | abs(D_Entropy) | abs(D_Distance) | Pearson Corr \n",
      "0.062183 , 0.022991 , 0.032749 , nan\n",
      "# ================== Sampling 500 sequences at epoch 204 ================== #\n",
      "The loci with percentage of gap >= 95% in the cleaned MSA: \n",
      " [0, 1, 25, 26, 27, 28, 29, 30, 31, 32, 33, 34, 35, 36, 37, 38, 39, 40, 41, 42, 43, 44, 45, 46, 47, 48, 219]\n",
      "Their percentage gap are:\n",
      " [99.6, 100.0, 100.0, 99.8, 100.0, 100.0, 99.6, 99.8, 100.0, 99.8, 99.8, 99.8, 99.8, 99.6, 99.8, 99.8, 100.0, 100.0, 99.6, 99.8, 99.6, 99.4, 98.8, 99.8, 98.6, 99.0, 99.8]\n",
      "# ====================================================== #\n",
      "disc loss 0.3336871862411499 gen loss 1.0079753398895264\n",
      "disc loss 0.31952935457229614 gen loss 0.9608176350593567\n",
      "disc loss 0.30593234300613403 gen loss 1.0995941162109375\n",
      "disc loss 0.21917229890823364 gen loss 1.1186890602111816\n",
      "disc loss 0.31568241119384766 gen loss 1.0879284143447876\n",
      "disc loss 0.24505570530891418 gen loss 1.1130945682525635\n",
      "disc loss 0.2969561219215393 gen loss 1.0324654579162598\n",
      "disc loss 0.2905791997909546 gen loss 0.9877395629882812\n"
     ]
    },
    {
     "name": "stderr",
     "output_type": "stream",
     "text": [
      "C:\\Users\\canal\\AppData\\Roaming\\Python\\Python38\\site-packages\\numpy\\lib\\function_base.py:2642: RuntimeWarning: invalid value encountered in true_divide\n",
      "  c /= stddev[:, None]\n",
      "C:\\Users\\canal\\AppData\\Roaming\\Python\\Python38\\site-packages\\numpy\\lib\\function_base.py:2643: RuntimeWarning: invalid value encountered in true_divide\n",
      "  c /= stddev[None, :]\n"
     ]
    },
    {
     "name": "stdout",
     "output_type": "stream",
     "text": [
      "#========== evaluating for epoch 206 ==========#\n",
      ">>> MMD | abs(D_Entropy) | abs(D_Distance) | Pearson Corr \n",
      "0.059844 , 0.022931 , 0.038365 , nan\n",
      "# ================== Sampling 500 sequences at epoch 206 ================== #\n",
      "The loci with percentage of gap >= 95% in the cleaned MSA: \n",
      " [0, 1, 25, 26, 27, 28, 29, 30, 31, 32, 33, 34, 35, 36, 37, 38, 39, 40, 41, 42, 43, 44, 45, 46, 47, 48, 219]\n",
      "Their percentage gap are:\n",
      " [100.0, 99.8, 100.0, 99.8, 100.0, 99.8, 100.0, 100.0, 100.0, 99.8, 99.8, 99.8, 99.8, 99.8, 99.8, 99.8, 99.8, 100.0, 100.0, 99.6, 99.8, 99.8, 100.0, 99.6, 99.6, 99.2, 100.0]\n",
      "# ====================================================== #\n",
      "disc loss 0.25790050625801086 gen loss 0.9933502674102783\n",
      "disc loss 0.3614236116409302 gen loss 1.0363380908966064\n",
      "disc loss 0.32827311754226685 gen loss 1.0475468635559082\n",
      "disc loss 0.2931460440158844 gen loss 1.0618964433670044\n",
      "disc loss 0.2938394546508789 gen loss 1.0142927169799805\n",
      "disc loss 0.30303698778152466 gen loss 0.9716206789016724\n",
      "disc loss 0.27643272280693054 gen loss 0.9607589244842529\n",
      "disc loss 0.3066232204437256 gen loss 1.0948331356048584\n"
     ]
    },
    {
     "name": "stderr",
     "output_type": "stream",
     "text": [
      "C:\\Users\\canal\\AppData\\Roaming\\Python\\Python38\\site-packages\\numpy\\lib\\function_base.py:2642: RuntimeWarning: invalid value encountered in true_divide\n",
      "  c /= stddev[:, None]\n",
      "C:\\Users\\canal\\AppData\\Roaming\\Python\\Python38\\site-packages\\numpy\\lib\\function_base.py:2643: RuntimeWarning: invalid value encountered in true_divide\n",
      "  c /= stddev[None, :]\n"
     ]
    },
    {
     "name": "stdout",
     "output_type": "stream",
     "text": [
      "#========== evaluating for epoch 208 ==========#\n",
      ">>> MMD | abs(D_Entropy) | abs(D_Distance) | Pearson Corr \n",
      "0.056877 , 0.022331 , 0.038943 , nan\n",
      "# ================== Sampling 500 sequences at epoch 208 ================== #\n",
      "The loci with percentage of gap >= 95% in the cleaned MSA: \n",
      " [0, 1, 25, 26, 27, 28, 29, 30, 31, 32, 33, 34, 35, 36, 37, 38, 39, 40, 41, 42, 43, 44, 45, 46, 47, 48, 219]\n",
      "Their percentage gap are:\n",
      " [100.0, 100.0, 100.0, 100.0, 100.0, 100.0, 100.0, 100.0, 100.0, 100.0, 100.0, 99.8, 99.8, 100.0, 100.0, 100.0, 100.0, 100.0, 100.0, 100.0, 100.0, 100.0, 100.0, 100.0, 100.0, 99.4, 100.0]\n",
      "# ====================================================== #\n",
      "disc loss 0.2577904164791107 gen loss 1.166101336479187\n",
      "disc loss 0.33070385456085205 gen loss 1.0530242919921875\n",
      "disc loss 0.29477018117904663 gen loss 1.0740457773208618\n",
      "disc loss 0.29515355825424194 gen loss 1.1925344467163086\n",
      "disc loss 0.28332778811454773 gen loss 1.113619327545166\n",
      "disc loss 0.34719598293304443 gen loss 1.1297593116760254\n",
      "disc loss 0.3692679703235626 gen loss 0.9904983043670654\n",
      "disc loss 0.2972848415374756 gen loss 0.9055126905441284\n"
     ]
    },
    {
     "name": "stderr",
     "output_type": "stream",
     "text": [
      "C:\\Users\\canal\\AppData\\Roaming\\Python\\Python38\\site-packages\\numpy\\lib\\function_base.py:2642: RuntimeWarning: invalid value encountered in true_divide\n",
      "  c /= stddev[:, None]\n",
      "C:\\Users\\canal\\AppData\\Roaming\\Python\\Python38\\site-packages\\numpy\\lib\\function_base.py:2643: RuntimeWarning: invalid value encountered in true_divide\n",
      "  c /= stddev[None, :]\n"
     ]
    },
    {
     "name": "stdout",
     "output_type": "stream",
     "text": [
      "#========== evaluating for epoch 210 ==========#\n",
      ">>> MMD | abs(D_Entropy) | abs(D_Distance) | Pearson Corr \n",
      "0.056901 , 0.020033 , 0.035372 , nan\n",
      "# ================== Sampling 500 sequences at epoch 210 ================== #\n",
      "The loci with percentage of gap >= 95% in the cleaned MSA: \n",
      " [0, 1, 25, 26, 27, 28, 29, 30, 31, 32, 33, 34, 35, 36, 37, 38, 39, 40, 41, 42, 43, 44, 45, 46, 47, 48, 219]\n",
      "Their percentage gap are:\n",
      " [100.0, 100.0, 100.0, 100.0, 100.0, 100.0, 100.0, 100.0, 100.0, 100.0, 99.8, 100.0, 99.8, 99.8, 100.0, 100.0, 100.0, 99.8, 100.0, 100.0, 99.6, 100.0, 99.8, 99.8, 99.8, 98.2, 100.0]\n",
      "# ====================================================== #\n",
      "disc loss 0.2885006070137024 gen loss 1.1598988771438599\n",
      "disc loss 0.32039812207221985 gen loss 0.963576078414917\n",
      "disc loss 0.33539900183677673 gen loss 1.0688773393630981\n",
      "disc loss 0.3068535327911377 gen loss 1.1274051666259766\n",
      "disc loss 0.30446046590805054 gen loss 1.110353946685791\n",
      "disc loss 0.40918952226638794 gen loss 1.1885005235671997\n",
      "disc loss 0.21107764542102814 gen loss 1.0446536540985107\n",
      "disc loss 0.3221772611141205 gen loss 1.1168642044067383\n"
     ]
    },
    {
     "name": "stderr",
     "output_type": "stream",
     "text": [
      "C:\\Users\\canal\\AppData\\Roaming\\Python\\Python38\\site-packages\\numpy\\lib\\function_base.py:2642: RuntimeWarning: invalid value encountered in true_divide\n",
      "  c /= stddev[:, None]\n",
      "C:\\Users\\canal\\AppData\\Roaming\\Python\\Python38\\site-packages\\numpy\\lib\\function_base.py:2643: RuntimeWarning: invalid value encountered in true_divide\n",
      "  c /= stddev[None, :]\n"
     ]
    },
    {
     "name": "stdout",
     "output_type": "stream",
     "text": [
      "#========== evaluating for epoch 212 ==========#\n",
      ">>> MMD | abs(D_Entropy) | abs(D_Distance) | Pearson Corr \n",
      "0.062388 , 0.02235 , 0.036894 , nan\n",
      "# ================== Sampling 500 sequences at epoch 212 ================== #\n",
      "The loci with percentage of gap >= 95% in the cleaned MSA: \n",
      " [0, 1, 25, 26, 27, 28, 29, 30, 31, 32, 33, 34, 35, 36, 37, 38, 39, 40, 41, 42, 43, 44, 45, 46, 47, 48, 219]\n",
      "Their percentage gap are:\n",
      " [100.0, 100.0, 99.8, 99.8, 100.0, 100.0, 100.0, 100.0, 100.0, 99.6, 100.0, 100.0, 100.0, 99.8, 100.0, 100.0, 100.0, 100.0, 100.0, 100.0, 99.6, 99.8, 99.4, 99.4, 99.4, 97.4, 100.0]\n",
      "# ====================================================== #\n",
      "disc loss 0.27843210101127625 gen loss 1.0270767211914062\n",
      "disc loss 0.3049589693546295 gen loss 0.9594796299934387\n",
      "disc loss 0.2716081738471985 gen loss 1.0292603969573975\n",
      "disc loss 0.255711168050766 gen loss 1.0316553115844727\n",
      "disc loss 0.31599462032318115 gen loss 1.1360859870910645\n",
      "disc loss 0.21110428869724274 gen loss 1.113282561302185\n",
      "disc loss 0.2676936984062195 gen loss 0.9566301107406616\n",
      "disc loss 0.3071178197860718 gen loss 0.8995830416679382\n"
     ]
    },
    {
     "name": "stderr",
     "output_type": "stream",
     "text": [
      "C:\\Users\\canal\\AppData\\Roaming\\Python\\Python38\\site-packages\\numpy\\lib\\function_base.py:2642: RuntimeWarning: invalid value encountered in true_divide\n",
      "  c /= stddev[:, None]\n",
      "C:\\Users\\canal\\AppData\\Roaming\\Python\\Python38\\site-packages\\numpy\\lib\\function_base.py:2643: RuntimeWarning: invalid value encountered in true_divide\n",
      "  c /= stddev[None, :]\n"
     ]
    },
    {
     "name": "stdout",
     "output_type": "stream",
     "text": [
      "#========== evaluating for epoch 214 ==========#\n",
      ">>> MMD | abs(D_Entropy) | abs(D_Distance) | Pearson Corr \n",
      "0.062485 , 0.022745 , 0.03574 , nan\n",
      "# ================== Sampling 500 sequences at epoch 214 ================== #\n",
      "The loci with percentage of gap >= 95% in the cleaned MSA: \n",
      " [0, 1, 25, 26, 27, 28, 29, 30, 31, 32, 33, 34, 35, 36, 37, 38, 39, 40, 41, 42, 43, 44, 45, 46, 47, 48, 219]\n",
      "Their percentage gap are:\n",
      " [100.0, 100.0, 100.0, 100.0, 99.8, 100.0, 100.0, 100.0, 100.0, 100.0, 100.0, 100.0, 100.0, 99.8, 99.4, 99.8, 100.0, 99.8, 100.0, 100.0, 99.2, 99.4, 99.8, 100.0, 99.8, 97.4, 100.0]\n",
      "# ====================================================== #\n",
      "disc loss 0.24500079452991486 gen loss 1.2246479988098145\n",
      "disc loss 0.2268816977739334 gen loss 0.9535462856292725\n",
      "disc loss 0.3283274173736572 gen loss 1.1442723274230957\n",
      "disc loss 0.24422234296798706 gen loss 1.074086308479309\n",
      "disc loss 0.3277833163738251 gen loss 1.0217355489730835\n",
      "disc loss 0.2485112100839615 gen loss 1.0662400722503662\n",
      "disc loss 0.3232339024543762 gen loss 1.1215482950210571\n",
      "disc loss 0.2760118842124939 gen loss 1.059944748878479\n"
     ]
    },
    {
     "name": "stderr",
     "output_type": "stream",
     "text": [
      "C:\\Users\\canal\\AppData\\Roaming\\Python\\Python38\\site-packages\\numpy\\lib\\function_base.py:2642: RuntimeWarning: invalid value encountered in true_divide\n",
      "  c /= stddev[:, None]\n",
      "C:\\Users\\canal\\AppData\\Roaming\\Python\\Python38\\site-packages\\numpy\\lib\\function_base.py:2643: RuntimeWarning: invalid value encountered in true_divide\n",
      "  c /= stddev[None, :]\n"
     ]
    },
    {
     "name": "stdout",
     "output_type": "stream",
     "text": [
      "#========== evaluating for epoch 216 ==========#\n",
      ">>> MMD | abs(D_Entropy) | abs(D_Distance) | Pearson Corr \n",
      "0.060383 , 0.0228 , 0.038814 , nan\n",
      "# ================== Sampling 500 sequences at epoch 216 ================== #\n",
      "The loci with percentage of gap >= 95% in the cleaned MSA: \n",
      " [0, 1, 25, 26, 27, 28, 29, 30, 31, 32, 33, 34, 35, 36, 37, 38, 39, 40, 41, 42, 43, 44, 45, 46, 47, 48, 219]\n",
      "Their percentage gap are:\n",
      " [100.0, 100.0, 100.0, 100.0, 100.0, 100.0, 100.0, 100.0, 99.8, 100.0, 99.8, 100.0, 100.0, 100.0, 100.0, 100.0, 100.0, 100.0, 99.8, 100.0, 99.6, 100.0, 100.0, 99.8, 99.8, 99.0, 100.0]\n",
      "# ====================================================== #\n",
      "disc loss 0.30113130807876587 gen loss 0.9659850597381592\n",
      "disc loss 0.2549172341823578 gen loss 1.1488394737243652\n",
      "disc loss 0.3508044183254242 gen loss 1.0443954467773438\n",
      "disc loss 0.3067837953567505 gen loss 1.019587516784668\n",
      "disc loss 0.31520912051200867 gen loss 1.2708892822265625\n",
      "disc loss 0.31374260783195496 gen loss 0.996112585067749\n",
      "disc loss 0.38745296001434326 gen loss 1.2191708087921143\n",
      "disc loss 0.2707800567150116 gen loss 1.101048231124878\n"
     ]
    },
    {
     "name": "stderr",
     "output_type": "stream",
     "text": [
      "C:\\Users\\canal\\AppData\\Roaming\\Python\\Python38\\site-packages\\numpy\\lib\\function_base.py:2642: RuntimeWarning: invalid value encountered in true_divide\n",
      "  c /= stddev[:, None]\n",
      "C:\\Users\\canal\\AppData\\Roaming\\Python\\Python38\\site-packages\\numpy\\lib\\function_base.py:2643: RuntimeWarning: invalid value encountered in true_divide\n",
      "  c /= stddev[None, :]\n"
     ]
    },
    {
     "name": "stdout",
     "output_type": "stream",
     "text": [
      "#========== evaluating for epoch 218 ==========#\n",
      ">>> MMD | abs(D_Entropy) | abs(D_Distance) | Pearson Corr \n",
      "0.060805 , 0.023218 , 0.03588 , nan\n",
      "# ================== Sampling 500 sequences at epoch 218 ================== #\n",
      "The loci with percentage of gap >= 95% in the cleaned MSA: \n",
      " [0, 1, 25, 26, 27, 28, 29, 30, 31, 32, 33, 34, 35, 36, 37, 38, 39, 40, 41, 42, 43, 44, 45, 46, 47, 48, 219]\n",
      "Their percentage gap are:\n",
      " [100.0, 100.0, 100.0, 100.0, 100.0, 99.8, 100.0, 100.0, 99.8, 100.0, 100.0, 100.0, 100.0, 99.8, 99.6, 100.0, 100.0, 100.0, 100.0, 99.8, 99.8, 100.0, 100.0, 99.8, 99.6, 99.6, 100.0]\n",
      "# ====================================================== #\n",
      "disc loss 0.23346173763275146 gen loss 1.0802630186080933\n",
      "disc loss 0.36477434635162354 gen loss 1.1197495460510254\n",
      "disc loss 0.31748631596565247 gen loss 1.1071330308914185\n",
      "disc loss 0.30967310070991516 gen loss 1.044021725654602\n",
      "disc loss 0.36897385120391846 gen loss 0.9750672578811646\n",
      "disc loss 0.2741985321044922 gen loss 1.0499264001846313\n",
      "disc loss 0.2730095386505127 gen loss 1.017545461654663\n",
      "disc loss 0.3041244149208069 gen loss 1.010793685913086\n"
     ]
    },
    {
     "name": "stderr",
     "output_type": "stream",
     "text": [
      "C:\\Users\\canal\\AppData\\Roaming\\Python\\Python38\\site-packages\\numpy\\lib\\function_base.py:2642: RuntimeWarning: invalid value encountered in true_divide\n",
      "  c /= stddev[:, None]\n",
      "C:\\Users\\canal\\AppData\\Roaming\\Python\\Python38\\site-packages\\numpy\\lib\\function_base.py:2643: RuntimeWarning: invalid value encountered in true_divide\n",
      "  c /= stddev[None, :]\n"
     ]
    },
    {
     "name": "stdout",
     "output_type": "stream",
     "text": [
      "#========== evaluating for epoch 220 ==========#\n",
      ">>> MMD | abs(D_Entropy) | abs(D_Distance) | Pearson Corr \n",
      "0.060633 , 0.023665 , 0.037815 , nan\n",
      "# ================== Sampling 500 sequences at epoch 220 ================== #\n",
      "The loci with percentage of gap >= 95% in the cleaned MSA: \n",
      " [0, 1, 25, 26, 27, 28, 29, 30, 31, 32, 33, 34, 35, 36, 37, 38, 39, 40, 41, 42, 43, 44, 45, 46, 47, 48, 219]\n",
      "Their percentage gap are:\n",
      " [99.8, 100.0, 100.0, 100.0, 100.0, 100.0, 100.0, 100.0, 100.0, 100.0, 100.0, 100.0, 100.0, 100.0, 100.0, 100.0, 100.0, 100.0, 100.0, 100.0, 100.0, 100.0, 100.0, 100.0, 100.0, 99.6, 100.0]\n",
      "# ====================================================== #\n",
      "disc loss 0.3856995105743408 gen loss 0.879348635673523\n",
      "disc loss 0.2766050696372986 gen loss 1.0967847108840942\n",
      "disc loss 0.29804733395576477 gen loss 1.200881004333496\n",
      "disc loss 0.27184978127479553 gen loss 1.042445421218872\n",
      "disc loss 0.30031728744506836 gen loss 1.1655158996582031\n",
      "disc loss 0.3029944896697998 gen loss 1.0343879461288452\n",
      "disc loss 0.35131266713142395 gen loss 0.9336860179901123\n",
      "disc loss 0.2776024639606476 gen loss 1.0249159336090088\n"
     ]
    },
    {
     "name": "stderr",
     "output_type": "stream",
     "text": [
      "C:\\Users\\canal\\AppData\\Roaming\\Python\\Python38\\site-packages\\numpy\\lib\\function_base.py:2642: RuntimeWarning: invalid value encountered in true_divide\n",
      "  c /= stddev[:, None]\n",
      "C:\\Users\\canal\\AppData\\Roaming\\Python\\Python38\\site-packages\\numpy\\lib\\function_base.py:2643: RuntimeWarning: invalid value encountered in true_divide\n",
      "  c /= stddev[None, :]\n"
     ]
    },
    {
     "name": "stdout",
     "output_type": "stream",
     "text": [
      "#========== evaluating for epoch 222 ==========#\n",
      ">>> MMD | abs(D_Entropy) | abs(D_Distance) | Pearson Corr \n",
      "0.05968 , 0.023845 , 0.040256 , nan\n",
      "# ================== Sampling 500 sequences at epoch 222 ================== #\n",
      "The loci with percentage of gap >= 95% in the cleaned MSA: \n",
      " [0, 1, 25, 26, 27, 28, 29, 30, 31, 32, 33, 34, 35, 36, 37, 38, 39, 40, 41, 42, 43, 44, 45, 46, 47, 48, 219]\n",
      "Their percentage gap are:\n",
      " [100.0, 100.0, 100.0, 100.0, 100.0, 100.0, 100.0, 100.0, 100.0, 100.0, 100.0, 100.0, 100.0, 100.0, 100.0, 100.0, 100.0, 100.0, 100.0, 100.0, 100.0, 100.0, 100.0, 100.0, 100.0, 99.4, 100.0]\n",
      "# ====================================================== #\n",
      "disc loss 0.288352370262146 gen loss 1.1647939682006836\n",
      "disc loss 0.33734413981437683 gen loss 1.0191813707351685\n",
      "disc loss 0.368376761674881 gen loss 1.0420567989349365\n",
      "disc loss 0.29104310274124146 gen loss 1.0438967943191528\n",
      "disc loss 0.3792707026004791 gen loss 1.01145601272583\n",
      "disc loss 0.3035353422164917 gen loss 0.9648040533065796\n",
      "disc loss 0.2717970609664917 gen loss 1.0595927238464355\n",
      "disc loss 0.2860531210899353 gen loss 1.1517642736434937\n"
     ]
    },
    {
     "name": "stderr",
     "output_type": "stream",
     "text": [
      "C:\\Users\\canal\\AppData\\Roaming\\Python\\Python38\\site-packages\\numpy\\lib\\function_base.py:2642: RuntimeWarning: invalid value encountered in true_divide\n",
      "  c /= stddev[:, None]\n",
      "C:\\Users\\canal\\AppData\\Roaming\\Python\\Python38\\site-packages\\numpy\\lib\\function_base.py:2643: RuntimeWarning: invalid value encountered in true_divide\n",
      "  c /= stddev[None, :]\n"
     ]
    },
    {
     "name": "stdout",
     "output_type": "stream",
     "text": [
      "#========== evaluating for epoch 224 ==========#\n",
      ">>> MMD | abs(D_Entropy) | abs(D_Distance) | Pearson Corr \n",
      "0.058782 , 0.022282 , 0.033574 , nan\n",
      "# ================== Sampling 500 sequences at epoch 224 ================== #\n",
      "The loci with percentage of gap >= 95% in the cleaned MSA: \n",
      " [0, 1, 25, 26, 27, 28, 29, 30, 31, 32, 33, 34, 35, 36, 37, 38, 39, 40, 41, 42, 43, 44, 45, 46, 47, 48, 219]\n",
      "Their percentage gap are:\n",
      " [99.8, 100.0, 100.0, 100.0, 99.8, 100.0, 100.0, 100.0, 100.0, 100.0, 100.0, 100.0, 100.0, 100.0, 100.0, 100.0, 100.0, 100.0, 100.0, 100.0, 99.8, 100.0, 99.8, 100.0, 100.0, 99.6, 99.8]\n",
      "# ====================================================== #\n",
      "disc loss 0.2615361213684082 gen loss 1.064448356628418\n",
      "disc loss 0.4223530888557434 gen loss 0.893684983253479\n",
      "disc loss 0.27884772419929504 gen loss 1.1417934894561768\n",
      "disc loss 0.3178727626800537 gen loss 1.0457967519760132\n",
      "disc loss 0.2976778447628021 gen loss 1.140282154083252\n",
      "disc loss 0.3221835792064667 gen loss 1.1375148296356201\n",
      "disc loss 0.2666493058204651 gen loss 1.0511410236358643\n",
      "disc loss 0.24467067420482635 gen loss 1.0479841232299805\n"
     ]
    },
    {
     "name": "stderr",
     "output_type": "stream",
     "text": [
      "C:\\Users\\canal\\AppData\\Roaming\\Python\\Python38\\site-packages\\numpy\\lib\\function_base.py:2642: RuntimeWarning: invalid value encountered in true_divide\n",
      "  c /= stddev[:, None]\n",
      "C:\\Users\\canal\\AppData\\Roaming\\Python\\Python38\\site-packages\\numpy\\lib\\function_base.py:2643: RuntimeWarning: invalid value encountered in true_divide\n",
      "  c /= stddev[None, :]\n"
     ]
    },
    {
     "name": "stdout",
     "output_type": "stream",
     "text": [
      "#========== evaluating for epoch 226 ==========#\n",
      ">>> MMD | abs(D_Entropy) | abs(D_Distance) | Pearson Corr \n",
      "0.060375 , 0.023989 , 0.036764 , nan\n",
      "# ================== Sampling 500 sequences at epoch 226 ================== #\n",
      "The loci with percentage of gap >= 95% in the cleaned MSA: \n",
      " [0, 1, 25, 26, 27, 28, 29, 30, 31, 32, 33, 34, 35, 36, 37, 38, 39, 40, 41, 42, 43, 44, 45, 46, 47, 48, 219]\n",
      "Their percentage gap are:\n",
      " [100.0, 100.0, 100.0, 100.0, 100.0, 100.0, 100.0, 100.0, 100.0, 100.0, 100.0, 100.0, 100.0, 100.0, 100.0, 100.0, 100.0, 100.0, 100.0, 100.0, 99.6, 99.8, 100.0, 99.8, 99.8, 99.6, 100.0]\n",
      "# ====================================================== #\n",
      "disc loss 0.32755136489868164 gen loss 1.066705584526062\n",
      "disc loss 0.2491123378276825 gen loss 1.0430514812469482\n",
      "disc loss 0.29120200872421265 gen loss 1.037973403930664\n",
      "disc loss 0.30903637409210205 gen loss 0.9968315362930298\n",
      "disc loss 0.33511579036712646 gen loss 1.0183457136154175\n",
      "disc loss 0.24837931990623474 gen loss 1.0603203773498535\n",
      "disc loss 0.26803189516067505 gen loss 1.0973080396652222\n",
      "disc loss 0.2665756344795227 gen loss 0.9597556591033936\n"
     ]
    },
    {
     "name": "stderr",
     "output_type": "stream",
     "text": [
      "C:\\Users\\canal\\AppData\\Roaming\\Python\\Python38\\site-packages\\numpy\\lib\\function_base.py:2642: RuntimeWarning: invalid value encountered in true_divide\n",
      "  c /= stddev[:, None]\n",
      "C:\\Users\\canal\\AppData\\Roaming\\Python\\Python38\\site-packages\\numpy\\lib\\function_base.py:2643: RuntimeWarning: invalid value encountered in true_divide\n",
      "  c /= stddev[None, :]\n"
     ]
    },
    {
     "name": "stdout",
     "output_type": "stream",
     "text": [
      "#========== evaluating for epoch 228 ==========#\n",
      ">>> MMD | abs(D_Entropy) | abs(D_Distance) | Pearson Corr \n",
      "0.058534 , 0.024809 , 0.038378 , nan\n",
      "# ================== Sampling 500 sequences at epoch 228 ================== #\n",
      "The loci with percentage of gap >= 95% in the cleaned MSA: \n",
      " [0, 1, 25, 26, 27, 28, 29, 30, 31, 32, 33, 34, 35, 36, 37, 38, 39, 40, 41, 42, 43, 44, 45, 46, 47, 48, 219]\n",
      "Their percentage gap are:\n",
      " [100.0, 100.0, 100.0, 100.0, 100.0, 100.0, 100.0, 100.0, 100.0, 100.0, 100.0, 100.0, 100.0, 100.0, 100.0, 100.0, 100.0, 100.0, 100.0, 100.0, 99.4, 100.0, 100.0, 99.8, 100.0, 100.0, 100.0]\n",
      "# ====================================================== #\n",
      "disc loss 0.23264180123806 gen loss 1.0054197311401367\n",
      "disc loss 0.2845388650894165 gen loss 1.0000026226043701\n",
      "disc loss 0.23776599764823914 gen loss 1.0486817359924316\n",
      "disc loss 0.21806487441062927 gen loss 1.0702109336853027\n",
      "disc loss 0.2583456039428711 gen loss 1.1520986557006836\n",
      "disc loss 0.32191675901412964 gen loss 1.0297856330871582\n",
      "disc loss 0.2409464567899704 gen loss 1.1174192428588867\n",
      "disc loss 0.3136683404445648 gen loss 1.0562894344329834\n"
     ]
    },
    {
     "name": "stderr",
     "output_type": "stream",
     "text": [
      "C:\\Users\\canal\\AppData\\Roaming\\Python\\Python38\\site-packages\\numpy\\lib\\function_base.py:2642: RuntimeWarning: invalid value encountered in true_divide\n",
      "  c /= stddev[:, None]\n",
      "C:\\Users\\canal\\AppData\\Roaming\\Python\\Python38\\site-packages\\numpy\\lib\\function_base.py:2643: RuntimeWarning: invalid value encountered in true_divide\n",
      "  c /= stddev[None, :]\n"
     ]
    },
    {
     "name": "stdout",
     "output_type": "stream",
     "text": [
      "#========== evaluating for epoch 230 ==========#\n",
      ">>> MMD | abs(D_Entropy) | abs(D_Distance) | Pearson Corr \n",
      "0.063619 , 0.025738 , 0.042654 , nan\n",
      "# ================== Sampling 500 sequences at epoch 230 ================== #\n",
      "The loci with percentage of gap >= 95% in the cleaned MSA: \n",
      " [0, 1, 25, 26, 27, 28, 29, 30, 31, 32, 33, 34, 35, 36, 37, 38, 39, 40, 41, 42, 43, 44, 45, 46, 47, 48, 219]\n",
      "Their percentage gap are:\n",
      " [100.0, 99.8, 100.0, 100.0, 100.0, 100.0, 100.0, 100.0, 100.0, 100.0, 100.0, 100.0, 100.0, 100.0, 100.0, 100.0, 100.0, 100.0, 100.0, 100.0, 100.0, 100.0, 99.8, 100.0, 100.0, 100.0, 100.0]\n",
      "# ====================================================== #\n",
      "disc loss 0.2789834141731262 gen loss 1.0629384517669678\n",
      "disc loss 0.263470321893692 gen loss 1.0673270225524902\n",
      "disc loss 0.26017341017723083 gen loss 1.1723562479019165\n",
      "disc loss 0.2900402247905731 gen loss 1.1385422945022583\n",
      "disc loss 0.24267953634262085 gen loss 1.067432165145874\n",
      "disc loss 0.2666832208633423 gen loss 1.076514720916748\n",
      "disc loss 0.2775266170501709 gen loss 1.1037534475326538\n",
      "disc loss 0.3342737555503845 gen loss 1.104093074798584\n"
     ]
    },
    {
     "name": "stderr",
     "output_type": "stream",
     "text": [
      "C:\\Users\\canal\\AppData\\Roaming\\Python\\Python38\\site-packages\\numpy\\lib\\function_base.py:2642: RuntimeWarning: invalid value encountered in true_divide\n",
      "  c /= stddev[:, None]\n",
      "C:\\Users\\canal\\AppData\\Roaming\\Python\\Python38\\site-packages\\numpy\\lib\\function_base.py:2643: RuntimeWarning: invalid value encountered in true_divide\n",
      "  c /= stddev[None, :]\n"
     ]
    },
    {
     "name": "stdout",
     "output_type": "stream",
     "text": [
      "#========== evaluating for epoch 232 ==========#\n",
      ">>> MMD | abs(D_Entropy) | abs(D_Distance) | Pearson Corr \n",
      "0.065873 , 0.023715 , 0.034267 , nan\n",
      "# ================== Sampling 500 sequences at epoch 232 ================== #\n",
      "The loci with percentage of gap >= 95% in the cleaned MSA: \n",
      " [0, 1, 25, 26, 27, 28, 29, 30, 31, 32, 33, 34, 35, 36, 37, 38, 39, 40, 41, 42, 43, 44, 45, 46, 47, 48, 219]\n",
      "Their percentage gap are:\n",
      " [100.0, 100.0, 100.0, 100.0, 100.0, 99.8, 100.0, 99.8, 100.0, 100.0, 100.0, 100.0, 100.0, 100.0, 99.6, 99.8, 99.6, 99.4, 99.8, 100.0, 99.0, 99.8, 99.2, 99.8, 99.2, 97.6, 100.0]\n",
      "# ====================================================== #\n",
      "disc loss 0.26143983006477356 gen loss 1.088413953781128\n",
      "disc loss 0.2973378300666809 gen loss 1.048616647720337\n",
      "disc loss 0.260301798582077 gen loss 1.1557080745697021\n",
      "disc loss 0.2591245174407959 gen loss 1.1866517066955566\n",
      "disc loss 0.33011144399642944 gen loss 1.1123018264770508\n",
      "disc loss 0.31790706515312195 gen loss 1.065502643585205\n",
      "disc loss 0.2804121971130371 gen loss 1.1645207405090332\n",
      "disc loss 0.25866323709487915 gen loss 1.1193065643310547\n"
     ]
    },
    {
     "name": "stderr",
     "output_type": "stream",
     "text": [
      "C:\\Users\\canal\\AppData\\Roaming\\Python\\Python38\\site-packages\\numpy\\lib\\function_base.py:2642: RuntimeWarning: invalid value encountered in true_divide\n",
      "  c /= stddev[:, None]\n",
      "C:\\Users\\canal\\AppData\\Roaming\\Python\\Python38\\site-packages\\numpy\\lib\\function_base.py:2643: RuntimeWarning: invalid value encountered in true_divide\n",
      "  c /= stddev[None, :]\n"
     ]
    },
    {
     "name": "stdout",
     "output_type": "stream",
     "text": [
      "#========== evaluating for epoch 234 ==========#\n",
      ">>> MMD | abs(D_Entropy) | abs(D_Distance) | Pearson Corr \n",
      "0.066575 , 0.024748 , 0.021802 , nan\n",
      "# ================== Sampling 500 sequences at epoch 234 ================== #\n",
      "The loci with percentage of gap >= 95% in the cleaned MSA: \n",
      " [0, 1, 25, 26, 27, 28, 29, 30, 31, 32, 33, 34, 35, 36, 37, 38, 39, 40, 41, 42, 43, 44, 45, 46, 47, 48, 219]\n",
      "Their percentage gap are:\n",
      " [99.8, 99.6, 99.6, 99.4, 99.6, 99.8, 99.4, 99.4, 99.8, 99.4, 99.0, 99.6, 99.6, 99.8, 99.6, 99.4, 99.6, 99.6, 99.2, 99.8, 99.0, 99.4, 99.2, 99.2, 99.4, 98.6, 99.6]\n",
      "# ====================================================== #\n",
      "disc loss 0.2807053327560425 gen loss 1.2132207155227661\n",
      "disc loss 0.30947086215019226 gen loss 1.0547682046890259\n",
      "disc loss 0.404029905796051 gen loss 1.0667505264282227\n",
      "disc loss 0.16828037798404694 gen loss 1.140561819076538\n",
      "disc loss 0.24302572011947632 gen loss 1.1225653886795044\n",
      "disc loss 0.2586113214492798 gen loss 1.085174322128296\n",
      "disc loss 0.3004569411277771 gen loss 1.0518925189971924\n",
      "disc loss 0.4138597548007965 gen loss 1.1928598880767822\n"
     ]
    },
    {
     "name": "stderr",
     "output_type": "stream",
     "text": [
      "C:\\Users\\canal\\AppData\\Roaming\\Python\\Python38\\site-packages\\numpy\\lib\\function_base.py:2642: RuntimeWarning: invalid value encountered in true_divide\n",
      "  c /= stddev[:, None]\n",
      "C:\\Users\\canal\\AppData\\Roaming\\Python\\Python38\\site-packages\\numpy\\lib\\function_base.py:2643: RuntimeWarning: invalid value encountered in true_divide\n",
      "  c /= stddev[None, :]\n"
     ]
    },
    {
     "name": "stdout",
     "output_type": "stream",
     "text": [
      "#========== evaluating for epoch 236 ==========#\n",
      ">>> MMD | abs(D_Entropy) | abs(D_Distance) | Pearson Corr \n",
      "0.063565 , 0.019357 , 0.021638 , nan\n",
      "# ================== Sampling 500 sequences at epoch 236 ================== #\n",
      "The loci with percentage of gap >= 95% in the cleaned MSA: \n",
      " [0, 1, 25, 26, 27, 28, 29, 30, 31, 32, 33, 34, 35, 36, 37, 38, 39, 40, 41, 42, 43, 44, 45, 46, 47, 48, 219]\n",
      "Their percentage gap are:\n",
      " [99.0, 99.4, 99.4, 98.6, 98.8, 98.8, 99.4, 98.6, 97.8, 98.2, 98.6, 99.2, 98.8, 99.0, 97.6, 98.2, 97.8, 98.4, 98.4, 99.2, 96.4, 98.4, 96.8, 97.0, 98.2, 95.8, 98.8]\n",
      "# ====================================================== #\n",
      "disc loss 0.2635970711708069 gen loss 1.1325079202651978\n",
      "disc loss 0.3053145110607147 gen loss 1.1501646041870117\n",
      "disc loss 0.2422628104686737 gen loss 1.1357909440994263\n",
      "disc loss 0.29054003953933716 gen loss 1.0639675855636597\n",
      "disc loss 0.31013423204421997 gen loss 1.1994305849075317\n",
      "disc loss 0.3107537031173706 gen loss 1.1837338209152222\n",
      "disc loss 0.29661333560943604 gen loss 1.1520357131958008\n",
      "disc loss 0.3470923900604248 gen loss 0.9129818677902222\n"
     ]
    },
    {
     "name": "stderr",
     "output_type": "stream",
     "text": [
      "C:\\Users\\canal\\AppData\\Roaming\\Python\\Python38\\site-packages\\numpy\\lib\\function_base.py:2642: RuntimeWarning: invalid value encountered in true_divide\n",
      "  c /= stddev[:, None]\n",
      "C:\\Users\\canal\\AppData\\Roaming\\Python\\Python38\\site-packages\\numpy\\lib\\function_base.py:2643: RuntimeWarning: invalid value encountered in true_divide\n",
      "  c /= stddev[None, :]\n"
     ]
    },
    {
     "name": "stdout",
     "output_type": "stream",
     "text": [
      "#========== evaluating for epoch 238 ==========#\n",
      ">>> MMD | abs(D_Entropy) | abs(D_Distance) | Pearson Corr \n",
      "0.059904 , 0.021382 , 0.0011721 , nan\n",
      "# ================== Sampling 500 sequences at epoch 238 ================== #\n",
      "The loci with percentage of gap >= 95% in the cleaned MSA: \n",
      " [0, 1, 25, 26, 27, 28, 29, 30, 31, 32, 33, 34, 35, 36, 37, 38, 39, 40, 41, 42, 43, 44, 45, 46, 47, 48, 219]\n",
      "Their percentage gap are:\n",
      " [99.0, 99.6, 99.0, 98.8, 99.4, 99.4, 99.2, 99.0, 99.0, 98.6, 98.8, 99.0, 99.0, 98.8, 98.6, 99.0, 98.8, 98.8, 98.8, 99.2, 97.4, 98.8, 97.8, 98.2, 98.0, 97.0, 99.6]\n",
      "# ====================================================== #\n",
      "disc loss 0.2588410973548889 gen loss 1.0152631998062134\n",
      "disc loss 0.3577157258987427 gen loss 1.0785846710205078\n",
      "disc loss 0.27276545763015747 gen loss 1.095644235610962\n",
      "disc loss 0.3412229120731354 gen loss 1.0002896785736084\n",
      "disc loss 0.336174875497818 gen loss 1.029453992843628\n",
      "disc loss 0.3066648840904236 gen loss 1.085391879081726\n",
      "disc loss 0.304534912109375 gen loss 1.0471442937850952\n",
      "disc loss 0.33726969361305237 gen loss 1.0526524782180786\n"
     ]
    },
    {
     "name": "stderr",
     "output_type": "stream",
     "text": [
      "C:\\Users\\canal\\AppData\\Roaming\\Python\\Python38\\site-packages\\numpy\\lib\\function_base.py:2642: RuntimeWarning: invalid value encountered in true_divide\n",
      "  c /= stddev[:, None]\n",
      "C:\\Users\\canal\\AppData\\Roaming\\Python\\Python38\\site-packages\\numpy\\lib\\function_base.py:2643: RuntimeWarning: invalid value encountered in true_divide\n",
      "  c /= stddev[None, :]\n"
     ]
    },
    {
     "name": "stdout",
     "output_type": "stream",
     "text": [
      "#========== evaluating for epoch 240 ==========#\n",
      ">>> MMD | abs(D_Entropy) | abs(D_Distance) | Pearson Corr \n",
      "0.05978 , 0.022826 , 0.03514 , nan\n",
      "# ================== Sampling 500 sequences at epoch 240 ================== #\n",
      "The loci with percentage of gap >= 95% in the cleaned MSA: \n",
      " [0, 1, 25, 26, 27, 28, 29, 30, 31, 32, 33, 34, 35, 36, 37, 38, 39, 40, 41, 42, 43, 44, 45, 46, 47, 48, 219]\n",
      "Their percentage gap are:\n",
      " [100.0, 100.0, 100.0, 99.8, 99.8, 100.0, 100.0, 99.8, 99.6, 99.8, 99.8, 100.0, 100.0, 99.8, 99.8, 100.0, 99.8, 99.8, 100.0, 100.0, 98.8, 100.0, 100.0, 99.6, 99.4, 98.8, 100.0]\n",
      "# ====================================================== #\n",
      "disc loss 0.28133806586265564 gen loss 1.112947702407837\n",
      "disc loss 0.21626366674900055 gen loss 1.0699490308761597\n",
      "disc loss 0.3282983899116516 gen loss 1.0171685218811035\n",
      "disc loss 0.3934876322746277 gen loss 1.0834410190582275\n",
      "disc loss 0.2171008288860321 gen loss 1.0220694541931152\n",
      "disc loss 0.34857630729675293 gen loss 1.1004698276519775\n",
      "disc loss 0.31597453355789185 gen loss 0.9634673595428467\n",
      "disc loss 0.3277086019515991 gen loss 0.9979735612869263\n"
     ]
    },
    {
     "name": "stderr",
     "output_type": "stream",
     "text": [
      "C:\\Users\\canal\\AppData\\Roaming\\Python\\Python38\\site-packages\\numpy\\lib\\function_base.py:2642: RuntimeWarning: invalid value encountered in true_divide\n",
      "  c /= stddev[:, None]\n",
      "C:\\Users\\canal\\AppData\\Roaming\\Python\\Python38\\site-packages\\numpy\\lib\\function_base.py:2643: RuntimeWarning: invalid value encountered in true_divide\n",
      "  c /= stddev[None, :]\n"
     ]
    },
    {
     "name": "stdout",
     "output_type": "stream",
     "text": [
      "#========== evaluating for epoch 242 ==========#\n",
      ">>> MMD | abs(D_Entropy) | abs(D_Distance) | Pearson Corr \n",
      "0.06034 , 0.024014 , 0.036852 , nan\n",
      "# ================== Sampling 500 sequences at epoch 242 ================== #\n",
      "The loci with percentage of gap >= 95% in the cleaned MSA: \n",
      " [0, 1, 25, 26, 27, 28, 29, 30, 31, 32, 33, 34, 35, 36, 37, 38, 39, 40, 41, 42, 43, 44, 45, 46, 47, 48, 219]\n",
      "Their percentage gap are:\n",
      " [100.0, 100.0, 100.0, 100.0, 100.0, 100.0, 100.0, 100.0, 100.0, 100.0, 100.0, 100.0, 100.0, 100.0, 99.8, 99.8, 99.8, 99.8, 100.0, 100.0, 99.6, 100.0, 99.8, 99.8, 99.8, 98.6, 100.0]\n",
      "# ====================================================== #\n",
      "disc loss 0.33859699964523315 gen loss 1.0842616558074951\n",
      "disc loss 0.3478260040283203 gen loss 1.0757555961608887\n",
      "disc loss 0.4035302996635437 gen loss 1.0151629447937012\n",
      "disc loss 0.3237076997756958 gen loss 1.2093544006347656\n",
      "disc loss 0.3450530171394348 gen loss 0.8398839235305786\n",
      "disc loss 0.25974369049072266 gen loss 1.149312973022461\n",
      "disc loss 0.2877059876918793 gen loss 1.052690029144287\n",
      "disc loss 0.2950667142868042 gen loss 0.9899495840072632\n"
     ]
    },
    {
     "name": "stderr",
     "output_type": "stream",
     "text": [
      "C:\\Users\\canal\\AppData\\Roaming\\Python\\Python38\\site-packages\\numpy\\lib\\function_base.py:2642: RuntimeWarning: invalid value encountered in true_divide\n",
      "  c /= stddev[:, None]\n",
      "C:\\Users\\canal\\AppData\\Roaming\\Python\\Python38\\site-packages\\numpy\\lib\\function_base.py:2643: RuntimeWarning: invalid value encountered in true_divide\n",
      "  c /= stddev[None, :]\n"
     ]
    },
    {
     "name": "stdout",
     "output_type": "stream",
     "text": [
      "#========== evaluating for epoch 244 ==========#\n",
      ">>> MMD | abs(D_Entropy) | abs(D_Distance) | Pearson Corr \n",
      "0.06215 , 0.022189 , 0.037692 , nan\n",
      "# ================== Sampling 500 sequences at epoch 244 ================== #\n",
      "The loci with percentage of gap >= 95% in the cleaned MSA: \n",
      " [0, 1, 25, 26, 27, 28, 29, 30, 31, 32, 33, 34, 35, 36, 37, 38, 39, 40, 41, 42, 43, 44, 45, 46, 47, 48, 219]\n",
      "Their percentage gap are:\n",
      " [100.0, 100.0, 100.0, 100.0, 100.0, 100.0, 100.0, 100.0, 100.0, 100.0, 100.0, 100.0, 100.0, 100.0, 100.0, 100.0, 100.0, 100.0, 100.0, 100.0, 99.4, 99.8, 100.0, 99.8, 99.6, 97.8, 100.0]\n",
      "# ====================================================== #\n",
      "disc loss 0.24546140432357788 gen loss 1.017394781112671\n",
      "disc loss 0.27430492639541626 gen loss 1.047628402709961\n",
      "disc loss 0.30143630504608154 gen loss 1.0701508522033691\n",
      "disc loss 0.3520497679710388 gen loss 1.0922746658325195\n",
      "disc loss 0.3171321451663971 gen loss 1.052486777305603\n",
      "disc loss 0.2601846754550934 gen loss 1.1325961351394653\n",
      "disc loss 0.28850027918815613 gen loss 1.0219945907592773\n",
      "disc loss 0.30372244119644165 gen loss 1.09027898311615\n"
     ]
    },
    {
     "name": "stderr",
     "output_type": "stream",
     "text": [
      "C:\\Users\\canal\\AppData\\Roaming\\Python\\Python38\\site-packages\\numpy\\lib\\function_base.py:2642: RuntimeWarning: invalid value encountered in true_divide\n",
      "  c /= stddev[:, None]\n",
      "C:\\Users\\canal\\AppData\\Roaming\\Python\\Python38\\site-packages\\numpy\\lib\\function_base.py:2643: RuntimeWarning: invalid value encountered in true_divide\n",
      "  c /= stddev[None, :]\n"
     ]
    },
    {
     "name": "stdout",
     "output_type": "stream",
     "text": [
      "#========== evaluating for epoch 246 ==========#\n",
      ">>> MMD | abs(D_Entropy) | abs(D_Distance) | Pearson Corr \n",
      "0.060859 , 0.023498 , 0.035849 , nan\n",
      "# ================== Sampling 500 sequences at epoch 246 ================== #\n",
      "The loci with percentage of gap >= 95% in the cleaned MSA: \n",
      " [0, 1, 25, 26, 27, 28, 29, 30, 31, 32, 33, 34, 35, 36, 37, 38, 39, 40, 41, 42, 43, 44, 45, 46, 47, 48, 219]\n",
      "Their percentage gap are:\n",
      " [100.0, 100.0, 99.8, 100.0, 100.0, 100.0, 100.0, 99.8, 100.0, 99.8, 99.8, 100.0, 99.8, 100.0, 100.0, 99.8, 100.0, 99.8, 99.8, 100.0, 99.8, 100.0, 100.0, 99.8, 99.8, 99.0, 100.0]\n",
      "# ====================================================== #\n",
      "disc loss 0.2790297269821167 gen loss 1.1479511260986328\n",
      "disc loss 0.41298529505729675 gen loss 1.036143183708191\n",
      "disc loss 0.2444404661655426 gen loss 1.025609016418457\n",
      "disc loss 0.3373478949069977 gen loss 1.0877357721328735\n",
      "disc loss 0.33314278721809387 gen loss 1.055941104888916\n",
      "disc loss 0.23548415303230286 gen loss 1.0724431276321411\n",
      "disc loss 0.29740941524505615 gen loss 1.1138551235198975\n",
      "disc loss 0.21613666415214539 gen loss 1.262328863143921\n"
     ]
    },
    {
     "name": "stderr",
     "output_type": "stream",
     "text": [
      "C:\\Users\\canal\\AppData\\Roaming\\Python\\Python38\\site-packages\\numpy\\lib\\function_base.py:2642: RuntimeWarning: invalid value encountered in true_divide\n",
      "  c /= stddev[:, None]\n",
      "C:\\Users\\canal\\AppData\\Roaming\\Python\\Python38\\site-packages\\numpy\\lib\\function_base.py:2643: RuntimeWarning: invalid value encountered in true_divide\n",
      "  c /= stddev[None, :]\n"
     ]
    },
    {
     "name": "stdout",
     "output_type": "stream",
     "text": [
      "#========== evaluating for epoch 248 ==========#\n",
      ">>> MMD | abs(D_Entropy) | abs(D_Distance) | Pearson Corr \n",
      "0.058902 , 0.023058 , 0.036217 , nan\n",
      "# ================== Sampling 500 sequences at epoch 248 ================== #\n",
      "The loci with percentage of gap >= 95% in the cleaned MSA: \n",
      " [0, 1, 25, 26, 27, 28, 29, 30, 31, 32, 33, 34, 35, 36, 37, 38, 39, 40, 41, 42, 43, 44, 45, 46, 47, 48, 219]\n",
      "Their percentage gap are:\n",
      " [100.0, 100.0, 100.0, 100.0, 100.0, 100.0, 100.0, 100.0, 100.0, 100.0, 100.0, 100.0, 100.0, 100.0, 100.0, 100.0, 100.0, 100.0, 100.0, 100.0, 100.0, 100.0, 100.0, 99.6, 99.0, 98.4, 99.8]\n",
      "# ====================================================== #\n",
      "disc loss 0.2608067989349365 gen loss 1.000158667564392\n",
      "disc loss 0.23409485816955566 gen loss 1.0862178802490234\n",
      "disc loss 0.17249876260757446 gen loss 1.2289973497390747\n",
      "disc loss 0.32185521721839905 gen loss 1.1261234283447266\n",
      "disc loss 0.3313972055912018 gen loss 1.0192617177963257\n",
      "disc loss 0.31462791562080383 gen loss 1.0710811614990234\n",
      "disc loss 0.29266273975372314 gen loss 0.9287031292915344\n",
      "disc loss 0.41420596837997437 gen loss 1.14540433883667\n"
     ]
    },
    {
     "name": "stderr",
     "output_type": "stream",
     "text": [
      "C:\\Users\\canal\\AppData\\Roaming\\Python\\Python38\\site-packages\\numpy\\lib\\function_base.py:2642: RuntimeWarning: invalid value encountered in true_divide\n",
      "  c /= stddev[:, None]\n",
      "C:\\Users\\canal\\AppData\\Roaming\\Python\\Python38\\site-packages\\numpy\\lib\\function_base.py:2643: RuntimeWarning: invalid value encountered in true_divide\n",
      "  c /= stddev[None, :]\n"
     ]
    },
    {
     "name": "stdout",
     "output_type": "stream",
     "text": [
      "#========== evaluating for epoch 250 ==========#\n",
      ">>> MMD | abs(D_Entropy) | abs(D_Distance) | Pearson Corr \n",
      "0.063295 , 0.024489 , 0.04136 , nan\n",
      "# ================== Sampling 500 sequences at epoch 250 ================== #\n",
      "The loci with percentage of gap >= 95% in the cleaned MSA: \n",
      " [0, 1, 25, 26, 27, 28, 29, 30, 31, 32, 33, 34, 35, 36, 37, 38, 39, 40, 41, 42, 43, 44, 45, 46, 47, 48, 219]\n",
      "Their percentage gap are:\n",
      " [100.0, 100.0, 100.0, 100.0, 100.0, 100.0, 100.0, 100.0, 100.0, 99.8, 100.0, 100.0, 100.0, 100.0, 100.0, 100.0, 100.0, 100.0, 100.0, 100.0, 100.0, 100.0, 100.0, 100.0, 99.8, 99.2, 100.0]\n",
      "# ====================================================== #\n",
      "disc loss 0.22905448079109192 gen loss 1.0742509365081787\n",
      "disc loss 0.2510215640068054 gen loss 1.1135573387145996\n",
      "disc loss 0.32626813650131226 gen loss 1.0129746198654175\n",
      "disc loss 0.29958534240722656 gen loss 1.2023502588272095\n",
      "disc loss 0.2988186776638031 gen loss 1.0736048221588135\n",
      "disc loss 0.2906036972999573 gen loss 1.1965287923812866\n",
      "disc loss 0.28399747610092163 gen loss 1.0400195121765137\n",
      "disc loss 0.2951282858848572 gen loss 1.003865361213684\n"
     ]
    },
    {
     "name": "stderr",
     "output_type": "stream",
     "text": [
      "C:\\Users\\canal\\AppData\\Roaming\\Python\\Python38\\site-packages\\numpy\\lib\\function_base.py:2642: RuntimeWarning: invalid value encountered in true_divide\n",
      "  c /= stddev[:, None]\n",
      "C:\\Users\\canal\\AppData\\Roaming\\Python\\Python38\\site-packages\\numpy\\lib\\function_base.py:2643: RuntimeWarning: invalid value encountered in true_divide\n",
      "  c /= stddev[None, :]\n"
     ]
    },
    {
     "name": "stdout",
     "output_type": "stream",
     "text": [
      "#========== evaluating for epoch 252 ==========#\n",
      ">>> MMD | abs(D_Entropy) | abs(D_Distance) | Pearson Corr \n",
      "0.058611 , 0.022987 , 0.035486 , nan\n",
      "# ================== Sampling 500 sequences at epoch 252 ================== #\n",
      "The loci with percentage of gap >= 95% in the cleaned MSA: \n",
      " [0, 1, 25, 26, 27, 28, 29, 30, 31, 32, 33, 34, 35, 36, 37, 38, 39, 40, 41, 42, 43, 44, 45, 46, 47, 48, 219]\n",
      "Their percentage gap are:\n",
      " [100.0, 100.0, 100.0, 100.0, 100.0, 100.0, 100.0, 100.0, 100.0, 100.0, 100.0, 100.0, 100.0, 100.0, 100.0, 100.0, 100.0, 100.0, 100.0, 100.0, 99.8, 100.0, 100.0, 100.0, 99.8, 99.4, 100.0]\n",
      "# ====================================================== #\n",
      "disc loss 0.29607483744621277 gen loss 1.163092851638794\n",
      "disc loss 0.29663681983947754 gen loss 1.1189649105072021\n",
      "disc loss 0.29996752738952637 gen loss 1.2191083431243896\n",
      "disc loss 0.3064182698726654 gen loss 1.0396660566329956\n",
      "disc loss 0.30889901518821716 gen loss 1.1103904247283936\n",
      "disc loss 0.27621763944625854 gen loss 1.1023234128952026\n",
      "disc loss 0.1652367115020752 gen loss 1.1244815587997437\n",
      "disc loss 0.33714795112609863 gen loss 1.0545156002044678\n"
     ]
    },
    {
     "name": "stderr",
     "output_type": "stream",
     "text": [
      "C:\\Users\\canal\\AppData\\Roaming\\Python\\Python38\\site-packages\\numpy\\lib\\function_base.py:2642: RuntimeWarning: invalid value encountered in true_divide\n",
      "  c /= stddev[:, None]\n",
      "C:\\Users\\canal\\AppData\\Roaming\\Python\\Python38\\site-packages\\numpy\\lib\\function_base.py:2643: RuntimeWarning: invalid value encountered in true_divide\n",
      "  c /= stddev[None, :]\n"
     ]
    },
    {
     "name": "stdout",
     "output_type": "stream",
     "text": [
      "#========== evaluating for epoch 254 ==========#\n",
      ">>> MMD | abs(D_Entropy) | abs(D_Distance) | Pearson Corr \n",
      "0.062259 , 0.023649 , 0.038292 , nan\n",
      "# ================== Sampling 500 sequences at epoch 254 ================== #\n",
      "The loci with percentage of gap >= 95% in the cleaned MSA: \n",
      " [0, 1, 25, 26, 27, 28, 29, 30, 31, 32, 33, 34, 35, 36, 37, 38, 39, 40, 41, 42, 43, 44, 45, 46, 47, 48, 219]\n",
      "Their percentage gap are:\n",
      " [100.0, 100.0, 100.0, 99.8, 100.0, 100.0, 100.0, 100.0, 100.0, 100.0, 100.0, 100.0, 100.0, 99.8, 100.0, 100.0, 100.0, 100.0, 99.6, 100.0, 99.6, 100.0, 99.8, 99.8, 99.6, 99.4, 100.0]\n",
      "# ====================================================== #\n",
      "disc loss 0.2439577579498291 gen loss 1.0953636169433594\n",
      "disc loss 0.32308608293533325 gen loss 1.1252543926239014\n",
      "disc loss 0.2637872099876404 gen loss 1.214457392692566\n",
      "disc loss 0.2832847237586975 gen loss 1.1904867887496948\n",
      "disc loss 0.320596307516098 gen loss 1.184415340423584\n",
      "disc loss 0.2791256010532379 gen loss 1.0006957054138184\n",
      "disc loss 0.32449615001678467 gen loss 1.1346473693847656\n",
      "disc loss 0.2915445566177368 gen loss 1.0368447303771973\n"
     ]
    },
    {
     "name": "stderr",
     "output_type": "stream",
     "text": [
      "C:\\Users\\canal\\AppData\\Roaming\\Python\\Python38\\site-packages\\numpy\\lib\\function_base.py:2642: RuntimeWarning: invalid value encountered in true_divide\n",
      "  c /= stddev[:, None]\n",
      "C:\\Users\\canal\\AppData\\Roaming\\Python\\Python38\\site-packages\\numpy\\lib\\function_base.py:2643: RuntimeWarning: invalid value encountered in true_divide\n",
      "  c /= stddev[None, :]\n"
     ]
    },
    {
     "name": "stdout",
     "output_type": "stream",
     "text": [
      "#========== evaluating for epoch 256 ==========#\n",
      ">>> MMD | abs(D_Entropy) | abs(D_Distance) | Pearson Corr \n",
      "0.058422 , 0.023504 , 0.037915 , nan\n",
      "# ================== Sampling 500 sequences at epoch 256 ================== #\n",
      "The loci with percentage of gap >= 95% in the cleaned MSA: \n",
      " [0, 1, 25, 26, 27, 28, 29, 30, 31, 32, 33, 34, 35, 36, 37, 38, 39, 40, 41, 42, 43, 44, 45, 46, 47, 48, 219]\n",
      "Their percentage gap are:\n",
      " [100.0, 100.0, 100.0, 100.0, 100.0, 100.0, 100.0, 100.0, 100.0, 100.0, 100.0, 100.0, 100.0, 100.0, 100.0, 100.0, 100.0, 100.0, 100.0, 100.0, 100.0, 100.0, 100.0, 99.8, 99.6, 99.8, 100.0]\n",
      "# ====================================================== #\n",
      "disc loss 0.2919412851333618 gen loss 1.1210746765136719\n",
      "disc loss 0.35455965995788574 gen loss 0.9991276264190674\n",
      "disc loss 0.23542945086956024 gen loss 1.0182287693023682\n",
      "disc loss 0.24818602204322815 gen loss 1.202510952949524\n",
      "disc loss 0.30227386951446533 gen loss 1.0434900522232056\n",
      "disc loss 0.18951347470283508 gen loss 1.0311496257781982\n",
      "disc loss 0.31665968894958496 gen loss 1.189110279083252\n",
      "disc loss 0.2920164465904236 gen loss 1.010785460472107\n"
     ]
    },
    {
     "name": "stderr",
     "output_type": "stream",
     "text": [
      "C:\\Users\\canal\\AppData\\Roaming\\Python\\Python38\\site-packages\\numpy\\lib\\function_base.py:2642: RuntimeWarning: invalid value encountered in true_divide\n",
      "  c /= stddev[:, None]\n",
      "C:\\Users\\canal\\AppData\\Roaming\\Python\\Python38\\site-packages\\numpy\\lib\\function_base.py:2643: RuntimeWarning: invalid value encountered in true_divide\n",
      "  c /= stddev[None, :]\n"
     ]
    },
    {
     "name": "stdout",
     "output_type": "stream",
     "text": [
      "#========== evaluating for epoch 258 ==========#\n",
      ">>> MMD | abs(D_Entropy) | abs(D_Distance) | Pearson Corr \n",
      "0.060258 , 0.023835 , 0.039211 , nan\n",
      "# ================== Sampling 500 sequences at epoch 258 ================== #\n",
      "The loci with percentage of gap >= 95% in the cleaned MSA: \n",
      " [0, 1, 25, 26, 27, 28, 29, 30, 31, 32, 33, 34, 35, 36, 37, 38, 39, 40, 41, 42, 43, 44, 45, 46, 47, 48, 219]\n",
      "Their percentage gap are:\n",
      " [100.0, 100.0, 100.0, 100.0, 100.0, 100.0, 100.0, 99.8, 100.0, 100.0, 100.0, 100.0, 100.0, 100.0, 100.0, 100.0, 100.0, 100.0, 100.0, 100.0, 100.0, 100.0, 99.8, 99.8, 99.8, 98.8, 100.0]\n",
      "# ====================================================== #\n",
      "disc loss 0.33272284269332886 gen loss 1.0258030891418457\n",
      "disc loss 0.24702957272529602 gen loss 1.0700833797454834\n",
      "disc loss 0.3566385507583618 gen loss 1.0431678295135498\n",
      "disc loss 0.25991806387901306 gen loss 1.0991383790969849\n",
      "disc loss 0.28017425537109375 gen loss 1.1694374084472656\n",
      "disc loss 0.2858198881149292 gen loss 1.0467643737792969\n",
      "disc loss 0.21574363112449646 gen loss 1.154229998588562\n",
      "disc loss 0.3259974718093872 gen loss 0.9623137712478638\n"
     ]
    },
    {
     "name": "stderr",
     "output_type": "stream",
     "text": [
      "C:\\Users\\canal\\AppData\\Roaming\\Python\\Python38\\site-packages\\numpy\\lib\\function_base.py:2642: RuntimeWarning: invalid value encountered in true_divide\n",
      "  c /= stddev[:, None]\n",
      "C:\\Users\\canal\\AppData\\Roaming\\Python\\Python38\\site-packages\\numpy\\lib\\function_base.py:2643: RuntimeWarning: invalid value encountered in true_divide\n",
      "  c /= stddev[None, :]\n"
     ]
    },
    {
     "name": "stdout",
     "output_type": "stream",
     "text": [
      "#========== evaluating for epoch 260 ==========#\n",
      ">>> MMD | abs(D_Entropy) | abs(D_Distance) | Pearson Corr \n",
      "0.060198 , 0.024278 , 0.039156 , nan\n",
      "# ================== Sampling 500 sequences at epoch 260 ================== #\n",
      "The loci with percentage of gap >= 95% in the cleaned MSA: \n",
      " [0, 1, 25, 26, 27, 28, 29, 30, 31, 32, 33, 34, 35, 36, 37, 38, 39, 40, 41, 42, 43, 44, 45, 46, 47, 48, 219]\n",
      "Their percentage gap are:\n",
      " [100.0, 100.0, 100.0, 100.0, 100.0, 100.0, 100.0, 100.0, 100.0, 100.0, 100.0, 100.0, 100.0, 100.0, 100.0, 100.0, 100.0, 100.0, 100.0, 100.0, 100.0, 100.0, 100.0, 100.0, 99.8, 99.6, 100.0]\n",
      "# ====================================================== #\n",
      "disc loss 0.2838415801525116 gen loss 1.1572394371032715\n",
      "disc loss 0.23145794868469238 gen loss 1.1810333728790283\n",
      "disc loss 0.2845943570137024 gen loss 1.0845738649368286\n",
      "disc loss 0.2800446152687073 gen loss 1.0138068199157715\n",
      "disc loss 0.17274710536003113 gen loss 1.073035478591919\n",
      "disc loss 0.2855050265789032 gen loss 1.1005064249038696\n",
      "disc loss 0.25621435046195984 gen loss 1.1300206184387207\n",
      "disc loss 0.3208491802215576 gen loss 1.0198442935943604\n"
     ]
    },
    {
     "name": "stderr",
     "output_type": "stream",
     "text": [
      "C:\\Users\\canal\\AppData\\Roaming\\Python\\Python38\\site-packages\\numpy\\lib\\function_base.py:2642: RuntimeWarning: invalid value encountered in true_divide\n",
      "  c /= stddev[:, None]\n",
      "C:\\Users\\canal\\AppData\\Roaming\\Python\\Python38\\site-packages\\numpy\\lib\\function_base.py:2643: RuntimeWarning: invalid value encountered in true_divide\n",
      "  c /= stddev[None, :]\n"
     ]
    },
    {
     "name": "stdout",
     "output_type": "stream",
     "text": [
      "#========== evaluating for epoch 262 ==========#\n",
      ">>> MMD | abs(D_Entropy) | abs(D_Distance) | Pearson Corr \n",
      "0.065258 , 0.023986 , 0.044502 , nan\n",
      "# ================== Sampling 500 sequences at epoch 262 ================== #\n",
      "The loci with percentage of gap >= 95% in the cleaned MSA: \n",
      " [0, 1, 25, 26, 27, 28, 29, 30, 31, 32, 33, 34, 35, 36, 37, 38, 39, 40, 41, 42, 43, 44, 45, 46, 47, 48, 219]\n",
      "Their percentage gap are:\n",
      " [100.0, 100.0, 100.0, 100.0, 100.0, 100.0, 100.0, 100.0, 100.0, 100.0, 100.0, 100.0, 100.0, 100.0, 100.0, 100.0, 99.8, 100.0, 100.0, 100.0, 100.0, 100.0, 100.0, 100.0, 100.0, 99.6, 100.0]\n",
      "# ====================================================== #\n",
      "disc loss 0.23868043720722198 gen loss 1.1359491348266602\n",
      "disc loss 0.30107006430625916 gen loss 1.1625539064407349\n",
      "disc loss 0.22581811249256134 gen loss 1.1225981712341309\n",
      "disc loss 0.2905469238758087 gen loss 1.0022011995315552\n",
      "disc loss 0.1827702820301056 gen loss 1.2178220748901367\n",
      "disc loss 0.3639492094516754 gen loss 1.0526950359344482\n",
      "disc loss 0.2917768061161041 gen loss 1.0787461996078491\n",
      "disc loss 0.24021300673484802 gen loss 1.155796766281128\n"
     ]
    },
    {
     "name": "stderr",
     "output_type": "stream",
     "text": [
      "C:\\Users\\canal\\AppData\\Roaming\\Python\\Python38\\site-packages\\numpy\\lib\\function_base.py:2642: RuntimeWarning: invalid value encountered in true_divide\n",
      "  c /= stddev[:, None]\n",
      "C:\\Users\\canal\\AppData\\Roaming\\Python\\Python38\\site-packages\\numpy\\lib\\function_base.py:2643: RuntimeWarning: invalid value encountered in true_divide\n",
      "  c /= stddev[None, :]\n"
     ]
    },
    {
     "name": "stdout",
     "output_type": "stream",
     "text": [
      "#========== evaluating for epoch 264 ==========#\n",
      ">>> MMD | abs(D_Entropy) | abs(D_Distance) | Pearson Corr \n",
      "0.065295 , 0.023386 , 0.043936 , nan\n",
      "# ================== Sampling 500 sequences at epoch 264 ================== #\n",
      "The loci with percentage of gap >= 95% in the cleaned MSA: \n",
      " [0, 1, 25, 26, 27, 28, 29, 30, 31, 32, 33, 34, 35, 36, 37, 38, 39, 40, 41, 42, 43, 44, 45, 46, 47, 48, 219]\n",
      "Their percentage gap are:\n",
      " [100.0, 100.0, 100.0, 100.0, 100.0, 100.0, 100.0, 100.0, 100.0, 100.0, 100.0, 100.0, 100.0, 100.0, 100.0, 100.0, 99.8, 100.0, 100.0, 100.0, 100.0, 100.0, 100.0, 99.6, 99.4, 98.6, 100.0]\n",
      "# ====================================================== #\n",
      "disc loss 0.2603667080402374 gen loss 1.1060657501220703\n",
      "disc loss 0.20257173478603363 gen loss 1.1800657510757446\n",
      "disc loss 0.23567618429660797 gen loss 1.052302598953247\n",
      "disc loss 0.25924625992774963 gen loss 1.0374929904937744\n",
      "disc loss 0.2432813048362732 gen loss 1.0196764469146729\n",
      "disc loss 0.35100895166397095 gen loss 1.1620748043060303\n",
      "disc loss 0.3048255443572998 gen loss 1.0305168628692627\n",
      "disc loss 0.18265625834465027 gen loss 1.1054739952087402\n"
     ]
    },
    {
     "name": "stderr",
     "output_type": "stream",
     "text": [
      "C:\\Users\\canal\\AppData\\Roaming\\Python\\Python38\\site-packages\\numpy\\lib\\function_base.py:2642: RuntimeWarning: invalid value encountered in true_divide\n",
      "  c /= stddev[:, None]\n",
      "C:\\Users\\canal\\AppData\\Roaming\\Python\\Python38\\site-packages\\numpy\\lib\\function_base.py:2643: RuntimeWarning: invalid value encountered in true_divide\n",
      "  c /= stddev[None, :]\n"
     ]
    },
    {
     "name": "stdout",
     "output_type": "stream",
     "text": [
      "#========== evaluating for epoch 266 ==========#\n",
      ">>> MMD | abs(D_Entropy) | abs(D_Distance) | Pearson Corr \n",
      "0.064444 , 0.025076 , 0.043358 , nan\n",
      "# ================== Sampling 500 sequences at epoch 266 ================== #\n",
      "The loci with percentage of gap >= 95% in the cleaned MSA: \n",
      " [0, 1, 25, 26, 27, 28, 29, 30, 31, 32, 33, 34, 35, 36, 37, 38, 39, 40, 41, 42, 43, 44, 45, 46, 47, 48, 219]\n",
      "Their percentage gap are:\n",
      " [100.0, 100.0, 100.0, 100.0, 100.0, 100.0, 100.0, 99.6, 100.0, 100.0, 100.0, 100.0, 99.8, 100.0, 100.0, 100.0, 100.0, 100.0, 100.0, 100.0, 99.8, 100.0, 100.0, 99.6, 99.8, 98.2, 100.0]\n",
      "# ====================================================== #\n",
      "disc loss 0.2714594602584839 gen loss 1.1303521394729614\n",
      "disc loss 0.2945476174354553 gen loss 1.0922032594680786\n",
      "disc loss 0.30916261672973633 gen loss 1.1216919422149658\n",
      "disc loss 0.25071585178375244 gen loss 1.0152935981750488\n",
      "disc loss 0.3155856728553772 gen loss 0.9277913570404053\n",
      "disc loss 0.3607444763183594 gen loss 1.1714534759521484\n",
      "disc loss 0.23834013938903809 gen loss 1.1535720825195312\n",
      "disc loss 0.28351783752441406 gen loss 0.9892759919166565\n"
     ]
    },
    {
     "name": "stderr",
     "output_type": "stream",
     "text": [
      "C:\\Users\\canal\\AppData\\Roaming\\Python\\Python38\\site-packages\\numpy\\lib\\function_base.py:2642: RuntimeWarning: invalid value encountered in true_divide\n",
      "  c /= stddev[:, None]\n",
      "C:\\Users\\canal\\AppData\\Roaming\\Python\\Python38\\site-packages\\numpy\\lib\\function_base.py:2643: RuntimeWarning: invalid value encountered in true_divide\n",
      "  c /= stddev[None, :]\n"
     ]
    },
    {
     "name": "stdout",
     "output_type": "stream",
     "text": [
      "#========== evaluating for epoch 268 ==========#\n",
      ">>> MMD | abs(D_Entropy) | abs(D_Distance) | Pearson Corr \n",
      "0.060444 , 0.023054 , 0.041017 , nan\n",
      "# ================== Sampling 500 sequences at epoch 268 ================== #\n",
      "The loci with percentage of gap >= 95% in the cleaned MSA: \n",
      " [0, 1, 25, 26, 27, 28, 29, 30, 31, 32, 33, 34, 35, 36, 37, 38, 39, 40, 41, 42, 43, 44, 45, 46, 47, 48, 219]\n",
      "Their percentage gap are:\n",
      " [100.0, 100.0, 100.0, 100.0, 100.0, 100.0, 100.0, 100.0, 100.0, 100.0, 100.0, 100.0, 100.0, 99.8, 99.6, 100.0, 100.0, 100.0, 100.0, 100.0, 99.8, 100.0, 100.0, 99.8, 99.4, 98.6, 100.0]\n",
      "# ====================================================== #\n",
      "disc loss 0.33211827278137207 gen loss 1.081756353378296\n",
      "disc loss 0.29998713731765747 gen loss 1.1060363054275513\n",
      "disc loss 0.2644447684288025 gen loss 1.1363953351974487\n",
      "disc loss 0.27863162755966187 gen loss 1.101181983947754\n",
      "disc loss 0.27896809577941895 gen loss 1.0820209980010986\n",
      "disc loss 0.2482006698846817 gen loss 1.093623161315918\n",
      "disc loss 0.27910733222961426 gen loss 1.0422085523605347\n",
      "disc loss 0.3439320921897888 gen loss 1.0296430587768555\n"
     ]
    },
    {
     "name": "stderr",
     "output_type": "stream",
     "text": [
      "C:\\Users\\canal\\AppData\\Roaming\\Python\\Python38\\site-packages\\numpy\\lib\\function_base.py:2642: RuntimeWarning: invalid value encountered in true_divide\n",
      "  c /= stddev[:, None]\n",
      "C:\\Users\\canal\\AppData\\Roaming\\Python\\Python38\\site-packages\\numpy\\lib\\function_base.py:2643: RuntimeWarning: invalid value encountered in true_divide\n",
      "  c /= stddev[None, :]\n"
     ]
    },
    {
     "name": "stdout",
     "output_type": "stream",
     "text": [
      "#========== evaluating for epoch 270 ==========#\n",
      ">>> MMD | abs(D_Entropy) | abs(D_Distance) | Pearson Corr \n",
      "0.061379 , 0.022019 , 0.039582 , nan\n",
      "# ================== Sampling 500 sequences at epoch 270 ================== #\n",
      "The loci with percentage of gap >= 95% in the cleaned MSA: \n",
      " [0, 1, 25, 26, 27, 28, 29, 30, 31, 32, 33, 34, 35, 36, 37, 38, 39, 40, 41, 42, 43, 44, 45, 46, 47, 48, 219]\n",
      "Their percentage gap are:\n",
      " [100.0, 100.0, 100.0, 100.0, 100.0, 99.8, 100.0, 100.0, 100.0, 100.0, 100.0, 100.0, 100.0, 100.0, 100.0, 100.0, 100.0, 100.0, 100.0, 100.0, 99.8, 99.8, 100.0, 100.0, 99.6, 98.8, 100.0]\n",
      "# ====================================================== #\n",
      "disc loss 0.3064194619655609 gen loss 1.0848362445831299\n",
      "disc loss 0.3036518394947052 gen loss 1.0113275051116943\n",
      "disc loss 0.2704516053199768 gen loss 1.1172302961349487\n",
      "disc loss 0.23242723941802979 gen loss 1.2087401151657104\n",
      "disc loss 0.2471025288105011 gen loss 1.1638031005859375\n",
      "disc loss 0.24220016598701477 gen loss 0.9975690245628357\n",
      "disc loss 0.2695019245147705 gen loss 1.0776970386505127\n",
      "disc loss 0.3975834548473358 gen loss 1.0370097160339355\n"
     ]
    },
    {
     "name": "stderr",
     "output_type": "stream",
     "text": [
      "C:\\Users\\canal\\AppData\\Roaming\\Python\\Python38\\site-packages\\numpy\\lib\\function_base.py:2642: RuntimeWarning: invalid value encountered in true_divide\n",
      "  c /= stddev[:, None]\n",
      "C:\\Users\\canal\\AppData\\Roaming\\Python\\Python38\\site-packages\\numpy\\lib\\function_base.py:2643: RuntimeWarning: invalid value encountered in true_divide\n",
      "  c /= stddev[None, :]\n"
     ]
    },
    {
     "name": "stdout",
     "output_type": "stream",
     "text": [
      "#========== evaluating for epoch 272 ==========#\n",
      ">>> MMD | abs(D_Entropy) | abs(D_Distance) | Pearson Corr \n",
      "0.059103 , 0.022421 , 0.041666 , nan\n",
      "# ================== Sampling 500 sequences at epoch 272 ================== #\n",
      "The loci with percentage of gap >= 95% in the cleaned MSA: \n",
      " [0, 1, 25, 26, 27, 28, 29, 30, 31, 32, 33, 34, 35, 36, 37, 38, 39, 40, 41, 42, 43, 44, 45, 46, 47, 48, 219]\n",
      "Their percentage gap are:\n",
      " [100.0, 100.0, 100.0, 100.0, 100.0, 100.0, 100.0, 100.0, 100.0, 100.0, 100.0, 100.0, 100.0, 100.0, 100.0, 100.0, 100.0, 100.0, 100.0, 100.0, 99.6, 100.0, 99.8, 99.8, 99.8, 99.6, 100.0]\n",
      "# ====================================================== #\n",
      "disc loss 0.24653169512748718 gen loss 1.1017382144927979\n",
      "disc loss 0.30684393644332886 gen loss 1.1052019596099854\n",
      "disc loss 0.22845768928527832 gen loss 1.1768600940704346\n",
      "disc loss 0.2872399389743805 gen loss 1.0747889280319214\n",
      "disc loss 0.2879796624183655 gen loss 1.0798734426498413\n",
      "disc loss 0.3303603231906891 gen loss 1.1028051376342773\n",
      "disc loss 0.32062381505966187 gen loss 1.2158043384552002\n",
      "disc loss 0.21531735360622406 gen loss 1.1805784702301025\n"
     ]
    },
    {
     "name": "stderr",
     "output_type": "stream",
     "text": [
      "C:\\Users\\canal\\AppData\\Roaming\\Python\\Python38\\site-packages\\numpy\\lib\\function_base.py:2642: RuntimeWarning: invalid value encountered in true_divide\n",
      "  c /= stddev[:, None]\n",
      "C:\\Users\\canal\\AppData\\Roaming\\Python\\Python38\\site-packages\\numpy\\lib\\function_base.py:2643: RuntimeWarning: invalid value encountered in true_divide\n",
      "  c /= stddev[None, :]\n"
     ]
    },
    {
     "name": "stdout",
     "output_type": "stream",
     "text": [
      "#========== evaluating for epoch 274 ==========#\n",
      ">>> MMD | abs(D_Entropy) | abs(D_Distance) | Pearson Corr \n",
      "0.065176 , 0.022108 , 0.044164 , nan\n",
      "# ================== Sampling 500 sequences at epoch 274 ================== #\n",
      "The loci with percentage of gap >= 95% in the cleaned MSA: \n",
      " [0, 1, 25, 26, 27, 28, 29, 30, 31, 32, 33, 34, 35, 36, 37, 38, 39, 40, 41, 42, 43, 44, 45, 46, 47, 48, 219]\n",
      "Their percentage gap are:\n",
      " [100.0, 100.0, 100.0, 100.0, 100.0, 100.0, 100.0, 100.0, 100.0, 100.0, 100.0, 100.0, 100.0, 100.0, 100.0, 100.0, 100.0, 100.0, 100.0, 100.0, 100.0, 100.0, 100.0, 99.8, 99.4, 98.2, 100.0]\n",
      "# ====================================================== #\n",
      "disc loss 0.24923448264598846 gen loss 1.1799635887145996\n",
      "disc loss 0.28328779339790344 gen loss 1.031531572341919\n",
      "disc loss 0.30020320415496826 gen loss 1.026298999786377\n",
      "disc loss 0.26548337936401367 gen loss 1.12904691696167\n",
      "disc loss 0.23179900646209717 gen loss 1.1135838031768799\n",
      "disc loss 0.2987591624259949 gen loss 1.016585350036621\n",
      "disc loss 0.25636810064315796 gen loss 1.0358707904815674\n",
      "disc loss 0.3395777940750122 gen loss 1.0292892456054688\n"
     ]
    },
    {
     "name": "stderr",
     "output_type": "stream",
     "text": [
      "C:\\Users\\canal\\AppData\\Roaming\\Python\\Python38\\site-packages\\numpy\\lib\\function_base.py:2642: RuntimeWarning: invalid value encountered in true_divide\n",
      "  c /= stddev[:, None]\n",
      "C:\\Users\\canal\\AppData\\Roaming\\Python\\Python38\\site-packages\\numpy\\lib\\function_base.py:2643: RuntimeWarning: invalid value encountered in true_divide\n",
      "  c /= stddev[None, :]\n"
     ]
    },
    {
     "name": "stdout",
     "output_type": "stream",
     "text": [
      "#========== evaluating for epoch 276 ==========#\n",
      ">>> MMD | abs(D_Entropy) | abs(D_Distance) | Pearson Corr \n",
      "0.065804 , 0.023157 , 0.043509 , nan\n",
      "# ================== Sampling 500 sequences at epoch 276 ================== #\n",
      "The loci with percentage of gap >= 95% in the cleaned MSA: \n",
      " [0, 1, 25, 26, 27, 28, 29, 30, 31, 32, 33, 34, 35, 36, 37, 38, 39, 40, 41, 42, 43, 44, 45, 46, 47, 48, 219]\n",
      "Their percentage gap are:\n",
      " [100.0, 100.0, 100.0, 100.0, 100.0, 100.0, 100.0, 100.0, 100.0, 100.0, 100.0, 100.0, 100.0, 100.0, 99.8, 100.0, 100.0, 100.0, 100.0, 100.0, 100.0, 100.0, 100.0, 99.8, 99.4, 99.2, 100.0]\n",
      "# ====================================================== #\n",
      "disc loss 0.2084578573703766 gen loss 1.0891746282577515\n",
      "disc loss 0.31268519163131714 gen loss 1.1909255981445312\n",
      "disc loss 0.2244628667831421 gen loss 1.0387516021728516\n",
      "disc loss 0.28213393688201904 gen loss 1.0850799083709717\n",
      "disc loss 0.3001914620399475 gen loss 1.0258653163909912\n",
      "disc loss 0.312106728553772 gen loss 1.045089840888977\n",
      "disc loss 0.32084858417510986 gen loss 1.1756974458694458\n",
      "disc loss 0.28537482023239136 gen loss 1.1451536417007446\n"
     ]
    },
    {
     "name": "stderr",
     "output_type": "stream",
     "text": [
      "C:\\Users\\canal\\AppData\\Roaming\\Python\\Python38\\site-packages\\numpy\\lib\\function_base.py:2642: RuntimeWarning: invalid value encountered in true_divide\n",
      "  c /= stddev[:, None]\n",
      "C:\\Users\\canal\\AppData\\Roaming\\Python\\Python38\\site-packages\\numpy\\lib\\function_base.py:2643: RuntimeWarning: invalid value encountered in true_divide\n",
      "  c /= stddev[None, :]\n"
     ]
    },
    {
     "name": "stdout",
     "output_type": "stream",
     "text": [
      "#========== evaluating for epoch 278 ==========#\n",
      ">>> MMD | abs(D_Entropy) | abs(D_Distance) | Pearson Corr \n",
      "0.060201 , 0.022014 , 0.043907 , nan\n",
      "# ================== Sampling 500 sequences at epoch 278 ================== #\n",
      "The loci with percentage of gap >= 95% in the cleaned MSA: \n",
      " [0, 1, 25, 26, 27, 28, 29, 30, 31, 32, 33, 34, 35, 36, 37, 38, 39, 40, 41, 42, 43, 44, 45, 46, 47, 48, 219]\n",
      "Their percentage gap are:\n",
      " [100.0, 100.0, 100.0, 100.0, 100.0, 100.0, 100.0, 100.0, 100.0, 100.0, 100.0, 100.0, 100.0, 100.0, 100.0, 100.0, 100.0, 100.0, 100.0, 100.0, 100.0, 100.0, 100.0, 99.8, 99.6, 99.6, 100.0]\n",
      "# ====================================================== #\n",
      "disc loss 0.28361135721206665 gen loss 1.086962103843689\n",
      "disc loss 0.22565442323684692 gen loss 1.0845798254013062\n",
      "disc loss 0.2210141122341156 gen loss 1.1956238746643066\n",
      "disc loss 0.23889847099781036 gen loss 1.1681077480316162\n",
      "disc loss 0.3260178565979004 gen loss 1.0712153911590576\n",
      "disc loss 0.3323500156402588 gen loss 1.0396814346313477\n",
      "disc loss 0.24456730484962463 gen loss 1.2010090351104736\n",
      "disc loss 0.37386542558670044 gen loss 1.2229384183883667\n"
     ]
    },
    {
     "name": "stderr",
     "output_type": "stream",
     "text": [
      "C:\\Users\\canal\\AppData\\Roaming\\Python\\Python38\\site-packages\\numpy\\lib\\function_base.py:2642: RuntimeWarning: invalid value encountered in true_divide\n",
      "  c /= stddev[:, None]\n",
      "C:\\Users\\canal\\AppData\\Roaming\\Python\\Python38\\site-packages\\numpy\\lib\\function_base.py:2643: RuntimeWarning: invalid value encountered in true_divide\n",
      "  c /= stddev[None, :]\n"
     ]
    },
    {
     "name": "stdout",
     "output_type": "stream",
     "text": [
      "#========== evaluating for epoch 280 ==========#\n",
      ">>> MMD | abs(D_Entropy) | abs(D_Distance) | Pearson Corr \n",
      "0.063021 , 0.023256 , 0.04226 , nan\n",
      "# ================== Sampling 500 sequences at epoch 280 ================== #\n",
      "The loci with percentage of gap >= 95% in the cleaned MSA: \n",
      " [0, 1, 25, 26, 27, 28, 29, 30, 31, 32, 33, 34, 35, 36, 37, 38, 39, 40, 41, 42, 43, 44, 45, 46, 47, 48, 219]\n",
      "Their percentage gap are:\n",
      " [100.0, 100.0, 100.0, 100.0, 100.0, 100.0, 100.0, 100.0, 100.0, 100.0, 100.0, 100.0, 100.0, 100.0, 100.0, 100.0, 100.0, 100.0, 100.0, 100.0, 99.6, 100.0, 99.8, 99.8, 99.6, 99.0, 100.0]\n",
      "# ====================================================== #\n",
      "disc loss 0.2585791051387787 gen loss 1.1517810821533203\n",
      "disc loss 0.3256251811981201 gen loss 1.0732026100158691\n",
      "disc loss 0.31272727251052856 gen loss 1.0496199131011963\n",
      "disc loss 0.3082008361816406 gen loss 1.1853413581848145\n",
      "disc loss 0.28055456280708313 gen loss 1.160657525062561\n",
      "disc loss 0.27645745873451233 gen loss 0.9646358489990234\n",
      "disc loss 0.22852005064487457 gen loss 1.0274631977081299\n",
      "disc loss 0.3076581060886383 gen loss 1.0650169849395752\n"
     ]
    },
    {
     "name": "stderr",
     "output_type": "stream",
     "text": [
      "C:\\Users\\canal\\AppData\\Roaming\\Python\\Python38\\site-packages\\numpy\\lib\\function_base.py:2642: RuntimeWarning: invalid value encountered in true_divide\n",
      "  c /= stddev[:, None]\n",
      "C:\\Users\\canal\\AppData\\Roaming\\Python\\Python38\\site-packages\\numpy\\lib\\function_base.py:2643: RuntimeWarning: invalid value encountered in true_divide\n",
      "  c /= stddev[None, :]\n"
     ]
    },
    {
     "name": "stdout",
     "output_type": "stream",
     "text": [
      "#========== evaluating for epoch 282 ==========#\n",
      ">>> MMD | abs(D_Entropy) | abs(D_Distance) | Pearson Corr \n",
      "0.062081 , 0.024718 , 0.042917 , nan\n",
      "# ================== Sampling 500 sequences at epoch 282 ================== #\n",
      "The loci with percentage of gap >= 95% in the cleaned MSA: \n",
      " [0, 1, 25, 26, 27, 28, 29, 30, 31, 32, 33, 34, 35, 36, 37, 38, 39, 40, 41, 42, 43, 44, 45, 46, 47, 48, 219]\n",
      "Their percentage gap are:\n",
      " [100.0, 100.0, 100.0, 100.0, 100.0, 100.0, 100.0, 100.0, 100.0, 100.0, 100.0, 100.0, 100.0, 100.0, 100.0, 100.0, 100.0, 100.0, 100.0, 100.0, 99.8, 99.8, 100.0, 100.0, 99.4, 98.8, 100.0]\n",
      "# ====================================================== #\n",
      "disc loss 0.2594396471977234 gen loss 1.089495301246643\n",
      "disc loss 0.2807081937789917 gen loss 1.0443071126937866\n",
      "disc loss 0.3937984108924866 gen loss 1.1267294883728027\n",
      "disc loss 0.3553975224494934 gen loss 1.181089162826538\n",
      "disc loss 0.29948943853378296 gen loss 1.105482578277588\n",
      "disc loss 0.19554297626018524 gen loss 1.039581537246704\n",
      "disc loss 0.2669363021850586 gen loss 1.0935204029083252\n",
      "disc loss 0.29454144835472107 gen loss 1.0352160930633545\n"
     ]
    },
    {
     "name": "stderr",
     "output_type": "stream",
     "text": [
      "C:\\Users\\canal\\AppData\\Roaming\\Python\\Python38\\site-packages\\numpy\\lib\\function_base.py:2642: RuntimeWarning: invalid value encountered in true_divide\n",
      "  c /= stddev[:, None]\n",
      "C:\\Users\\canal\\AppData\\Roaming\\Python\\Python38\\site-packages\\numpy\\lib\\function_base.py:2643: RuntimeWarning: invalid value encountered in true_divide\n",
      "  c /= stddev[None, :]\n"
     ]
    },
    {
     "name": "stdout",
     "output_type": "stream",
     "text": [
      "#========== evaluating for epoch 284 ==========#\n",
      ">>> MMD | abs(D_Entropy) | abs(D_Distance) | Pearson Corr \n",
      "0.058039 , 0.022535 , 0.039578 , nan\n",
      "# ================== Sampling 500 sequences at epoch 284 ================== #\n",
      "The loci with percentage of gap >= 95% in the cleaned MSA: \n",
      " [0, 1, 25, 26, 27, 28, 29, 30, 31, 32, 33, 34, 35, 36, 37, 38, 39, 40, 41, 42, 43, 44, 45, 46, 47, 48, 219]\n",
      "Their percentage gap are:\n",
      " [100.0, 100.0, 100.0, 100.0, 100.0, 100.0, 100.0, 100.0, 100.0, 100.0, 100.0, 100.0, 100.0, 100.0, 100.0, 100.0, 100.0, 99.8, 99.8, 100.0, 100.0, 99.6, 100.0, 100.0, 100.0, 99.2, 100.0]\n",
      "# ====================================================== #\n",
      "disc loss 0.28569984436035156 gen loss 1.1888408660888672\n",
      "disc loss 0.25927504897117615 gen loss 1.095461368560791\n",
      "disc loss 0.21849241852760315 gen loss 1.1556837558746338\n",
      "disc loss 0.232397198677063 gen loss 1.1177418231964111\n",
      "disc loss 0.2632002830505371 gen loss 1.086432695388794\n",
      "disc loss 0.3137992322444916 gen loss 1.1822866201400757\n",
      "disc loss 0.24880969524383545 gen loss 1.1086466312408447\n",
      "disc loss 0.25760042667388916 gen loss 1.0208090543746948\n"
     ]
    },
    {
     "name": "stderr",
     "output_type": "stream",
     "text": [
      "C:\\Users\\canal\\AppData\\Roaming\\Python\\Python38\\site-packages\\numpy\\lib\\function_base.py:2642: RuntimeWarning: invalid value encountered in true_divide\n",
      "  c /= stddev[:, None]\n",
      "C:\\Users\\canal\\AppData\\Roaming\\Python\\Python38\\site-packages\\numpy\\lib\\function_base.py:2643: RuntimeWarning: invalid value encountered in true_divide\n",
      "  c /= stddev[None, :]\n"
     ]
    },
    {
     "name": "stdout",
     "output_type": "stream",
     "text": [
      "#========== evaluating for epoch 286 ==========#\n",
      ">>> MMD | abs(D_Entropy) | abs(D_Distance) | Pearson Corr \n",
      "0.060991 , 0.02417 , 0.03888 , nan\n",
      "# ================== Sampling 500 sequences at epoch 286 ================== #\n",
      "The loci with percentage of gap >= 95% in the cleaned MSA: \n",
      " [0, 1, 25, 26, 27, 28, 29, 30, 31, 32, 33, 34, 35, 36, 37, 38, 39, 40, 41, 42, 43, 44, 45, 46, 47, 48, 219]\n",
      "Their percentage gap are:\n",
      " [100.0, 100.0, 100.0, 100.0, 100.0, 100.0, 100.0, 100.0, 100.0, 100.0, 100.0, 100.0, 100.0, 100.0, 99.8, 100.0, 100.0, 100.0, 100.0, 100.0, 99.8, 100.0, 100.0, 99.8, 99.8, 99.6, 100.0]\n",
      "# ====================================================== #\n",
      "disc loss 0.2600102722644806 gen loss 1.1251065731048584\n",
      "disc loss 0.2802254259586334 gen loss 1.0696990489959717\n",
      "disc loss 0.23453477025032043 gen loss 1.0834236145019531\n",
      "disc loss 0.315238893032074 gen loss 1.0364503860473633\n",
      "disc loss 0.23925048112869263 gen loss 1.0948395729064941\n",
      "disc loss 0.31663501262664795 gen loss 1.1376851797103882\n",
      "disc loss 0.2852337658405304 gen loss 1.136423110961914\n",
      "disc loss 0.2932025194168091 gen loss 1.073073148727417\n"
     ]
    },
    {
     "name": "stderr",
     "output_type": "stream",
     "text": [
      "C:\\Users\\canal\\AppData\\Roaming\\Python\\Python38\\site-packages\\numpy\\lib\\function_base.py:2642: RuntimeWarning: invalid value encountered in true_divide\n",
      "  c /= stddev[:, None]\n",
      "C:\\Users\\canal\\AppData\\Roaming\\Python\\Python38\\site-packages\\numpy\\lib\\function_base.py:2643: RuntimeWarning: invalid value encountered in true_divide\n",
      "  c /= stddev[None, :]\n"
     ]
    },
    {
     "name": "stdout",
     "output_type": "stream",
     "text": [
      "#========== evaluating for epoch 288 ==========#\n",
      ">>> MMD | abs(D_Entropy) | abs(D_Distance) | Pearson Corr \n",
      "0.059164 , 0.023829 , 0.038252 , nan\n",
      "# ================== Sampling 500 sequences at epoch 288 ================== #\n",
      "The loci with percentage of gap >= 95% in the cleaned MSA: \n",
      " [0, 1, 25, 26, 27, 28, 29, 30, 31, 32, 33, 34, 35, 36, 37, 38, 39, 40, 41, 42, 43, 44, 45, 46, 47, 48, 219]\n",
      "Their percentage gap are:\n",
      " [100.0, 100.0, 100.0, 100.0, 100.0, 100.0, 100.0, 100.0, 100.0, 100.0, 100.0, 100.0, 100.0, 100.0, 100.0, 99.8, 100.0, 100.0, 100.0, 100.0, 100.0, 99.8, 99.8, 100.0, 99.8, 99.4, 100.0]\n",
      "# ====================================================== #\n",
      "disc loss 0.23056334257125854 gen loss 1.0973694324493408\n",
      "disc loss 0.3219905197620392 gen loss 1.0760056972503662\n",
      "disc loss 0.2696624994277954 gen loss 1.0523828268051147\n",
      "disc loss 0.3100118339061737 gen loss 1.068293809890747\n",
      "disc loss 0.31663650274276733 gen loss 1.1261225938796997\n",
      "disc loss 0.20930521190166473 gen loss 1.1703054904937744\n",
      "disc loss 0.3235307037830353 gen loss 1.1614420413970947\n",
      "disc loss 0.26722291111946106 gen loss 1.2234034538269043\n"
     ]
    },
    {
     "name": "stderr",
     "output_type": "stream",
     "text": [
      "C:\\Users\\canal\\AppData\\Roaming\\Python\\Python38\\site-packages\\numpy\\lib\\function_base.py:2642: RuntimeWarning: invalid value encountered in true_divide\n",
      "  c /= stddev[:, None]\n",
      "C:\\Users\\canal\\AppData\\Roaming\\Python\\Python38\\site-packages\\numpy\\lib\\function_base.py:2643: RuntimeWarning: invalid value encountered in true_divide\n",
      "  c /= stddev[None, :]\n"
     ]
    },
    {
     "name": "stdout",
     "output_type": "stream",
     "text": [
      "#========== evaluating for epoch 290 ==========#\n",
      ">>> MMD | abs(D_Entropy) | abs(D_Distance) | Pearson Corr \n",
      "0.061553 , 0.024468 , 0.038548 , nan\n",
      "# ================== Sampling 500 sequences at epoch 290 ================== #\n",
      "The loci with percentage of gap >= 95% in the cleaned MSA: \n",
      " [0, 1, 25, 26, 27, 28, 29, 30, 31, 32, 33, 34, 35, 36, 37, 38, 39, 40, 41, 42, 43, 44, 45, 46, 47, 48, 219]\n",
      "Their percentage gap are:\n",
      " [100.0, 99.8, 100.0, 100.0, 100.0, 100.0, 100.0, 100.0, 99.6, 100.0, 100.0, 100.0, 100.0, 99.8, 99.8, 100.0, 100.0, 100.0, 100.0, 100.0, 100.0, 99.8, 100.0, 99.6, 99.8, 99.6, 100.0]\n",
      "# ====================================================== #\n",
      "disc loss 0.27000242471694946 gen loss 1.0769083499908447\n",
      "disc loss 0.33051416277885437 gen loss 0.9408888816833496\n",
      "disc loss 0.30652928352355957 gen loss 1.1326029300689697\n",
      "disc loss 0.2432773858308792 gen loss 1.1654170751571655\n",
      "disc loss 0.2956196367740631 gen loss 0.9879661202430725\n",
      "disc loss 0.32943058013916016 gen loss 1.1665735244750977\n",
      "disc loss 0.31168609857559204 gen loss 1.072021245956421\n",
      "disc loss 0.24239668250083923 gen loss 0.969637930393219\n"
     ]
    },
    {
     "name": "stderr",
     "output_type": "stream",
     "text": [
      "C:\\Users\\canal\\AppData\\Roaming\\Python\\Python38\\site-packages\\numpy\\lib\\function_base.py:2642: RuntimeWarning: invalid value encountered in true_divide\n",
      "  c /= stddev[:, None]\n",
      "C:\\Users\\canal\\AppData\\Roaming\\Python\\Python38\\site-packages\\numpy\\lib\\function_base.py:2643: RuntimeWarning: invalid value encountered in true_divide\n",
      "  c /= stddev[None, :]\n"
     ]
    },
    {
     "name": "stdout",
     "output_type": "stream",
     "text": [
      "#========== evaluating for epoch 292 ==========#\n",
      ">>> MMD | abs(D_Entropy) | abs(D_Distance) | Pearson Corr \n",
      "0.06118 , 0.023258 , 0.037864 , nan\n",
      "# ================== Sampling 500 sequences at epoch 292 ================== #\n",
      "The loci with percentage of gap >= 95% in the cleaned MSA: \n",
      " [0, 1, 25, 26, 27, 28, 29, 30, 31, 32, 33, 34, 35, 36, 37, 38, 39, 40, 41, 42, 43, 44, 45, 46, 47, 48, 219]\n",
      "Their percentage gap are:\n",
      " [100.0, 100.0, 100.0, 100.0, 100.0, 100.0, 100.0, 100.0, 99.8, 100.0, 100.0, 100.0, 100.0, 100.0, 100.0, 100.0, 100.0, 100.0, 100.0, 100.0, 100.0, 100.0, 100.0, 99.6, 100.0, 99.4, 100.0]\n",
      "# ====================================================== #\n",
      "disc loss 0.34691882133483887 gen loss 1.0055835247039795\n",
      "disc loss 0.2731610834598541 gen loss 1.1024572849273682\n",
      "disc loss 0.2504812777042389 gen loss 1.069739818572998\n",
      "disc loss 0.3174411654472351 gen loss 0.9944967031478882\n",
      "disc loss 0.2666800022125244 gen loss 1.1346065998077393\n",
      "disc loss 0.2707955837249756 gen loss 1.2196451425552368\n",
      "disc loss 0.2892959415912628 gen loss 1.0144380331039429\n",
      "disc loss 0.29358142614364624 gen loss 1.1349091529846191\n"
     ]
    },
    {
     "name": "stderr",
     "output_type": "stream",
     "text": [
      "C:\\Users\\canal\\AppData\\Roaming\\Python\\Python38\\site-packages\\numpy\\lib\\function_base.py:2642: RuntimeWarning: invalid value encountered in true_divide\n",
      "  c /= stddev[:, None]\n",
      "C:\\Users\\canal\\AppData\\Roaming\\Python\\Python38\\site-packages\\numpy\\lib\\function_base.py:2643: RuntimeWarning: invalid value encountered in true_divide\n",
      "  c /= stddev[None, :]\n"
     ]
    },
    {
     "name": "stdout",
     "output_type": "stream",
     "text": [
      "#========== evaluating for epoch 294 ==========#\n",
      ">>> MMD | abs(D_Entropy) | abs(D_Distance) | Pearson Corr \n",
      "0.062583 , 0.024567 , 0.042704 , nan\n",
      "# ================== Sampling 500 sequences at epoch 294 ================== #\n",
      "The loci with percentage of gap >= 95% in the cleaned MSA: \n",
      " [0, 1, 25, 26, 27, 28, 29, 30, 31, 32, 33, 34, 35, 36, 37, 38, 39, 40, 41, 42, 43, 44, 45, 46, 47, 48, 219]\n",
      "Their percentage gap are:\n",
      " [100.0, 100.0, 100.0, 100.0, 100.0, 99.8, 100.0, 99.8, 100.0, 100.0, 100.0, 100.0, 100.0, 100.0, 100.0, 100.0, 100.0, 100.0, 100.0, 100.0, 100.0, 100.0, 100.0, 100.0, 99.6, 99.2, 100.0]\n",
      "# ====================================================== #\n",
      "disc loss 0.3158574402332306 gen loss 0.9772944450378418\n",
      "disc loss 0.2558249533176422 gen loss 0.9958609342575073\n",
      "disc loss 0.3084421753883362 gen loss 1.2004961967468262\n",
      "disc loss 0.23704661428928375 gen loss 1.0179740190505981\n",
      "disc loss 0.2559528946876526 gen loss 1.0296416282653809\n",
      "disc loss 0.29085761308670044 gen loss 1.0924171209335327\n",
      "disc loss 0.29848942160606384 gen loss 1.0266656875610352\n",
      "disc loss 0.31969112157821655 gen loss 1.117192029953003\n"
     ]
    },
    {
     "name": "stderr",
     "output_type": "stream",
     "text": [
      "C:\\Users\\canal\\AppData\\Roaming\\Python\\Python38\\site-packages\\numpy\\lib\\function_base.py:2642: RuntimeWarning: invalid value encountered in true_divide\n",
      "  c /= stddev[:, None]\n",
      "C:\\Users\\canal\\AppData\\Roaming\\Python\\Python38\\site-packages\\numpy\\lib\\function_base.py:2643: RuntimeWarning: invalid value encountered in true_divide\n",
      "  c /= stddev[None, :]\n"
     ]
    },
    {
     "name": "stdout",
     "output_type": "stream",
     "text": [
      "#========== evaluating for epoch 296 ==========#\n",
      ">>> MMD | abs(D_Entropy) | abs(D_Distance) | Pearson Corr \n",
      "0.058306 , 0.023253 , 0.037198 , nan\n",
      "# ================== Sampling 500 sequences at epoch 296 ================== #\n",
      "The loci with percentage of gap >= 95% in the cleaned MSA: \n",
      " [0, 1, 25, 26, 27, 28, 29, 30, 31, 32, 33, 34, 35, 36, 37, 38, 39, 40, 41, 42, 43, 44, 45, 46, 47, 48, 219]\n",
      "Their percentage gap are:\n",
      " [100.0, 99.8, 100.0, 100.0, 100.0, 100.0, 100.0, 100.0, 100.0, 100.0, 100.0, 100.0, 100.0, 100.0, 100.0, 100.0, 100.0, 100.0, 100.0, 99.8, 100.0, 100.0, 99.8, 100.0, 99.6, 98.6, 100.0]\n",
      "# ====================================================== #\n",
      "disc loss 0.25559353828430176 gen loss 1.0628323554992676\n",
      "disc loss 0.2973696291446686 gen loss 1.0441848039627075\n",
      "disc loss 0.27290672063827515 gen loss 1.1617401838302612\n",
      "disc loss 0.27921438217163086 gen loss 1.0279173851013184\n",
      "disc loss 0.3054996430873871 gen loss 1.0720970630645752\n",
      "disc loss 0.3628515601158142 gen loss 1.0624583959579468\n",
      "disc loss 0.26956501603126526 gen loss 1.0625540018081665\n",
      "disc loss 0.26573431491851807 gen loss 1.18074631690979\n"
     ]
    },
    {
     "name": "stderr",
     "output_type": "stream",
     "text": [
      "C:\\Users\\canal\\AppData\\Roaming\\Python\\Python38\\site-packages\\numpy\\lib\\function_base.py:2642: RuntimeWarning: invalid value encountered in true_divide\n",
      "  c /= stddev[:, None]\n",
      "C:\\Users\\canal\\AppData\\Roaming\\Python\\Python38\\site-packages\\numpy\\lib\\function_base.py:2643: RuntimeWarning: invalid value encountered in true_divide\n",
      "  c /= stddev[None, :]\n"
     ]
    },
    {
     "name": "stdout",
     "output_type": "stream",
     "text": [
      "#========== evaluating for epoch 298 ==========#\n",
      ">>> MMD | abs(D_Entropy) | abs(D_Distance) | Pearson Corr \n",
      "0.062721 , 0.024564 , 0.040826 , nan\n",
      "# ================== Sampling 500 sequences at epoch 298 ================== #\n",
      "The loci with percentage of gap >= 95% in the cleaned MSA: \n",
      " [0, 1, 25, 26, 27, 28, 29, 30, 31, 32, 33, 34, 35, 36, 37, 38, 39, 40, 41, 42, 43, 44, 45, 46, 47, 48, 219]\n",
      "Their percentage gap are:\n",
      " [100.0, 100.0, 100.0, 100.0, 100.0, 100.0, 100.0, 100.0, 100.0, 100.0, 100.0, 100.0, 100.0, 100.0, 100.0, 100.0, 100.0, 99.8, 100.0, 100.0, 100.0, 100.0, 100.0, 99.8, 99.8, 98.6, 100.0]\n",
      "# ====================================================== #\n",
      "disc loss 0.3295944929122925 gen loss 1.1281496286392212\n",
      "disc loss 0.3692646324634552 gen loss 1.1306328773498535\n",
      "disc loss 0.2926291823387146 gen loss 1.033738136291504\n",
      "disc loss 0.3595472574234009 gen loss 1.1605716943740845\n"
     ]
    }
   ],
   "source": [
    "for epoch in range(args_epoch):\n",
    "    train(epoch)\n",
    "    save_checkpoints(Disc, Gen, optim_disc, optim_gen, \n",
    "                     scheduler_d, scheduler_g, epoch)\n",
    "    if epoch != 0:\n",
    "        os.remove(os.path.join('checkpoints/'+args_run_name, \n",
    "                               'epoch_{}'.format(epoch-1)))\n",
    "    # eval every 2 epoch\n",
    "    if epoch % 2 == 0:\n",
    "        evaluate(epoch)"
   ]
  }
 ],
 "metadata": {
  "kernelspec": {
   "display_name": "Python 3.8.5 ('base')",
   "language": "python",
   "name": "python3"
  },
  "language_info": {
   "codemirror_mode": {
    "name": "ipython",
    "version": 3
   },
   "file_extension": ".py",
   "mimetype": "text/x-python",
   "name": "python",
   "nbconvert_exporter": "python",
   "pygments_lexer": "ipython3",
   "version": "3.8.5"
  },
  "orig_nbformat": 4,
  "vscode": {
   "interpreter": {
    "hash": "386218770bb7053658aedbdb94aaaba888065d92b04918111f39a883f4943438"
   }
  }
 },
 "nbformat": 4,
 "nbformat_minor": 2
}
