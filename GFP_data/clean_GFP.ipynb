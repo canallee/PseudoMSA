{
 "cells": [
  {
   "cell_type": "code",
   "execution_count": 4,
   "metadata": {},
   "outputs": [],
   "source": [
    "import numpy as np\n",
    "from Bio import SeqIO\n",
    "from Bio.Seq import Seq\n",
    "# the MSA from hhblits will delete the last R in WT\n",
    "# append an 'R' to the sequence if the incomplete seq has \n",
    "# last Amino Acid NOT being '-';\n",
    "# otherwise append '-'\n",
    "\n",
    "fasta = 'gfp_MSA_clean.fasta'\n",
    "records = list(SeqIO.parse(fasta, \"fasta\"))\n",
    "length = len(records)\n",
    "seqs = [str(records[i].seq.upper().replace('.', '-')) for i in range(length)]\n",
    "valid_pos = [i for i, char in enumerate(seqs[0]) if char not in ['-', '.']]\n",
    "valid_seq = [''.join(np.array(list(seq))[valid_pos]) for seq in seqs]\n",
    "for i,record in enumerate(records):\n",
    "    \n",
    "    record.seq = Seq(valid_seq[i])\n",
    "\n",
    "with open(\"gfp_MSA___.fasta\", \"w\") as output_handle:\n",
    "    SeqIO.write(records, output_handle, \"fasta\")"
   ]
  }
 ],
 "metadata": {
  "kernelspec": {
   "display_name": "Python 3.8.5 ('base')",
   "language": "python",
   "name": "python3"
  },
  "language_info": {
   "codemirror_mode": {
    "name": "ipython",
    "version": 3
   },
   "file_extension": ".py",
   "mimetype": "text/x-python",
   "name": "python",
   "nbconvert_exporter": "python",
   "pygments_lexer": "ipython3",
   "version": "3.8.5"
  },
  "orig_nbformat": 4,
  "vscode": {
   "interpreter": {
    "hash": "386218770bb7053658aedbdb94aaaba888065d92b04918111f39a883f4943438"
   }
  }
 },
 "nbformat": 4,
 "nbformat_minor": 2
}
