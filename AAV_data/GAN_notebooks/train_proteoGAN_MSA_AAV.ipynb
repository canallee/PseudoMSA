{
 "cells": [
  {
   "cell_type": "code",
   "execution_count": 1,
   "metadata": {},
   "outputs": [],
   "source": [
    "import torch\n",
    "from torch.utils.tensorboard import SummaryWriter\n",
    "import torch.optim as optim\n",
    "TB_writer = SummaryWriter()\n",
    "from GAN_model.resnetGAN import *\n",
    "from GAN_model.ProteoGAN import *\n",
    "from utils.dataloader import *\n",
    "from utils.torch_utils import *\n",
    "from utils.metrics import *"
   ]
  },
  {
   "cell_type": "code",
   "execution_count": 2,
   "metadata": {},
   "outputs": [],
   "source": [
    "args_run_name = 'ProteoGAN_GFP_MSA'\n",
    "# args; TODO: move these to parser for script\n",
    "args_batch_size=16; args_seed=42; args_eval_n_seq = 500\n",
    "args_epoch = 300\n",
    "# GAN specific param\n",
    "args_z_dim = 128; args_dim = 256\n",
    "# optimizer specific param\n",
    "args_lr_Gen = 1e-4; args_lr_Disc = 8e-5; args_loss = 'hinge'\n",
    "# train discriminator more initially\n",
    "# according to https://livebook.manning.com/book/gans-in-action/chapter-5/185\n",
    "args_disc_iters_init = 2; args_disc_iters = 1; args_disc_iters_init_epoch = 50\n",
    "# make dir\n",
    "os.makedirs('checkpoints/'+args_run_name, exist_ok=True)\n",
    "os.makedirs('out/'+args_run_name+'/plot_out/', exist_ok=True)\n",
    "os.makedirs('out/'+args_run_name+'/seq_out/', exist_ok=True)"
   ]
  },
  {
   "cell_type": "code",
   "execution_count": 3,
   "metadata": {},
   "outputs": [],
   "source": [
    "seed_everything(args_seed)\n",
    "use_cuda = torch.cuda.is_available()\n",
    "device = torch.device(\"cuda:0\" if use_cuda else \"cpu\")\n",
    "# keep dataset in cpu\n",
    "MSA_data = MSA_dataset('GFP_data/gfp_MSA_clean.fasta', \n",
    "    torch.device('cpu'), pseudo_MSA=False) "
   ]
  },
  {
   "cell_type": "markdown",
   "metadata": {},
   "source": [
    "### Creating data sets"
   ]
  },
  {
   "cell_type": "code",
   "execution_count": 4,
   "metadata": {},
   "outputs": [],
   "source": [
    "# creating data set with train/val split\n",
    "train_len = int(MSA_data.length*0.85-MSA_data.length)\n",
    "val_len = MSA_data.length - train_len\n",
    "train_data, val_data = torch.utils.data.random_split(\n",
    "    MSA_data, [train_len, val_len], \n",
    "    generator=torch.Generator().manual_seed(args_seed))\n",
    "# decoding train and validation sequences for evaluation\n",
    "val_seqs = [decode_one_seq(torch.argmax(data, dim=-1).detach().cpu()) \n",
    "            for data in val_data]\n",
    "tr_seqs = [decode_one_seq(torch.argmax(data, dim=-1).detach().cpu()) \n",
    "           for data in train_data]\n",
    "# creating dataloader for training data\n",
    "loader = torch.utils.data.DataLoader(\n",
    "    train_data, batch_size=args_batch_size, shuffle=True,\n",
    "    num_workers=1, pin_memory=True)\n",
    "# fixed parameters\n",
    "n_chars = 21; seq_len = len(val_seqs[0])"
   ]
  },
  {
   "cell_type": "markdown",
   "metadata": {},
   "source": [
    "### Evaluating positive and negative control sequences to obtain baseline metrics\n",
    "Positive: sample of real sequences and simulates a perfect model\n",
    "\n",
    "Negative: a sample that simulates the worst possible model for each metric: \\\n",
    "    (constant sequence for MMD, repeated sequences for diversity measures).\n"
   ]
  },
  {
   "cell_type": "code",
   "execution_count": 5,
   "metadata": {},
   "outputs": [
    {
     "name": "stderr",
     "output_type": "stream",
     "text": [
      "C:\\Users\\canal\\AppData\\Roaming\\Python\\Python38\\site-packages\\numpy\\lib\\function_base.py:2642: RuntimeWarning: invalid value encountered in true_divide\n",
      "  c /= stddev[:, None]\n",
      "C:\\Users\\canal\\AppData\\Roaming\\Python\\Python38\\site-packages\\numpy\\lib\\function_base.py:2643: RuntimeWarning: invalid value encountered in true_divide\n",
      "  c /= stddev[None, :]\n"
     ]
    }
   ],
   "source": [
    "pos_ctrl_seqs = np.random.choice(tr_seqs, size=len(val_seqs), replace=False)\n",
    "# constant sequences for MMD\n",
    "neg_ctrl_seqs_MMD = []\n",
    "for _ in range(len(val_seqs)):\n",
    "    rand_aa_idx = np.random.randint(0, high=19)\n",
    "    rand_seq = decode_one_seq(\n",
    "        np.random.randint(rand_aa_idx, high=rand_aa_idx+2, size=seq_len))\n",
    "    neg_ctrl_seqs_MMD.append(rand_seq)\n",
    "# repeated sequences for diversity measures\n",
    "rand_seq = decode_one_seq(np.random.randint(0, high=21, size=seq_len))\n",
    "neg_ctrl_seqs_diversity = [rand_seq for _ in range(len(val_seqs))]\n",
    "# report baseline\n",
    "MMD_pos = mmd(seq1=pos_ctrl_seqs, seq2=val_seqs)\n",
    "MMD_neg = mmd(seq1=neg_ctrl_seqs_MMD, seq2=val_seqs)\n",
    "Entropy_pos = abs(entropy(seq1=pos_ctrl_seqs, seq2=val_seqs))\n",
    "Entropy_neg = abs(entropy(seq1=neg_ctrl_seqs_diversity, seq2=val_seqs))\n",
    "Distance_pos = abs(distance(seq1=pos_ctrl_seqs, seq2=val_seqs))\n",
    "Distance_neg = abs(distance(seq1=neg_ctrl_seqs_diversity, seq2=val_seqs))\n",
    "Pearson_cor_pos = pearson_cor(seq1=pos_ctrl_seqs, seq2=val_seqs, random_n=1000)[1].item()"
   ]
  },
  {
   "cell_type": "code",
   "execution_count": 6,
   "metadata": {},
   "outputs": [
    {
     "name": "stdout",
     "output_type": "stream",
     "text": [
      ">>> MMD | abs(D_Entropy) | abs(D_Distance) | Pearson Corr\n",
      ">>> For postivie control:\n",
      "0.14012 , 0.008014 , 0.076579 , nan\n",
      ">>> For negative control:\n",
      "0.72962 , 0.15464 , 1.0896 , 0.000\n"
     ]
    }
   ],
   "source": [
    "## Pearson corr higher the better, all other lower the better\n",
    "print('>>> MMD | abs(D_Entropy) | abs(D_Distance) | Pearson Corr' )\n",
    "print(f'>>> For postivie control:\\n'\n",
    "      f'{MMD_pos:.5} , {Entropy_pos:.5} , {Distance_pos:.5} , {Pearson_cor_pos:.5}')\n",
    "print(f'>>> For negative control:\\n'\n",
    "      f'{MMD_neg:.5} , {Entropy_neg:.5} , {Distance_neg:.5} , 0.000')"
   ]
  },
  {
   "cell_type": "code",
   "execution_count": 7,
   "metadata": {},
   "outputs": [],
   "source": [
    "def save_checkpoints(discriminator, generator, optim_D, optim_G,  \n",
    "               scheduler_D, scheduler_G, epoch):\n",
    "    torch.save({\n",
    "        'epoch': epoch,\n",
    "        'disc_state_dict': discriminator.state_dict(),\n",
    "        'gen_state_dict': generator.state_dict(),\n",
    "        'optim_D_state_dict': optim_D.state_dict(),\n",
    "        'optim_G_state_dict': optim_G.state_dict(),\n",
    "        'scheduler_D_state_dict': scheduler_D.state_dict(),\n",
    "        'scheduler_G_state_dict': scheduler_G.state_dict(),\n",
    "    }, os.path.join('checkpoints/'+args_run_name, 'epoch_{}'.format(epoch)))\n",
    "    return\n",
    "\n",
    "def load_checkpoints(discriminator, generator, optim_D, optim_G,\n",
    "                     scheduler_D, scheduler_G, epoch):\n",
    "    checkpoints = torch.load(\n",
    "        os.path.join('checkpoints'+args_run_name, 'epoch_{}'.format(epoch)))  \n",
    "    discriminator.load_state_dict(checkpoints['disc_state_dict'])\n",
    "    generator.load_state_dict(checkpoints['gen_state_dict'])\n",
    "    optim_D.load_state_dict(checkpoints['optim_D_state_dict'])\n",
    "    optim_G.load_state_dict(checkpoints['optim_G_state_dict'])\n",
    "    scheduler_D.load_state_dict(checkpoints['scheduler_D_state_dict'])\n",
    "    scheduler_G.load_state_dict(checkpoints['scheduler_G_state_dict'])\n",
    "    return"
   ]
  },
  {
   "cell_type": "markdown",
   "metadata": {},
   "source": [
    "## Init model"
   ]
  },
  {
   "cell_type": "code",
   "execution_count": 8,
   "metadata": {},
   "outputs": [],
   "source": [
    "# init model and optimizer\n",
    "\n",
    "Disc = Discriminator(args_dim, seq_len=seq_len, n_chars=n_chars).to(device)\n",
    "Gen = Generator(args_dim, seq_len=seq_len, n_chars=n_chars, \n",
    "                z_dim=args_z_dim).to(device)\n",
    "\n",
    "# Disc = ResNetSN_Discriminator(args_dim, seq_len, n_chars).to(device)\n",
    "# Gen = ResNetSN_Generator(args_dim, seq_len, n_chars, args_z_dim).to(device)\n",
    "\n",
    "optim_disc = optim.Adam(filter(lambda p: p.requires_grad, Disc.parameters()),\n",
    "                        lr=args_lr_Disc, betas=(0.0, 0.9))\n",
    "optim_gen = optim.Adam(Gen.parameters(), lr=args_lr_Gen, betas=(0.0, 0.9))\n",
    "# use an exponentially decaying learning rate\n",
    "scheduler_d = optim.lr_scheduler.ExponentialLR(optim_disc, gamma=0.99)\n",
    "scheduler_g = optim.lr_scheduler.ExponentialLR(optim_gen, gamma=0.99)\n",
    "\n",
    "#load_checkpoints(Disc, Gen, optim_disc, optim_gen, scheduler_d, scheduler_g, 0)\n",
    "#save_checkpoints(Disc, Gen, optim_disc, optim_gen, scheduler_d, scheduler_g, 0)"
   ]
  },
  {
   "cell_type": "code",
   "execution_count": 9,
   "metadata": {},
   "outputs": [],
   "source": [
    "def sample_generated(generator, epoch, run_name, n_seq=500):\n",
    "    # random sampling n_seq noise, batched 100 noise at a time\n",
    "    # return sampled n_seq sequences, also saving them to fasta file\n",
    "    gen_seqs = []\n",
    "    max_batch_size = 100\n",
    "    for _ in range(n_seq//max_batch_size):\n",
    "        z = torch.randn(max_batch_size, args_z_dim, device=device)\n",
    "        gen_probs = generator(z)\n",
    "        batched_seq = [decode_one_seq(\n",
    "            gen_prob.argmax(-1).cpu().numpy()) for gen_prob in gen_probs]\n",
    "        gen_seqs += batched_seq\n",
    "        torch.cuda.empty_cache()\n",
    "    # saving seqs in fasta\n",
    "    fasta_name = 'out/' + run_name + '/seq_out/epoch_' + str(epoch) + '.fasta'\n",
    "    outfile = open(fasta_name, 'w')\n",
    "    for i, seq in enumerate(gen_seqs):\n",
    "        seq_id = 'Epoch'+str(epoch)+'_seq'+str(i)\n",
    "        outfile.write('>' + seq_id + '\\n')\n",
    "        outfile.write(seq + '\\n')\n",
    "    return gen_seqs\n",
    "\n",
    "\n",
    "def write_eval_TB(writer, MMD, Entropy, Distance, Pearson, epoch):\n",
    "    writer.add_scalar(args_run_name+'/MMD',  MMD, epoch)\n",
    "    writer.add_scalar(args_run_name+'/abs(D_Entropy)', Entropy, epoch)\n",
    "    writer.add_scalar(args_run_name+'/abs(D_Distance)', Distance, epoch)\n",
    "    writer.add_scalar(args_run_name+'/Pearson Correlation', Pearson, epoch)\n",
    "    return\n",
    "\n",
    "def evaluate(epoch):\n",
    "    # eval mode\n",
    "    Gen.eval()\n",
    "    # sample args_eval_n_seq sequences\n",
    "    gen_seqs = sample_generated(Gen, epoch, args_run_name, n_seq=args_eval_n_seq)\n",
    "    MMD = mmd(seq1=gen_seqs, seq2=val_seqs)\n",
    "    Entropy = abs(entropy(seq1=gen_seqs, seq2=val_seqs))\n",
    "    Distance = abs(distance(seq1=gen_seqs, seq2=val_seqs))\n",
    "    Pearson = pearson_cor(\n",
    "        seq1=gen_seqs, seq2=val_seqs, random_n=args_eval_n_seq)[1].item()\n",
    "    print(f'#========== evaluating for epoch ' f'{epoch} ' f'==========#')\n",
    "    print('>>> MMD | abs(D_Entropy) | abs(D_Distance) | Pearson Corr \\n'\n",
    "          f'{MMD:.5} , {Entropy:.5} , {Distance:.5} , {Pearson:.5}')\n",
    "    # save the gap distribution plot\n",
    "    plot_gap_dist(seqs=gen_seqs, run_name=args_run_name, epoch=epoch)\n",
    "    write_eval_TB(TB_writer, MMD, Entropy, Distance, Pearson, epoch)\n",
    "    # revert to train mode\n",
    "    Gen.train()\n",
    "    return\n"
   ]
  },
  {
   "cell_type": "code",
   "execution_count": 10,
   "metadata": {},
   "outputs": [],
   "source": [
    "def train(epoch):\n",
    "    for batch_idx, data in enumerate(loader):\n",
    "        if data.size()[0] != args_batch_size:\n",
    "            continue\n",
    "        else:\n",
    "            data = data.to(device)\n",
    "        # train discriminator more initially\n",
    "        if epoch <= args_disc_iters_init_epoch: \n",
    "            disc_iters = args_disc_iters_init\n",
    "        else:\n",
    "            disc_iters = args_disc_iters\n",
    "        # update discriminator\n",
    "        for _ in range(disc_iters):\n",
    "            z = torch.randn(args_batch_size, args_z_dim, device=device)\n",
    "            optim_disc.zero_grad()\n",
    "            optim_gen.zero_grad()\n",
    "            real_D = Disc(data)\n",
    "            fake_D = Disc(Gen(z))\n",
    "            if args_loss == 'hinge':\n",
    "                disc_loss = nn.ReLU()(1.0 - real_D).mean() + \\\n",
    "                nn.ReLU()(1.0 + fake_D).mean()\n",
    "            disc_loss.backward()\n",
    "            optim_disc.step()\n",
    "        # record output for both fake and real from discriminator\n",
    "        real_prob_avg = real_D.mean()\n",
    "        fake_prob_avg = fake_D.mean()\n",
    "        \n",
    "        # update generator\n",
    "        z = torch.randn(args_batch_size, args_z_dim, device=device)\n",
    "        optim_disc.zero_grad()\n",
    "        optim_gen.zero_grad()\n",
    "        if args_loss == 'hinge' or args_loss == 'wasserstein':\n",
    "            gen_loss = -Disc(Gen(z)).mean()\n",
    "        gen_loss.backward()\n",
    "        optim_gen.step()\n",
    "        \n",
    "        # write to Tensor board\n",
    "        iter = len(loader)*epoch + batch_idx\n",
    "        TB_writer.add_scalars(\n",
    "            args_run_name+'/GAN loss', {\n",
    "            'Disc_loss': disc_loss,\n",
    "            'Gen_loss': gen_loss,\n",
    "        }, iter)\n",
    "        TB_writer.add_scalars(\n",
    "            args_run_name+'/Discriminator out', {\n",
    "            'Real prob': real_prob_avg,\n",
    "            'Fake prob': fake_prob_avg,\n",
    "        }, iter)\n",
    "        if batch_idx % 60 == 0:\n",
    "            print('disc loss', disc_loss.item(), 'gen loss', gen_loss.item())\n",
    "    # update lr scheduler\n",
    "    scheduler_d.step()\n",
    "    scheduler_g.step()\n",
    "    return\n"
   ]
  },
  {
   "cell_type": "code",
   "execution_count": 11,
   "metadata": {},
   "outputs": [
    {
     "name": "stdout",
     "output_type": "stream",
     "text": [
      "disc loss 1.9671287536621094 gen loss 0.05788945406675339\n",
      "#========== evaluating for epoch 0 ==========#\n",
      ">>> MMD | abs(D_Entropy) | abs(D_Distance) | Pearson Corr \n",
      "0.66801 , 0.071965 , 0.85698 , nan\n",
      "# ================== Sampling 500 sequences at epoch 0 ================== #\n",
      "The loci with percentage of gap >= 95% in the cleaned MSA: \n",
      " []\n",
      "Their percentage gap are:\n",
      " []\n",
      "# ====================================================== #\n",
      "disc loss 1.538091778755188 gen loss 0.05099334195256233\n",
      "disc loss 1.0147287845611572 gen loss 0.11223749816417694\n"
     ]
    },
    {
     "name": "stderr",
     "output_type": "stream",
     "text": [
      "C:\\Users\\canal\\AppData\\Roaming\\Python\\Python38\\site-packages\\numpy\\lib\\function_base.py:2642: RuntimeWarning: invalid value encountered in true_divide\n",
      "  c /= stddev[:, None]\n",
      "C:\\Users\\canal\\AppData\\Roaming\\Python\\Python38\\site-packages\\numpy\\lib\\function_base.py:2643: RuntimeWarning: invalid value encountered in true_divide\n",
      "  c /= stddev[None, :]\n"
     ]
    },
    {
     "name": "stdout",
     "output_type": "stream",
     "text": [
      "#========== evaluating for epoch 2 ==========#\n",
      ">>> MMD | abs(D_Entropy) | abs(D_Distance) | Pearson Corr \n",
      "0.6677 , 0.070777 , 0.85699 , nan\n",
      "# ================== Sampling 500 sequences at epoch 2 ================== #\n",
      "The loci with percentage of gap >= 95% in the cleaned MSA: \n",
      " []\n",
      "Their percentage gap are:\n",
      " []\n",
      "# ====================================================== #\n",
      "disc loss 0.6638278365135193 gen loss 0.38347333669662476\n",
      "disc loss 0.17272460460662842 gen loss 0.8952022790908813\n"
     ]
    },
    {
     "name": "stderr",
     "output_type": "stream",
     "text": [
      "C:\\Users\\canal\\AppData\\Roaming\\Python\\Python38\\site-packages\\numpy\\lib\\function_base.py:2642: RuntimeWarning: invalid value encountered in true_divide\n",
      "  c /= stddev[:, None]\n",
      "C:\\Users\\canal\\AppData\\Roaming\\Python\\Python38\\site-packages\\numpy\\lib\\function_base.py:2643: RuntimeWarning: invalid value encountered in true_divide\n",
      "  c /= stddev[None, :]\n"
     ]
    },
    {
     "name": "stdout",
     "output_type": "stream",
     "text": [
      "#========== evaluating for epoch 4 ==========#\n",
      ">>> MMD | abs(D_Entropy) | abs(D_Distance) | Pearson Corr \n",
      "0.66616 , 0.07162 , 0.85694 , nan\n",
      "# ================== Sampling 500 sequences at epoch 4 ================== #\n",
      "The loci with percentage of gap >= 95% in the cleaned MSA: \n",
      " []\n",
      "Their percentage gap are:\n",
      " []\n",
      "# ====================================================== #\n",
      "disc loss 0.006121009588241577 gen loss 1.049099087715149\n",
      "disc loss 0.033028941601514816 gen loss 1.1891436576843262\n"
     ]
    },
    {
     "name": "stderr",
     "output_type": "stream",
     "text": [
      "C:\\Users\\canal\\AppData\\Roaming\\Python\\Python38\\site-packages\\numpy\\lib\\function_base.py:2642: RuntimeWarning: invalid value encountered in true_divide\n",
      "  c /= stddev[:, None]\n",
      "C:\\Users\\canal\\AppData\\Roaming\\Python\\Python38\\site-packages\\numpy\\lib\\function_base.py:2643: RuntimeWarning: invalid value encountered in true_divide\n",
      "  c /= stddev[None, :]\n"
     ]
    },
    {
     "name": "stdout",
     "output_type": "stream",
     "text": [
      "#========== evaluating for epoch 6 ==========#\n",
      ">>> MMD | abs(D_Entropy) | abs(D_Distance) | Pearson Corr \n",
      "0.66777 , 0.071395 , 0.85696 , nan\n",
      "# ================== Sampling 500 sequences at epoch 6 ================== #\n",
      "The loci with percentage of gap >= 95% in the cleaned MSA: \n",
      " []\n",
      "Their percentage gap are:\n",
      " []\n",
      "# ====================================================== #\n",
      "disc loss 0.0 gen loss 1.1445046663284302\n",
      "disc loss 0.0007192455232143402 gen loss 1.222768783569336\n"
     ]
    },
    {
     "name": "stderr",
     "output_type": "stream",
     "text": [
      "C:\\Users\\canal\\AppData\\Roaming\\Python\\Python38\\site-packages\\numpy\\lib\\function_base.py:2642: RuntimeWarning: invalid value encountered in true_divide\n",
      "  c /= stddev[:, None]\n",
      "C:\\Users\\canal\\AppData\\Roaming\\Python\\Python38\\site-packages\\numpy\\lib\\function_base.py:2643: RuntimeWarning: invalid value encountered in true_divide\n",
      "  c /= stddev[None, :]\n"
     ]
    },
    {
     "name": "stdout",
     "output_type": "stream",
     "text": [
      "#========== evaluating for epoch 8 ==========#\n",
      ">>> MMD | abs(D_Entropy) | abs(D_Distance) | Pearson Corr \n",
      "0.66709 , 0.071424 , 0.85704 , nan\n",
      "# ================== Sampling 500 sequences at epoch 8 ================== #\n",
      "The loci with percentage of gap >= 95% in the cleaned MSA: \n",
      " []\n",
      "Their percentage gap are:\n",
      " []\n",
      "# ====================================================== #\n",
      "disc loss 0.0005996860563755035 gen loss 1.2221118211746216\n",
      "disc loss 0.0030787549912929535 gen loss 1.333502173423767\n"
     ]
    },
    {
     "name": "stderr",
     "output_type": "stream",
     "text": [
      "C:\\Users\\canal\\AppData\\Roaming\\Python\\Python38\\site-packages\\numpy\\lib\\function_base.py:2642: RuntimeWarning: invalid value encountered in true_divide\n",
      "  c /= stddev[:, None]\n",
      "C:\\Users\\canal\\AppData\\Roaming\\Python\\Python38\\site-packages\\numpy\\lib\\function_base.py:2643: RuntimeWarning: invalid value encountered in true_divide\n",
      "  c /= stddev[None, :]\n"
     ]
    },
    {
     "name": "stdout",
     "output_type": "stream",
     "text": [
      "#========== evaluating for epoch 10 ==========#\n",
      ">>> MMD | abs(D_Entropy) | abs(D_Distance) | Pearson Corr \n",
      "0.66661 , 0.071531 , 0.85669 , nan\n",
      "# ================== Sampling 500 sequences at epoch 10 ================== #\n",
      "The loci with percentage of gap >= 95% in the cleaned MSA: \n",
      " []\n",
      "Their percentage gap are:\n",
      " []\n",
      "# ====================================================== #\n",
      "disc loss 0.0020514875650405884 gen loss 1.2978670597076416\n",
      "disc loss 0.0 gen loss 1.3083443641662598\n"
     ]
    },
    {
     "name": "stderr",
     "output_type": "stream",
     "text": [
      "C:\\Users\\canal\\AppData\\Roaming\\Python\\Python38\\site-packages\\numpy\\lib\\function_base.py:2642: RuntimeWarning: invalid value encountered in true_divide\n",
      "  c /= stddev[:, None]\n",
      "C:\\Users\\canal\\AppData\\Roaming\\Python\\Python38\\site-packages\\numpy\\lib\\function_base.py:2643: RuntimeWarning: invalid value encountered in true_divide\n",
      "  c /= stddev[None, :]\n"
     ]
    },
    {
     "name": "stdout",
     "output_type": "stream",
     "text": [
      "#========== evaluating for epoch 12 ==========#\n",
      ">>> MMD | abs(D_Entropy) | abs(D_Distance) | Pearson Corr \n",
      "0.66592 , 0.070926 , 0.85659 , nan\n",
      "# ================== Sampling 500 sequences at epoch 12 ================== #\n",
      "The loci with percentage of gap >= 95% in the cleaned MSA: \n",
      " []\n",
      "Their percentage gap are:\n",
      " []\n",
      "# ====================================================== #\n",
      "disc loss 0.0 gen loss 1.2736194133758545\n",
      "disc loss 0.0 gen loss 1.301361322402954\n"
     ]
    },
    {
     "name": "stderr",
     "output_type": "stream",
     "text": [
      "C:\\Users\\canal\\AppData\\Roaming\\Python\\Python38\\site-packages\\numpy\\lib\\function_base.py:2642: RuntimeWarning: invalid value encountered in true_divide\n",
      "  c /= stddev[:, None]\n",
      "C:\\Users\\canal\\AppData\\Roaming\\Python\\Python38\\site-packages\\numpy\\lib\\function_base.py:2643: RuntimeWarning: invalid value encountered in true_divide\n",
      "  c /= stddev[None, :]\n"
     ]
    },
    {
     "name": "stdout",
     "output_type": "stream",
     "text": [
      "#========== evaluating for epoch 14 ==========#\n",
      ">>> MMD | abs(D_Entropy) | abs(D_Distance) | Pearson Corr \n",
      "0.66651 , 0.072739 , 0.85649 , nan\n",
      "# ================== Sampling 500 sequences at epoch 14 ================== #\n",
      "The loci with percentage of gap >= 95% in the cleaned MSA: \n",
      " []\n",
      "Their percentage gap are:\n",
      " []\n",
      "# ====================================================== #\n",
      "disc loss 0.0 gen loss 1.3025884628295898\n",
      "disc loss 0.0 gen loss 1.3583564758300781\n"
     ]
    },
    {
     "name": "stderr",
     "output_type": "stream",
     "text": [
      "C:\\Users\\canal\\AppData\\Roaming\\Python\\Python38\\site-packages\\numpy\\lib\\function_base.py:2642: RuntimeWarning: invalid value encountered in true_divide\n",
      "  c /= stddev[:, None]\n",
      "C:\\Users\\canal\\AppData\\Roaming\\Python\\Python38\\site-packages\\numpy\\lib\\function_base.py:2643: RuntimeWarning: invalid value encountered in true_divide\n",
      "  c /= stddev[None, :]\n"
     ]
    },
    {
     "name": "stdout",
     "output_type": "stream",
     "text": [
      "#========== evaluating for epoch 16 ==========#\n",
      ">>> MMD | abs(D_Entropy) | abs(D_Distance) | Pearson Corr \n",
      "0.6646 , 0.071895 , 0.85541 , nan\n",
      "# ================== Sampling 500 sequences at epoch 16 ================== #\n",
      "The loci with percentage of gap >= 95% in the cleaned MSA: \n",
      " []\n",
      "Their percentage gap are:\n",
      " []\n",
      "# ====================================================== #\n",
      "disc loss 0.0 gen loss 1.3996562957763672\n",
      "disc loss 0.0 gen loss 1.2773085832595825\n"
     ]
    },
    {
     "name": "stderr",
     "output_type": "stream",
     "text": [
      "C:\\Users\\canal\\AppData\\Roaming\\Python\\Python38\\site-packages\\numpy\\lib\\function_base.py:2642: RuntimeWarning: invalid value encountered in true_divide\n",
      "  c /= stddev[:, None]\n",
      "C:\\Users\\canal\\AppData\\Roaming\\Python\\Python38\\site-packages\\numpy\\lib\\function_base.py:2643: RuntimeWarning: invalid value encountered in true_divide\n",
      "  c /= stddev[None, :]\n"
     ]
    },
    {
     "name": "stdout",
     "output_type": "stream",
     "text": [
      "#========== evaluating for epoch 18 ==========#\n",
      ">>> MMD | abs(D_Entropy) | abs(D_Distance) | Pearson Corr \n",
      "0.66317 , 0.071115 , 0.85313 , nan\n",
      "# ================== Sampling 500 sequences at epoch 18 ================== #\n",
      "The loci with percentage of gap >= 95% in the cleaned MSA: \n",
      " []\n",
      "Their percentage gap are:\n",
      " []\n",
      "# ====================================================== #\n",
      "disc loss 0.0011447891592979431 gen loss 1.3096895217895508\n",
      "disc loss 0.0 gen loss 1.3594671487808228\n"
     ]
    },
    {
     "name": "stderr",
     "output_type": "stream",
     "text": [
      "C:\\Users\\canal\\AppData\\Roaming\\Python\\Python38\\site-packages\\numpy\\lib\\function_base.py:2642: RuntimeWarning: invalid value encountered in true_divide\n",
      "  c /= stddev[:, None]\n",
      "C:\\Users\\canal\\AppData\\Roaming\\Python\\Python38\\site-packages\\numpy\\lib\\function_base.py:2643: RuntimeWarning: invalid value encountered in true_divide\n",
      "  c /= stddev[None, :]\n"
     ]
    },
    {
     "name": "stdout",
     "output_type": "stream",
     "text": [
      "#========== evaluating for epoch 20 ==========#\n",
      ">>> MMD | abs(D_Entropy) | abs(D_Distance) | Pearson Corr \n",
      "0.66118 , 0.07219 , 0.8487 , nan\n",
      "# ================== Sampling 500 sequences at epoch 20 ================== #\n",
      "The loci with percentage of gap >= 95% in the cleaned MSA: \n",
      " []\n",
      "Their percentage gap are:\n",
      " []\n",
      "# ====================================================== #\n",
      "disc loss 0.003684539347887039 gen loss 1.3581594228744507\n",
      "disc loss 0.0 gen loss 1.3893821239471436\n"
     ]
    },
    {
     "name": "stderr",
     "output_type": "stream",
     "text": [
      "C:\\Users\\canal\\AppData\\Roaming\\Python\\Python38\\site-packages\\numpy\\lib\\function_base.py:2642: RuntimeWarning: invalid value encountered in true_divide\n",
      "  c /= stddev[:, None]\n",
      "C:\\Users\\canal\\AppData\\Roaming\\Python\\Python38\\site-packages\\numpy\\lib\\function_base.py:2643: RuntimeWarning: invalid value encountered in true_divide\n",
      "  c /= stddev[None, :]\n"
     ]
    },
    {
     "name": "stdout",
     "output_type": "stream",
     "text": [
      "#========== evaluating for epoch 22 ==========#\n",
      ">>> MMD | abs(D_Entropy) | abs(D_Distance) | Pearson Corr \n",
      "0.65432 , 0.071778 , 0.83978 , nan\n",
      "# ================== Sampling 500 sequences at epoch 22 ================== #\n",
      "The loci with percentage of gap >= 95% in the cleaned MSA: \n",
      " []\n",
      "Their percentage gap are:\n",
      " []\n",
      "# ====================================================== #\n",
      "disc loss 0.0034278221428394318 gen loss 1.2565813064575195\n",
      "disc loss 0.0 gen loss 1.3762919902801514\n"
     ]
    },
    {
     "name": "stderr",
     "output_type": "stream",
     "text": [
      "C:\\Users\\canal\\AppData\\Roaming\\Python\\Python38\\site-packages\\numpy\\lib\\function_base.py:2642: RuntimeWarning: invalid value encountered in true_divide\n",
      "  c /= stddev[:, None]\n",
      "C:\\Users\\canal\\AppData\\Roaming\\Python\\Python38\\site-packages\\numpy\\lib\\function_base.py:2643: RuntimeWarning: invalid value encountered in true_divide\n",
      "  c /= stddev[None, :]\n"
     ]
    },
    {
     "name": "stdout",
     "output_type": "stream",
     "text": [
      "#========== evaluating for epoch 24 ==========#\n",
      ">>> MMD | abs(D_Entropy) | abs(D_Distance) | Pearson Corr \n",
      "0.64336 , 0.071648 , 0.82536 , nan\n",
      "# ================== Sampling 500 sequences at epoch 24 ================== #\n",
      "The loci with percentage of gap >= 95% in the cleaned MSA: \n",
      " []\n",
      "Their percentage gap are:\n",
      " []\n",
      "# ====================================================== #\n",
      "disc loss 0.021200791001319885 gen loss 1.3092882633209229\n",
      "disc loss 0.06039451062679291 gen loss 1.331181287765503\n"
     ]
    },
    {
     "name": "stderr",
     "output_type": "stream",
     "text": [
      "C:\\Users\\canal\\AppData\\Roaming\\Python\\Python38\\site-packages\\numpy\\lib\\function_base.py:2642: RuntimeWarning: invalid value encountered in true_divide\n",
      "  c /= stddev[:, None]\n",
      "C:\\Users\\canal\\AppData\\Roaming\\Python\\Python38\\site-packages\\numpy\\lib\\function_base.py:2643: RuntimeWarning: invalid value encountered in true_divide\n",
      "  c /= stddev[None, :]\n"
     ]
    },
    {
     "name": "stdout",
     "output_type": "stream",
     "text": [
      "#========== evaluating for epoch 26 ==========#\n",
      ">>> MMD | abs(D_Entropy) | abs(D_Distance) | Pearson Corr \n",
      "0.60654 , 0.072505 , 0.79679 , nan\n",
      "# ================== Sampling 500 sequences at epoch 26 ================== #\n",
      "The loci with percentage of gap >= 95% in the cleaned MSA: \n",
      " []\n",
      "Their percentage gap are:\n",
      " []\n",
      "# ====================================================== #\n",
      "disc loss 0.019560344517230988 gen loss 1.2852301597595215\n",
      "disc loss 0.021730389446020126 gen loss 1.3088546991348267\n"
     ]
    },
    {
     "name": "stderr",
     "output_type": "stream",
     "text": [
      "C:\\Users\\canal\\AppData\\Roaming\\Python\\Python38\\site-packages\\numpy\\lib\\function_base.py:2642: RuntimeWarning: invalid value encountered in true_divide\n",
      "  c /= stddev[:, None]\n",
      "C:\\Users\\canal\\AppData\\Roaming\\Python\\Python38\\site-packages\\numpy\\lib\\function_base.py:2643: RuntimeWarning: invalid value encountered in true_divide\n",
      "  c /= stddev[None, :]\n"
     ]
    },
    {
     "name": "stdout",
     "output_type": "stream",
     "text": [
      "#========== evaluating for epoch 28 ==========#\n",
      ">>> MMD | abs(D_Entropy) | abs(D_Distance) | Pearson Corr \n",
      "0.55113 , 0.076753 , 0.74383 , nan\n",
      "# ================== Sampling 500 sequences at epoch 28 ================== #\n",
      "The loci with percentage of gap >= 95% in the cleaned MSA: \n",
      " []\n",
      "Their percentage gap are:\n",
      " []\n",
      "# ====================================================== #\n",
      "disc loss 0.04084146022796631 gen loss 1.3510677814483643\n",
      "disc loss 0.060096755623817444 gen loss 1.217897653579712\n"
     ]
    },
    {
     "name": "stderr",
     "output_type": "stream",
     "text": [
      "C:\\Users\\canal\\AppData\\Roaming\\Python\\Python38\\site-packages\\numpy\\lib\\function_base.py:2642: RuntimeWarning: invalid value encountered in true_divide\n",
      "  c /= stddev[:, None]\n",
      "C:\\Users\\canal\\AppData\\Roaming\\Python\\Python38\\site-packages\\numpy\\lib\\function_base.py:2643: RuntimeWarning: invalid value encountered in true_divide\n",
      "  c /= stddev[None, :]\n"
     ]
    },
    {
     "name": "stdout",
     "output_type": "stream",
     "text": [
      "#========== evaluating for epoch 30 ==========#\n",
      ">>> MMD | abs(D_Entropy) | abs(D_Distance) | Pearson Corr \n",
      "0.44227 , 0.081593 , 0.62196 , nan\n",
      "# ================== Sampling 500 sequences at epoch 30 ================== #\n",
      "The loci with percentage of gap >= 95% in the cleaned MSA: \n",
      " []\n",
      "Their percentage gap are:\n",
      " []\n",
      "# ====================================================== #\n",
      "disc loss 0.07175130397081375 gen loss 1.1743547916412354\n",
      "disc loss 0.050044044852256775 gen loss 1.146600365638733\n"
     ]
    },
    {
     "name": "stderr",
     "output_type": "stream",
     "text": [
      "C:\\Users\\canal\\AppData\\Roaming\\Python\\Python38\\site-packages\\numpy\\lib\\function_base.py:2642: RuntimeWarning: invalid value encountered in true_divide\n",
      "  c /= stddev[:, None]\n",
      "C:\\Users\\canal\\AppData\\Roaming\\Python\\Python38\\site-packages\\numpy\\lib\\function_base.py:2643: RuntimeWarning: invalid value encountered in true_divide\n",
      "  c /= stddev[None, :]\n"
     ]
    },
    {
     "name": "stdout",
     "output_type": "stream",
     "text": [
      "#========== evaluating for epoch 32 ==========#\n",
      ">>> MMD | abs(D_Entropy) | abs(D_Distance) | Pearson Corr \n",
      "0.34016 , 0.082637 , 0.43967 , nan\n",
      "# ================== Sampling 500 sequences at epoch 32 ================== #\n",
      "The loci with percentage of gap >= 95% in the cleaned MSA: \n",
      " []\n",
      "Their percentage gap are:\n",
      " []\n",
      "# ====================================================== #\n",
      "disc loss 0.05582922697067261 gen loss 1.2391270399093628\n",
      "disc loss 0.03131621703505516 gen loss 1.1368403434753418\n"
     ]
    },
    {
     "name": "stderr",
     "output_type": "stream",
     "text": [
      "C:\\Users\\canal\\AppData\\Roaming\\Python\\Python38\\site-packages\\numpy\\lib\\function_base.py:2642: RuntimeWarning: invalid value encountered in true_divide\n",
      "  c /= stddev[:, None]\n",
      "C:\\Users\\canal\\AppData\\Roaming\\Python\\Python38\\site-packages\\numpy\\lib\\function_base.py:2643: RuntimeWarning: invalid value encountered in true_divide\n",
      "  c /= stddev[None, :]\n"
     ]
    },
    {
     "name": "stdout",
     "output_type": "stream",
     "text": [
      "#========== evaluating for epoch 34 ==========#\n",
      ">>> MMD | abs(D_Entropy) | abs(D_Distance) | Pearson Corr \n",
      "0.27603 , 0.082487 , 0.26745 , nan\n",
      "# ================== Sampling 500 sequences at epoch 34 ================== #\n",
      "The loci with percentage of gap >= 95% in the cleaned MSA: \n",
      " [1, 233]\n",
      "Their percentage gap are:\n",
      " [95.8, 95.2]\n",
      "# ====================================================== #\n",
      "disc loss 0.12420187890529633 gen loss 1.2248070240020752\n",
      "disc loss 0.13842584192752838 gen loss 0.9507874250411987\n"
     ]
    },
    {
     "name": "stderr",
     "output_type": "stream",
     "text": [
      "C:\\Users\\canal\\AppData\\Roaming\\Python\\Python38\\site-packages\\numpy\\lib\\function_base.py:2642: RuntimeWarning: invalid value encountered in true_divide\n",
      "  c /= stddev[:, None]\n",
      "C:\\Users\\canal\\AppData\\Roaming\\Python\\Python38\\site-packages\\numpy\\lib\\function_base.py:2643: RuntimeWarning: invalid value encountered in true_divide\n",
      "  c /= stddev[None, :]\n"
     ]
    },
    {
     "name": "stdout",
     "output_type": "stream",
     "text": [
      "#========== evaluating for epoch 36 ==========#\n",
      ">>> MMD | abs(D_Entropy) | abs(D_Distance) | Pearson Corr \n",
      "0.24624 , 0.081139 , 0.11843 , nan\n",
      "# ================== Sampling 500 sequences at epoch 36 ================== #\n",
      "The loci with percentage of gap >= 95% in the cleaned MSA: \n",
      " [1, 233]\n",
      "Their percentage gap are:\n",
      " [96.6, 96.8]\n",
      "# ====================================================== #\n",
      "disc loss 0.11444062739610672 gen loss 0.9322769045829773\n",
      "disc loss 0.16526858508586884 gen loss 1.0859522819519043\n"
     ]
    },
    {
     "name": "stderr",
     "output_type": "stream",
     "text": [
      "C:\\Users\\canal\\AppData\\Roaming\\Python\\Python38\\site-packages\\numpy\\lib\\function_base.py:2642: RuntimeWarning: invalid value encountered in true_divide\n",
      "  c /= stddev[:, None]\n",
      "C:\\Users\\canal\\AppData\\Roaming\\Python\\Python38\\site-packages\\numpy\\lib\\function_base.py:2643: RuntimeWarning: invalid value encountered in true_divide\n",
      "  c /= stddev[None, :]\n"
     ]
    },
    {
     "name": "stdout",
     "output_type": "stream",
     "text": [
      "#========== evaluating for epoch 38 ==========#\n",
      ">>> MMD | abs(D_Entropy) | abs(D_Distance) | Pearson Corr \n",
      "0.23363 , 0.07941 , 0.012598 , nan\n",
      "# ================== Sampling 500 sequences at epoch 38 ================== #\n",
      "The loci with percentage of gap >= 95% in the cleaned MSA: \n",
      " [1, 153, 228, 230, 233, 236]\n",
      "Their percentage gap are:\n",
      " [99.0, 95.8, 95.2, 95.8, 99.6, 95.0]\n",
      "# ====================================================== #\n",
      "disc loss 0.15481916069984436 gen loss 0.950598955154419\n",
      "disc loss 0.17611819505691528 gen loss 1.0099281072616577\n"
     ]
    },
    {
     "name": "stderr",
     "output_type": "stream",
     "text": [
      "C:\\Users\\canal\\AppData\\Roaming\\Python\\Python38\\site-packages\\numpy\\lib\\function_base.py:2642: RuntimeWarning: invalid value encountered in true_divide\n",
      "  c /= stddev[:, None]\n",
      "C:\\Users\\canal\\AppData\\Roaming\\Python\\Python38\\site-packages\\numpy\\lib\\function_base.py:2643: RuntimeWarning: invalid value encountered in true_divide\n",
      "  c /= stddev[None, :]\n"
     ]
    },
    {
     "name": "stdout",
     "output_type": "stream",
     "text": [
      "#========== evaluating for epoch 40 ==========#\n",
      ">>> MMD | abs(D_Entropy) | abs(D_Distance) | Pearson Corr \n",
      "0.23009 , 0.079687 , 0.0092101 , nan\n",
      "# ================== Sampling 500 sequences at epoch 40 ================== #\n",
      "The loci with percentage of gap >= 95% in the cleaned MSA: \n",
      " [1, 79, 153, 154, 227, 228, 229, 232, 233, 235, 236]\n",
      "Their percentage gap are:\n",
      " [95.4, 97.4, 95.6, 95.2, 95.4, 97.4, 95.6, 95.6, 98.0, 95.2, 96.8]\n",
      "# ====================================================== #\n",
      "disc loss 0.18109862506389618 gen loss 1.123647689819336\n",
      "disc loss 0.30574363470077515 gen loss 1.0336891412734985\n"
     ]
    },
    {
     "name": "stderr",
     "output_type": "stream",
     "text": [
      "C:\\Users\\canal\\AppData\\Roaming\\Python\\Python38\\site-packages\\numpy\\lib\\function_base.py:2642: RuntimeWarning: invalid value encountered in true_divide\n",
      "  c /= stddev[:, None]\n",
      "C:\\Users\\canal\\AppData\\Roaming\\Python\\Python38\\site-packages\\numpy\\lib\\function_base.py:2643: RuntimeWarning: invalid value encountered in true_divide\n",
      "  c /= stddev[None, :]\n"
     ]
    },
    {
     "name": "stdout",
     "output_type": "stream",
     "text": [
      "#========== evaluating for epoch 42 ==========#\n",
      ">>> MMD | abs(D_Entropy) | abs(D_Distance) | Pearson Corr \n",
      "0.22832 , 0.079684 , 0.056294 , nan\n",
      "# ================== Sampling 500 sequences at epoch 42 ================== #\n",
      "The loci with percentage of gap >= 95% in the cleaned MSA: \n",
      " [1, 78, 79, 153, 154, 227, 228, 229, 230, 231, 233, 235, 236]\n",
      "Their percentage gap are:\n",
      " [96.6, 97.8, 97.2, 95.6, 97.4, 95.8, 96.6, 96.2, 95.2, 97.8, 97.4, 96.0, 96.0]\n",
      "# ====================================================== #\n",
      "disc loss 0.3296741545200348 gen loss 0.9522991180419922\n",
      "disc loss 0.35286423563957214 gen loss 0.9463809728622437\n"
     ]
    },
    {
     "name": "stderr",
     "output_type": "stream",
     "text": [
      "C:\\Users\\canal\\AppData\\Roaming\\Python\\Python38\\site-packages\\numpy\\lib\\function_base.py:2642: RuntimeWarning: invalid value encountered in true_divide\n",
      "  c /= stddev[:, None]\n",
      "C:\\Users\\canal\\AppData\\Roaming\\Python\\Python38\\site-packages\\numpy\\lib\\function_base.py:2643: RuntimeWarning: invalid value encountered in true_divide\n",
      "  c /= stddev[None, :]\n"
     ]
    },
    {
     "name": "stdout",
     "output_type": "stream",
     "text": [
      "#========== evaluating for epoch 44 ==========#\n",
      ">>> MMD | abs(D_Entropy) | abs(D_Distance) | Pearson Corr \n",
      "0.22597 , 0.079356 , 0.095143 , nan\n",
      "# ================== Sampling 500 sequences at epoch 44 ================== #\n",
      "The loci with percentage of gap >= 95% in the cleaned MSA: \n",
      " [0, 78, 79, 153, 154, 227, 228, 229, 230, 231, 232, 233, 234, 235, 236]\n",
      "Their percentage gap are:\n",
      " [95.2, 96.4, 97.8, 96.0, 98.0, 95.0, 98.6, 97.2, 96.4, 98.2, 97.2, 97.4, 96.2, 95.8, 96.6]\n",
      "# ====================================================== #\n",
      "disc loss 0.22657504677772522 gen loss 1.0468883514404297\n",
      "disc loss 0.33711522817611694 gen loss 0.8684831857681274\n"
     ]
    },
    {
     "name": "stderr",
     "output_type": "stream",
     "text": [
      "C:\\Users\\canal\\AppData\\Roaming\\Python\\Python38\\site-packages\\numpy\\lib\\function_base.py:2642: RuntimeWarning: invalid value encountered in true_divide\n",
      "  c /= stddev[:, None]\n",
      "C:\\Users\\canal\\AppData\\Roaming\\Python\\Python38\\site-packages\\numpy\\lib\\function_base.py:2643: RuntimeWarning: invalid value encountered in true_divide\n",
      "  c /= stddev[None, :]\n"
     ]
    },
    {
     "name": "stdout",
     "output_type": "stream",
     "text": [
      "#========== evaluating for epoch 46 ==========#\n",
      ">>> MMD | abs(D_Entropy) | abs(D_Distance) | Pearson Corr \n",
      "0.22621 , 0.078858 , 0.14765 , nan\n",
      "# ================== Sampling 500 sequences at epoch 46 ================== #\n",
      "The loci with percentage of gap >= 95% in the cleaned MSA: \n",
      " [78, 79, 154, 227, 228, 229, 230, 231, 232, 233, 234, 235, 236]\n",
      "Their percentage gap are:\n",
      " [97.2, 98.0, 98.4, 97.4, 97.6, 97.0, 97.8, 97.8, 98.2, 98.6, 95.2, 95.8, 96.4]\n",
      "# ====================================================== #\n",
      "disc loss 0.22612786293029785 gen loss 1.0949227809906006\n",
      "disc loss 0.17236986756324768 gen loss 1.0105246305465698\n"
     ]
    },
    {
     "name": "stderr",
     "output_type": "stream",
     "text": [
      "C:\\Users\\canal\\AppData\\Roaming\\Python\\Python38\\site-packages\\numpy\\lib\\function_base.py:2642: RuntimeWarning: invalid value encountered in true_divide\n",
      "  c /= stddev[:, None]\n",
      "C:\\Users\\canal\\AppData\\Roaming\\Python\\Python38\\site-packages\\numpy\\lib\\function_base.py:2643: RuntimeWarning: invalid value encountered in true_divide\n",
      "  c /= stddev[None, :]\n"
     ]
    },
    {
     "name": "stdout",
     "output_type": "stream",
     "text": [
      "#========== evaluating for epoch 48 ==========#\n",
      ">>> MMD | abs(D_Entropy) | abs(D_Distance) | Pearson Corr \n",
      "0.22385 , 0.07784 , 0.15749 , nan\n",
      "# ================== Sampling 500 sequences at epoch 48 ================== #\n",
      "The loci with percentage of gap >= 95% in the cleaned MSA: \n",
      " [0, 2, 78, 79, 153, 154, 227, 228, 229, 230, 231, 232, 233, 234, 235, 236]\n",
      "Their percentage gap are:\n",
      " [96.2, 96.4, 96.6, 98.4, 96.0, 97.8, 96.4, 97.4, 98.2, 97.6, 97.4, 97.2, 98.8, 96.6, 97.2, 97.6]\n",
      "# ====================================================== #\n",
      "disc loss 0.1643275022506714 gen loss 0.9657214879989624\n",
      "disc loss 0.3167138993740082 gen loss 0.9031870365142822\n"
     ]
    },
    {
     "name": "stderr",
     "output_type": "stream",
     "text": [
      "C:\\Users\\canal\\AppData\\Roaming\\Python\\Python38\\site-packages\\numpy\\lib\\function_base.py:2642: RuntimeWarning: invalid value encountered in true_divide\n",
      "  c /= stddev[:, None]\n",
      "C:\\Users\\canal\\AppData\\Roaming\\Python\\Python38\\site-packages\\numpy\\lib\\function_base.py:2643: RuntimeWarning: invalid value encountered in true_divide\n",
      "  c /= stddev[None, :]\n"
     ]
    },
    {
     "name": "stdout",
     "output_type": "stream",
     "text": [
      "#========== evaluating for epoch 50 ==========#\n",
      ">>> MMD | abs(D_Entropy) | abs(D_Distance) | Pearson Corr \n",
      "0.21972 , 0.077186 , 0.16363 , nan\n",
      "# ================== Sampling 500 sequences at epoch 50 ================== #\n",
      "The loci with percentage of gap >= 95% in the cleaned MSA: \n",
      " [0, 2, 78, 79, 154, 227, 228, 229, 230, 231, 232, 233, 234, 235, 236]\n",
      "Their percentage gap are:\n",
      " [97.2, 97.0, 98.0, 97.4, 98.0, 97.6, 96.2, 98.4, 97.4, 98.4, 98.2, 99.2, 97.0, 97.6, 97.0]\n",
      "# ====================================================== #\n",
      "disc loss 0.20751449465751648 gen loss 1.0921539068222046\n",
      "disc loss 0.26045113801956177 gen loss 0.9317241907119751\n"
     ]
    },
    {
     "name": "stderr",
     "output_type": "stream",
     "text": [
      "C:\\Users\\canal\\AppData\\Roaming\\Python\\Python38\\site-packages\\numpy\\lib\\function_base.py:2642: RuntimeWarning: invalid value encountered in true_divide\n",
      "  c /= stddev[:, None]\n",
      "C:\\Users\\canal\\AppData\\Roaming\\Python\\Python38\\site-packages\\numpy\\lib\\function_base.py:2643: RuntimeWarning: invalid value encountered in true_divide\n",
      "  c /= stddev[None, :]\n"
     ]
    },
    {
     "name": "stdout",
     "output_type": "stream",
     "text": [
      "#========== evaluating for epoch 52 ==========#\n",
      ">>> MMD | abs(D_Entropy) | abs(D_Distance) | Pearson Corr \n",
      "0.2189 , 0.07604 , 0.13736 , nan\n",
      "# ================== Sampling 500 sequences at epoch 52 ================== #\n",
      "The loci with percentage of gap >= 95% in the cleaned MSA: \n",
      " [0, 2, 78, 79, 154, 227, 228, 229, 230, 231, 232, 233, 234, 235, 236]\n",
      "Their percentage gap are:\n",
      " [97.8, 97.0, 98.2, 97.0, 97.2, 99.0, 96.8, 98.8, 97.8, 99.6, 97.8, 98.6, 97.8, 97.4, 96.6]\n",
      "# ====================================================== #\n",
      "disc loss 0.39290910959243774 gen loss 0.915367841720581\n",
      "disc loss 0.3979334831237793 gen loss 0.718704879283905\n"
     ]
    },
    {
     "name": "stderr",
     "output_type": "stream",
     "text": [
      "C:\\Users\\canal\\AppData\\Roaming\\Python\\Python38\\site-packages\\numpy\\lib\\function_base.py:2642: RuntimeWarning: invalid value encountered in true_divide\n",
      "  c /= stddev[:, None]\n",
      "C:\\Users\\canal\\AppData\\Roaming\\Python\\Python38\\site-packages\\numpy\\lib\\function_base.py:2643: RuntimeWarning: invalid value encountered in true_divide\n",
      "  c /= stddev[None, :]\n"
     ]
    },
    {
     "name": "stdout",
     "output_type": "stream",
     "text": [
      "#========== evaluating for epoch 54 ==========#\n",
      ">>> MMD | abs(D_Entropy) | abs(D_Distance) | Pearson Corr \n",
      "0.22093 , 0.076316 , 0.14663 , nan\n",
      "# ================== Sampling 500 sequences at epoch 54 ================== #\n",
      "The loci with percentage of gap >= 95% in the cleaned MSA: \n",
      " [0, 2, 78, 79, 154, 227, 229, 230, 231, 232, 233, 234, 235, 236]\n",
      "Their percentage gap are:\n",
      " [98.4, 96.6, 98.4, 97.6, 96.4, 98.2, 98.2, 99.4, 98.6, 99.2, 98.0, 98.6, 98.6, 97.8]\n",
      "# ====================================================== #\n",
      "disc loss 0.4569402039051056 gen loss 0.741067111492157\n",
      "disc loss 0.8166894912719727 gen loss 0.7658219337463379\n"
     ]
    },
    {
     "name": "stderr",
     "output_type": "stream",
     "text": [
      "C:\\Users\\canal\\AppData\\Roaming\\Python\\Python38\\site-packages\\numpy\\lib\\function_base.py:2642: RuntimeWarning: invalid value encountered in true_divide\n",
      "  c /= stddev[:, None]\n",
      "C:\\Users\\canal\\AppData\\Roaming\\Python\\Python38\\site-packages\\numpy\\lib\\function_base.py:2643: RuntimeWarning: invalid value encountered in true_divide\n",
      "  c /= stddev[None, :]\n"
     ]
    },
    {
     "name": "stdout",
     "output_type": "stream",
     "text": [
      "#========== evaluating for epoch 56 ==========#\n",
      ">>> MMD | abs(D_Entropy) | abs(D_Distance) | Pearson Corr \n",
      "0.22505 , 0.075425 , 0.13423 , nan\n",
      "# ================== Sampling 500 sequences at epoch 56 ================== #\n",
      "The loci with percentage of gap >= 95% in the cleaned MSA: \n",
      " [0, 2, 78, 79, 154, 227, 229, 230, 231, 232, 233, 234, 235, 236]\n",
      "Their percentage gap are:\n",
      " [97.8, 97.0, 98.4, 96.4, 95.4, 97.0, 99.4, 97.4, 98.6, 99.0, 97.6, 98.8, 97.8, 99.0]\n",
      "# ====================================================== #\n",
      "disc loss 0.5050363540649414 gen loss 0.7361384630203247\n",
      "disc loss 0.6418423652648926 gen loss 0.8451923131942749\n"
     ]
    },
    {
     "name": "stderr",
     "output_type": "stream",
     "text": [
      "C:\\Users\\canal\\AppData\\Roaming\\Python\\Python38\\site-packages\\numpy\\lib\\function_base.py:2642: RuntimeWarning: invalid value encountered in true_divide\n",
      "  c /= stddev[:, None]\n",
      "C:\\Users\\canal\\AppData\\Roaming\\Python\\Python38\\site-packages\\numpy\\lib\\function_base.py:2643: RuntimeWarning: invalid value encountered in true_divide\n",
      "  c /= stddev[None, :]\n"
     ]
    },
    {
     "name": "stdout",
     "output_type": "stream",
     "text": [
      "#========== evaluating for epoch 58 ==========#\n",
      ">>> MMD | abs(D_Entropy) | abs(D_Distance) | Pearson Corr \n",
      "0.22917 , 0.074791 , 0.12949 , nan\n",
      "# ================== Sampling 500 sequences at epoch 58 ================== #\n",
      "The loci with percentage of gap >= 95% in the cleaned MSA: \n",
      " [0, 2, 78, 227, 229, 230, 231, 232, 233, 234, 235, 236]\n",
      "Their percentage gap are:\n",
      " [98.6, 97.8, 99.2, 95.0, 99.2, 99.0, 98.8, 98.8, 97.6, 98.6, 98.4, 99.4]\n",
      "# ====================================================== #\n",
      "disc loss 0.722725510597229 gen loss 0.7009664177894592\n",
      "disc loss 0.907309353351593 gen loss 0.7381912469863892\n"
     ]
    },
    {
     "name": "stderr",
     "output_type": "stream",
     "text": [
      "C:\\Users\\canal\\AppData\\Roaming\\Python\\Python38\\site-packages\\numpy\\lib\\function_base.py:2642: RuntimeWarning: invalid value encountered in true_divide\n",
      "  c /= stddev[:, None]\n",
      "C:\\Users\\canal\\AppData\\Roaming\\Python\\Python38\\site-packages\\numpy\\lib\\function_base.py:2643: RuntimeWarning: invalid value encountered in true_divide\n",
      "  c /= stddev[None, :]\n"
     ]
    },
    {
     "name": "stdout",
     "output_type": "stream",
     "text": [
      "#========== evaluating for epoch 60 ==========#\n",
      ">>> MMD | abs(D_Entropy) | abs(D_Distance) | Pearson Corr \n",
      "0.23636 , 0.07537 , 0.14156 , nan\n",
      "# ================== Sampling 500 sequences at epoch 60 ================== #\n",
      "The loci with percentage of gap >= 95% in the cleaned MSA: \n",
      " [0, 2, 78, 229, 230, 231, 232, 233, 234, 235, 236]\n",
      "Their percentage gap are:\n",
      " [98.8, 96.6, 98.8, 98.4, 98.6, 98.6, 99.2, 97.4, 98.6, 99.0, 98.6]\n",
      "# ====================================================== #\n",
      "disc loss 0.8651426434516907 gen loss 0.7022391557693481\n",
      "disc loss 0.6479724049568176 gen loss 0.6974962949752808\n"
     ]
    },
    {
     "name": "stderr",
     "output_type": "stream",
     "text": [
      "C:\\Users\\canal\\AppData\\Roaming\\Python\\Python38\\site-packages\\numpy\\lib\\function_base.py:2642: RuntimeWarning: invalid value encountered in true_divide\n",
      "  c /= stddev[:, None]\n",
      "C:\\Users\\canal\\AppData\\Roaming\\Python\\Python38\\site-packages\\numpy\\lib\\function_base.py:2643: RuntimeWarning: invalid value encountered in true_divide\n",
      "  c /= stddev[None, :]\n"
     ]
    },
    {
     "name": "stdout",
     "output_type": "stream",
     "text": [
      "#========== evaluating for epoch 62 ==========#\n",
      ">>> MMD | abs(D_Entropy) | abs(D_Distance) | Pearson Corr \n",
      "0.23915 , 0.075306 , 0.13733 , nan\n",
      "# ================== Sampling 500 sequences at epoch 62 ================== #\n",
      "The loci with percentage of gap >= 95% in the cleaned MSA: \n",
      " [0, 2, 78, 229, 230, 231, 232, 233, 234, 235, 236]\n",
      "Their percentage gap are:\n",
      " [99.4, 98.2, 99.2, 99.2, 98.6, 98.2, 97.4, 97.8, 98.0, 98.8, 99.0]\n",
      "# ====================================================== #\n",
      "disc loss 0.8253209590911865 gen loss 0.8655502796173096\n",
      "disc loss 0.6676491498947144 gen loss 0.7430236339569092\n"
     ]
    },
    {
     "name": "stderr",
     "output_type": "stream",
     "text": [
      "C:\\Users\\canal\\AppData\\Roaming\\Python\\Python38\\site-packages\\numpy\\lib\\function_base.py:2642: RuntimeWarning: invalid value encountered in true_divide\n",
      "  c /= stddev[:, None]\n",
      "C:\\Users\\canal\\AppData\\Roaming\\Python\\Python38\\site-packages\\numpy\\lib\\function_base.py:2643: RuntimeWarning: invalid value encountered in true_divide\n",
      "  c /= stddev[None, :]\n"
     ]
    },
    {
     "name": "stdout",
     "output_type": "stream",
     "text": [
      "#========== evaluating for epoch 64 ==========#\n",
      ">>> MMD | abs(D_Entropy) | abs(D_Distance) | Pearson Corr \n",
      "0.24225 , 0.073759 , 0.12024 , nan\n",
      "# ================== Sampling 500 sequences at epoch 64 ================== #\n",
      "The loci with percentage of gap >= 95% in the cleaned MSA: \n",
      " [0, 2, 78, 229, 230, 231, 232, 233, 234, 235, 236]\n",
      "Their percentage gap are:\n",
      " [99.4, 98.0, 99.0, 99.0, 98.2, 98.4, 99.0, 97.2, 98.6, 98.8, 98.8]\n",
      "# ====================================================== #\n",
      "disc loss 0.6550628542900085 gen loss 0.6832132935523987\n",
      "disc loss 0.4669332802295685 gen loss 0.7008414268493652\n"
     ]
    },
    {
     "name": "stderr",
     "output_type": "stream",
     "text": [
      "C:\\Users\\canal\\AppData\\Roaming\\Python\\Python38\\site-packages\\numpy\\lib\\function_base.py:2642: RuntimeWarning: invalid value encountered in true_divide\n",
      "  c /= stddev[:, None]\n",
      "C:\\Users\\canal\\AppData\\Roaming\\Python\\Python38\\site-packages\\numpy\\lib\\function_base.py:2643: RuntimeWarning: invalid value encountered in true_divide\n",
      "  c /= stddev[None, :]\n"
     ]
    },
    {
     "name": "stdout",
     "output_type": "stream",
     "text": [
      "#========== evaluating for epoch 66 ==========#\n",
      ">>> MMD | abs(D_Entropy) | abs(D_Distance) | Pearson Corr \n",
      "0.24267 , 0.075054 , 0.13006 , nan\n",
      "# ================== Sampling 500 sequences at epoch 66 ================== #\n",
      "The loci with percentage of gap >= 95% in the cleaned MSA: \n",
      " [0, 2, 78, 229, 230, 231, 232, 233, 234, 235, 236]\n",
      "Their percentage gap are:\n",
      " [98.8, 98.0, 99.6, 98.2, 98.8, 98.8, 98.2, 98.2, 98.2, 99.6, 99.2]\n",
      "# ====================================================== #\n",
      "disc loss 0.7470135688781738 gen loss 0.8096621632575989\n",
      "disc loss 0.8397946357727051 gen loss 0.7190266251564026\n"
     ]
    },
    {
     "name": "stderr",
     "output_type": "stream",
     "text": [
      "C:\\Users\\canal\\AppData\\Roaming\\Python\\Python38\\site-packages\\numpy\\lib\\function_base.py:2642: RuntimeWarning: invalid value encountered in true_divide\n",
      "  c /= stddev[:, None]\n",
      "C:\\Users\\canal\\AppData\\Roaming\\Python\\Python38\\site-packages\\numpy\\lib\\function_base.py:2643: RuntimeWarning: invalid value encountered in true_divide\n",
      "  c /= stddev[None, :]\n"
     ]
    },
    {
     "name": "stdout",
     "output_type": "stream",
     "text": [
      "#========== evaluating for epoch 68 ==========#\n",
      ">>> MMD | abs(D_Entropy) | abs(D_Distance) | Pearson Corr \n",
      "0.23891 , 0.072742 , 0.10297 , nan\n",
      "# ================== Sampling 500 sequences at epoch 68 ================== #\n",
      "The loci with percentage of gap >= 95% in the cleaned MSA: \n",
      " [0, 2, 78, 229, 230, 231, 232, 233, 234, 235, 236]\n",
      "Their percentage gap are:\n",
      " [100.0, 98.0, 99.2, 99.2, 98.2, 99.0, 98.2, 98.4, 100.0, 99.4, 99.0]\n",
      "# ====================================================== #\n",
      "disc loss 0.9259722828865051 gen loss 0.7904135584831238\n",
      "disc loss 0.6339114904403687 gen loss 0.6201311349868774\n"
     ]
    },
    {
     "name": "stderr",
     "output_type": "stream",
     "text": [
      "C:\\Users\\canal\\AppData\\Roaming\\Python\\Python38\\site-packages\\numpy\\lib\\function_base.py:2642: RuntimeWarning: invalid value encountered in true_divide\n",
      "  c /= stddev[:, None]\n",
      "C:\\Users\\canal\\AppData\\Roaming\\Python\\Python38\\site-packages\\numpy\\lib\\function_base.py:2643: RuntimeWarning: invalid value encountered in true_divide\n",
      "  c /= stddev[None, :]\n"
     ]
    },
    {
     "name": "stdout",
     "output_type": "stream",
     "text": [
      "#========== evaluating for epoch 70 ==========#\n",
      ">>> MMD | abs(D_Entropy) | abs(D_Distance) | Pearson Corr \n",
      "0.23686 , 0.073995 , 0.096978 , nan\n",
      "# ================== Sampling 500 sequences at epoch 70 ================== #\n",
      "The loci with percentage of gap >= 95% in the cleaned MSA: \n",
      " [0, 2, 78, 229, 230, 231, 232, 233, 234, 235, 236]\n",
      "Their percentage gap are:\n",
      " [99.4, 97.6, 99.8, 98.6, 98.0, 99.0, 99.0, 97.8, 99.0, 98.8, 99.4]\n",
      "# ====================================================== #\n",
      "disc loss 0.7809314131736755 gen loss 0.6178382039070129\n",
      "disc loss 0.9619548916816711 gen loss 0.6949876546859741\n"
     ]
    },
    {
     "name": "stderr",
     "output_type": "stream",
     "text": [
      "C:\\Users\\canal\\AppData\\Roaming\\Python\\Python38\\site-packages\\numpy\\lib\\function_base.py:2642: RuntimeWarning: invalid value encountered in true_divide\n",
      "  c /= stddev[:, None]\n",
      "C:\\Users\\canal\\AppData\\Roaming\\Python\\Python38\\site-packages\\numpy\\lib\\function_base.py:2643: RuntimeWarning: invalid value encountered in true_divide\n",
      "  c /= stddev[None, :]\n"
     ]
    },
    {
     "name": "stdout",
     "output_type": "stream",
     "text": [
      "#========== evaluating for epoch 72 ==========#\n",
      ">>> MMD | abs(D_Entropy) | abs(D_Distance) | Pearson Corr \n",
      "0.23477 , 0.073616 , 0.066018 , nan\n",
      "# ================== Sampling 500 sequences at epoch 72 ================== #\n",
      "The loci with percentage of gap >= 95% in the cleaned MSA: \n",
      " [0, 2, 78, 229, 230, 231, 232, 233, 234, 235, 236]\n",
      "Their percentage gap are:\n",
      " [99.4, 96.4, 99.6, 98.4, 99.0, 99.4, 99.4, 98.4, 99.4, 99.6, 99.2]\n",
      "# ====================================================== #\n",
      "disc loss 1.1195167303085327 gen loss 0.7656543254852295\n",
      "disc loss 0.9025341272354126 gen loss 0.533759355545044\n"
     ]
    },
    {
     "name": "stderr",
     "output_type": "stream",
     "text": [
      "C:\\Users\\canal\\AppData\\Roaming\\Python\\Python38\\site-packages\\numpy\\lib\\function_base.py:2642: RuntimeWarning: invalid value encountered in true_divide\n",
      "  c /= stddev[:, None]\n",
      "C:\\Users\\canal\\AppData\\Roaming\\Python\\Python38\\site-packages\\numpy\\lib\\function_base.py:2643: RuntimeWarning: invalid value encountered in true_divide\n",
      "  c /= stddev[None, :]\n"
     ]
    },
    {
     "name": "stdout",
     "output_type": "stream",
     "text": [
      "#========== evaluating for epoch 74 ==========#\n",
      ">>> MMD | abs(D_Entropy) | abs(D_Distance) | Pearson Corr \n",
      "0.23273 , 0.073078 , 0.040438 , nan\n",
      "# ================== Sampling 500 sequences at epoch 74 ================== #\n",
      "The loci with percentage of gap >= 95% in the cleaned MSA: \n",
      " [0, 2, 78, 229, 230, 231, 232, 233, 234, 235, 236]\n",
      "Their percentage gap are:\n",
      " [100.0, 98.0, 99.4, 98.0, 99.8, 99.0, 99.2, 98.8, 99.6, 99.6, 99.8]\n",
      "# ====================================================== #\n",
      "disc loss 0.6904729604721069 gen loss 0.7250628471374512\n",
      "disc loss 1.087544322013855 gen loss 0.6029325127601624\n"
     ]
    },
    {
     "name": "stderr",
     "output_type": "stream",
     "text": [
      "C:\\Users\\canal\\AppData\\Roaming\\Python\\Python38\\site-packages\\numpy\\lib\\function_base.py:2642: RuntimeWarning: invalid value encountered in true_divide\n",
      "  c /= stddev[:, None]\n",
      "C:\\Users\\canal\\AppData\\Roaming\\Python\\Python38\\site-packages\\numpy\\lib\\function_base.py:2643: RuntimeWarning: invalid value encountered in true_divide\n",
      "  c /= stddev[None, :]\n"
     ]
    },
    {
     "name": "stdout",
     "output_type": "stream",
     "text": [
      "#========== evaluating for epoch 76 ==========#\n",
      ">>> MMD | abs(D_Entropy) | abs(D_Distance) | Pearson Corr \n",
      "0.23447 , 0.073329 , 0.018751 , nan\n",
      "# ================== Sampling 500 sequences at epoch 76 ================== #\n",
      "The loci with percentage of gap >= 95% in the cleaned MSA: \n",
      " [0, 1, 2, 78, 229, 230, 231, 232, 233, 234, 235, 236]\n",
      "Their percentage gap are:\n",
      " [99.4, 95.6, 97.0, 100.0, 98.8, 99.6, 99.4, 99.4, 97.6, 100.0, 100.0, 99.8]\n",
      "# ====================================================== #\n",
      "disc loss 0.941710352897644 gen loss 0.6874353885650635\n",
      "disc loss 1.0093920230865479 gen loss 0.6933290958404541\n"
     ]
    },
    {
     "name": "stderr",
     "output_type": "stream",
     "text": [
      "C:\\Users\\canal\\AppData\\Roaming\\Python\\Python38\\site-packages\\numpy\\lib\\function_base.py:2642: RuntimeWarning: invalid value encountered in true_divide\n",
      "  c /= stddev[:, None]\n",
      "C:\\Users\\canal\\AppData\\Roaming\\Python\\Python38\\site-packages\\numpy\\lib\\function_base.py:2643: RuntimeWarning: invalid value encountered in true_divide\n",
      "  c /= stddev[None, :]\n"
     ]
    },
    {
     "name": "stdout",
     "output_type": "stream",
     "text": [
      "#========== evaluating for epoch 78 ==========#\n",
      ">>> MMD | abs(D_Entropy) | abs(D_Distance) | Pearson Corr \n",
      "0.23809 , 0.072904 , 0.011422 , nan\n",
      "# ================== Sampling 500 sequences at epoch 78 ================== #\n",
      "The loci with percentage of gap >= 95% in the cleaned MSA: \n",
      " [0, 2, 3, 78, 228, 229, 230, 231, 232, 233, 234, 235, 236]\n",
      "Their percentage gap are:\n",
      " [99.6, 97.8, 96.0, 99.4, 97.6, 99.2, 99.8, 99.6, 99.8, 98.2, 99.6, 100.0, 100.0]\n",
      "# ====================================================== #\n",
      "disc loss 1.053597331047058 gen loss 0.7692185640335083\n",
      "disc loss 1.1142679452896118 gen loss 0.7088727355003357\n"
     ]
    },
    {
     "name": "stderr",
     "output_type": "stream",
     "text": [
      "C:\\Users\\canal\\AppData\\Roaming\\Python\\Python38\\site-packages\\numpy\\lib\\function_base.py:2642: RuntimeWarning: invalid value encountered in true_divide\n",
      "  c /= stddev[:, None]\n",
      "C:\\Users\\canal\\AppData\\Roaming\\Python\\Python38\\site-packages\\numpy\\lib\\function_base.py:2643: RuntimeWarning: invalid value encountered in true_divide\n",
      "  c /= stddev[None, :]\n"
     ]
    },
    {
     "name": "stdout",
     "output_type": "stream",
     "text": [
      "#========== evaluating for epoch 80 ==========#\n",
      ">>> MMD | abs(D_Entropy) | abs(D_Distance) | Pearson Corr \n",
      "0.23928 , 0.072895 , 0.024612 , nan\n",
      "# ================== Sampling 500 sequences at epoch 80 ================== #\n",
      "The loci with percentage of gap >= 95% in the cleaned MSA: \n",
      " [0, 1, 2, 78, 228, 229, 230, 231, 232, 233, 234, 235, 236]\n",
      "Their percentage gap are:\n",
      " [100.0, 96.2, 98.4, 100.0, 96.0, 98.8, 99.6, 99.6, 99.6, 98.4, 100.0, 99.4, 100.0]\n",
      "# ====================================================== #\n",
      "disc loss 1.2620816230773926 gen loss 0.6037207841873169\n",
      "disc loss 0.9596324563026428 gen loss 0.7983644008636475\n"
     ]
    },
    {
     "name": "stderr",
     "output_type": "stream",
     "text": [
      "C:\\Users\\canal\\AppData\\Roaming\\Python\\Python38\\site-packages\\numpy\\lib\\function_base.py:2642: RuntimeWarning: invalid value encountered in true_divide\n",
      "  c /= stddev[:, None]\n",
      "C:\\Users\\canal\\AppData\\Roaming\\Python\\Python38\\site-packages\\numpy\\lib\\function_base.py:2643: RuntimeWarning: invalid value encountered in true_divide\n",
      "  c /= stddev[None, :]\n"
     ]
    },
    {
     "name": "stdout",
     "output_type": "stream",
     "text": [
      "#========== evaluating for epoch 82 ==========#\n",
      ">>> MMD | abs(D_Entropy) | abs(D_Distance) | Pearson Corr \n",
      "0.2432 , 0.07161 , 0.028516 , nan\n",
      "# ================== Sampling 500 sequences at epoch 82 ================== #\n",
      "The loci with percentage of gap >= 95% in the cleaned MSA: \n",
      " [0, 1, 2, 3, 78, 228, 229, 230, 231, 232, 233, 234, 235, 236]\n",
      "Their percentage gap are:\n",
      " [100.0, 96.8, 98.0, 95.6, 99.8, 96.6, 97.6, 99.0, 99.2, 99.6, 98.6, 99.6, 99.6, 100.0]\n",
      "# ====================================================== #\n",
      "disc loss 0.8730045557022095 gen loss 0.6651564836502075\n",
      "disc loss 0.8007673621177673 gen loss 0.7399451732635498\n"
     ]
    },
    {
     "name": "stderr",
     "output_type": "stream",
     "text": [
      "C:\\Users\\canal\\AppData\\Roaming\\Python\\Python38\\site-packages\\numpy\\lib\\function_base.py:2642: RuntimeWarning: invalid value encountered in true_divide\n",
      "  c /= stddev[:, None]\n",
      "C:\\Users\\canal\\AppData\\Roaming\\Python\\Python38\\site-packages\\numpy\\lib\\function_base.py:2643: RuntimeWarning: invalid value encountered in true_divide\n",
      "  c /= stddev[None, :]\n"
     ]
    },
    {
     "name": "stdout",
     "output_type": "stream",
     "text": [
      "#========== evaluating for epoch 84 ==========#\n",
      ">>> MMD | abs(D_Entropy) | abs(D_Distance) | Pearson Corr \n",
      "0.24408 , 0.070822 , 0.029764 , nan\n",
      "# ================== Sampling 500 sequences at epoch 84 ================== #\n",
      "The loci with percentage of gap >= 95% in the cleaned MSA: \n",
      " [0, 1, 2, 3, 78, 79, 228, 229, 230, 231, 232, 233, 234, 235, 236]\n",
      "Their percentage gap are:\n",
      " [99.6, 97.2, 97.8, 95.8, 99.6, 95.2, 95.4, 99.2, 99.8, 97.8, 99.8, 97.8, 99.6, 99.4, 99.2]\n",
      "# ====================================================== #\n",
      "disc loss 0.8676502108573914 gen loss 0.7118393778800964\n",
      "disc loss 1.0509018898010254 gen loss 0.776026725769043\n"
     ]
    },
    {
     "name": "stderr",
     "output_type": "stream",
     "text": [
      "C:\\Users\\canal\\AppData\\Roaming\\Python\\Python38\\site-packages\\numpy\\lib\\function_base.py:2642: RuntimeWarning: invalid value encountered in true_divide\n",
      "  c /= stddev[:, None]\n",
      "C:\\Users\\canal\\AppData\\Roaming\\Python\\Python38\\site-packages\\numpy\\lib\\function_base.py:2643: RuntimeWarning: invalid value encountered in true_divide\n",
      "  c /= stddev[None, :]\n"
     ]
    },
    {
     "name": "stdout",
     "output_type": "stream",
     "text": [
      "#========== evaluating for epoch 86 ==========#\n",
      ">>> MMD | abs(D_Entropy) | abs(D_Distance) | Pearson Corr \n",
      "0.24525 , 0.070473 , 0.042076 , nan\n",
      "# ================== Sampling 500 sequences at epoch 86 ================== #\n",
      "The loci with percentage of gap >= 95% in the cleaned MSA: \n",
      " [0, 1, 2, 78, 79, 228, 229, 230, 231, 232, 233, 234, 235, 236]\n",
      "Their percentage gap are:\n",
      " [100.0, 99.0, 97.8, 99.8, 95.8, 96.2, 97.4, 99.6, 98.6, 99.6, 97.4, 99.6, 99.0, 99.8]\n",
      "# ====================================================== #\n",
      "disc loss 0.969190776348114 gen loss 0.712138295173645\n",
      "disc loss 0.9897317886352539 gen loss 0.8046162128448486\n"
     ]
    },
    {
     "name": "stderr",
     "output_type": "stream",
     "text": [
      "C:\\Users\\canal\\AppData\\Roaming\\Python\\Python38\\site-packages\\numpy\\lib\\function_base.py:2642: RuntimeWarning: invalid value encountered in true_divide\n",
      "  c /= stddev[:, None]\n",
      "C:\\Users\\canal\\AppData\\Roaming\\Python\\Python38\\site-packages\\numpy\\lib\\function_base.py:2643: RuntimeWarning: invalid value encountered in true_divide\n",
      "  c /= stddev[None, :]\n"
     ]
    },
    {
     "name": "stdout",
     "output_type": "stream",
     "text": [
      "#========== evaluating for epoch 88 ==========#\n",
      ">>> MMD | abs(D_Entropy) | abs(D_Distance) | Pearson Corr \n",
      "0.24542 , 0.070484 , 0.0091797 , nan\n",
      "# ================== Sampling 500 sequences at epoch 88 ================== #\n",
      "The loci with percentage of gap >= 95% in the cleaned MSA: \n",
      " [0, 1, 2, 78, 79, 229, 230, 231, 232, 233, 234, 235, 236]\n",
      "Their percentage gap are:\n",
      " [99.6, 98.0, 96.8, 100.0, 95.4, 97.6, 99.6, 98.0, 99.6, 96.6, 99.8, 100.0, 99.8]\n",
      "# ====================================================== #\n",
      "disc loss 0.8705362677574158 gen loss 0.723963737487793\n",
      "disc loss 1.0601476430892944 gen loss 0.7370344400405884\n"
     ]
    },
    {
     "name": "stderr",
     "output_type": "stream",
     "text": [
      "C:\\Users\\canal\\AppData\\Roaming\\Python\\Python38\\site-packages\\numpy\\lib\\function_base.py:2642: RuntimeWarning: invalid value encountered in true_divide\n",
      "  c /= stddev[:, None]\n",
      "C:\\Users\\canal\\AppData\\Roaming\\Python\\Python38\\site-packages\\numpy\\lib\\function_base.py:2643: RuntimeWarning: invalid value encountered in true_divide\n",
      "  c /= stddev[None, :]\n"
     ]
    },
    {
     "name": "stdout",
     "output_type": "stream",
     "text": [
      "#========== evaluating for epoch 90 ==========#\n",
      ">>> MMD | abs(D_Entropy) | abs(D_Distance) | Pearson Corr \n",
      "0.24595 , 0.07065 , 9.9421e-05 , nan\n",
      "# ================== Sampling 500 sequences at epoch 90 ================== #\n",
      "The loci with percentage of gap >= 95% in the cleaned MSA: \n",
      " [0, 1, 2, 78, 79, 154, 212, 229, 230, 231, 232, 233, 234, 235, 236]\n",
      "Their percentage gap are:\n",
      " [99.6, 97.6, 95.2, 99.8, 95.6, 96.6, 95.2, 96.2, 99.6, 98.2, 99.6, 95.8, 99.8, 99.6, 99.4]\n",
      "# ====================================================== #\n",
      "disc loss 0.9757512807846069 gen loss 0.6058268547058105\n",
      "disc loss 1.0455567836761475 gen loss 0.6013833284378052\n"
     ]
    },
    {
     "name": "stderr",
     "output_type": "stream",
     "text": [
      "C:\\Users\\canal\\AppData\\Roaming\\Python\\Python38\\site-packages\\numpy\\lib\\function_base.py:2642: RuntimeWarning: invalid value encountered in true_divide\n",
      "  c /= stddev[:, None]\n",
      "C:\\Users\\canal\\AppData\\Roaming\\Python\\Python38\\site-packages\\numpy\\lib\\function_base.py:2643: RuntimeWarning: invalid value encountered in true_divide\n",
      "  c /= stddev[None, :]\n"
     ]
    },
    {
     "name": "stdout",
     "output_type": "stream",
     "text": [
      "#========== evaluating for epoch 92 ==========#\n",
      ">>> MMD | abs(D_Entropy) | abs(D_Distance) | Pearson Corr \n",
      "0.25805 , 0.069569 , 0.035675 , nan\n",
      "# ================== Sampling 500 sequences at epoch 92 ================== #\n",
      "The loci with percentage of gap >= 95% in the cleaned MSA: \n",
      " [0, 1, 2, 78, 79, 154, 212, 229, 230, 231, 232, 233, 234, 235, 236]\n",
      "Their percentage gap are:\n",
      " [99.2, 97.6, 95.0, 99.8, 95.4, 97.0, 96.0, 97.0, 98.6, 96.4, 99.8, 95.4, 99.8, 99.6, 99.4]\n",
      "# ====================================================== #\n",
      "disc loss 0.8455084562301636 gen loss 0.592499852180481\n",
      "disc loss 1.0315866470336914 gen loss 0.6475155353546143\n"
     ]
    },
    {
     "name": "stderr",
     "output_type": "stream",
     "text": [
      "C:\\Users\\canal\\AppData\\Roaming\\Python\\Python38\\site-packages\\numpy\\lib\\function_base.py:2642: RuntimeWarning: invalid value encountered in true_divide\n",
      "  c /= stddev[:, None]\n",
      "C:\\Users\\canal\\AppData\\Roaming\\Python\\Python38\\site-packages\\numpy\\lib\\function_base.py:2643: RuntimeWarning: invalid value encountered in true_divide\n",
      "  c /= stddev[None, :]\n"
     ]
    },
    {
     "name": "stdout",
     "output_type": "stream",
     "text": [
      "#========== evaluating for epoch 94 ==========#\n",
      ">>> MMD | abs(D_Entropy) | abs(D_Distance) | Pearson Corr \n",
      "0.26212 , 0.068416 , 0.031851 , nan\n",
      "# ================== Sampling 500 sequences at epoch 94 ================== #\n",
      "The loci with percentage of gap >= 95% in the cleaned MSA: \n",
      " [0, 1, 2, 78, 79, 154, 212, 229, 230, 231, 232, 233, 234, 235, 236]\n",
      "Their percentage gap are:\n",
      " [100.0, 97.2, 95.2, 100.0, 95.0, 97.6, 96.4, 95.4, 99.4, 96.0, 100.0, 96.2, 99.8, 99.6, 99.4]\n",
      "# ====================================================== #\n",
      "disc loss 1.0822697877883911 gen loss 0.7420545816421509\n",
      "disc loss 1.2084581851959229 gen loss 0.7811414003372192\n"
     ]
    },
    {
     "name": "stderr",
     "output_type": "stream",
     "text": [
      "C:\\Users\\canal\\AppData\\Roaming\\Python\\Python38\\site-packages\\numpy\\lib\\function_base.py:2642: RuntimeWarning: invalid value encountered in true_divide\n",
      "  c /= stddev[:, None]\n",
      "C:\\Users\\canal\\AppData\\Roaming\\Python\\Python38\\site-packages\\numpy\\lib\\function_base.py:2643: RuntimeWarning: invalid value encountered in true_divide\n",
      "  c /= stddev[None, :]\n"
     ]
    },
    {
     "name": "stdout",
     "output_type": "stream",
     "text": [
      "#========== evaluating for epoch 96 ==========#\n",
      ">>> MMD | abs(D_Entropy) | abs(D_Distance) | Pearson Corr \n",
      "0.27656 , 0.070034 , 0.059864 , nan\n",
      "# ================== Sampling 500 sequences at epoch 96 ================== #\n",
      "The loci with percentage of gap >= 95% in the cleaned MSA: \n",
      " [0, 1, 78, 153, 154, 230, 231, 232, 234, 235, 236]\n",
      "Their percentage gap are:\n",
      " [100.0, 98.2, 99.8, 95.6, 97.6, 98.6, 95.2, 99.6, 100.0, 98.8, 99.8]\n",
      "# ====================================================== #\n",
      "disc loss 0.9234453439712524 gen loss 0.7169688940048218\n",
      "disc loss 1.0587782859802246 gen loss 0.7689591646194458\n"
     ]
    },
    {
     "name": "stderr",
     "output_type": "stream",
     "text": [
      "C:\\Users\\canal\\AppData\\Roaming\\Python\\Python38\\site-packages\\numpy\\lib\\function_base.py:2642: RuntimeWarning: invalid value encountered in true_divide\n",
      "  c /= stddev[:, None]\n",
      "C:\\Users\\canal\\AppData\\Roaming\\Python\\Python38\\site-packages\\numpy\\lib\\function_base.py:2643: RuntimeWarning: invalid value encountered in true_divide\n",
      "  c /= stddev[None, :]\n"
     ]
    },
    {
     "name": "stdout",
     "output_type": "stream",
     "text": [
      "#========== evaluating for epoch 98 ==========#\n",
      ">>> MMD | abs(D_Entropy) | abs(D_Distance) | Pearson Corr \n",
      "0.28091 , 0.070375 , 0.055685 , nan\n",
      "# ================== Sampling 500 sequences at epoch 98 ================== #\n",
      "The loci with percentage of gap >= 95% in the cleaned MSA: \n",
      " [0, 1, 78, 154, 212, 230, 232, 233, 234, 235, 236]\n",
      "Their percentage gap are:\n",
      " [99.6, 97.8, 99.8, 98.4, 95.6, 99.6, 99.2, 96.8, 99.4, 99.6, 99.6]\n",
      "# ====================================================== #\n",
      "disc loss 0.74882972240448 gen loss 0.8826834559440613\n",
      "disc loss 0.6164368391036987 gen loss 0.685641348361969\n"
     ]
    },
    {
     "name": "stderr",
     "output_type": "stream",
     "text": [
      "C:\\Users\\canal\\AppData\\Roaming\\Python\\Python38\\site-packages\\numpy\\lib\\function_base.py:2642: RuntimeWarning: invalid value encountered in true_divide\n",
      "  c /= stddev[:, None]\n",
      "C:\\Users\\canal\\AppData\\Roaming\\Python\\Python38\\site-packages\\numpy\\lib\\function_base.py:2643: RuntimeWarning: invalid value encountered in true_divide\n",
      "  c /= stddev[None, :]\n"
     ]
    },
    {
     "name": "stdout",
     "output_type": "stream",
     "text": [
      "#========== evaluating for epoch 100 ==========#\n",
      ">>> MMD | abs(D_Entropy) | abs(D_Distance) | Pearson Corr \n",
      "0.28789 , 0.0701 , 0.066708 , nan\n",
      "# ================== Sampling 500 sequences at epoch 100 ================== #\n",
      "The loci with percentage of gap >= 95% in the cleaned MSA: \n",
      " [0, 1, 78, 153, 154, 212, 230, 232, 234, 235, 236]\n",
      "Their percentage gap are:\n",
      " [100.0, 98.2, 99.8, 97.0, 98.6, 96.2, 99.0, 99.6, 99.6, 100.0, 99.4]\n",
      "# ====================================================== #\n",
      "disc loss 1.3180726766586304 gen loss 0.6568373441696167\n",
      "disc loss 0.7349216938018799 gen loss 0.851058840751648\n"
     ]
    },
    {
     "name": "stderr",
     "output_type": "stream",
     "text": [
      "C:\\Users\\canal\\AppData\\Roaming\\Python\\Python38\\site-packages\\numpy\\lib\\function_base.py:2642: RuntimeWarning: invalid value encountered in true_divide\n",
      "  c /= stddev[:, None]\n",
      "C:\\Users\\canal\\AppData\\Roaming\\Python\\Python38\\site-packages\\numpy\\lib\\function_base.py:2643: RuntimeWarning: invalid value encountered in true_divide\n",
      "  c /= stddev[None, :]\n"
     ]
    },
    {
     "name": "stdout",
     "output_type": "stream",
     "text": [
      "#========== evaluating for epoch 102 ==========#\n",
      ">>> MMD | abs(D_Entropy) | abs(D_Distance) | Pearson Corr \n",
      "0.29239 , 0.070754 , 0.067145 , nan\n",
      "# ================== Sampling 500 sequences at epoch 102 ================== #\n",
      "The loci with percentage of gap >= 95% in the cleaned MSA: \n",
      " [0, 1, 78, 153, 154, 212, 230, 232, 234, 235, 236]\n",
      "Their percentage gap are:\n",
      " [99.6, 97.8, 100.0, 97.0, 99.8, 96.8, 98.4, 100.0, 99.8, 99.4, 99.4]\n",
      "# ====================================================== #\n",
      "disc loss 0.9794535636901855 gen loss 0.7253283858299255\n",
      "disc loss 0.9647371172904968 gen loss 0.7729044556617737\n"
     ]
    },
    {
     "name": "stderr",
     "output_type": "stream",
     "text": [
      "C:\\Users\\canal\\AppData\\Roaming\\Python\\Python38\\site-packages\\numpy\\lib\\function_base.py:2642: RuntimeWarning: invalid value encountered in true_divide\n",
      "  c /= stddev[:, None]\n",
      "C:\\Users\\canal\\AppData\\Roaming\\Python\\Python38\\site-packages\\numpy\\lib\\function_base.py:2643: RuntimeWarning: invalid value encountered in true_divide\n",
      "  c /= stddev[None, :]\n"
     ]
    },
    {
     "name": "stdout",
     "output_type": "stream",
     "text": [
      "#========== evaluating for epoch 104 ==========#\n",
      ">>> MMD | abs(D_Entropy) | abs(D_Distance) | Pearson Corr \n",
      "0.29903 , 0.069227 , 0.078985 , nan\n",
      "# ================== Sampling 500 sequences at epoch 104 ================== #\n",
      "The loci with percentage of gap >= 95% in the cleaned MSA: \n",
      " [0, 1, 78, 153, 154, 212, 230, 232, 233, 234, 235, 236]\n",
      "Their percentage gap are:\n",
      " [99.8, 98.8, 99.6, 97.4, 98.4, 96.0, 99.2, 99.6, 96.8, 99.4, 99.6, 99.4]\n",
      "# ====================================================== #\n",
      "disc loss 0.7268375158309937 gen loss 0.8191975355148315\n",
      "disc loss 1.0598875284194946 gen loss 0.7717772722244263\n"
     ]
    },
    {
     "name": "stderr",
     "output_type": "stream",
     "text": [
      "C:\\Users\\canal\\AppData\\Roaming\\Python\\Python38\\site-packages\\numpy\\lib\\function_base.py:2642: RuntimeWarning: invalid value encountered in true_divide\n",
      "  c /= stddev[:, None]\n",
      "C:\\Users\\canal\\AppData\\Roaming\\Python\\Python38\\site-packages\\numpy\\lib\\function_base.py:2643: RuntimeWarning: invalid value encountered in true_divide\n",
      "  c /= stddev[None, :]\n"
     ]
    },
    {
     "name": "stdout",
     "output_type": "stream",
     "text": [
      "#========== evaluating for epoch 106 ==========#\n",
      ">>> MMD | abs(D_Entropy) | abs(D_Distance) | Pearson Corr \n",
      "0.30745 , 0.070037 , 0.10145 , nan\n",
      "# ================== Sampling 500 sequences at epoch 106 ================== #\n",
      "The loci with percentage of gap >= 95% in the cleaned MSA: \n",
      " [0, 1, 78, 153, 154, 230, 232, 233, 234, 235, 236]\n",
      "Their percentage gap are:\n",
      " [100.0, 98.0, 99.8, 98.2, 99.0, 99.4, 99.6, 95.6, 99.2, 99.0, 99.0]\n",
      "# ====================================================== #\n",
      "disc loss 0.8330892324447632 gen loss 0.7988948822021484\n",
      "disc loss 1.0479127168655396 gen loss 0.6805985569953918\n"
     ]
    },
    {
     "name": "stderr",
     "output_type": "stream",
     "text": [
      "C:\\Users\\canal\\AppData\\Roaming\\Python\\Python38\\site-packages\\numpy\\lib\\function_base.py:2642: RuntimeWarning: invalid value encountered in true_divide\n",
      "  c /= stddev[:, None]\n",
      "C:\\Users\\canal\\AppData\\Roaming\\Python\\Python38\\site-packages\\numpy\\lib\\function_base.py:2643: RuntimeWarning: invalid value encountered in true_divide\n",
      "  c /= stddev[None, :]\n"
     ]
    },
    {
     "name": "stdout",
     "output_type": "stream",
     "text": [
      "#========== evaluating for epoch 108 ==========#\n",
      ">>> MMD | abs(D_Entropy) | abs(D_Distance) | Pearson Corr \n",
      "0.31335 , 0.069328 , 0.11605 , nan\n",
      "# ================== Sampling 500 sequences at epoch 108 ================== #\n",
      "The loci with percentage of gap >= 95% in the cleaned MSA: \n",
      " [0, 1, 78, 153, 154, 185, 227, 230, 232, 233, 234, 235, 236]\n",
      "Their percentage gap are:\n",
      " [99.8, 97.0, 99.8, 98.4, 99.8, 96.2, 95.2, 97.2, 99.8, 95.6, 99.8, 99.6, 99.2]\n",
      "# ====================================================== #\n",
      "disc loss 1.0373132228851318 gen loss 0.7522546052932739\n",
      "disc loss 0.8749313354492188 gen loss 0.7518434524536133\n"
     ]
    },
    {
     "name": "stderr",
     "output_type": "stream",
     "text": [
      "C:\\Users\\canal\\AppData\\Roaming\\Python\\Python38\\site-packages\\numpy\\lib\\function_base.py:2642: RuntimeWarning: invalid value encountered in true_divide\n",
      "  c /= stddev[:, None]\n",
      "C:\\Users\\canal\\AppData\\Roaming\\Python\\Python38\\site-packages\\numpy\\lib\\function_base.py:2643: RuntimeWarning: invalid value encountered in true_divide\n",
      "  c /= stddev[None, :]\n"
     ]
    },
    {
     "name": "stdout",
     "output_type": "stream",
     "text": [
      "#========== evaluating for epoch 110 ==========#\n",
      ">>> MMD | abs(D_Entropy) | abs(D_Distance) | Pearson Corr \n",
      "0.31802 , 0.069391 , 0.12001 , nan\n",
      "# ================== Sampling 500 sequences at epoch 110 ================== #\n",
      "The loci with percentage of gap >= 95% in the cleaned MSA: \n",
      " [0, 1, 78, 153, 154, 185, 227, 230, 232, 234, 235, 236]\n",
      "Their percentage gap are:\n",
      " [100.0, 97.0, 100.0, 98.8, 99.0, 95.6, 95.0, 97.2, 99.4, 99.2, 98.6, 99.8]\n",
      "# ====================================================== #\n",
      "disc loss 1.0566679239273071 gen loss 0.7370326519012451\n",
      "disc loss 0.9024556875228882 gen loss 0.6310185194015503\n"
     ]
    },
    {
     "name": "stderr",
     "output_type": "stream",
     "text": [
      "C:\\Users\\canal\\AppData\\Roaming\\Python\\Python38\\site-packages\\numpy\\lib\\function_base.py:2642: RuntimeWarning: invalid value encountered in true_divide\n",
      "  c /= stddev[:, None]\n",
      "C:\\Users\\canal\\AppData\\Roaming\\Python\\Python38\\site-packages\\numpy\\lib\\function_base.py:2643: RuntimeWarning: invalid value encountered in true_divide\n",
      "  c /= stddev[None, :]\n"
     ]
    },
    {
     "name": "stdout",
     "output_type": "stream",
     "text": [
      "#========== evaluating for epoch 112 ==========#\n",
      ">>> MMD | abs(D_Entropy) | abs(D_Distance) | Pearson Corr \n",
      "0.32293 , 0.06865 , 0.13507 , nan\n",
      "# ================== Sampling 500 sequences at epoch 112 ================== #\n",
      "The loci with percentage of gap >= 95% in the cleaned MSA: \n",
      " [0, 1, 78, 153, 154, 185, 227, 230, 232, 234, 235, 236]\n",
      "Their percentage gap are:\n",
      " [99.4, 96.4, 99.8, 99.4, 98.0, 96.0, 95.8, 95.2, 99.2, 99.2, 99.0, 99.2]\n",
      "# ====================================================== #\n",
      "disc loss 1.2069995403289795 gen loss 0.6528222560882568\n",
      "disc loss 1.0579354763031006 gen loss 0.5744340419769287\n"
     ]
    },
    {
     "name": "stderr",
     "output_type": "stream",
     "text": [
      "C:\\Users\\canal\\AppData\\Roaming\\Python\\Python38\\site-packages\\numpy\\lib\\function_base.py:2642: RuntimeWarning: invalid value encountered in true_divide\n",
      "  c /= stddev[:, None]\n",
      "C:\\Users\\canal\\AppData\\Roaming\\Python\\Python38\\site-packages\\numpy\\lib\\function_base.py:2643: RuntimeWarning: invalid value encountered in true_divide\n",
      "  c /= stddev[None, :]\n"
     ]
    },
    {
     "name": "stdout",
     "output_type": "stream",
     "text": [
      "#========== evaluating for epoch 114 ==========#\n",
      ">>> MMD | abs(D_Entropy) | abs(D_Distance) | Pearson Corr \n",
      "0.328 , 0.068037 , 0.14717 , nan\n",
      "# ================== Sampling 500 sequences at epoch 114 ================== #\n",
      "The loci with percentage of gap >= 95% in the cleaned MSA: \n",
      " [0, 1, 78, 153, 154, 227, 228, 232, 234, 235, 236]\n",
      "Their percentage gap are:\n",
      " [99.6, 95.2, 99.8, 97.6, 97.4, 97.4, 95.8, 99.0, 97.4, 98.6, 99.0]\n",
      "# ====================================================== #\n",
      "disc loss 1.2978527545928955 gen loss 0.7420816421508789\n",
      "disc loss 1.1449670791625977 gen loss 0.6400119066238403\n"
     ]
    },
    {
     "name": "stderr",
     "output_type": "stream",
     "text": [
      "C:\\Users\\canal\\AppData\\Roaming\\Python\\Python38\\site-packages\\numpy\\lib\\function_base.py:2642: RuntimeWarning: invalid value encountered in true_divide\n",
      "  c /= stddev[:, None]\n",
      "C:\\Users\\canal\\AppData\\Roaming\\Python\\Python38\\site-packages\\numpy\\lib\\function_base.py:2643: RuntimeWarning: invalid value encountered in true_divide\n",
      "  c /= stddev[None, :]\n"
     ]
    },
    {
     "name": "stdout",
     "output_type": "stream",
     "text": [
      "#========== evaluating for epoch 116 ==========#\n",
      ">>> MMD | abs(D_Entropy) | abs(D_Distance) | Pearson Corr \n",
      "0.33266 , 0.067702 , 0.15441 , nan\n",
      "# ================== Sampling 500 sequences at epoch 116 ================== #\n",
      "The loci with percentage of gap >= 95% in the cleaned MSA: \n",
      " [0, 78, 153, 154, 227, 232, 234, 235, 236]\n",
      "Their percentage gap are:\n",
      " [99.6, 99.6, 98.8, 97.6, 96.4, 99.0, 98.8, 97.6, 98.8]\n",
      "# ====================================================== #\n",
      "disc loss 1.1451642513275146 gen loss 0.6547530889511108\n",
      "disc loss 0.9767029285430908 gen loss 0.7371570467948914\n"
     ]
    },
    {
     "name": "stderr",
     "output_type": "stream",
     "text": [
      "C:\\Users\\canal\\AppData\\Roaming\\Python\\Python38\\site-packages\\numpy\\lib\\function_base.py:2642: RuntimeWarning: invalid value encountered in true_divide\n",
      "  c /= stddev[:, None]\n",
      "C:\\Users\\canal\\AppData\\Roaming\\Python\\Python38\\site-packages\\numpy\\lib\\function_base.py:2643: RuntimeWarning: invalid value encountered in true_divide\n",
      "  c /= stddev[None, :]\n"
     ]
    },
    {
     "name": "stdout",
     "output_type": "stream",
     "text": [
      "#========== evaluating for epoch 118 ==========#\n",
      ">>> MMD | abs(D_Entropy) | abs(D_Distance) | Pearson Corr \n",
      "0.33917 , 0.067842 , 0.18263 , nan\n",
      "# ================== Sampling 500 sequences at epoch 118 ================== #\n",
      "The loci with percentage of gap >= 95% in the cleaned MSA: \n",
      " [0, 78, 153, 154, 185, 227, 232, 234, 235, 236]\n",
      "Their percentage gap are:\n",
      " [99.8, 99.6, 98.2, 97.4, 95.2, 96.4, 97.2, 97.6, 97.0, 97.8]\n",
      "# ====================================================== #\n",
      "disc loss 1.0796809196472168 gen loss 0.7340419292449951\n",
      "disc loss 1.238510251045227 gen loss 0.6883844137191772\n"
     ]
    },
    {
     "name": "stderr",
     "output_type": "stream",
     "text": [
      "C:\\Users\\canal\\AppData\\Roaming\\Python\\Python38\\site-packages\\numpy\\lib\\function_base.py:2642: RuntimeWarning: invalid value encountered in true_divide\n",
      "  c /= stddev[:, None]\n",
      "C:\\Users\\canal\\AppData\\Roaming\\Python\\Python38\\site-packages\\numpy\\lib\\function_base.py:2643: RuntimeWarning: invalid value encountered in true_divide\n",
      "  c /= stddev[None, :]\n"
     ]
    },
    {
     "name": "stdout",
     "output_type": "stream",
     "text": [
      "#========== evaluating for epoch 120 ==========#\n",
      ">>> MMD | abs(D_Entropy) | abs(D_Distance) | Pearson Corr \n",
      "0.34296 , 0.067202 , 0.19996 , nan\n",
      "# ================== Sampling 500 sequences at epoch 120 ================== #\n",
      "The loci with percentage of gap >= 95% in the cleaned MSA: \n",
      " [0, 78, 153, 154, 227, 228, 232, 234, 235, 236]\n",
      "Their percentage gap are:\n",
      " [99.0, 99.6, 98.8, 96.6, 96.2, 96.2, 96.4, 97.2, 96.2, 96.8]\n",
      "# ====================================================== #\n",
      "disc loss 0.7776599526405334 gen loss 0.6917133331298828\n",
      "disc loss 0.9228458404541016 gen loss 0.6406096816062927\n"
     ]
    },
    {
     "name": "stderr",
     "output_type": "stream",
     "text": [
      "C:\\Users\\canal\\AppData\\Roaming\\Python\\Python38\\site-packages\\numpy\\lib\\function_base.py:2642: RuntimeWarning: invalid value encountered in true_divide\n",
      "  c /= stddev[:, None]\n",
      "C:\\Users\\canal\\AppData\\Roaming\\Python\\Python38\\site-packages\\numpy\\lib\\function_base.py:2643: RuntimeWarning: invalid value encountered in true_divide\n",
      "  c /= stddev[None, :]\n"
     ]
    },
    {
     "name": "stdout",
     "output_type": "stream",
     "text": [
      "#========== evaluating for epoch 122 ==========#\n",
      ">>> MMD | abs(D_Entropy) | abs(D_Distance) | Pearson Corr \n",
      "0.34727 , 0.068459 , 0.21386 , nan\n",
      "# ================== Sampling 500 sequences at epoch 122 ================== #\n",
      "The loci with percentage of gap >= 95% in the cleaned MSA: \n",
      " [0, 78, 153, 154, 227, 234, 236]\n",
      "Their percentage gap are:\n",
      " [99.4, 99.2, 97.8, 96.4, 96.8, 97.0, 97.0]\n",
      "# ====================================================== #\n",
      "disc loss 0.7976289987564087 gen loss 0.8205596208572388\n",
      "disc loss 0.9332022070884705 gen loss 0.7315797805786133\n"
     ]
    },
    {
     "name": "stderr",
     "output_type": "stream",
     "text": [
      "C:\\Users\\canal\\AppData\\Roaming\\Python\\Python38\\site-packages\\numpy\\lib\\function_base.py:2642: RuntimeWarning: invalid value encountered in true_divide\n",
      "  c /= stddev[:, None]\n",
      "C:\\Users\\canal\\AppData\\Roaming\\Python\\Python38\\site-packages\\numpy\\lib\\function_base.py:2643: RuntimeWarning: invalid value encountered in true_divide\n",
      "  c /= stddev[None, :]\n"
     ]
    },
    {
     "name": "stdout",
     "output_type": "stream",
     "text": [
      "#========== evaluating for epoch 124 ==========#\n",
      ">>> MMD | abs(D_Entropy) | abs(D_Distance) | Pearson Corr \n",
      "0.35612 , 0.067282 , 0.21679 , nan\n",
      "# ================== Sampling 500 sequences at epoch 124 ================== #\n",
      "The loci with percentage of gap >= 95% in the cleaned MSA: \n",
      " [0, 78, 79, 153, 227, 228, 232, 234]\n",
      "Their percentage gap are:\n",
      " [99.8, 99.0, 97.8, 98.6, 97.0, 95.6, 95.6, 97.0]\n",
      "# ====================================================== #\n",
      "disc loss 0.6911274194717407 gen loss 0.7219610214233398\n",
      "disc loss 0.6550554037094116 gen loss 0.745191216468811\n"
     ]
    },
    {
     "name": "stderr",
     "output_type": "stream",
     "text": [
      "C:\\Users\\canal\\AppData\\Roaming\\Python\\Python38\\site-packages\\numpy\\lib\\function_base.py:2642: RuntimeWarning: invalid value encountered in true_divide\n",
      "  c /= stddev[:, None]\n",
      "C:\\Users\\canal\\AppData\\Roaming\\Python\\Python38\\site-packages\\numpy\\lib\\function_base.py:2643: RuntimeWarning: invalid value encountered in true_divide\n",
      "  c /= stddev[None, :]\n"
     ]
    },
    {
     "name": "stdout",
     "output_type": "stream",
     "text": [
      "#========== evaluating for epoch 126 ==========#\n",
      ">>> MMD | abs(D_Entropy) | abs(D_Distance) | Pearson Corr \n",
      "0.3686 , 0.067904 , 0.24834 , nan\n",
      "# ================== Sampling 500 sequences at epoch 126 ================== #\n",
      "The loci with percentage of gap >= 95% in the cleaned MSA: \n",
      " [0, 78, 153, 227, 232, 234]\n",
      "Their percentage gap are:\n",
      " [98.6, 99.2, 98.4, 98.0, 95.4, 96.0]\n",
      "# ====================================================== #\n",
      "disc loss 0.8271412253379822 gen loss 0.8892844915390015\n",
      "disc loss 0.8438922762870789 gen loss 0.7290514707565308\n"
     ]
    },
    {
     "name": "stderr",
     "output_type": "stream",
     "text": [
      "C:\\Users\\canal\\AppData\\Roaming\\Python\\Python38\\site-packages\\numpy\\lib\\function_base.py:2642: RuntimeWarning: invalid value encountered in true_divide\n",
      "  c /= stddev[:, None]\n",
      "C:\\Users\\canal\\AppData\\Roaming\\Python\\Python38\\site-packages\\numpy\\lib\\function_base.py:2643: RuntimeWarning: invalid value encountered in true_divide\n",
      "  c /= stddev[None, :]\n"
     ]
    },
    {
     "name": "stdout",
     "output_type": "stream",
     "text": [
      "#========== evaluating for epoch 128 ==========#\n",
      ">>> MMD | abs(D_Entropy) | abs(D_Distance) | Pearson Corr \n",
      "0.37766 , 0.066916 , 0.27214 , nan\n",
      "# ================== Sampling 500 sequences at epoch 128 ================== #\n",
      "The loci with percentage of gap >= 95% in the cleaned MSA: \n",
      " [0, 78, 79, 153, 227, 228, 232, 234]\n",
      "Their percentage gap are:\n",
      " [98.8, 99.6, 95.0, 98.4, 96.8, 96.4, 95.2, 97.0]\n",
      "# ====================================================== #\n",
      "disc loss 0.6274288892745972 gen loss 0.725519597530365\n",
      "disc loss 0.7567813992500305 gen loss 0.875914990901947\n"
     ]
    },
    {
     "name": "stderr",
     "output_type": "stream",
     "text": [
      "C:\\Users\\canal\\AppData\\Roaming\\Python\\Python38\\site-packages\\numpy\\lib\\function_base.py:2642: RuntimeWarning: invalid value encountered in true_divide\n",
      "  c /= stddev[:, None]\n",
      "C:\\Users\\canal\\AppData\\Roaming\\Python\\Python38\\site-packages\\numpy\\lib\\function_base.py:2643: RuntimeWarning: invalid value encountered in true_divide\n",
      "  c /= stddev[None, :]\n"
     ]
    },
    {
     "name": "stdout",
     "output_type": "stream",
     "text": [
      "#========== evaluating for epoch 130 ==========#\n",
      ">>> MMD | abs(D_Entropy) | abs(D_Distance) | Pearson Corr \n",
      "0.37778 , 0.068884 , 0.27626 , nan\n",
      "# ================== Sampling 500 sequences at epoch 130 ================== #\n",
      "The loci with percentage of gap >= 95% in the cleaned MSA: \n",
      " [0, 78, 79, 153, 227, 232, 234]\n",
      "Their percentage gap are:\n",
      " [98.4, 99.2, 95.6, 99.2, 96.6, 96.0, 97.6]\n",
      "# ====================================================== #\n",
      "disc loss 0.6839509010314941 gen loss 0.7949868440628052\n",
      "disc loss 0.609499454498291 gen loss 0.9761325120925903\n"
     ]
    },
    {
     "name": "stderr",
     "output_type": "stream",
     "text": [
      "C:\\Users\\canal\\AppData\\Roaming\\Python\\Python38\\site-packages\\numpy\\lib\\function_base.py:2642: RuntimeWarning: invalid value encountered in true_divide\n",
      "  c /= stddev[:, None]\n",
      "C:\\Users\\canal\\AppData\\Roaming\\Python\\Python38\\site-packages\\numpy\\lib\\function_base.py:2643: RuntimeWarning: invalid value encountered in true_divide\n",
      "  c /= stddev[None, :]\n"
     ]
    },
    {
     "name": "stdout",
     "output_type": "stream",
     "text": [
      "#========== evaluating for epoch 132 ==========#\n",
      ">>> MMD | abs(D_Entropy) | abs(D_Distance) | Pearson Corr \n",
      "0.38018 , 0.068503 , 0.29703 , nan\n",
      "# ================== Sampling 500 sequences at epoch 132 ================== #\n",
      "The loci with percentage of gap >= 95% in the cleaned MSA: \n",
      " [0, 78, 79, 153, 227, 232, 234]\n",
      "Their percentage gap are:\n",
      " [99.8, 99.2, 97.8, 98.2, 96.2, 95.0, 97.4]\n",
      "# ====================================================== #\n",
      "disc loss 0.8155081868171692 gen loss 0.839142918586731\n",
      "disc loss 0.5416501760482788 gen loss 0.9452378153800964\n"
     ]
    },
    {
     "name": "stderr",
     "output_type": "stream",
     "text": [
      "C:\\Users\\canal\\AppData\\Roaming\\Python\\Python38\\site-packages\\numpy\\lib\\function_base.py:2642: RuntimeWarning: invalid value encountered in true_divide\n",
      "  c /= stddev[:, None]\n",
      "C:\\Users\\canal\\AppData\\Roaming\\Python\\Python38\\site-packages\\numpy\\lib\\function_base.py:2643: RuntimeWarning: invalid value encountered in true_divide\n",
      "  c /= stddev[None, :]\n"
     ]
    },
    {
     "name": "stdout",
     "output_type": "stream",
     "text": [
      "#========== evaluating for epoch 134 ==========#\n",
      ">>> MMD | abs(D_Entropy) | abs(D_Distance) | Pearson Corr \n",
      "0.36843 , 0.069286 , 0.27521 , nan\n",
      "# ================== Sampling 500 sequences at epoch 134 ================== #\n",
      "The loci with percentage of gap >= 95% in the cleaned MSA: \n",
      " [0, 78, 79, 153, 227, 228, 231, 232, 234]\n",
      "Their percentage gap are:\n",
      " [99.6, 99.8, 97.2, 98.2, 98.0, 95.4, 97.0, 95.8, 97.8]\n",
      "# ====================================================== #\n",
      "disc loss 0.5662451982498169 gen loss 0.9896758198738098\n",
      "disc loss 0.7470433712005615 gen loss 0.7998145818710327\n"
     ]
    },
    {
     "name": "stderr",
     "output_type": "stream",
     "text": [
      "C:\\Users\\canal\\AppData\\Roaming\\Python\\Python38\\site-packages\\numpy\\lib\\function_base.py:2642: RuntimeWarning: invalid value encountered in true_divide\n",
      "  c /= stddev[:, None]\n",
      "C:\\Users\\canal\\AppData\\Roaming\\Python\\Python38\\site-packages\\numpy\\lib\\function_base.py:2643: RuntimeWarning: invalid value encountered in true_divide\n",
      "  c /= stddev[None, :]\n"
     ]
    },
    {
     "name": "stdout",
     "output_type": "stream",
     "text": [
      "#========== evaluating for epoch 136 ==========#\n",
      ">>> MMD | abs(D_Entropy) | abs(D_Distance) | Pearson Corr \n",
      "0.36721 , 0.069208 , 0.27212 , nan\n",
      "# ================== Sampling 500 sequences at epoch 136 ================== #\n",
      "The loci with percentage of gap >= 95% in the cleaned MSA: \n",
      " [0, 78, 79, 153, 227, 228, 229, 231, 234]\n",
      "Their percentage gap are:\n",
      " [99.2, 99.8, 98.0, 99.0, 98.0, 95.6, 95.8, 96.8, 98.6]\n",
      "# ====================================================== #\n",
      "disc loss 0.5340796709060669 gen loss 0.7954084873199463\n",
      "disc loss 0.32048889994621277 gen loss 0.8091021776199341\n"
     ]
    },
    {
     "name": "stderr",
     "output_type": "stream",
     "text": [
      "C:\\Users\\canal\\AppData\\Roaming\\Python\\Python38\\site-packages\\numpy\\lib\\function_base.py:2642: RuntimeWarning: invalid value encountered in true_divide\n",
      "  c /= stddev[:, None]\n",
      "C:\\Users\\canal\\AppData\\Roaming\\Python\\Python38\\site-packages\\numpy\\lib\\function_base.py:2643: RuntimeWarning: invalid value encountered in true_divide\n",
      "  c /= stddev[None, :]\n"
     ]
    },
    {
     "name": "stdout",
     "output_type": "stream",
     "text": [
      "#========== evaluating for epoch 138 ==========#\n",
      ">>> MMD | abs(D_Entropy) | abs(D_Distance) | Pearson Corr \n",
      "0.35439 , 0.069882 , 0.25467 , nan\n",
      "# ================== Sampling 500 sequences at epoch 138 ================== #\n",
      "The loci with percentage of gap >= 95% in the cleaned MSA: \n",
      " [0, 78, 79, 153, 227, 228, 229, 231, 234]\n",
      "Their percentage gap are:\n",
      " [100.0, 99.2, 97.4, 98.6, 95.6, 96.4, 97.0, 97.0, 97.6]\n",
      "# ====================================================== #\n",
      "disc loss 0.5861831903457642 gen loss 0.6807686686515808\n",
      "disc loss 0.6973944902420044 gen loss 0.9126189947128296\n"
     ]
    },
    {
     "name": "stderr",
     "output_type": "stream",
     "text": [
      "C:\\Users\\canal\\AppData\\Roaming\\Python\\Python38\\site-packages\\numpy\\lib\\function_base.py:2642: RuntimeWarning: invalid value encountered in true_divide\n",
      "  c /= stddev[:, None]\n",
      "C:\\Users\\canal\\AppData\\Roaming\\Python\\Python38\\site-packages\\numpy\\lib\\function_base.py:2643: RuntimeWarning: invalid value encountered in true_divide\n",
      "  c /= stddev[None, :]\n"
     ]
    },
    {
     "name": "stdout",
     "output_type": "stream",
     "text": [
      "#========== evaluating for epoch 140 ==========#\n",
      ">>> MMD | abs(D_Entropy) | abs(D_Distance) | Pearson Corr \n",
      "0.34678 , 0.070658 , 0.23552 , nan\n",
      "# ================== Sampling 500 sequences at epoch 140 ================== #\n",
      "The loci with percentage of gap >= 95% in the cleaned MSA: \n",
      " [0, 1, 78, 79, 153, 227, 228, 229, 231, 232, 234]\n",
      "Their percentage gap are:\n",
      " [99.0, 97.8, 99.8, 98.4, 99.6, 97.0, 97.2, 97.0, 97.6, 96.0, 98.6]\n",
      "# ====================================================== #\n",
      "disc loss 0.6194361448287964 gen loss 0.7046951055526733\n",
      "disc loss 0.6675850749015808 gen loss 0.8107089400291443\n"
     ]
    },
    {
     "name": "stderr",
     "output_type": "stream",
     "text": [
      "C:\\Users\\canal\\AppData\\Roaming\\Python\\Python38\\site-packages\\numpy\\lib\\function_base.py:2642: RuntimeWarning: invalid value encountered in true_divide\n",
      "  c /= stddev[:, None]\n",
      "C:\\Users\\canal\\AppData\\Roaming\\Python\\Python38\\site-packages\\numpy\\lib\\function_base.py:2643: RuntimeWarning: invalid value encountered in true_divide\n",
      "  c /= stddev[None, :]\n"
     ]
    },
    {
     "name": "stdout",
     "output_type": "stream",
     "text": [
      "#========== evaluating for epoch 142 ==========#\n",
      ">>> MMD | abs(D_Entropy) | abs(D_Distance) | Pearson Corr \n",
      "0.32575 , 0.070239 , 0.19395 , nan\n",
      "# ================== Sampling 500 sequences at epoch 142 ================== #\n",
      "The loci with percentage of gap >= 95% in the cleaned MSA: \n",
      " [0, 1, 78, 79, 153, 227, 228, 229, 231, 232, 234]\n",
      "Their percentage gap are:\n",
      " [99.8, 96.6, 99.6, 96.6, 100.0, 96.4, 97.4, 96.8, 97.8, 97.4, 98.2]\n",
      "# ====================================================== #\n",
      "disc loss 0.6023160815238953 gen loss 0.6042840480804443\n",
      "disc loss 0.7964211702346802 gen loss 0.7421488761901855\n"
     ]
    },
    {
     "name": "stderr",
     "output_type": "stream",
     "text": [
      "C:\\Users\\canal\\AppData\\Roaming\\Python\\Python38\\site-packages\\numpy\\lib\\function_base.py:2642: RuntimeWarning: invalid value encountered in true_divide\n",
      "  c /= stddev[:, None]\n",
      "C:\\Users\\canal\\AppData\\Roaming\\Python\\Python38\\site-packages\\numpy\\lib\\function_base.py:2643: RuntimeWarning: invalid value encountered in true_divide\n",
      "  c /= stddev[None, :]\n"
     ]
    },
    {
     "name": "stdout",
     "output_type": "stream",
     "text": [
      "#========== evaluating for epoch 144 ==========#\n",
      ">>> MMD | abs(D_Entropy) | abs(D_Distance) | Pearson Corr \n",
      "0.31519 , 0.071072 , 0.15538 , nan\n",
      "# ================== Sampling 500 sequences at epoch 144 ================== #\n",
      "The loci with percentage of gap >= 95% in the cleaned MSA: \n",
      " [0, 1, 78, 79, 153, 227, 228, 229, 231, 232, 234]\n",
      "Their percentage gap are:\n",
      " [99.8, 98.2, 99.8, 98.6, 100.0, 98.4, 98.8, 97.8, 97.2, 97.0, 98.4]\n",
      "# ====================================================== #\n",
      "disc loss 0.9725607633590698 gen loss 0.7021018266677856\n",
      "disc loss 0.758413553237915 gen loss 0.837505578994751\n"
     ]
    },
    {
     "name": "stderr",
     "output_type": "stream",
     "text": [
      "C:\\Users\\canal\\AppData\\Roaming\\Python\\Python38\\site-packages\\numpy\\lib\\function_base.py:2642: RuntimeWarning: invalid value encountered in true_divide\n",
      "  c /= stddev[:, None]\n",
      "C:\\Users\\canal\\AppData\\Roaming\\Python\\Python38\\site-packages\\numpy\\lib\\function_base.py:2643: RuntimeWarning: invalid value encountered in true_divide\n",
      "  c /= stddev[None, :]\n"
     ]
    },
    {
     "name": "stdout",
     "output_type": "stream",
     "text": [
      "#========== evaluating for epoch 146 ==========#\n",
      ">>> MMD | abs(D_Entropy) | abs(D_Distance) | Pearson Corr \n",
      "0.30111 , 0.069806 , 0.11666 , nan\n",
      "# ================== Sampling 500 sequences at epoch 146 ================== #\n",
      "The loci with percentage of gap >= 95% in the cleaned MSA: \n",
      " [0, 1, 78, 79, 153, 227, 228, 229, 230, 231, 232, 234]\n",
      "Their percentage gap are:\n",
      " [99.8, 99.4, 100.0, 99.0, 99.6, 97.2, 98.4, 98.6, 95.0, 98.4, 97.4, 98.8]\n",
      "# ====================================================== #\n",
      "disc loss 0.5989454984664917 gen loss 0.7348803877830505\n",
      "disc loss 0.8144395351409912 gen loss 0.726247251033783\n"
     ]
    },
    {
     "name": "stderr",
     "output_type": "stream",
     "text": [
      "C:\\Users\\canal\\AppData\\Roaming\\Python\\Python38\\site-packages\\numpy\\lib\\function_base.py:2642: RuntimeWarning: invalid value encountered in true_divide\n",
      "  c /= stddev[:, None]\n",
      "C:\\Users\\canal\\AppData\\Roaming\\Python\\Python38\\site-packages\\numpy\\lib\\function_base.py:2643: RuntimeWarning: invalid value encountered in true_divide\n",
      "  c /= stddev[None, :]\n"
     ]
    },
    {
     "name": "stdout",
     "output_type": "stream",
     "text": [
      "#========== evaluating for epoch 148 ==========#\n",
      ">>> MMD | abs(D_Entropy) | abs(D_Distance) | Pearson Corr \n",
      "0.29267 , 0.06977 , 0.092708 , nan\n",
      "# ================== Sampling 500 sequences at epoch 148 ================== #\n",
      "The loci with percentage of gap >= 95% in the cleaned MSA: \n",
      " [0, 1, 78, 79, 153, 227, 228, 229, 230, 231, 232, 234]\n",
      "Their percentage gap are:\n",
      " [100.0, 98.2, 99.8, 99.6, 99.0, 97.8, 99.0, 98.4, 96.0, 98.8, 97.2, 98.4]\n",
      "# ====================================================== #\n",
      "disc loss 0.7697702646255493 gen loss 0.7879154682159424\n",
      "disc loss 0.8335648775100708 gen loss 0.7919402718544006\n"
     ]
    },
    {
     "name": "stderr",
     "output_type": "stream",
     "text": [
      "C:\\Users\\canal\\AppData\\Roaming\\Python\\Python38\\site-packages\\numpy\\lib\\function_base.py:2642: RuntimeWarning: invalid value encountered in true_divide\n",
      "  c /= stddev[:, None]\n",
      "C:\\Users\\canal\\AppData\\Roaming\\Python\\Python38\\site-packages\\numpy\\lib\\function_base.py:2643: RuntimeWarning: invalid value encountered in true_divide\n",
      "  c /= stddev[None, :]\n"
     ]
    },
    {
     "name": "stdout",
     "output_type": "stream",
     "text": [
      "#========== evaluating for epoch 150 ==========#\n",
      ">>> MMD | abs(D_Entropy) | abs(D_Distance) | Pearson Corr \n",
      "0.28464 , 0.069529 , 0.049841 , nan\n",
      "# ================== Sampling 500 sequences at epoch 150 ================== #\n",
      "The loci with percentage of gap >= 95% in the cleaned MSA: \n",
      " [0, 1, 78, 79, 153, 227, 228, 229, 230, 231, 232, 234]\n",
      "Their percentage gap are:\n",
      " [99.8, 99.4, 99.8, 98.6, 99.8, 97.8, 99.0, 98.8, 96.6, 98.4, 98.2, 98.4]\n",
      "# ====================================================== #\n",
      "disc loss 0.6926286220550537 gen loss 0.7770065665245056\n",
      "disc loss 1.191505789756775 gen loss 0.7556043863296509\n"
     ]
    },
    {
     "name": "stderr",
     "output_type": "stream",
     "text": [
      "C:\\Users\\canal\\AppData\\Roaming\\Python\\Python38\\site-packages\\numpy\\lib\\function_base.py:2642: RuntimeWarning: invalid value encountered in true_divide\n",
      "  c /= stddev[:, None]\n",
      "C:\\Users\\canal\\AppData\\Roaming\\Python\\Python38\\site-packages\\numpy\\lib\\function_base.py:2643: RuntimeWarning: invalid value encountered in true_divide\n",
      "  c /= stddev[None, :]\n"
     ]
    },
    {
     "name": "stdout",
     "output_type": "stream",
     "text": [
      "#========== evaluating for epoch 152 ==========#\n",
      ">>> MMD | abs(D_Entropy) | abs(D_Distance) | Pearson Corr \n",
      "0.28147 , 0.068704 , 0.043036 , nan\n",
      "# ================== Sampling 500 sequences at epoch 152 ================== #\n",
      "The loci with percentage of gap >= 95% in the cleaned MSA: \n",
      " [0, 1, 78, 79, 153, 227, 228, 229, 230, 231, 232, 234]\n",
      "Their percentage gap are:\n",
      " [100.0, 98.8, 100.0, 99.0, 99.6, 98.4, 99.0, 99.2, 97.6, 98.6, 98.2, 98.6]\n",
      "# ====================================================== #\n",
      "disc loss 0.7223876714706421 gen loss 0.7021079659461975\n",
      "disc loss 0.6987149119377136 gen loss 0.9589162468910217\n"
     ]
    },
    {
     "name": "stderr",
     "output_type": "stream",
     "text": [
      "C:\\Users\\canal\\AppData\\Roaming\\Python\\Python38\\site-packages\\numpy\\lib\\function_base.py:2642: RuntimeWarning: invalid value encountered in true_divide\n",
      "  c /= stddev[:, None]\n",
      "C:\\Users\\canal\\AppData\\Roaming\\Python\\Python38\\site-packages\\numpy\\lib\\function_base.py:2643: RuntimeWarning: invalid value encountered in true_divide\n",
      "  c /= stddev[None, :]\n"
     ]
    },
    {
     "name": "stdout",
     "output_type": "stream",
     "text": [
      "#========== evaluating for epoch 154 ==========#\n",
      ">>> MMD | abs(D_Entropy) | abs(D_Distance) | Pearson Corr \n",
      "0.27802 , 0.06761 , 0.02309 , nan\n",
      "# ================== Sampling 500 sequences at epoch 154 ================== #\n",
      "The loci with percentage of gap >= 95% in the cleaned MSA: \n",
      " [0, 1, 78, 79, 153, 227, 228, 229, 230, 231, 232, 234, 236]\n",
      "Their percentage gap are:\n",
      " [100.0, 98.4, 100.0, 99.8, 99.2, 97.8, 98.6, 98.4, 97.6, 98.8, 98.4, 98.4, 97.0]\n",
      "# ====================================================== #\n",
      "disc loss 0.8172852396965027 gen loss 0.6697085499763489\n",
      "disc loss 0.9537734985351562 gen loss 0.7466393113136292\n"
     ]
    },
    {
     "name": "stderr",
     "output_type": "stream",
     "text": [
      "C:\\Users\\canal\\AppData\\Roaming\\Python\\Python38\\site-packages\\numpy\\lib\\function_base.py:2642: RuntimeWarning: invalid value encountered in true_divide\n",
      "  c /= stddev[:, None]\n",
      "C:\\Users\\canal\\AppData\\Roaming\\Python\\Python38\\site-packages\\numpy\\lib\\function_base.py:2643: RuntimeWarning: invalid value encountered in true_divide\n",
      "  c /= stddev[None, :]\n"
     ]
    },
    {
     "name": "stdout",
     "output_type": "stream",
     "text": [
      "#========== evaluating for epoch 156 ==========#\n",
      ">>> MMD | abs(D_Entropy) | abs(D_Distance) | Pearson Corr \n",
      "0.27143 , 0.067408 , 0.0057064 , nan\n",
      "# ================== Sampling 500 sequences at epoch 156 ================== #\n",
      "The loci with percentage of gap >= 95% in the cleaned MSA: \n",
      " [0, 1, 78, 79, 153, 227, 228, 229, 230, 231, 232, 234, 236]\n",
      "Their percentage gap are:\n",
      " [100.0, 99.4, 100.0, 99.4, 99.6, 98.6, 99.2, 99.2, 96.8, 98.6, 99.0, 98.6, 96.2]\n",
      "# ====================================================== #\n",
      "disc loss 0.9264862537384033 gen loss 0.7958250045776367\n",
      "disc loss 0.6554898619651794 gen loss 0.8010338544845581\n"
     ]
    },
    {
     "name": "stderr",
     "output_type": "stream",
     "text": [
      "C:\\Users\\canal\\AppData\\Roaming\\Python\\Python38\\site-packages\\numpy\\lib\\function_base.py:2642: RuntimeWarning: invalid value encountered in true_divide\n",
      "  c /= stddev[:, None]\n",
      "C:\\Users\\canal\\AppData\\Roaming\\Python\\Python38\\site-packages\\numpy\\lib\\function_base.py:2643: RuntimeWarning: invalid value encountered in true_divide\n",
      "  c /= stddev[None, :]\n"
     ]
    },
    {
     "name": "stdout",
     "output_type": "stream",
     "text": [
      "#========== evaluating for epoch 158 ==========#\n",
      ">>> MMD | abs(D_Entropy) | abs(D_Distance) | Pearson Corr \n",
      "0.27626 , 0.066304 , 0.013056 , nan\n",
      "# ================== Sampling 500 sequences at epoch 158 ================== #\n",
      "The loci with percentage of gap >= 95% in the cleaned MSA: \n",
      " [0, 1, 78, 79, 153, 154, 212, 227, 228, 229, 230, 231, 232, 234, 235, 236]\n",
      "Their percentage gap are:\n",
      " [100.0, 99.4, 100.0, 99.4, 99.4, 95.4, 95.8, 98.4, 99.6, 99.6, 97.6, 99.0, 98.6, 98.2, 95.0, 97.4]\n",
      "# ====================================================== #\n",
      "disc loss 0.6218811273574829 gen loss 0.7875316143035889\n",
      "disc loss 1.0465680360794067 gen loss 0.7995830774307251\n"
     ]
    },
    {
     "name": "stderr",
     "output_type": "stream",
     "text": [
      "C:\\Users\\canal\\AppData\\Roaming\\Python\\Python38\\site-packages\\numpy\\lib\\function_base.py:2642: RuntimeWarning: invalid value encountered in true_divide\n",
      "  c /= stddev[:, None]\n",
      "C:\\Users\\canal\\AppData\\Roaming\\Python\\Python38\\site-packages\\numpy\\lib\\function_base.py:2643: RuntimeWarning: invalid value encountered in true_divide\n",
      "  c /= stddev[None, :]\n"
     ]
    },
    {
     "name": "stdout",
     "output_type": "stream",
     "text": [
      "#========== evaluating for epoch 160 ==========#\n",
      ">>> MMD | abs(D_Entropy) | abs(D_Distance) | Pearson Corr \n",
      "0.27094 , 0.067231 , 0.013538 , nan\n",
      "# ================== Sampling 500 sequences at epoch 160 ================== #\n",
      "The loci with percentage of gap >= 95% in the cleaned MSA: \n",
      " [0, 1, 78, 79, 153, 212, 227, 228, 229, 230, 231, 232, 234, 235, 236]\n",
      "Their percentage gap are:\n",
      " [100.0, 99.4, 100.0, 99.4, 99.6, 96.2, 98.4, 99.6, 99.4, 98.2, 98.2, 98.6, 99.0, 97.2, 98.8]\n",
      "# ====================================================== #\n",
      "disc loss 0.7037826776504517 gen loss 0.772310733795166\n",
      "disc loss 0.6922646760940552 gen loss 0.8597404360771179\n"
     ]
    },
    {
     "name": "stderr",
     "output_type": "stream",
     "text": [
      "C:\\Users\\canal\\AppData\\Roaming\\Python\\Python38\\site-packages\\numpy\\lib\\function_base.py:2642: RuntimeWarning: invalid value encountered in true_divide\n",
      "  c /= stddev[:, None]\n",
      "C:\\Users\\canal\\AppData\\Roaming\\Python\\Python38\\site-packages\\numpy\\lib\\function_base.py:2643: RuntimeWarning: invalid value encountered in true_divide\n",
      "  c /= stddev[None, :]\n"
     ]
    },
    {
     "name": "stdout",
     "output_type": "stream",
     "text": [
      "#========== evaluating for epoch 162 ==========#\n",
      ">>> MMD | abs(D_Entropy) | abs(D_Distance) | Pearson Corr \n",
      "0.2694 , 0.066476 , 0.022916 , nan\n",
      "# ================== Sampling 500 sequences at epoch 162 ================== #\n",
      "The loci with percentage of gap >= 95% in the cleaned MSA: \n",
      " [0, 1, 78, 79, 153, 212, 227, 228, 229, 230, 231, 232, 234, 235, 236]\n",
      "Their percentage gap are:\n",
      " [99.8, 99.4, 99.8, 99.4, 99.4, 96.8, 97.8, 99.8, 99.4, 98.0, 98.0, 98.4, 98.2, 97.4, 98.0]\n",
      "# ====================================================== #\n",
      "disc loss 0.8393121957778931 gen loss 0.6954687833786011\n",
      "disc loss 0.8428401947021484 gen loss 0.6810199022293091\n"
     ]
    },
    {
     "name": "stderr",
     "output_type": "stream",
     "text": [
      "C:\\Users\\canal\\AppData\\Roaming\\Python\\Python38\\site-packages\\numpy\\lib\\function_base.py:2642: RuntimeWarning: invalid value encountered in true_divide\n",
      "  c /= stddev[:, None]\n",
      "C:\\Users\\canal\\AppData\\Roaming\\Python\\Python38\\site-packages\\numpy\\lib\\function_base.py:2643: RuntimeWarning: invalid value encountered in true_divide\n",
      "  c /= stddev[None, :]\n"
     ]
    },
    {
     "name": "stdout",
     "output_type": "stream",
     "text": [
      "#========== evaluating for epoch 164 ==========#\n",
      ">>> MMD | abs(D_Entropy) | abs(D_Distance) | Pearson Corr \n",
      "0.2699 , 0.06675 , 0.03555 , nan\n",
      "# ================== Sampling 500 sequences at epoch 164 ================== #\n",
      "The loci with percentage of gap >= 95% in the cleaned MSA: \n",
      " [0, 1, 78, 79, 153, 212, 227, 228, 229, 230, 231, 232, 234, 235, 236]\n",
      "Their percentage gap are:\n",
      " [100.0, 98.8, 100.0, 99.6, 99.8, 96.6, 98.2, 99.2, 99.8, 98.8, 99.2, 98.8, 98.4, 97.4, 97.6]\n",
      "# ====================================================== #\n",
      "disc loss 0.9069809913635254 gen loss 0.6953703165054321\n",
      "disc loss 0.9495867490768433 gen loss 0.7019842863082886\n"
     ]
    },
    {
     "name": "stderr",
     "output_type": "stream",
     "text": [
      "C:\\Users\\canal\\AppData\\Roaming\\Python\\Python38\\site-packages\\numpy\\lib\\function_base.py:2642: RuntimeWarning: invalid value encountered in true_divide\n",
      "  c /= stddev[:, None]\n",
      "C:\\Users\\canal\\AppData\\Roaming\\Python\\Python38\\site-packages\\numpy\\lib\\function_base.py:2643: RuntimeWarning: invalid value encountered in true_divide\n",
      "  c /= stddev[None, :]\n"
     ]
    },
    {
     "name": "stdout",
     "output_type": "stream",
     "text": [
      "#========== evaluating for epoch 166 ==========#\n",
      ">>> MMD | abs(D_Entropy) | abs(D_Distance) | Pearson Corr \n",
      "0.27085 , 0.066242 , 0.039852 , nan\n",
      "# ================== Sampling 500 sequences at epoch 166 ================== #\n",
      "The loci with percentage of gap >= 95% in the cleaned MSA: \n",
      " [0, 1, 2, 78, 79, 153, 212, 227, 228, 229, 230, 231, 232, 234, 235, 236]\n",
      "Their percentage gap are:\n",
      " [99.8, 100.0, 95.0, 100.0, 100.0, 99.2, 97.8, 98.0, 98.8, 100.0, 98.0, 98.0, 98.8, 98.2, 98.0, 98.4]\n",
      "# ====================================================== #\n",
      "disc loss 0.8069438934326172 gen loss 0.7104597091674805\n",
      "disc loss 0.8720576167106628 gen loss 0.6829261183738708\n"
     ]
    },
    {
     "name": "stderr",
     "output_type": "stream",
     "text": [
      "C:\\Users\\canal\\AppData\\Roaming\\Python\\Python38\\site-packages\\numpy\\lib\\function_base.py:2642: RuntimeWarning: invalid value encountered in true_divide\n",
      "  c /= stddev[:, None]\n",
      "C:\\Users\\canal\\AppData\\Roaming\\Python\\Python38\\site-packages\\numpy\\lib\\function_base.py:2643: RuntimeWarning: invalid value encountered in true_divide\n",
      "  c /= stddev[None, :]\n"
     ]
    },
    {
     "name": "stdout",
     "output_type": "stream",
     "text": [
      "#========== evaluating for epoch 168 ==========#\n",
      ">>> MMD | abs(D_Entropy) | abs(D_Distance) | Pearson Corr \n",
      "0.26969 , 0.066243 , 0.050894 , nan\n",
      "# ================== Sampling 500 sequences at epoch 168 ================== #\n",
      "The loci with percentage of gap >= 95% in the cleaned MSA: \n",
      " [0, 1, 2, 78, 79, 153, 212, 227, 228, 229, 230, 231, 232, 234, 235, 236]\n",
      "Their percentage gap are:\n",
      " [100.0, 99.6, 97.2, 100.0, 99.8, 99.6, 97.6, 97.0, 99.2, 98.8, 97.6, 99.6, 99.0, 99.0, 98.6, 99.8]\n",
      "# ====================================================== #\n",
      "disc loss 0.7446160912513733 gen loss 0.6899181604385376\n",
      "disc loss 0.724729061126709 gen loss 0.7405089139938354\n"
     ]
    },
    {
     "name": "stderr",
     "output_type": "stream",
     "text": [
      "C:\\Users\\canal\\AppData\\Roaming\\Python\\Python38\\site-packages\\numpy\\lib\\function_base.py:2642: RuntimeWarning: invalid value encountered in true_divide\n",
      "  c /= stddev[:, None]\n",
      "C:\\Users\\canal\\AppData\\Roaming\\Python\\Python38\\site-packages\\numpy\\lib\\function_base.py:2643: RuntimeWarning: invalid value encountered in true_divide\n",
      "  c /= stddev[None, :]\n"
     ]
    },
    {
     "name": "stdout",
     "output_type": "stream",
     "text": [
      "#========== evaluating for epoch 170 ==========#\n",
      ">>> MMD | abs(D_Entropy) | abs(D_Distance) | Pearson Corr \n",
      "0.27141 , 0.066611 , 0.041046 , nan\n",
      "# ================== Sampling 500 sequences at epoch 170 ================== #\n",
      "The loci with percentage of gap >= 95% in the cleaned MSA: \n",
      " [0, 1, 2, 78, 79, 153, 212, 228, 229, 230, 231, 232, 233, 234, 235, 236]\n",
      "Their percentage gap are:\n",
      " [100.0, 99.8, 96.4, 100.0, 99.8, 99.4, 98.4, 99.2, 100.0, 97.4, 98.6, 99.2, 95.4, 98.4, 99.0, 99.4]\n",
      "# ====================================================== #\n",
      "disc loss 0.7106993198394775 gen loss 0.6620197892189026\n",
      "disc loss 0.9025647044181824 gen loss 0.7532540559768677\n"
     ]
    },
    {
     "name": "stderr",
     "output_type": "stream",
     "text": [
      "C:\\Users\\canal\\AppData\\Roaming\\Python\\Python38\\site-packages\\numpy\\lib\\function_base.py:2642: RuntimeWarning: invalid value encountered in true_divide\n",
      "  c /= stddev[:, None]\n",
      "C:\\Users\\canal\\AppData\\Roaming\\Python\\Python38\\site-packages\\numpy\\lib\\function_base.py:2643: RuntimeWarning: invalid value encountered in true_divide\n",
      "  c /= stddev[None, :]\n"
     ]
    },
    {
     "name": "stdout",
     "output_type": "stream",
     "text": [
      "#========== evaluating for epoch 172 ==========#\n",
      ">>> MMD | abs(D_Entropy) | abs(D_Distance) | Pearson Corr \n",
      "0.27309 , 0.066165 , 0.053991 , nan\n",
      "# ================== Sampling 500 sequences at epoch 172 ================== #\n",
      "The loci with percentage of gap >= 95% in the cleaned MSA: \n",
      " [0, 1, 2, 78, 79, 153, 154, 212, 227, 228, 229, 230, 231, 232, 233, 234, 235, 236]\n",
      "Their percentage gap are:\n",
      " [100.0, 100.0, 96.8, 100.0, 99.8, 99.6, 95.6, 98.0, 95.6, 99.8, 100.0, 98.2, 99.4, 97.2, 96.2, 97.6, 98.6, 98.8]\n",
      "# ====================================================== #\n",
      "disc loss 0.702623724937439 gen loss 0.853716254234314\n",
      "disc loss 0.7947198748588562 gen loss 0.7157013416290283\n"
     ]
    },
    {
     "name": "stderr",
     "output_type": "stream",
     "text": [
      "C:\\Users\\canal\\AppData\\Roaming\\Python\\Python38\\site-packages\\numpy\\lib\\function_base.py:2642: RuntimeWarning: invalid value encountered in true_divide\n",
      "  c /= stddev[:, None]\n",
      "C:\\Users\\canal\\AppData\\Roaming\\Python\\Python38\\site-packages\\numpy\\lib\\function_base.py:2643: RuntimeWarning: invalid value encountered in true_divide\n",
      "  c /= stddev[None, :]\n"
     ]
    },
    {
     "name": "stdout",
     "output_type": "stream",
     "text": [
      "#========== evaluating for epoch 174 ==========#\n",
      ">>> MMD | abs(D_Entropy) | abs(D_Distance) | Pearson Corr \n",
      "0.273 , 0.06648 , 0.059343 , nan\n",
      "# ================== Sampling 500 sequences at epoch 174 ================== #\n",
      "The loci with percentage of gap >= 95% in the cleaned MSA: \n",
      " [0, 1, 2, 78, 79, 153, 212, 227, 228, 229, 230, 231, 232, 233, 234, 235, 236]\n",
      "Their percentage gap are:\n",
      " [99.8, 99.8, 96.2, 100.0, 99.8, 98.6, 98.2, 96.2, 99.6, 99.4, 98.4, 99.4, 98.2, 96.2, 98.2, 99.6, 98.8]\n",
      "# ====================================================== #\n",
      "disc loss 0.9136935472488403 gen loss 0.8509297966957092\n",
      "disc loss 0.8388111591339111 gen loss 0.7774151563644409\n"
     ]
    },
    {
     "name": "stderr",
     "output_type": "stream",
     "text": [
      "C:\\Users\\canal\\AppData\\Roaming\\Python\\Python38\\site-packages\\numpy\\lib\\function_base.py:2642: RuntimeWarning: invalid value encountered in true_divide\n",
      "  c /= stddev[:, None]\n",
      "C:\\Users\\canal\\AppData\\Roaming\\Python\\Python38\\site-packages\\numpy\\lib\\function_base.py:2643: RuntimeWarning: invalid value encountered in true_divide\n",
      "  c /= stddev[None, :]\n"
     ]
    },
    {
     "name": "stdout",
     "output_type": "stream",
     "text": [
      "#========== evaluating for epoch 176 ==========#\n",
      ">>> MMD | abs(D_Entropy) | abs(D_Distance) | Pearson Corr \n",
      "0.27241 , 0.066283 , 0.057459 , nan\n",
      "# ================== Sampling 500 sequences at epoch 176 ================== #\n",
      "The loci with percentage of gap >= 95% in the cleaned MSA: \n",
      " [0, 1, 2, 78, 79, 153, 212, 227, 228, 229, 230, 231, 232, 233, 234, 235, 236]\n",
      "Their percentage gap are:\n",
      " [99.8, 99.6, 96.6, 99.8, 99.6, 99.8, 98.2, 97.0, 99.6, 99.0, 98.4, 99.4, 98.6, 97.6, 99.0, 99.4, 99.2]\n",
      "# ====================================================== #\n",
      "disc loss 0.7589454650878906 gen loss 0.8387399911880493\n",
      "disc loss 0.6579916477203369 gen loss 0.8078570365905762\n"
     ]
    },
    {
     "name": "stderr",
     "output_type": "stream",
     "text": [
      "C:\\Users\\canal\\AppData\\Roaming\\Python\\Python38\\site-packages\\numpy\\lib\\function_base.py:2642: RuntimeWarning: invalid value encountered in true_divide\n",
      "  c /= stddev[:, None]\n",
      "C:\\Users\\canal\\AppData\\Roaming\\Python\\Python38\\site-packages\\numpy\\lib\\function_base.py:2643: RuntimeWarning: invalid value encountered in true_divide\n",
      "  c /= stddev[None, :]\n"
     ]
    },
    {
     "name": "stdout",
     "output_type": "stream",
     "text": [
      "#========== evaluating for epoch 178 ==========#\n",
      ">>> MMD | abs(D_Entropy) | abs(D_Distance) | Pearson Corr \n",
      "0.27377 , 0.065883 , 0.053141 , nan\n",
      "# ================== Sampling 500 sequences at epoch 178 ================== #\n",
      "The loci with percentage of gap >= 95% in the cleaned MSA: \n",
      " [0, 1, 2, 78, 79, 153, 212, 227, 228, 229, 230, 231, 232, 233, 234, 235, 236]\n",
      "Their percentage gap are:\n",
      " [99.8, 99.6, 97.2, 100.0, 99.2, 99.8, 99.4, 96.4, 100.0, 99.4, 98.6, 98.0, 98.8, 97.8, 98.6, 99.4, 99.4]\n",
      "# ====================================================== #\n",
      "disc loss 0.6838854551315308 gen loss 0.7933837175369263\n",
      "disc loss 0.6848664283752441 gen loss 0.7147722840309143\n"
     ]
    },
    {
     "name": "stderr",
     "output_type": "stream",
     "text": [
      "C:\\Users\\canal\\AppData\\Roaming\\Python\\Python38\\site-packages\\numpy\\lib\\function_base.py:2642: RuntimeWarning: invalid value encountered in true_divide\n",
      "  c /= stddev[:, None]\n",
      "C:\\Users\\canal\\AppData\\Roaming\\Python\\Python38\\site-packages\\numpy\\lib\\function_base.py:2643: RuntimeWarning: invalid value encountered in true_divide\n",
      "  c /= stddev[None, :]\n"
     ]
    },
    {
     "name": "stdout",
     "output_type": "stream",
     "text": [
      "#========== evaluating for epoch 180 ==========#\n",
      ">>> MMD | abs(D_Entropy) | abs(D_Distance) | Pearson Corr \n",
      "0.27828 , 0.065847 , 0.047032 , nan\n",
      "# ================== Sampling 500 sequences at epoch 180 ================== #\n",
      "The loci with percentage of gap >= 95% in the cleaned MSA: \n",
      " [0, 1, 2, 78, 79, 153, 212, 227, 228, 229, 230, 231, 232, 233, 234, 235, 236]\n",
      "Their percentage gap are:\n",
      " [99.8, 99.0, 98.2, 100.0, 99.4, 99.8, 98.8, 97.4, 99.2, 99.6, 97.0, 99.8, 98.6, 97.6, 98.4, 99.0, 99.4]\n",
      "# ====================================================== #\n",
      "disc loss 0.7569636106491089 gen loss 0.7991143465042114\n",
      "disc loss 0.8170761466026306 gen loss 0.7236600518226624\n"
     ]
    },
    {
     "name": "stderr",
     "output_type": "stream",
     "text": [
      "C:\\Users\\canal\\AppData\\Roaming\\Python\\Python38\\site-packages\\numpy\\lib\\function_base.py:2642: RuntimeWarning: invalid value encountered in true_divide\n",
      "  c /= stddev[:, None]\n",
      "C:\\Users\\canal\\AppData\\Roaming\\Python\\Python38\\site-packages\\numpy\\lib\\function_base.py:2643: RuntimeWarning: invalid value encountered in true_divide\n",
      "  c /= stddev[None, :]\n"
     ]
    },
    {
     "name": "stdout",
     "output_type": "stream",
     "text": [
      "#========== evaluating for epoch 182 ==========#\n",
      ">>> MMD | abs(D_Entropy) | abs(D_Distance) | Pearson Corr \n",
      "0.28013 , 0.064205 , 0.050457 , nan\n",
      "# ================== Sampling 500 sequences at epoch 182 ================== #\n",
      "The loci with percentage of gap >= 95% in the cleaned MSA: \n",
      " [0, 1, 2, 78, 79, 153, 212, 227, 228, 229, 230, 231, 232, 233, 234, 235, 236]\n",
      "Their percentage gap are:\n",
      " [100.0, 99.6, 96.0, 100.0, 99.4, 99.2, 98.2, 95.8, 99.6, 99.4, 98.2, 99.2, 98.4, 98.4, 98.2, 99.8, 99.0]\n",
      "# ====================================================== #\n",
      "disc loss 0.5613536238670349 gen loss 0.7251765131950378\n",
      "disc loss 0.8112801313400269 gen loss 1.009522557258606\n"
     ]
    },
    {
     "name": "stderr",
     "output_type": "stream",
     "text": [
      "C:\\Users\\canal\\AppData\\Roaming\\Python\\Python38\\site-packages\\numpy\\lib\\function_base.py:2642: RuntimeWarning: invalid value encountered in true_divide\n",
      "  c /= stddev[:, None]\n",
      "C:\\Users\\canal\\AppData\\Roaming\\Python\\Python38\\site-packages\\numpy\\lib\\function_base.py:2643: RuntimeWarning: invalid value encountered in true_divide\n",
      "  c /= stddev[None, :]\n"
     ]
    },
    {
     "name": "stdout",
     "output_type": "stream",
     "text": [
      "#========== evaluating for epoch 184 ==========#\n",
      ">>> MMD | abs(D_Entropy) | abs(D_Distance) | Pearson Corr \n",
      "0.28158 , 0.065579 , 0.040562 , nan\n",
      "# ================== Sampling 500 sequences at epoch 184 ================== #\n",
      "The loci with percentage of gap >= 95% in the cleaned MSA: \n",
      " [0, 1, 2, 78, 79, 153, 212, 228, 229, 230, 231, 232, 233, 234, 235, 236]\n",
      "Their percentage gap are:\n",
      " [100.0, 99.8, 98.0, 100.0, 99.6, 99.4, 99.0, 99.6, 99.8, 98.0, 98.0, 98.8, 97.8, 99.4, 99.4, 99.4]\n",
      "# ====================================================== #\n",
      "disc loss 0.6854538917541504 gen loss 0.7816221714019775\n",
      "disc loss 0.6797200441360474 gen loss 0.7231317162513733\n"
     ]
    },
    {
     "name": "stderr",
     "output_type": "stream",
     "text": [
      "C:\\Users\\canal\\AppData\\Roaming\\Python\\Python38\\site-packages\\numpy\\lib\\function_base.py:2642: RuntimeWarning: invalid value encountered in true_divide\n",
      "  c /= stddev[:, None]\n",
      "C:\\Users\\canal\\AppData\\Roaming\\Python\\Python38\\site-packages\\numpy\\lib\\function_base.py:2643: RuntimeWarning: invalid value encountered in true_divide\n",
      "  c /= stddev[None, :]\n"
     ]
    },
    {
     "name": "stdout",
     "output_type": "stream",
     "text": [
      "#========== evaluating for epoch 186 ==========#\n",
      ">>> MMD | abs(D_Entropy) | abs(D_Distance) | Pearson Corr \n",
      "0.28577 , 0.065589 , 0.034583 , nan\n",
      "# ================== Sampling 500 sequences at epoch 186 ================== #\n",
      "The loci with percentage of gap >= 95% in the cleaned MSA: \n",
      " [0, 1, 2, 78, 79, 153, 212, 228, 229, 230, 231, 232, 233, 234, 235, 236]\n",
      "Their percentage gap are:\n",
      " [99.8, 99.0, 97.4, 100.0, 98.6, 99.8, 98.2, 99.4, 99.8, 97.0, 98.4, 99.0, 96.8, 98.6, 99.6, 99.2]\n",
      "# ====================================================== #\n",
      "disc loss 0.8287287950515747 gen loss 0.9173073768615723\n",
      "disc loss 0.7088608145713806 gen loss 0.8143197298049927\n"
     ]
    },
    {
     "name": "stderr",
     "output_type": "stream",
     "text": [
      "C:\\Users\\canal\\AppData\\Roaming\\Python\\Python38\\site-packages\\numpy\\lib\\function_base.py:2642: RuntimeWarning: invalid value encountered in true_divide\n",
      "  c /= stddev[:, None]\n",
      "C:\\Users\\canal\\AppData\\Roaming\\Python\\Python38\\site-packages\\numpy\\lib\\function_base.py:2643: RuntimeWarning: invalid value encountered in true_divide\n",
      "  c /= stddev[None, :]\n"
     ]
    },
    {
     "name": "stdout",
     "output_type": "stream",
     "text": [
      "#========== evaluating for epoch 188 ==========#\n",
      ">>> MMD | abs(D_Entropy) | abs(D_Distance) | Pearson Corr \n",
      "0.28975 , 0.064474 , 0.0064414 , nan\n",
      "# ================== Sampling 500 sequences at epoch 188 ================== #\n",
      "The loci with percentage of gap >= 95% in the cleaned MSA: \n",
      " [0, 1, 2, 78, 79, 153, 212, 228, 229, 230, 231, 232, 233, 234, 235, 236]\n",
      "Their percentage gap are:\n",
      " [100.0, 100.0, 98.0, 100.0, 99.2, 99.6, 98.0, 99.6, 99.0, 96.6, 98.6, 96.8, 97.8, 99.0, 99.2, 99.4]\n",
      "# ====================================================== #\n",
      "disc loss 0.8593795895576477 gen loss 0.8262348175048828\n",
      "disc loss 0.7053496837615967 gen loss 0.7814187407493591\n"
     ]
    },
    {
     "name": "stderr",
     "output_type": "stream",
     "text": [
      "C:\\Users\\canal\\AppData\\Roaming\\Python\\Python38\\site-packages\\numpy\\lib\\function_base.py:2642: RuntimeWarning: invalid value encountered in true_divide\n",
      "  c /= stddev[:, None]\n",
      "C:\\Users\\canal\\AppData\\Roaming\\Python\\Python38\\site-packages\\numpy\\lib\\function_base.py:2643: RuntimeWarning: invalid value encountered in true_divide\n",
      "  c /= stddev[None, :]\n"
     ]
    },
    {
     "name": "stdout",
     "output_type": "stream",
     "text": [
      "#========== evaluating for epoch 190 ==========#\n",
      ">>> MMD | abs(D_Entropy) | abs(D_Distance) | Pearson Corr \n",
      "0.29246 , 0.065528 , 0.01799 , nan\n",
      "# ================== Sampling 500 sequences at epoch 190 ================== #\n",
      "The loci with percentage of gap >= 95% in the cleaned MSA: \n",
      " [0, 1, 2, 78, 79, 153, 212, 228, 229, 230, 231, 232, 233, 234, 235, 236]\n",
      "Their percentage gap are:\n",
      " [100.0, 99.4, 97.2, 100.0, 98.8, 99.2, 98.8, 98.6, 99.2, 95.6, 98.8, 98.2, 98.2, 98.6, 99.8, 99.6]\n",
      "# ====================================================== #\n",
      "disc loss 0.8509938716888428 gen loss 0.7743693590164185\n",
      "disc loss 0.6150638461112976 gen loss 0.8305989503860474\n"
     ]
    },
    {
     "name": "stderr",
     "output_type": "stream",
     "text": [
      "C:\\Users\\canal\\AppData\\Roaming\\Python\\Python38\\site-packages\\numpy\\lib\\function_base.py:2642: RuntimeWarning: invalid value encountered in true_divide\n",
      "  c /= stddev[:, None]\n",
      "C:\\Users\\canal\\AppData\\Roaming\\Python\\Python38\\site-packages\\numpy\\lib\\function_base.py:2643: RuntimeWarning: invalid value encountered in true_divide\n",
      "  c /= stddev[None, :]\n"
     ]
    },
    {
     "name": "stdout",
     "output_type": "stream",
     "text": [
      "#========== evaluating for epoch 192 ==========#\n",
      ">>> MMD | abs(D_Entropy) | abs(D_Distance) | Pearson Corr \n",
      "0.29971 , 0.0647 , 0.0041798 , nan\n",
      "# ================== Sampling 500 sequences at epoch 192 ================== #\n",
      "The loci with percentage of gap >= 95% in the cleaned MSA: \n",
      " [0, 1, 2, 78, 79, 153, 212, 228, 229, 231, 232, 233, 234, 235, 236]\n",
      "Their percentage gap are:\n",
      " [99.8, 99.4, 97.8, 100.0, 99.2, 98.8, 98.8, 99.8, 99.6, 98.2, 95.6, 98.2, 98.2, 99.2, 99.0]\n",
      "# ====================================================== #\n",
      "disc loss 0.7609328627586365 gen loss 0.8724960088729858\n",
      "disc loss 0.8435497283935547 gen loss 0.7748295068740845\n"
     ]
    },
    {
     "name": "stderr",
     "output_type": "stream",
     "text": [
      "C:\\Users\\canal\\AppData\\Roaming\\Python\\Python38\\site-packages\\numpy\\lib\\function_base.py:2642: RuntimeWarning: invalid value encountered in true_divide\n",
      "  c /= stddev[:, None]\n",
      "C:\\Users\\canal\\AppData\\Roaming\\Python\\Python38\\site-packages\\numpy\\lib\\function_base.py:2643: RuntimeWarning: invalid value encountered in true_divide\n",
      "  c /= stddev[None, :]\n"
     ]
    },
    {
     "name": "stdout",
     "output_type": "stream",
     "text": [
      "#========== evaluating for epoch 194 ==========#\n",
      ">>> MMD | abs(D_Entropy) | abs(D_Distance) | Pearson Corr \n",
      "0.30122 , 0.062638 , 0.0042728 , nan\n",
      "# ================== Sampling 500 sequences at epoch 194 ================== #\n",
      "The loci with percentage of gap >= 95% in the cleaned MSA: \n",
      " [0, 1, 2, 78, 79, 153, 212, 228, 229, 230, 231, 232, 233, 234, 235, 236]\n",
      "Their percentage gap are:\n",
      " [100.0, 99.0, 96.4, 100.0, 99.2, 98.2, 98.6, 99.4, 99.4, 95.6, 98.6, 98.0, 98.0, 98.2, 99.2, 99.2]\n",
      "# ====================================================== #\n",
      "disc loss 0.6615307331085205 gen loss 0.7257187366485596\n",
      "disc loss 0.6612996459007263 gen loss 0.7195707559585571\n"
     ]
    },
    {
     "name": "stderr",
     "output_type": "stream",
     "text": [
      "C:\\Users\\canal\\AppData\\Roaming\\Python\\Python38\\site-packages\\numpy\\lib\\function_base.py:2642: RuntimeWarning: invalid value encountered in true_divide\n",
      "  c /= stddev[:, None]\n",
      "C:\\Users\\canal\\AppData\\Roaming\\Python\\Python38\\site-packages\\numpy\\lib\\function_base.py:2643: RuntimeWarning: invalid value encountered in true_divide\n",
      "  c /= stddev[None, :]\n"
     ]
    },
    {
     "name": "stdout",
     "output_type": "stream",
     "text": [
      "#========== evaluating for epoch 196 ==========#\n",
      ">>> MMD | abs(D_Entropy) | abs(D_Distance) | Pearson Corr \n",
      "0.30616 , 0.064405 , 0.010977 , nan\n",
      "# ================== Sampling 500 sequences at epoch 196 ================== #\n",
      "The loci with percentage of gap >= 95% in the cleaned MSA: \n",
      " [0, 1, 2, 78, 79, 153, 212, 228, 229, 231, 232, 233, 234, 235, 236]\n",
      "Their percentage gap are:\n",
      " [100.0, 99.4, 97.0, 100.0, 98.4, 98.2, 97.8, 99.4, 99.4, 98.6, 97.0, 97.2, 97.2, 99.6, 98.4]\n",
      "# ====================================================== #\n",
      "disc loss 0.5239900350570679 gen loss 0.8243546485900879\n",
      "disc loss 0.38067328929901123 gen loss 0.8619192242622375\n"
     ]
    },
    {
     "name": "stderr",
     "output_type": "stream",
     "text": [
      "C:\\Users\\canal\\AppData\\Roaming\\Python\\Python38\\site-packages\\numpy\\lib\\function_base.py:2642: RuntimeWarning: invalid value encountered in true_divide\n",
      "  c /= stddev[:, None]\n",
      "C:\\Users\\canal\\AppData\\Roaming\\Python\\Python38\\site-packages\\numpy\\lib\\function_base.py:2643: RuntimeWarning: invalid value encountered in true_divide\n",
      "  c /= stddev[None, :]\n"
     ]
    },
    {
     "name": "stdout",
     "output_type": "stream",
     "text": [
      "#========== evaluating for epoch 198 ==========#\n",
      ">>> MMD | abs(D_Entropy) | abs(D_Distance) | Pearson Corr \n",
      "0.3087 , 0.064126 , 0.019813 , nan\n",
      "# ================== Sampling 500 sequences at epoch 198 ================== #\n",
      "The loci with percentage of gap >= 95% in the cleaned MSA: \n",
      " [0, 1, 2, 78, 79, 153, 212, 228, 229, 231, 232, 233, 234, 235, 236]\n",
      "Their percentage gap are:\n",
      " [100.0, 98.8, 97.8, 100.0, 98.8, 96.8, 96.6, 99.8, 99.4, 98.4, 95.6, 97.6, 97.6, 99.4, 99.4]\n",
      "# ====================================================== #\n",
      "disc loss 0.6185715198516846 gen loss 0.7365885972976685\n",
      "disc loss 0.5371919870376587 gen loss 0.8870596885681152\n"
     ]
    },
    {
     "name": "stderr",
     "output_type": "stream",
     "text": [
      "C:\\Users\\canal\\AppData\\Roaming\\Python\\Python38\\site-packages\\numpy\\lib\\function_base.py:2642: RuntimeWarning: invalid value encountered in true_divide\n",
      "  c /= stddev[:, None]\n",
      "C:\\Users\\canal\\AppData\\Roaming\\Python\\Python38\\site-packages\\numpy\\lib\\function_base.py:2643: RuntimeWarning: invalid value encountered in true_divide\n",
      "  c /= stddev[None, :]\n"
     ]
    },
    {
     "name": "stdout",
     "output_type": "stream",
     "text": [
      "#========== evaluating for epoch 200 ==========#\n",
      ">>> MMD | abs(D_Entropy) | abs(D_Distance) | Pearson Corr \n",
      "0.31433 , 0.065308 , 0.032876 , nan\n",
      "# ================== Sampling 500 sequences at epoch 200 ================== #\n",
      "The loci with percentage of gap >= 95% in the cleaned MSA: \n",
      " [0, 1, 2, 78, 79, 153, 212, 228, 229, 231, 232, 233, 234, 235, 236]\n",
      "Their percentage gap are:\n",
      " [100.0, 99.4, 97.0, 100.0, 98.8, 97.4, 96.8, 99.4, 99.2, 99.6, 96.2, 98.2, 97.8, 99.2, 99.2]\n",
      "# ====================================================== #\n",
      "disc loss 0.8254358172416687 gen loss 0.8916783332824707\n",
      "disc loss 0.5875309109687805 gen loss 0.8404985666275024\n"
     ]
    },
    {
     "name": "stderr",
     "output_type": "stream",
     "text": [
      "C:\\Users\\canal\\AppData\\Roaming\\Python\\Python38\\site-packages\\numpy\\lib\\function_base.py:2642: RuntimeWarning: invalid value encountered in true_divide\n",
      "  c /= stddev[:, None]\n",
      "C:\\Users\\canal\\AppData\\Roaming\\Python\\Python38\\site-packages\\numpy\\lib\\function_base.py:2643: RuntimeWarning: invalid value encountered in true_divide\n",
      "  c /= stddev[None, :]\n"
     ]
    },
    {
     "name": "stdout",
     "output_type": "stream",
     "text": [
      "#========== evaluating for epoch 202 ==========#\n",
      ">>> MMD | abs(D_Entropy) | abs(D_Distance) | Pearson Corr \n",
      "0.31462 , 0.065584 , 0.033117 , nan\n",
      "# ================== Sampling 500 sequences at epoch 202 ================== #\n",
      "The loci with percentage of gap >= 95% in the cleaned MSA: \n",
      " [0, 1, 2, 78, 79, 153, 212, 228, 229, 231, 232, 233, 234, 235, 236]\n",
      "Their percentage gap are:\n",
      " [100.0, 99.2, 97.6, 100.0, 98.4, 97.2, 95.2, 99.6, 98.4, 98.6, 95.2, 98.4, 96.6, 99.4, 98.6]\n",
      "# ====================================================== #\n",
      "disc loss 0.7759627103805542 gen loss 0.8559919595718384\n",
      "disc loss 0.7620733380317688 gen loss 0.8255748748779297\n"
     ]
    },
    {
     "name": "stderr",
     "output_type": "stream",
     "text": [
      "C:\\Users\\canal\\AppData\\Roaming\\Python\\Python38\\site-packages\\numpy\\lib\\function_base.py:2642: RuntimeWarning: invalid value encountered in true_divide\n",
      "  c /= stddev[:, None]\n",
      "C:\\Users\\canal\\AppData\\Roaming\\Python\\Python38\\site-packages\\numpy\\lib\\function_base.py:2643: RuntimeWarning: invalid value encountered in true_divide\n",
      "  c /= stddev[None, :]\n"
     ]
    },
    {
     "name": "stdout",
     "output_type": "stream",
     "text": [
      "#========== evaluating for epoch 204 ==========#\n",
      ">>> MMD | abs(D_Entropy) | abs(D_Distance) | Pearson Corr \n",
      "0.31982 , 0.066065 , 0.056718 , nan\n",
      "# ================== Sampling 500 sequences at epoch 204 ================== #\n",
      "The loci with percentage of gap >= 95% in the cleaned MSA: \n",
      " [0, 1, 2, 78, 79, 153, 212, 228, 229, 231, 233, 234, 235, 236]\n",
      "Their percentage gap are:\n",
      " [100.0, 99.0, 97.4, 100.0, 96.4, 95.0, 96.0, 99.4, 99.4, 98.6, 97.4, 96.6, 99.2, 99.0]\n",
      "# ====================================================== #\n",
      "disc loss 0.4331762194633484 gen loss 0.8623043298721313\n",
      "disc loss 0.6298184990882874 gen loss 0.7509812712669373\n"
     ]
    },
    {
     "name": "stderr",
     "output_type": "stream",
     "text": [
      "C:\\Users\\canal\\AppData\\Roaming\\Python\\Python38\\site-packages\\numpy\\lib\\function_base.py:2642: RuntimeWarning: invalid value encountered in true_divide\n",
      "  c /= stddev[:, None]\n",
      "C:\\Users\\canal\\AppData\\Roaming\\Python\\Python38\\site-packages\\numpy\\lib\\function_base.py:2643: RuntimeWarning: invalid value encountered in true_divide\n",
      "  c /= stddev[None, :]\n"
     ]
    },
    {
     "name": "stdout",
     "output_type": "stream",
     "text": [
      "#========== evaluating for epoch 206 ==========#\n",
      ">>> MMD | abs(D_Entropy) | abs(D_Distance) | Pearson Corr \n",
      "0.31805 , 0.064033 , 0.045473 , nan\n",
      "# ================== Sampling 500 sequences at epoch 206 ================== #\n",
      "The loci with percentage of gap >= 95% in the cleaned MSA: \n",
      " [0, 1, 2, 78, 79, 212, 228, 229, 231, 233, 234, 235, 236]\n",
      "Their percentage gap are:\n",
      " [99.8, 99.4, 97.4, 100.0, 97.8, 96.2, 99.2, 99.6, 98.2, 97.8, 97.6, 99.0, 99.6]\n",
      "# ====================================================== #\n",
      "disc loss 0.7164446711540222 gen loss 0.8458575010299683\n",
      "disc loss 0.6673266887664795 gen loss 0.7541466355323792\n"
     ]
    },
    {
     "name": "stderr",
     "output_type": "stream",
     "text": [
      "C:\\Users\\canal\\AppData\\Roaming\\Python\\Python38\\site-packages\\numpy\\lib\\function_base.py:2642: RuntimeWarning: invalid value encountered in true_divide\n",
      "  c /= stddev[:, None]\n",
      "C:\\Users\\canal\\AppData\\Roaming\\Python\\Python38\\site-packages\\numpy\\lib\\function_base.py:2643: RuntimeWarning: invalid value encountered in true_divide\n",
      "  c /= stddev[None, :]\n"
     ]
    },
    {
     "name": "stdout",
     "output_type": "stream",
     "text": [
      "#========== evaluating for epoch 208 ==========#\n",
      ">>> MMD | abs(D_Entropy) | abs(D_Distance) | Pearson Corr \n",
      "0.31975 , 0.064986 , 0.058298 , nan\n",
      "# ================== Sampling 500 sequences at epoch 208 ================== #\n",
      "The loci with percentage of gap >= 95% in the cleaned MSA: \n",
      " [0, 1, 2, 78, 79, 228, 229, 231, 233, 234, 235, 236]\n",
      "Their percentage gap are:\n",
      " [100.0, 99.8, 96.6, 100.0, 97.6, 99.4, 98.8, 98.0, 98.4, 97.6, 99.4, 98.6]\n",
      "# ====================================================== #\n",
      "disc loss 0.6419146060943604 gen loss 0.8224997520446777\n",
      "disc loss 0.7802550792694092 gen loss 0.7706912159919739\n"
     ]
    },
    {
     "name": "stderr",
     "output_type": "stream",
     "text": [
      "C:\\Users\\canal\\AppData\\Roaming\\Python\\Python38\\site-packages\\numpy\\lib\\function_base.py:2642: RuntimeWarning: invalid value encountered in true_divide\n",
      "  c /= stddev[:, None]\n",
      "C:\\Users\\canal\\AppData\\Roaming\\Python\\Python38\\site-packages\\numpy\\lib\\function_base.py:2643: RuntimeWarning: invalid value encountered in true_divide\n",
      "  c /= stddev[None, :]\n"
     ]
    },
    {
     "name": "stdout",
     "output_type": "stream",
     "text": [
      "#========== evaluating for epoch 210 ==========#\n",
      ">>> MMD | abs(D_Entropy) | abs(D_Distance) | Pearson Corr \n",
      "0.33019 , 0.065966 , 0.075509 , nan\n",
      "# ================== Sampling 500 sequences at epoch 210 ================== #\n",
      "The loci with percentage of gap >= 95% in the cleaned MSA: \n",
      " [0, 1, 2, 78, 79, 228, 229, 231, 233, 234, 235, 236]\n",
      "Their percentage gap are:\n",
      " [100.0, 98.2, 95.8, 100.0, 98.0, 99.8, 98.8, 98.2, 97.6, 96.2, 98.8, 98.0]\n",
      "# ====================================================== #\n",
      "disc loss 0.572160005569458 gen loss 0.9234670400619507\n",
      "disc loss 0.5880151391029358 gen loss 0.94988614320755\n"
     ]
    },
    {
     "name": "stderr",
     "output_type": "stream",
     "text": [
      "C:\\Users\\canal\\AppData\\Roaming\\Python\\Python38\\site-packages\\numpy\\lib\\function_base.py:2642: RuntimeWarning: invalid value encountered in true_divide\n",
      "  c /= stddev[:, None]\n",
      "C:\\Users\\canal\\AppData\\Roaming\\Python\\Python38\\site-packages\\numpy\\lib\\function_base.py:2643: RuntimeWarning: invalid value encountered in true_divide\n",
      "  c /= stddev[None, :]\n"
     ]
    },
    {
     "name": "stdout",
     "output_type": "stream",
     "text": [
      "#========== evaluating for epoch 212 ==========#\n",
      ">>> MMD | abs(D_Entropy) | abs(D_Distance) | Pearson Corr \n",
      "0.33046 , 0.06559 , 0.072833 , nan\n",
      "# ================== Sampling 500 sequences at epoch 212 ================== #\n",
      "The loci with percentage of gap >= 95% in the cleaned MSA: \n",
      " [0, 1, 2, 78, 79, 228, 229, 231, 233, 235, 236]\n",
      "Their percentage gap are:\n",
      " [100.0, 99.4, 98.2, 100.0, 95.4, 99.8, 98.6, 97.6, 97.8, 99.0, 99.0]\n",
      "# ====================================================== #\n",
      "disc loss 0.6638222932815552 gen loss 0.8798058032989502\n",
      "disc loss 0.544564425945282 gen loss 0.8459352254867554\n"
     ]
    },
    {
     "name": "stderr",
     "output_type": "stream",
     "text": [
      "C:\\Users\\canal\\AppData\\Roaming\\Python\\Python38\\site-packages\\numpy\\lib\\function_base.py:2642: RuntimeWarning: invalid value encountered in true_divide\n",
      "  c /= stddev[:, None]\n",
      "C:\\Users\\canal\\AppData\\Roaming\\Python\\Python38\\site-packages\\numpy\\lib\\function_base.py:2643: RuntimeWarning: invalid value encountered in true_divide\n",
      "  c /= stddev[None, :]\n"
     ]
    },
    {
     "name": "stdout",
     "output_type": "stream",
     "text": [
      "#========== evaluating for epoch 214 ==========#\n",
      ">>> MMD | abs(D_Entropy) | abs(D_Distance) | Pearson Corr \n",
      "0.33212 , 0.065335 , 0.08598 , nan\n",
      "# ================== Sampling 500 sequences at epoch 214 ================== #\n",
      "The loci with percentage of gap >= 95% in the cleaned MSA: \n",
      " [0, 1, 2, 78, 79, 228, 229, 231, 233, 234, 235, 236]\n",
      "Their percentage gap are:\n",
      " [100.0, 98.8, 96.8, 100.0, 96.8, 99.4, 98.2, 96.8, 97.8, 96.2, 99.8, 99.0]\n",
      "# ====================================================== #\n",
      "disc loss 0.5613792538642883 gen loss 0.9039320349693298\n",
      "disc loss 0.6739675998687744 gen loss 0.8785669803619385\n"
     ]
    },
    {
     "name": "stderr",
     "output_type": "stream",
     "text": [
      "C:\\Users\\canal\\AppData\\Roaming\\Python\\Python38\\site-packages\\numpy\\lib\\function_base.py:2642: RuntimeWarning: invalid value encountered in true_divide\n",
      "  c /= stddev[:, None]\n",
      "C:\\Users\\canal\\AppData\\Roaming\\Python\\Python38\\site-packages\\numpy\\lib\\function_base.py:2643: RuntimeWarning: invalid value encountered in true_divide\n",
      "  c /= stddev[None, :]\n"
     ]
    },
    {
     "name": "stdout",
     "output_type": "stream",
     "text": [
      "#========== evaluating for epoch 216 ==========#\n",
      ">>> MMD | abs(D_Entropy) | abs(D_Distance) | Pearson Corr \n",
      "0.3328 , 0.065018 , 0.093999 , nan\n",
      "# ================== Sampling 500 sequences at epoch 216 ================== #\n",
      "The loci with percentage of gap >= 95% in the cleaned MSA: \n",
      " [0, 1, 2, 78, 79, 228, 229, 231, 233, 234, 235, 236]\n",
      "Their percentage gap are:\n",
      " [99.6, 98.2, 97.0, 100.0, 95.6, 98.8, 98.0, 98.0, 96.4, 96.8, 98.2, 98.8]\n",
      "# ====================================================== #\n",
      "disc loss 0.6610333919525146 gen loss 0.7702255249023438\n",
      "disc loss 0.7627125382423401 gen loss 0.8963886499404907\n"
     ]
    },
    {
     "name": "stderr",
     "output_type": "stream",
     "text": [
      "C:\\Users\\canal\\AppData\\Roaming\\Python\\Python38\\site-packages\\numpy\\lib\\function_base.py:2642: RuntimeWarning: invalid value encountered in true_divide\n",
      "  c /= stddev[:, None]\n",
      "C:\\Users\\canal\\AppData\\Roaming\\Python\\Python38\\site-packages\\numpy\\lib\\function_base.py:2643: RuntimeWarning: invalid value encountered in true_divide\n",
      "  c /= stddev[None, :]\n"
     ]
    },
    {
     "name": "stdout",
     "output_type": "stream",
     "text": [
      "#========== evaluating for epoch 218 ==========#\n",
      ">>> MMD | abs(D_Entropy) | abs(D_Distance) | Pearson Corr \n",
      "0.33926 , 0.065481 , 0.10463 , nan\n",
      "# ================== Sampling 500 sequences at epoch 218 ================== #\n",
      "The loci with percentage of gap >= 95% in the cleaned MSA: \n",
      " [0, 1, 2, 78, 79, 228, 229, 231, 233, 234, 235, 236]\n",
      "Their percentage gap are:\n",
      " [100.0, 97.4, 97.2, 100.0, 96.4, 99.2, 99.6, 98.0, 97.2, 95.6, 98.4, 97.4]\n",
      "# ====================================================== #\n",
      "disc loss 0.8344714641571045 gen loss 0.8811134099960327\n",
      "disc loss 0.6283355355262756 gen loss 0.8549025058746338\n"
     ]
    },
    {
     "name": "stderr",
     "output_type": "stream",
     "text": [
      "C:\\Users\\canal\\AppData\\Roaming\\Python\\Python38\\site-packages\\numpy\\lib\\function_base.py:2642: RuntimeWarning: invalid value encountered in true_divide\n",
      "  c /= stddev[:, None]\n",
      "C:\\Users\\canal\\AppData\\Roaming\\Python\\Python38\\site-packages\\numpy\\lib\\function_base.py:2643: RuntimeWarning: invalid value encountered in true_divide\n",
      "  c /= stddev[None, :]\n"
     ]
    },
    {
     "name": "stdout",
     "output_type": "stream",
     "text": [
      "#========== evaluating for epoch 220 ==========#\n",
      ">>> MMD | abs(D_Entropy) | abs(D_Distance) | Pearson Corr \n",
      "0.33099 , 0.064183 , 0.091751 , nan\n",
      "# ================== Sampling 500 sequences at epoch 220 ================== #\n",
      "The loci with percentage of gap >= 95% in the cleaned MSA: \n",
      " [0, 1, 2, 78, 228, 229, 231, 233, 234, 235, 236]\n",
      "Their percentage gap are:\n",
      " [99.8, 97.2, 98.0, 100.0, 99.6, 99.0, 98.2, 97.2, 96.2, 99.0, 98.2]\n",
      "# ====================================================== #\n",
      "disc loss 0.6464923620223999 gen loss 0.8969594240188599\n",
      "disc loss 0.5166080594062805 gen loss 0.7952377796173096\n"
     ]
    },
    {
     "name": "stderr",
     "output_type": "stream",
     "text": [
      "C:\\Users\\canal\\AppData\\Roaming\\Python\\Python38\\site-packages\\numpy\\lib\\function_base.py:2642: RuntimeWarning: invalid value encountered in true_divide\n",
      "  c /= stddev[:, None]\n",
      "C:\\Users\\canal\\AppData\\Roaming\\Python\\Python38\\site-packages\\numpy\\lib\\function_base.py:2643: RuntimeWarning: invalid value encountered in true_divide\n",
      "  c /= stddev[None, :]\n"
     ]
    },
    {
     "name": "stdout",
     "output_type": "stream",
     "text": [
      "#========== evaluating for epoch 222 ==========#\n",
      ">>> MMD | abs(D_Entropy) | abs(D_Distance) | Pearson Corr \n",
      "0.33331 , 0.064399 , 0.1029 , nan\n",
      "# ================== Sampling 500 sequences at epoch 222 ================== #\n",
      "The loci with percentage of gap >= 95% in the cleaned MSA: \n",
      " [0, 1, 2, 78, 228, 229, 231, 233, 235, 236]\n",
      "Their percentage gap are:\n",
      " [99.8, 98.4, 97.0, 100.0, 99.4, 98.8, 98.0, 99.4, 99.0, 99.4]\n",
      "# ====================================================== #\n",
      "disc loss 0.5608099699020386 gen loss 0.7686723470687866\n",
      "disc loss 0.7283079624176025 gen loss 0.7477004528045654\n"
     ]
    },
    {
     "name": "stderr",
     "output_type": "stream",
     "text": [
      "C:\\Users\\canal\\AppData\\Roaming\\Python\\Python38\\site-packages\\numpy\\lib\\function_base.py:2642: RuntimeWarning: invalid value encountered in true_divide\n",
      "  c /= stddev[:, None]\n",
      "C:\\Users\\canal\\AppData\\Roaming\\Python\\Python38\\site-packages\\numpy\\lib\\function_base.py:2643: RuntimeWarning: invalid value encountered in true_divide\n",
      "  c /= stddev[None, :]\n"
     ]
    },
    {
     "name": "stdout",
     "output_type": "stream",
     "text": [
      "#========== evaluating for epoch 224 ==========#\n",
      ">>> MMD | abs(D_Entropy) | abs(D_Distance) | Pearson Corr \n",
      "0.33768 , 0.065945 , 0.11152 , nan\n",
      "# ================== Sampling 500 sequences at epoch 224 ================== #\n",
      "The loci with percentage of gap >= 95% in the cleaned MSA: \n",
      " [0, 1, 2, 78, 79, 228, 229, 231, 233, 234, 235, 236]\n",
      "Their percentage gap are:\n",
      " [99.8, 98.2, 96.4, 100.0, 95.8, 99.4, 98.2, 98.4, 97.0, 96.2, 99.4, 98.8]\n",
      "# ====================================================== #\n",
      "disc loss 0.5160106420516968 gen loss 0.9310976266860962\n",
      "disc loss 0.6665112972259521 gen loss 0.7818446159362793\n"
     ]
    },
    {
     "name": "stderr",
     "output_type": "stream",
     "text": [
      "C:\\Users\\canal\\AppData\\Roaming\\Python\\Python38\\site-packages\\numpy\\lib\\function_base.py:2642: RuntimeWarning: invalid value encountered in true_divide\n",
      "  c /= stddev[:, None]\n",
      "C:\\Users\\canal\\AppData\\Roaming\\Python\\Python38\\site-packages\\numpy\\lib\\function_base.py:2643: RuntimeWarning: invalid value encountered in true_divide\n",
      "  c /= stddev[None, :]\n"
     ]
    },
    {
     "name": "stdout",
     "output_type": "stream",
     "text": [
      "#========== evaluating for epoch 226 ==========#\n",
      ">>> MMD | abs(D_Entropy) | abs(D_Distance) | Pearson Corr \n",
      "0.33851 , 0.066963 , 0.1165 , nan\n",
      "# ================== Sampling 500 sequences at epoch 226 ================== #\n",
      "The loci with percentage of gap >= 95% in the cleaned MSA: \n",
      " [0, 1, 2, 78, 228, 229, 231, 233, 235, 236]\n",
      "Their percentage gap are:\n",
      " [99.8, 97.2, 97.8, 100.0, 99.6, 99.4, 98.2, 98.8, 98.4, 97.8]\n",
      "# ====================================================== #\n",
      "disc loss 0.723646879196167 gen loss 0.7974711060523987\n",
      "disc loss 0.6238115429878235 gen loss 0.9025856256484985\n"
     ]
    },
    {
     "name": "stderr",
     "output_type": "stream",
     "text": [
      "C:\\Users\\canal\\AppData\\Roaming\\Python\\Python38\\site-packages\\numpy\\lib\\function_base.py:2642: RuntimeWarning: invalid value encountered in true_divide\n",
      "  c /= stddev[:, None]\n",
      "C:\\Users\\canal\\AppData\\Roaming\\Python\\Python38\\site-packages\\numpy\\lib\\function_base.py:2643: RuntimeWarning: invalid value encountered in true_divide\n",
      "  c /= stddev[None, :]\n"
     ]
    },
    {
     "name": "stdout",
     "output_type": "stream",
     "text": [
      "#========== evaluating for epoch 228 ==========#\n",
      ">>> MMD | abs(D_Entropy) | abs(D_Distance) | Pearson Corr \n",
      "0.34254 , 0.06529 , 0.10616 , nan\n",
      "# ================== Sampling 500 sequences at epoch 228 ================== #\n",
      "The loci with percentage of gap >= 95% in the cleaned MSA: \n",
      " [0, 1, 2, 78, 228, 229, 231, 233, 235, 236]\n",
      "Their percentage gap are:\n",
      " [100.0, 97.8, 98.0, 100.0, 98.2, 99.0, 97.8, 98.2, 98.6, 98.4]\n",
      "# ====================================================== #\n",
      "disc loss 0.629888653755188 gen loss 0.7744717597961426\n",
      "disc loss 0.7384531497955322 gen loss 0.7052844166755676\n"
     ]
    },
    {
     "name": "stderr",
     "output_type": "stream",
     "text": [
      "C:\\Users\\canal\\AppData\\Roaming\\Python\\Python38\\site-packages\\numpy\\lib\\function_base.py:2642: RuntimeWarning: invalid value encountered in true_divide\n",
      "  c /= stddev[:, None]\n",
      "C:\\Users\\canal\\AppData\\Roaming\\Python\\Python38\\site-packages\\numpy\\lib\\function_base.py:2643: RuntimeWarning: invalid value encountered in true_divide\n",
      "  c /= stddev[None, :]\n"
     ]
    },
    {
     "name": "stdout",
     "output_type": "stream",
     "text": [
      "#========== evaluating for epoch 230 ==========#\n",
      ">>> MMD | abs(D_Entropy) | abs(D_Distance) | Pearson Corr \n",
      "0.33999 , 0.065692 , 0.11759 , nan\n",
      "# ================== Sampling 500 sequences at epoch 230 ================== #\n",
      "The loci with percentage of gap >= 95% in the cleaned MSA: \n",
      " [0, 1, 2, 78, 228, 229, 231, 233, 235, 236]\n",
      "Their percentage gap are:\n",
      " [99.6, 98.4, 98.0, 100.0, 99.4, 98.4, 98.4, 98.2, 98.6, 99.2]\n",
      "# ====================================================== #\n",
      "disc loss 0.7567065358161926 gen loss 0.934277355670929\n",
      "disc loss 0.7181782722473145 gen loss 0.8758732676506042\n"
     ]
    },
    {
     "name": "stderr",
     "output_type": "stream",
     "text": [
      "C:\\Users\\canal\\AppData\\Roaming\\Python\\Python38\\site-packages\\numpy\\lib\\function_base.py:2642: RuntimeWarning: invalid value encountered in true_divide\n",
      "  c /= stddev[:, None]\n",
      "C:\\Users\\canal\\AppData\\Roaming\\Python\\Python38\\site-packages\\numpy\\lib\\function_base.py:2643: RuntimeWarning: invalid value encountered in true_divide\n",
      "  c /= stddev[None, :]\n"
     ]
    },
    {
     "name": "stdout",
     "output_type": "stream",
     "text": [
      "#========== evaluating for epoch 232 ==========#\n",
      ">>> MMD | abs(D_Entropy) | abs(D_Distance) | Pearson Corr \n",
      "0.3395 , 0.065516 , 0.11571 , nan\n",
      "# ================== Sampling 500 sequences at epoch 232 ================== #\n",
      "The loci with percentage of gap >= 95% in the cleaned MSA: \n",
      " [0, 1, 2, 78, 228, 229, 231, 233, 235, 236]\n",
      "Their percentage gap are:\n",
      " [99.8, 97.6, 98.2, 100.0, 99.4, 98.8, 97.4, 98.4, 99.0, 99.0]\n",
      "# ====================================================== #\n",
      "disc loss 0.6443876028060913 gen loss 0.798180878162384\n",
      "disc loss 0.7232255935668945 gen loss 0.7694091796875\n"
     ]
    },
    {
     "name": "stderr",
     "output_type": "stream",
     "text": [
      "C:\\Users\\canal\\AppData\\Roaming\\Python\\Python38\\site-packages\\numpy\\lib\\function_base.py:2642: RuntimeWarning: invalid value encountered in true_divide\n",
      "  c /= stddev[:, None]\n",
      "C:\\Users\\canal\\AppData\\Roaming\\Python\\Python38\\site-packages\\numpy\\lib\\function_base.py:2643: RuntimeWarning: invalid value encountered in true_divide\n",
      "  c /= stddev[None, :]\n"
     ]
    },
    {
     "name": "stdout",
     "output_type": "stream",
     "text": [
      "#========== evaluating for epoch 234 ==========#\n",
      ">>> MMD | abs(D_Entropy) | abs(D_Distance) | Pearson Corr \n",
      "0.34439 , 0.066388 , 0.11547 , nan\n",
      "# ================== Sampling 500 sequences at epoch 234 ================== #\n",
      "The loci with percentage of gap >= 95% in the cleaned MSA: \n",
      " [0, 1, 2, 78, 228, 229, 231, 233, 235, 236]\n",
      "Their percentage gap are:\n",
      " [100.0, 97.2, 97.8, 100.0, 98.6, 98.4, 98.2, 98.2, 99.0, 98.6]\n",
      "# ====================================================== #\n",
      "disc loss 0.5671082735061646 gen loss 0.8343800902366638\n",
      "disc loss 0.8627575635910034 gen loss 0.6917731761932373\n"
     ]
    },
    {
     "name": "stderr",
     "output_type": "stream",
     "text": [
      "C:\\Users\\canal\\AppData\\Roaming\\Python\\Python38\\site-packages\\numpy\\lib\\function_base.py:2642: RuntimeWarning: invalid value encountered in true_divide\n",
      "  c /= stddev[:, None]\n",
      "C:\\Users\\canal\\AppData\\Roaming\\Python\\Python38\\site-packages\\numpy\\lib\\function_base.py:2643: RuntimeWarning: invalid value encountered in true_divide\n",
      "  c /= stddev[None, :]\n"
     ]
    },
    {
     "name": "stdout",
     "output_type": "stream",
     "text": [
      "#========== evaluating for epoch 236 ==========#\n",
      ">>> MMD | abs(D_Entropy) | abs(D_Distance) | Pearson Corr \n",
      "0.34013 , 0.066689 , 0.1052 , nan\n",
      "# ================== Sampling 500 sequences at epoch 236 ================== #\n",
      "The loci with percentage of gap >= 95% in the cleaned MSA: \n",
      " [0, 1, 2, 78, 228, 229, 231, 233, 235, 236]\n",
      "Their percentage gap are:\n",
      " [100.0, 99.2, 98.0, 99.8, 98.4, 99.0, 97.4, 98.0, 97.8, 97.4]\n",
      "# ====================================================== #\n",
      "disc loss 0.4971456825733185 gen loss 0.9012798070907593\n",
      "disc loss 0.9562681317329407 gen loss 0.8364391326904297\n"
     ]
    },
    {
     "name": "stderr",
     "output_type": "stream",
     "text": [
      "C:\\Users\\canal\\AppData\\Roaming\\Python\\Python38\\site-packages\\numpy\\lib\\function_base.py:2642: RuntimeWarning: invalid value encountered in true_divide\n",
      "  c /= stddev[:, None]\n",
      "C:\\Users\\canal\\AppData\\Roaming\\Python\\Python38\\site-packages\\numpy\\lib\\function_base.py:2643: RuntimeWarning: invalid value encountered in true_divide\n",
      "  c /= stddev[None, :]\n"
     ]
    },
    {
     "name": "stdout",
     "output_type": "stream",
     "text": [
      "#========== evaluating for epoch 238 ==========#\n",
      ">>> MMD | abs(D_Entropy) | abs(D_Distance) | Pearson Corr \n",
      "0.34529 , 0.066447 , 0.1297 , nan\n",
      "# ================== Sampling 500 sequences at epoch 238 ================== #\n",
      "The loci with percentage of gap >= 95% in the cleaned MSA: \n",
      " [0, 1, 2, 78, 228, 229, 231, 233, 235, 236]\n",
      "Their percentage gap are:\n",
      " [99.8, 98.6, 96.8, 99.8, 98.4, 99.6, 98.0, 98.2, 99.2, 98.2]\n",
      "# ====================================================== #\n",
      "disc loss 0.7307332754135132 gen loss 0.8340264558792114\n",
      "disc loss 0.6453432440757751 gen loss 0.7874264717102051\n"
     ]
    },
    {
     "name": "stderr",
     "output_type": "stream",
     "text": [
      "C:\\Users\\canal\\AppData\\Roaming\\Python\\Python38\\site-packages\\numpy\\lib\\function_base.py:2642: RuntimeWarning: invalid value encountered in true_divide\n",
      "  c /= stddev[:, None]\n",
      "C:\\Users\\canal\\AppData\\Roaming\\Python\\Python38\\site-packages\\numpy\\lib\\function_base.py:2643: RuntimeWarning: invalid value encountered in true_divide\n",
      "  c /= stddev[None, :]\n"
     ]
    },
    {
     "name": "stdout",
     "output_type": "stream",
     "text": [
      "#========== evaluating for epoch 240 ==========#\n",
      ">>> MMD | abs(D_Entropy) | abs(D_Distance) | Pearson Corr \n",
      "0.33914 , 0.065148 , 0.11669 , nan\n",
      "# ================== Sampling 500 sequences at epoch 240 ================== #\n",
      "The loci with percentage of gap >= 95% in the cleaned MSA: \n",
      " [0, 1, 2, 78, 228, 229, 231, 233, 235, 236]\n",
      "Their percentage gap are:\n",
      " [100.0, 98.6, 98.4, 100.0, 98.2, 98.8, 97.6, 98.4, 99.0, 99.0]\n",
      "# ====================================================== #\n",
      "disc loss 0.7232066988945007 gen loss 0.8189040422439575\n",
      "disc loss 0.7417552471160889 gen loss 0.7809097766876221\n"
     ]
    },
    {
     "name": "stderr",
     "output_type": "stream",
     "text": [
      "C:\\Users\\canal\\AppData\\Roaming\\Python\\Python38\\site-packages\\numpy\\lib\\function_base.py:2642: RuntimeWarning: invalid value encountered in true_divide\n",
      "  c /= stddev[:, None]\n",
      "C:\\Users\\canal\\AppData\\Roaming\\Python\\Python38\\site-packages\\numpy\\lib\\function_base.py:2643: RuntimeWarning: invalid value encountered in true_divide\n",
      "  c /= stddev[None, :]\n"
     ]
    },
    {
     "name": "stdout",
     "output_type": "stream",
     "text": [
      "#========== evaluating for epoch 242 ==========#\n",
      ">>> MMD | abs(D_Entropy) | abs(D_Distance) | Pearson Corr \n",
      "0.33662 , 0.066325 , 0.11313 , nan\n",
      "# ================== Sampling 500 sequences at epoch 242 ================== #\n",
      "The loci with percentage of gap >= 95% in the cleaned MSA: \n",
      " [0, 1, 2, 78, 228, 229, 231, 233, 235, 236]\n",
      "Their percentage gap are:\n",
      " [99.6, 97.2, 98.0, 99.8, 98.2, 98.2, 98.4, 97.8, 99.6, 99.2]\n",
      "# ====================================================== #\n",
      "disc loss 0.7910662889480591 gen loss 0.6776679754257202\n",
      "disc loss 0.6530788540840149 gen loss 0.8292006850242615\n"
     ]
    },
    {
     "name": "stderr",
     "output_type": "stream",
     "text": [
      "C:\\Users\\canal\\AppData\\Roaming\\Python\\Python38\\site-packages\\numpy\\lib\\function_base.py:2642: RuntimeWarning: invalid value encountered in true_divide\n",
      "  c /= stddev[:, None]\n",
      "C:\\Users\\canal\\AppData\\Roaming\\Python\\Python38\\site-packages\\numpy\\lib\\function_base.py:2643: RuntimeWarning: invalid value encountered in true_divide\n",
      "  c /= stddev[None, :]\n"
     ]
    },
    {
     "name": "stdout",
     "output_type": "stream",
     "text": [
      "#========== evaluating for epoch 244 ==========#\n",
      ">>> MMD | abs(D_Entropy) | abs(D_Distance) | Pearson Corr \n",
      "0.33985 , 0.066263 , 0.10429 , nan\n",
      "# ================== Sampling 500 sequences at epoch 244 ================== #\n",
      "The loci with percentage of gap >= 95% in the cleaned MSA: \n",
      " [0, 1, 2, 78, 228, 229, 231, 233, 235, 236]\n",
      "Their percentage gap are:\n",
      " [100.0, 97.8, 98.2, 99.8, 99.0, 99.4, 99.2, 98.8, 98.2, 98.2]\n",
      "# ====================================================== #\n",
      "disc loss 0.6063743829727173 gen loss 0.8408749103546143\n",
      "disc loss 0.5811223983764648 gen loss 0.8202331066131592\n"
     ]
    },
    {
     "name": "stderr",
     "output_type": "stream",
     "text": [
      "C:\\Users\\canal\\AppData\\Roaming\\Python\\Python38\\site-packages\\numpy\\lib\\function_base.py:2642: RuntimeWarning: invalid value encountered in true_divide\n",
      "  c /= stddev[:, None]\n",
      "C:\\Users\\canal\\AppData\\Roaming\\Python\\Python38\\site-packages\\numpy\\lib\\function_base.py:2643: RuntimeWarning: invalid value encountered in true_divide\n",
      "  c /= stddev[None, :]\n"
     ]
    },
    {
     "name": "stdout",
     "output_type": "stream",
     "text": [
      "#========== evaluating for epoch 246 ==========#\n",
      ">>> MMD | abs(D_Entropy) | abs(D_Distance) | Pearson Corr \n",
      "0.34273 , 0.06653 , 0.11167 , nan\n",
      "# ================== Sampling 500 sequences at epoch 246 ================== #\n",
      "The loci with percentage of gap >= 95% in the cleaned MSA: \n",
      " [0, 1, 2, 78, 228, 229, 231, 233, 235, 236]\n",
      "Their percentage gap are:\n",
      " [99.8, 98.0, 98.6, 99.8, 98.0, 99.4, 97.4, 98.8, 98.8, 98.2]\n",
      "# ====================================================== #\n",
      "disc loss 0.5573834180831909 gen loss 0.7578898668289185\n",
      "disc loss 0.7062805891036987 gen loss 0.7509579658508301\n"
     ]
    },
    {
     "name": "stderr",
     "output_type": "stream",
     "text": [
      "C:\\Users\\canal\\AppData\\Roaming\\Python\\Python38\\site-packages\\numpy\\lib\\function_base.py:2642: RuntimeWarning: invalid value encountered in true_divide\n",
      "  c /= stddev[:, None]\n",
      "C:\\Users\\canal\\AppData\\Roaming\\Python\\Python38\\site-packages\\numpy\\lib\\function_base.py:2643: RuntimeWarning: invalid value encountered in true_divide\n",
      "  c /= stddev[None, :]\n"
     ]
    },
    {
     "name": "stdout",
     "output_type": "stream",
     "text": [
      "#========== evaluating for epoch 248 ==========#\n",
      ">>> MMD | abs(D_Entropy) | abs(D_Distance) | Pearson Corr \n",
      "0.33559 , 0.067581 , 0.1049 , nan\n",
      "# ================== Sampling 500 sequences at epoch 248 ================== #\n",
      "The loci with percentage of gap >= 95% in the cleaned MSA: \n",
      " [0, 1, 2, 78, 228, 229, 231, 233, 235, 236]\n",
      "Their percentage gap are:\n",
      " [100.0, 98.4, 97.8, 100.0, 98.6, 98.8, 99.4, 98.8, 99.2, 98.8]\n",
      "# ====================================================== #\n",
      "disc loss 0.6899584531784058 gen loss 0.7754727602005005\n",
      "disc loss 0.7183817625045776 gen loss 0.8211411237716675\n"
     ]
    },
    {
     "name": "stderr",
     "output_type": "stream",
     "text": [
      "C:\\Users\\canal\\AppData\\Roaming\\Python\\Python38\\site-packages\\numpy\\lib\\function_base.py:2642: RuntimeWarning: invalid value encountered in true_divide\n",
      "  c /= stddev[:, None]\n",
      "C:\\Users\\canal\\AppData\\Roaming\\Python\\Python38\\site-packages\\numpy\\lib\\function_base.py:2643: RuntimeWarning: invalid value encountered in true_divide\n",
      "  c /= stddev[None, :]\n"
     ]
    },
    {
     "name": "stdout",
     "output_type": "stream",
     "text": [
      "#========== evaluating for epoch 250 ==========#\n",
      ">>> MMD | abs(D_Entropy) | abs(D_Distance) | Pearson Corr \n",
      "0.33369 , 0.066362 , 0.089522 , nan\n",
      "# ================== Sampling 500 sequences at epoch 250 ================== #\n",
      "The loci with percentage of gap >= 95% in the cleaned MSA: \n",
      " [0, 1, 2, 78, 228, 229, 231, 233, 235, 236]\n",
      "Their percentage gap are:\n",
      " [99.8, 100.0, 97.2, 99.8, 99.0, 99.0, 99.0, 98.2, 99.2, 99.4]\n",
      "# ====================================================== #\n",
      "disc loss 0.6840859651565552 gen loss 0.8295236229896545\n",
      "disc loss 0.7919443845748901 gen loss 0.8208021521568298\n"
     ]
    },
    {
     "name": "stderr",
     "output_type": "stream",
     "text": [
      "C:\\Users\\canal\\AppData\\Roaming\\Python\\Python38\\site-packages\\numpy\\lib\\function_base.py:2642: RuntimeWarning: invalid value encountered in true_divide\n",
      "  c /= stddev[:, None]\n",
      "C:\\Users\\canal\\AppData\\Roaming\\Python\\Python38\\site-packages\\numpy\\lib\\function_base.py:2643: RuntimeWarning: invalid value encountered in true_divide\n",
      "  c /= stddev[None, :]\n"
     ]
    },
    {
     "name": "stdout",
     "output_type": "stream",
     "text": [
      "#========== evaluating for epoch 252 ==========#\n",
      ">>> MMD | abs(D_Entropy) | abs(D_Distance) | Pearson Corr \n",
      "0.33066 , 0.067979 , 0.091556 , nan\n",
      "# ================== Sampling 500 sequences at epoch 252 ================== #\n",
      "The loci with percentage of gap >= 95% in the cleaned MSA: \n",
      " [0, 1, 2, 78, 228, 229, 231, 233, 235, 236]\n",
      "Their percentage gap are:\n",
      " [99.8, 98.4, 99.2, 100.0, 99.2, 97.8, 98.6, 98.6, 98.4, 98.8]\n",
      "# ====================================================== #\n",
      "disc loss 0.6901421546936035 gen loss 0.7634238600730896\n",
      "disc loss 0.7711969614028931 gen loss 0.9752668142318726\n"
     ]
    },
    {
     "name": "stderr",
     "output_type": "stream",
     "text": [
      "C:\\Users\\canal\\AppData\\Roaming\\Python\\Python38\\site-packages\\numpy\\lib\\function_base.py:2642: RuntimeWarning: invalid value encountered in true_divide\n",
      "  c /= stddev[:, None]\n",
      "C:\\Users\\canal\\AppData\\Roaming\\Python\\Python38\\site-packages\\numpy\\lib\\function_base.py:2643: RuntimeWarning: invalid value encountered in true_divide\n",
      "  c /= stddev[None, :]\n"
     ]
    },
    {
     "name": "stdout",
     "output_type": "stream",
     "text": [
      "#========== evaluating for epoch 254 ==========#\n",
      ">>> MMD | abs(D_Entropy) | abs(D_Distance) | Pearson Corr \n",
      "0.32839 , 0.066849 , 0.080679 , nan\n",
      "# ================== Sampling 500 sequences at epoch 254 ================== #\n",
      "The loci with percentage of gap >= 95% in the cleaned MSA: \n",
      " [0, 1, 2, 78, 228, 229, 231, 233, 235, 236]\n",
      "Their percentage gap are:\n",
      " [100.0, 97.8, 98.4, 99.8, 98.4, 99.4, 98.4, 99.0, 98.6, 99.4]\n",
      "# ====================================================== #\n",
      "disc loss 0.614766538143158 gen loss 0.7706904411315918\n",
      "disc loss 0.6140073537826538 gen loss 0.8072121739387512\n"
     ]
    },
    {
     "name": "stderr",
     "output_type": "stream",
     "text": [
      "C:\\Users\\canal\\AppData\\Roaming\\Python\\Python38\\site-packages\\numpy\\lib\\function_base.py:2642: RuntimeWarning: invalid value encountered in true_divide\n",
      "  c /= stddev[:, None]\n",
      "C:\\Users\\canal\\AppData\\Roaming\\Python\\Python38\\site-packages\\numpy\\lib\\function_base.py:2643: RuntimeWarning: invalid value encountered in true_divide\n",
      "  c /= stddev[None, :]\n"
     ]
    },
    {
     "name": "stdout",
     "output_type": "stream",
     "text": [
      "#========== evaluating for epoch 256 ==========#\n",
      ">>> MMD | abs(D_Entropy) | abs(D_Distance) | Pearson Corr \n",
      "0.32935 , 0.066626 , 0.080437 , nan\n",
      "# ================== Sampling 500 sequences at epoch 256 ================== #\n",
      "The loci with percentage of gap >= 95% in the cleaned MSA: \n",
      " [0, 1, 2, 78, 228, 229, 231, 233, 235, 236]\n",
      "Their percentage gap are:\n",
      " [99.8, 99.2, 97.6, 100.0, 98.6, 99.2, 98.2, 98.8, 99.2, 98.4]\n",
      "# ====================================================== #\n",
      "disc loss 0.7014559507369995 gen loss 0.7043436169624329\n",
      "disc loss 0.8857543468475342 gen loss 0.8218246698379517\n"
     ]
    },
    {
     "name": "stderr",
     "output_type": "stream",
     "text": [
      "C:\\Users\\canal\\AppData\\Roaming\\Python\\Python38\\site-packages\\numpy\\lib\\function_base.py:2642: RuntimeWarning: invalid value encountered in true_divide\n",
      "  c /= stddev[:, None]\n",
      "C:\\Users\\canal\\AppData\\Roaming\\Python\\Python38\\site-packages\\numpy\\lib\\function_base.py:2643: RuntimeWarning: invalid value encountered in true_divide\n",
      "  c /= stddev[None, :]\n"
     ]
    },
    {
     "name": "stdout",
     "output_type": "stream",
     "text": [
      "#========== evaluating for epoch 258 ==========#\n",
      ">>> MMD | abs(D_Entropy) | abs(D_Distance) | Pearson Corr \n",
      "0.32957 , 0.065888 , 0.078522 , nan\n",
      "# ================== Sampling 500 sequences at epoch 258 ================== #\n",
      "The loci with percentage of gap >= 95% in the cleaned MSA: \n",
      " [0, 1, 2, 78, 228, 229, 231, 233, 235, 236]\n",
      "Their percentage gap are:\n",
      " [100.0, 99.2, 98.0, 100.0, 98.0, 99.6, 98.8, 99.4, 99.4, 99.4]\n",
      "# ====================================================== #\n",
      "disc loss 0.6420495510101318 gen loss 0.7196488380432129\n",
      "disc loss 0.7746787667274475 gen loss 0.8063293695449829\n"
     ]
    },
    {
     "name": "stderr",
     "output_type": "stream",
     "text": [
      "C:\\Users\\canal\\AppData\\Roaming\\Python\\Python38\\site-packages\\numpy\\lib\\function_base.py:2642: RuntimeWarning: invalid value encountered in true_divide\n",
      "  c /= stddev[:, None]\n",
      "C:\\Users\\canal\\AppData\\Roaming\\Python\\Python38\\site-packages\\numpy\\lib\\function_base.py:2643: RuntimeWarning: invalid value encountered in true_divide\n",
      "  c /= stddev[None, :]\n"
     ]
    },
    {
     "name": "stdout",
     "output_type": "stream",
     "text": [
      "#========== evaluating for epoch 260 ==========#\n",
      ">>> MMD | abs(D_Entropy) | abs(D_Distance) | Pearson Corr \n",
      "0.32515 , 0.066195 , 0.064148 , nan\n",
      "# ================== Sampling 500 sequences at epoch 260 ================== #\n",
      "The loci with percentage of gap >= 95% in the cleaned MSA: \n",
      " [0, 1, 2, 78, 228, 229, 230, 231, 233, 235, 236]\n",
      "Their percentage gap are:\n",
      " [99.8, 99.0, 98.6, 100.0, 98.8, 98.2, 95.4, 99.4, 99.2, 98.8, 99.6]\n",
      "# ====================================================== #\n",
      "disc loss 0.7849617004394531 gen loss 0.857417106628418\n",
      "disc loss 0.637129008769989 gen loss 0.7059791088104248\n"
     ]
    },
    {
     "name": "stderr",
     "output_type": "stream",
     "text": [
      "C:\\Users\\canal\\AppData\\Roaming\\Python\\Python38\\site-packages\\numpy\\lib\\function_base.py:2642: RuntimeWarning: invalid value encountered in true_divide\n",
      "  c /= stddev[:, None]\n",
      "C:\\Users\\canal\\AppData\\Roaming\\Python\\Python38\\site-packages\\numpy\\lib\\function_base.py:2643: RuntimeWarning: invalid value encountered in true_divide\n",
      "  c /= stddev[None, :]\n"
     ]
    },
    {
     "name": "stdout",
     "output_type": "stream",
     "text": [
      "#========== evaluating for epoch 262 ==========#\n",
      ">>> MMD | abs(D_Entropy) | abs(D_Distance) | Pearson Corr \n",
      "0.31513 , 0.067034 , 0.045515 , nan\n",
      "# ================== Sampling 500 sequences at epoch 262 ================== #\n",
      "The loci with percentage of gap >= 95% in the cleaned MSA: \n",
      " [0, 1, 2, 3, 78, 228, 229, 230, 231, 233, 235, 236]\n",
      "Their percentage gap are:\n",
      " [99.0, 98.2, 98.2, 95.0, 99.6, 99.0, 98.6, 95.0, 99.4, 98.6, 99.6, 99.4]\n",
      "# ====================================================== #\n",
      "disc loss 0.780363917350769 gen loss 0.9315874576568604\n",
      "disc loss 0.6852608919143677 gen loss 0.7846713662147522\n"
     ]
    },
    {
     "name": "stderr",
     "output_type": "stream",
     "text": [
      "C:\\Users\\canal\\AppData\\Roaming\\Python\\Python38\\site-packages\\numpy\\lib\\function_base.py:2642: RuntimeWarning: invalid value encountered in true_divide\n",
      "  c /= stddev[:, None]\n",
      "C:\\Users\\canal\\AppData\\Roaming\\Python\\Python38\\site-packages\\numpy\\lib\\function_base.py:2643: RuntimeWarning: invalid value encountered in true_divide\n",
      "  c /= stddev[None, :]\n"
     ]
    },
    {
     "name": "stdout",
     "output_type": "stream",
     "text": [
      "#========== evaluating for epoch 264 ==========#\n",
      ">>> MMD | abs(D_Entropy) | abs(D_Distance) | Pearson Corr \n",
      "0.3227 , 0.066458 , 0.053639 , nan\n",
      "# ================== Sampling 500 sequences at epoch 264 ================== #\n",
      "The loci with percentage of gap >= 95% in the cleaned MSA: \n",
      " [0, 1, 2, 78, 228, 229, 231, 233, 235, 236]\n",
      "Their percentage gap are:\n",
      " [100.0, 99.8, 98.2, 100.0, 99.2, 99.4, 99.4, 98.6, 99.0, 98.0]\n",
      "# ====================================================== #\n",
      "disc loss 0.37087172269821167 gen loss 0.9314731359481812\n",
      "disc loss 0.6709765195846558 gen loss 0.7342125177383423\n"
     ]
    },
    {
     "name": "stderr",
     "output_type": "stream",
     "text": [
      "C:\\Users\\canal\\AppData\\Roaming\\Python\\Python38\\site-packages\\numpy\\lib\\function_base.py:2642: RuntimeWarning: invalid value encountered in true_divide\n",
      "  c /= stddev[:, None]\n",
      "C:\\Users\\canal\\AppData\\Roaming\\Python\\Python38\\site-packages\\numpy\\lib\\function_base.py:2643: RuntimeWarning: invalid value encountered in true_divide\n",
      "  c /= stddev[None, :]\n"
     ]
    },
    {
     "name": "stdout",
     "output_type": "stream",
     "text": [
      "#========== evaluating for epoch 266 ==========#\n",
      ">>> MMD | abs(D_Entropy) | abs(D_Distance) | Pearson Corr \n",
      "0.32315 , 0.065836 , 0.037877 , nan\n",
      "# ================== Sampling 500 sequences at epoch 266 ================== #\n",
      "The loci with percentage of gap >= 95% in the cleaned MSA: \n",
      " [0, 1, 2, 78, 228, 229, 230, 231, 233, 235, 236]\n",
      "Their percentage gap are:\n",
      " [99.8, 98.2, 97.8, 100.0, 98.0, 99.0, 95.0, 98.4, 97.8, 99.4, 98.8]\n",
      "# ====================================================== #\n",
      "disc loss 0.8412384986877441 gen loss 0.827899694442749\n",
      "disc loss 0.41426658630371094 gen loss 0.8949785232543945\n"
     ]
    },
    {
     "name": "stderr",
     "output_type": "stream",
     "text": [
      "C:\\Users\\canal\\AppData\\Roaming\\Python\\Python38\\site-packages\\numpy\\lib\\function_base.py:2642: RuntimeWarning: invalid value encountered in true_divide\n",
      "  c /= stddev[:, None]\n",
      "C:\\Users\\canal\\AppData\\Roaming\\Python\\Python38\\site-packages\\numpy\\lib\\function_base.py:2643: RuntimeWarning: invalid value encountered in true_divide\n",
      "  c /= stddev[None, :]\n"
     ]
    },
    {
     "name": "stdout",
     "output_type": "stream",
     "text": [
      "#========== evaluating for epoch 268 ==========#\n",
      ">>> MMD | abs(D_Entropy) | abs(D_Distance) | Pearson Corr \n",
      "0.32062 , 0.066381 , 0.044325 , nan\n",
      "# ================== Sampling 500 sequences at epoch 268 ================== #\n",
      "The loci with percentage of gap >= 95% in the cleaned MSA: \n",
      " [0, 1, 2, 78, 228, 229, 230, 231, 233, 235, 236]\n",
      "Their percentage gap are:\n",
      " [100.0, 99.6, 97.4, 99.8, 98.8, 99.0, 95.0, 98.4, 99.6, 98.6, 98.8]\n",
      "# ====================================================== #\n",
      "disc loss 0.6162914037704468 gen loss 0.7748134732246399\n",
      "disc loss 0.7766513824462891 gen loss 0.9386259317398071\n"
     ]
    },
    {
     "name": "stderr",
     "output_type": "stream",
     "text": [
      "C:\\Users\\canal\\AppData\\Roaming\\Python\\Python38\\site-packages\\numpy\\lib\\function_base.py:2642: RuntimeWarning: invalid value encountered in true_divide\n",
      "  c /= stddev[:, None]\n",
      "C:\\Users\\canal\\AppData\\Roaming\\Python\\Python38\\site-packages\\numpy\\lib\\function_base.py:2643: RuntimeWarning: invalid value encountered in true_divide\n",
      "  c /= stddev[None, :]\n"
     ]
    },
    {
     "name": "stdout",
     "output_type": "stream",
     "text": [
      "#========== evaluating for epoch 270 ==========#\n",
      ">>> MMD | abs(D_Entropy) | abs(D_Distance) | Pearson Corr \n",
      "0.317 , 0.06592 , 0.022911 , nan\n",
      "# ================== Sampling 500 sequences at epoch 270 ================== #\n",
      "The loci with percentage of gap >= 95% in the cleaned MSA: \n",
      " [0, 1, 2, 3, 78, 228, 229, 230, 231, 233, 235, 236]\n",
      "Their percentage gap are:\n",
      " [99.8, 99.2, 98.4, 96.4, 100.0, 98.4, 98.2, 96.4, 98.8, 99.6, 98.2, 99.0]\n",
      "# ====================================================== #\n",
      "disc loss 0.8180984258651733 gen loss 0.8323960304260254\n",
      "disc loss 0.6145687699317932 gen loss 0.8753339648246765\n"
     ]
    },
    {
     "name": "stderr",
     "output_type": "stream",
     "text": [
      "C:\\Users\\canal\\AppData\\Roaming\\Python\\Python38\\site-packages\\numpy\\lib\\function_base.py:2642: RuntimeWarning: invalid value encountered in true_divide\n",
      "  c /= stddev[:, None]\n",
      "C:\\Users\\canal\\AppData\\Roaming\\Python\\Python38\\site-packages\\numpy\\lib\\function_base.py:2643: RuntimeWarning: invalid value encountered in true_divide\n",
      "  c /= stddev[None, :]\n"
     ]
    },
    {
     "name": "stdout",
     "output_type": "stream",
     "text": [
      "#========== evaluating for epoch 272 ==========#\n",
      ">>> MMD | abs(D_Entropy) | abs(D_Distance) | Pearson Corr \n",
      "0.31343 , 0.06613 , 0.00017536 , nan\n",
      "# ================== Sampling 500 sequences at epoch 272 ================== #\n",
      "The loci with percentage of gap >= 95% in the cleaned MSA: \n",
      " [0, 1, 2, 3, 78, 154, 228, 229, 230, 231, 233, 235, 236]\n",
      "Their percentage gap are:\n",
      " [100.0, 98.4, 97.6, 96.8, 99.6, 95.0, 99.4, 98.8, 96.8, 98.8, 100.0, 99.8, 99.6]\n",
      "# ====================================================== #\n",
      "disc loss 0.7050605416297913 gen loss 0.906609296798706\n",
      "disc loss 0.7167487144470215 gen loss 0.7020872831344604\n"
     ]
    },
    {
     "name": "stderr",
     "output_type": "stream",
     "text": [
      "C:\\Users\\canal\\AppData\\Roaming\\Python\\Python38\\site-packages\\numpy\\lib\\function_base.py:2642: RuntimeWarning: invalid value encountered in true_divide\n",
      "  c /= stddev[:, None]\n",
      "C:\\Users\\canal\\AppData\\Roaming\\Python\\Python38\\site-packages\\numpy\\lib\\function_base.py:2643: RuntimeWarning: invalid value encountered in true_divide\n",
      "  c /= stddev[None, :]\n"
     ]
    },
    {
     "name": "stdout",
     "output_type": "stream",
     "text": [
      "#========== evaluating for epoch 274 ==========#\n",
      ">>> MMD | abs(D_Entropy) | abs(D_Distance) | Pearson Corr \n",
      "0.3153 , 0.066084 , 0.012558 , nan\n",
      "# ================== Sampling 500 sequences at epoch 274 ================== #\n",
      "The loci with percentage of gap >= 95% in the cleaned MSA: \n",
      " [0, 1, 2, 3, 78, 154, 228, 229, 230, 231, 233, 235, 236]\n",
      "Their percentage gap are:\n",
      " [100.0, 98.0, 97.6, 96.6, 99.8, 95.8, 99.6, 99.2, 96.6, 98.8, 99.8, 99.4, 98.8]\n",
      "# ====================================================== #\n",
      "disc loss 0.7407083511352539 gen loss 0.7821167707443237\n",
      "disc loss 0.9177140593528748 gen loss 0.8164556622505188\n"
     ]
    },
    {
     "name": "stderr",
     "output_type": "stream",
     "text": [
      "C:\\Users\\canal\\AppData\\Roaming\\Python\\Python38\\site-packages\\numpy\\lib\\function_base.py:2642: RuntimeWarning: invalid value encountered in true_divide\n",
      "  c /= stddev[:, None]\n",
      "C:\\Users\\canal\\AppData\\Roaming\\Python\\Python38\\site-packages\\numpy\\lib\\function_base.py:2643: RuntimeWarning: invalid value encountered in true_divide\n",
      "  c /= stddev[None, :]\n"
     ]
    },
    {
     "name": "stdout",
     "output_type": "stream",
     "text": [
      "#========== evaluating for epoch 276 ==========#\n",
      ">>> MMD | abs(D_Entropy) | abs(D_Distance) | Pearson Corr \n",
      "0.311 , 0.065692 , 0.0089213 , nan\n",
      "# ================== Sampling 500 sequences at epoch 276 ================== #\n",
      "The loci with percentage of gap >= 95% in the cleaned MSA: \n",
      " [0, 1, 2, 3, 78, 228, 229, 231, 233, 235, 236]\n",
      "Their percentage gap are:\n",
      " [99.8, 97.8, 99.0, 96.2, 99.8, 98.4, 98.2, 99.2, 99.4, 99.4, 98.4]\n",
      "# ====================================================== #\n",
      "disc loss 0.5098739862442017 gen loss 0.8143846392631531\n",
      "disc loss 0.793167769908905 gen loss 0.9817249774932861\n"
     ]
    },
    {
     "name": "stderr",
     "output_type": "stream",
     "text": [
      "C:\\Users\\canal\\AppData\\Roaming\\Python\\Python38\\site-packages\\numpy\\lib\\function_base.py:2642: RuntimeWarning: invalid value encountered in true_divide\n",
      "  c /= stddev[:, None]\n",
      "C:\\Users\\canal\\AppData\\Roaming\\Python\\Python38\\site-packages\\numpy\\lib\\function_base.py:2643: RuntimeWarning: invalid value encountered in true_divide\n",
      "  c /= stddev[None, :]\n"
     ]
    },
    {
     "name": "stdout",
     "output_type": "stream",
     "text": [
      "#========== evaluating for epoch 278 ==========#\n",
      ">>> MMD | abs(D_Entropy) | abs(D_Distance) | Pearson Corr \n",
      "0.31365 , 0.066555 , 0.00055146 , nan\n",
      "# ================== Sampling 500 sequences at epoch 278 ================== #\n",
      "The loci with percentage of gap >= 95% in the cleaned MSA: \n",
      " [0, 1, 2, 3, 78, 228, 229, 230, 231, 233, 235, 236]\n",
      "Their percentage gap are:\n",
      " [100.0, 98.6, 98.2, 97.4, 100.0, 98.2, 98.0, 96.6, 99.0, 99.2, 99.4, 99.0]\n",
      "# ====================================================== #\n",
      "disc loss 0.6505975723266602 gen loss 0.8610932230949402\n",
      "disc loss 0.6256570816040039 gen loss 0.873461127281189\n"
     ]
    },
    {
     "name": "stderr",
     "output_type": "stream",
     "text": [
      "C:\\Users\\canal\\AppData\\Roaming\\Python\\Python38\\site-packages\\numpy\\lib\\function_base.py:2642: RuntimeWarning: invalid value encountered in true_divide\n",
      "  c /= stddev[:, None]\n",
      "C:\\Users\\canal\\AppData\\Roaming\\Python\\Python38\\site-packages\\numpy\\lib\\function_base.py:2643: RuntimeWarning: invalid value encountered in true_divide\n",
      "  c /= stddev[None, :]\n"
     ]
    },
    {
     "name": "stdout",
     "output_type": "stream",
     "text": [
      "#========== evaluating for epoch 280 ==========#\n",
      ">>> MMD | abs(D_Entropy) | abs(D_Distance) | Pearson Corr \n",
      "0.31231 , 0.067079 , 0.006187 , nan\n",
      "# ================== Sampling 500 sequences at epoch 280 ================== #\n",
      "The loci with percentage of gap >= 95% in the cleaned MSA: \n",
      " [0, 1, 2, 3, 78, 228, 229, 230, 231, 233, 235, 236]\n",
      "Their percentage gap are:\n",
      " [100.0, 98.8, 98.4, 96.4, 100.0, 98.4, 99.0, 95.4, 99.2, 99.2, 99.2, 99.4]\n",
      "# ====================================================== #\n",
      "disc loss 0.8492422103881836 gen loss 0.7669413685798645\n",
      "disc loss 0.7397801280021667 gen loss 0.8335810303688049\n"
     ]
    },
    {
     "name": "stderr",
     "output_type": "stream",
     "text": [
      "C:\\Users\\canal\\AppData\\Roaming\\Python\\Python38\\site-packages\\numpy\\lib\\function_base.py:2642: RuntimeWarning: invalid value encountered in true_divide\n",
      "  c /= stddev[:, None]\n",
      "C:\\Users\\canal\\AppData\\Roaming\\Python\\Python38\\site-packages\\numpy\\lib\\function_base.py:2643: RuntimeWarning: invalid value encountered in true_divide\n",
      "  c /= stddev[None, :]\n"
     ]
    },
    {
     "name": "stdout",
     "output_type": "stream",
     "text": [
      "#========== evaluating for epoch 282 ==========#\n",
      ">>> MMD | abs(D_Entropy) | abs(D_Distance) | Pearson Corr \n",
      "0.30626 , 0.06683 , 0.027064 , nan\n",
      "# ================== Sampling 500 sequences at epoch 282 ================== #\n",
      "The loci with percentage of gap >= 95% in the cleaned MSA: \n",
      " [0, 1, 2, 3, 78, 228, 229, 230, 231, 233, 235, 236]\n",
      "Their percentage gap are:\n",
      " [100.0, 98.4, 98.0, 97.4, 100.0, 99.2, 99.0, 97.0, 98.8, 99.2, 99.4, 99.6]\n",
      "# ====================================================== #\n",
      "disc loss 0.7707690000534058 gen loss 0.8424639105796814\n",
      "disc loss 0.7234707474708557 gen loss 0.7914484739303589\n"
     ]
    },
    {
     "name": "stderr",
     "output_type": "stream",
     "text": [
      "C:\\Users\\canal\\AppData\\Roaming\\Python\\Python38\\site-packages\\numpy\\lib\\function_base.py:2642: RuntimeWarning: invalid value encountered in true_divide\n",
      "  c /= stddev[:, None]\n",
      "C:\\Users\\canal\\AppData\\Roaming\\Python\\Python38\\site-packages\\numpy\\lib\\function_base.py:2643: RuntimeWarning: invalid value encountered in true_divide\n",
      "  c /= stddev[None, :]\n"
     ]
    },
    {
     "name": "stdout",
     "output_type": "stream",
     "text": [
      "#========== evaluating for epoch 284 ==========#\n",
      ">>> MMD | abs(D_Entropy) | abs(D_Distance) | Pearson Corr \n",
      "0.30722 , 0.065542 , 0.028976 , nan\n",
      "# ================== Sampling 500 sequences at epoch 284 ================== #\n",
      "The loci with percentage of gap >= 95% in the cleaned MSA: \n",
      " [0, 1, 2, 3, 78, 153, 154, 155, 228, 229, 230, 231, 233, 235, 236]\n",
      "Their percentage gap are:\n",
      " [100.0, 99.2, 98.0, 97.4, 100.0, 96.2, 98.0, 95.0, 99.4, 99.4, 96.6, 99.0, 99.6, 99.4, 99.8]\n",
      "# ====================================================== #\n",
      "disc loss 0.8081389665603638 gen loss 0.8248704671859741\n",
      "disc loss 0.7603099346160889 gen loss 0.703722357749939\n"
     ]
    },
    {
     "name": "stderr",
     "output_type": "stream",
     "text": [
      "C:\\Users\\canal\\AppData\\Roaming\\Python\\Python38\\site-packages\\numpy\\lib\\function_base.py:2642: RuntimeWarning: invalid value encountered in true_divide\n",
      "  c /= stddev[:, None]\n",
      "C:\\Users\\canal\\AppData\\Roaming\\Python\\Python38\\site-packages\\numpy\\lib\\function_base.py:2643: RuntimeWarning: invalid value encountered in true_divide\n",
      "  c /= stddev[None, :]\n"
     ]
    },
    {
     "name": "stdout",
     "output_type": "stream",
     "text": [
      "#========== evaluating for epoch 286 ==========#\n",
      ">>> MMD | abs(D_Entropy) | abs(D_Distance) | Pearson Corr \n",
      "0.30478 , 0.065706 , 0.039939 , nan\n",
      "# ================== Sampling 500 sequences at epoch 286 ================== #\n",
      "The loci with percentage of gap >= 95% in the cleaned MSA: \n",
      " [0, 1, 2, 3, 78, 153, 154, 155, 228, 229, 230, 231, 233, 235, 236]\n",
      "Their percentage gap are:\n",
      " [100.0, 98.8, 97.6, 97.4, 100.0, 96.2, 96.8, 95.6, 98.4, 99.8, 95.4, 99.2, 99.4, 99.2, 99.8]\n",
      "# ====================================================== #\n",
      "disc loss 0.704676628112793 gen loss 0.8896751403808594\n",
      "disc loss 0.602749228477478 gen loss 0.8455463647842407\n"
     ]
    },
    {
     "name": "stderr",
     "output_type": "stream",
     "text": [
      "C:\\Users\\canal\\AppData\\Roaming\\Python\\Python38\\site-packages\\numpy\\lib\\function_base.py:2642: RuntimeWarning: invalid value encountered in true_divide\n",
      "  c /= stddev[:, None]\n",
      "C:\\Users\\canal\\AppData\\Roaming\\Python\\Python38\\site-packages\\numpy\\lib\\function_base.py:2643: RuntimeWarning: invalid value encountered in true_divide\n",
      "  c /= stddev[None, :]\n"
     ]
    },
    {
     "name": "stdout",
     "output_type": "stream",
     "text": [
      "#========== evaluating for epoch 288 ==========#\n",
      ">>> MMD | abs(D_Entropy) | abs(D_Distance) | Pearson Corr \n",
      "0.30377 , 0.064807 , 0.050233 , nan\n",
      "# ================== Sampling 500 sequences at epoch 288 ================== #\n",
      "The loci with percentage of gap >= 95% in the cleaned MSA: \n",
      " [0, 1, 2, 3, 78, 153, 154, 228, 229, 230, 231, 233, 235, 236]\n",
      "Their percentage gap are:\n",
      " [100.0, 99.4, 97.8, 97.2, 100.0, 95.8, 96.6, 99.0, 99.2, 96.2, 99.4, 99.6, 99.2, 99.6]\n",
      "# ====================================================== #\n",
      "disc loss 0.6049129962921143 gen loss 0.8964920043945312\n",
      "disc loss 0.621107816696167 gen loss 0.7634404897689819\n"
     ]
    },
    {
     "name": "stderr",
     "output_type": "stream",
     "text": [
      "C:\\Users\\canal\\AppData\\Roaming\\Python\\Python38\\site-packages\\numpy\\lib\\function_base.py:2642: RuntimeWarning: invalid value encountered in true_divide\n",
      "  c /= stddev[:, None]\n",
      "C:\\Users\\canal\\AppData\\Roaming\\Python\\Python38\\site-packages\\numpy\\lib\\function_base.py:2643: RuntimeWarning: invalid value encountered in true_divide\n",
      "  c /= stddev[None, :]\n"
     ]
    },
    {
     "name": "stdout",
     "output_type": "stream",
     "text": [
      "#========== evaluating for epoch 290 ==========#\n",
      ">>> MMD | abs(D_Entropy) | abs(D_Distance) | Pearson Corr \n",
      "0.30275 , 0.063996 , 0.063552 , nan\n",
      "# ================== Sampling 500 sequences at epoch 290 ================== #\n",
      "The loci with percentage of gap >= 95% in the cleaned MSA: \n",
      " [0, 1, 2, 3, 78, 153, 154, 228, 229, 230, 231, 233, 235, 236]\n",
      "Their percentage gap are:\n",
      " [99.8, 99.0, 98.2, 98.0, 100.0, 97.2, 96.4, 98.2, 99.4, 97.8, 98.4, 99.6, 99.0, 99.8]\n",
      "# ====================================================== #\n",
      "disc loss 0.7993607521057129 gen loss 0.8936017751693726\n",
      "disc loss 0.6334181427955627 gen loss 0.8285894393920898\n"
     ]
    },
    {
     "name": "stderr",
     "output_type": "stream",
     "text": [
      "C:\\Users\\canal\\AppData\\Roaming\\Python\\Python38\\site-packages\\numpy\\lib\\function_base.py:2642: RuntimeWarning: invalid value encountered in true_divide\n",
      "  c /= stddev[:, None]\n",
      "C:\\Users\\canal\\AppData\\Roaming\\Python\\Python38\\site-packages\\numpy\\lib\\function_base.py:2643: RuntimeWarning: invalid value encountered in true_divide\n",
      "  c /= stddev[None, :]\n"
     ]
    },
    {
     "name": "stdout",
     "output_type": "stream",
     "text": [
      "#========== evaluating for epoch 292 ==========#\n",
      ">>> MMD | abs(D_Entropy) | abs(D_Distance) | Pearson Corr \n",
      "0.30673 , 0.064533 , 0.052308 , nan\n",
      "# ================== Sampling 500 sequences at epoch 292 ================== #\n",
      "The loci with percentage of gap >= 95% in the cleaned MSA: \n",
      " [0, 1, 2, 3, 78, 153, 154, 228, 229, 230, 231, 233, 235, 236]\n",
      "Their percentage gap are:\n",
      " [99.8, 99.6, 98.4, 96.4, 100.0, 96.6, 97.4, 98.4, 99.6, 95.2, 98.8, 99.0, 99.2, 99.6]\n",
      "# ====================================================== #\n",
      "disc loss 0.6314507126808167 gen loss 0.6964285373687744\n",
      "disc loss 0.8517938852310181 gen loss 0.7736587524414062\n"
     ]
    },
    {
     "name": "stderr",
     "output_type": "stream",
     "text": [
      "C:\\Users\\canal\\AppData\\Roaming\\Python\\Python38\\site-packages\\numpy\\lib\\function_base.py:2642: RuntimeWarning: invalid value encountered in true_divide\n",
      "  c /= stddev[:, None]\n",
      "C:\\Users\\canal\\AppData\\Roaming\\Python\\Python38\\site-packages\\numpy\\lib\\function_base.py:2643: RuntimeWarning: invalid value encountered in true_divide\n",
      "  c /= stddev[None, :]\n"
     ]
    },
    {
     "name": "stdout",
     "output_type": "stream",
     "text": [
      "#========== evaluating for epoch 294 ==========#\n",
      ">>> MMD | abs(D_Entropy) | abs(D_Distance) | Pearson Corr \n",
      "0.30758 , 0.064864 , 0.043487 , nan\n",
      "# ================== Sampling 500 sequences at epoch 294 ================== #\n",
      "The loci with percentage of gap >= 95% in the cleaned MSA: \n",
      " [0, 1, 2, 3, 78, 154, 155, 228, 229, 230, 231, 233, 235, 236]\n",
      "Their percentage gap are:\n",
      " [100.0, 99.2, 98.2, 96.6, 100.0, 95.2, 95.8, 99.6, 99.4, 96.6, 98.8, 99.0, 99.0, 99.6]\n",
      "# ====================================================== #\n",
      "disc loss 0.9368871450424194 gen loss 0.856451690196991\n",
      "disc loss 0.5387342572212219 gen loss 0.8735041618347168\n"
     ]
    },
    {
     "name": "stderr",
     "output_type": "stream",
     "text": [
      "C:\\Users\\canal\\AppData\\Roaming\\Python\\Python38\\site-packages\\numpy\\lib\\function_base.py:2642: RuntimeWarning: invalid value encountered in true_divide\n",
      "  c /= stddev[:, None]\n",
      "C:\\Users\\canal\\AppData\\Roaming\\Python\\Python38\\site-packages\\numpy\\lib\\function_base.py:2643: RuntimeWarning: invalid value encountered in true_divide\n",
      "  c /= stddev[None, :]\n"
     ]
    },
    {
     "name": "stdout",
     "output_type": "stream",
     "text": [
      "#========== evaluating for epoch 296 ==========#\n",
      ">>> MMD | abs(D_Entropy) | abs(D_Distance) | Pearson Corr \n",
      "0.30532 , 0.063738 , 0.064296 , nan\n",
      "# ================== Sampling 500 sequences at epoch 296 ================== #\n",
      "The loci with percentage of gap >= 95% in the cleaned MSA: \n",
      " [0, 1, 2, 3, 78, 153, 154, 155, 228, 229, 230, 231, 233, 234, 235, 236]\n",
      "Their percentage gap are:\n",
      " [100.0, 98.6, 99.0, 96.4, 100.0, 97.4, 96.8, 95.2, 98.2, 99.8, 97.8, 99.2, 99.8, 95.4, 99.2, 99.6]\n",
      "# ====================================================== #\n",
      "disc loss 0.7996231317520142 gen loss 0.8229312896728516\n",
      "disc loss 0.6892539858818054 gen loss 0.7856919765472412\n"
     ]
    },
    {
     "name": "stderr",
     "output_type": "stream",
     "text": [
      "C:\\Users\\canal\\AppData\\Roaming\\Python\\Python38\\site-packages\\numpy\\lib\\function_base.py:2642: RuntimeWarning: invalid value encountered in true_divide\n",
      "  c /= stddev[:, None]\n",
      "C:\\Users\\canal\\AppData\\Roaming\\Python\\Python38\\site-packages\\numpy\\lib\\function_base.py:2643: RuntimeWarning: invalid value encountered in true_divide\n",
      "  c /= stddev[None, :]\n"
     ]
    },
    {
     "name": "stdout",
     "output_type": "stream",
     "text": [
      "#========== evaluating for epoch 298 ==========#\n",
      ">>> MMD | abs(D_Entropy) | abs(D_Distance) | Pearson Corr \n",
      "0.3063 , 0.063121 , 0.077253 , nan\n",
      "# ================== Sampling 500 sequences at epoch 298 ================== #\n",
      "The loci with percentage of gap >= 95% in the cleaned MSA: \n",
      " [0, 1, 2, 3, 78, 153, 154, 155, 228, 229, 230, 231, 233, 234, 235, 236]\n",
      "Their percentage gap are:\n",
      " [100.0, 99.0, 99.8, 97.0, 99.6, 97.2, 96.8, 96.8, 99.6, 98.6, 97.0, 99.8, 99.8, 95.4, 99.4, 99.8]\n",
      "# ====================================================== #\n",
      "disc loss 0.5317018032073975 gen loss 0.8790132999420166\n"
     ]
    }
   ],
   "source": [
    "for epoch in range(args_epoch):\n",
    "    train(epoch)\n",
    "    save_checkpoints(Disc, Gen, optim_disc, optim_gen, \n",
    "                     scheduler_d, scheduler_g, epoch)\n",
    "    if epoch != 0:\n",
    "        os.remove(os.path.join('checkpoints/'+args_run_name, \n",
    "                               'epoch_{}'.format(epoch-1)))\n",
    "    # eval every 2 epoch\n",
    "    if epoch % 2 == 0:\n",
    "        evaluate(epoch)"
   ]
  }
 ],
 "metadata": {
  "kernelspec": {
   "display_name": "Python 3.8.5 ('base')",
   "language": "python",
   "name": "python3"
  },
  "language_info": {
   "codemirror_mode": {
    "name": "ipython",
    "version": 3
   },
   "file_extension": ".py",
   "mimetype": "text/x-python",
   "name": "python",
   "nbconvert_exporter": "python",
   "pygments_lexer": "ipython3",
   "version": "3.8.5"
  },
  "orig_nbformat": 4,
  "vscode": {
   "interpreter": {
    "hash": "386218770bb7053658aedbdb94aaaba888065d92b04918111f39a883f4943438"
   }
  }
 },
 "nbformat": 4,
 "nbformat_minor": 2
}
