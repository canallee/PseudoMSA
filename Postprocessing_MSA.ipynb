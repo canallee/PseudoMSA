{
 "cells": [
  {
   "cell_type": "code",
   "execution_count": 1,
   "metadata": {},
   "outputs": [],
   "source": [
    "import os\n",
    "import warnings\n",
    "from Bio import SeqIO\n",
    "from utils.dataloader import *\n",
    "from utils.pesudo_MSA import *\n",
    "from transformers import ESMForMaskedLM, ESMTokenizer, pipeline\n",
    "from tqdm.notebook import tqdm as tqdm\n",
    "\n",
    "def warn(*args, **kwargs):\n",
    "    pass\n",
    "\n",
    "warnings.warn = warn"
   ]
  },
  {
   "cell_type": "markdown",
   "metadata": {},
   "source": [
    "### Dedup multiple fasta files"
   ]
  },
  {
   "cell_type": "code",
   "execution_count": 2,
   "metadata": {},
   "outputs": [
    {
     "name": "stdout",
     "output_type": "stream",
     "text": [
      "Total number of pseudo MSA sequences before dedup: 117391\n",
      "Number of nondup sequences: 114771\n"
     ]
    }
   ],
   "source": [
    "fasta0 = \"HIS7_data/pseudo_MSA/HIS7_pseudo_MSA_editDist30_0.fasta\"\n",
    "fasta1 = \"HIS7_data/pseudo_MSA/HIS7_pseudo_MSA_editDist30_1.fasta\"\n",
    "fasta2 = \"HIS7_data/pseudo_MSA/HIS7_pseudo_MSA_editDist30_2.fasta\"\n",
    "fasta3 = \"HIS7_data/pseudo_MSA/HIS7_pseudo_MSA_editDist30_3.fasta\"\n",
    "\n",
    "records_list = [list(SeqIO.parse(fasta_name, \"fasta\")) for fasta_name \n",
    "           in [fasta0, fasta1, fasta2, fasta3]]\n",
    "seqs = []; records = []\n",
    "for records_i in records_list:\n",
    "    records = records + [record for record in records_i]\n",
    "    seqs = seqs + [str(record.seq) for record in records_i]\n",
    "print(\"Total number of pseudo MSA sequences before dedup:\", len(seqs))\n",
    "# set to avoid duplicate seqs\n",
    "seq_set = set()\n",
    "for seq in seqs:\n",
    "    seq_set.add(seq)\n",
    "print(\"Number of nondup sequences:\", len(seq_set))\n",
    "output_records = []\n",
    "for record in records:\n",
    "    seq = record.seq\n",
    "    if seq in seq_set:\n",
    "        seq_set.remove(seq)\n",
    "        output_records.append(record)\n",
    "output_fasta = \"HIS7_data/pseudo_MSA/HIS7_editDist30_dedup.fasta\"\n",
    "with open(output_fasta, 'w') as output_handle:\n",
    "    SeqIO.write(output_records, output_handle, 'fasta')"
   ]
  },
  {
   "cell_type": "markdown",
   "metadata": {},
   "source": [
    "### Subsampling from pseudo_MSA"
   ]
  },
  {
   "cell_type": "code",
   "execution_count": 5,
   "metadata": {},
   "outputs": [
    {
     "name": "stdout",
     "output_type": "stream",
     "text": [
      "Begin subsampling, total sequences number: 114771\n"
     ]
    }
   ],
   "source": [
    "fasta_name = \"HIS7_data/pseudo_MSA/HIS7_editDist30_dedup.fasta\"\n",
    "records = list(SeqIO.parse(fasta_name, \"fasta\"))\n",
    "print(\"Begin subsampling, total sequences number:\", len(records))\n",
    "#===============================================================#\n",
    "# parameters for the subsampled fasta file\n",
    "args_mutant_per_editDist = 2000; args_editDist = 30\n",
    "#===============================================================#\n",
    "mutants_by_editDist = []; scores_by_editDist = []\n",
    "# seperate mutants by their edit distances\n",
    "for edit_dist_i in range(1, args_editDist+1):\n",
    "    mutants = []; scores = []\n",
    "    for record in records:\n",
    "        score = float(record.description.split(\" | \")[1].split(\"=\")[1])\n",
    "        edit_distance = int(record.description.split(\" | \")[0].split(\"_\")[1])\n",
    "        if edit_distance == edit_dist_i:\n",
    "            mutants.append(record)\n",
    "            scores.append(score)\n",
    "    mutants_by_editDist.append(mutants)\n",
    "    scores_by_editDist.append(scores)\n",
    " \n",
    "# outputing records base on score    \n",
    "output_records = [] \n",
    "for edit_dist_i in range(args_editDist):\n",
    "    mutants = mutants_by_editDist[edit_dist_i]\n",
    "    scores = scores_by_editDist[edit_dist_i]\n",
    "    n_mutants = len(mutants)\n",
    "    # prob to pick a mutant is its weighted score\n",
    "    p = scores/np.sum(scores)\n",
    "    # subsampling without replacement\n",
    "    if len(mutants) < args_mutant_per_editDist:\n",
    "        select_n_mutants = len(mutants)\n",
    "    else:\n",
    "        select_n_mutants = args_mutant_per_editDist\n",
    "    weighted_choices = np.random.choice(\n",
    "        len(mutants), select_n_mutants, p = p, replace=False) \n",
    "    output_records += [mutants[i] for i in weighted_choices]\n",
    "#===============================================================#\n",
    "output_fasta = \"HIS7_data/pseudo_MSA/HIS7_editDist30_subsampled.fasta\"\n",
    "with open(output_fasta, 'w') as output_handle:\n",
    "    SeqIO.write(output_records, output_handle, 'fasta')"
   ]
  }
 ],
 "metadata": {
  "kernelspec": {
   "display_name": "Python 3.8.5 64-bit",
   "language": "python",
   "name": "python3"
  },
  "language_info": {
   "codemirror_mode": {
    "name": "ipython",
    "version": 3
   },
   "file_extension": ".py",
   "mimetype": "text/x-python",
   "name": "python",
   "nbconvert_exporter": "python",
   "pygments_lexer": "ipython3",
   "version": "3.8.5"
  },
  "orig_nbformat": 4,
  "vscode": {
   "interpreter": {
    "hash": "386218770bb7053658aedbdb94aaaba888065d92b04918111f39a883f4943438"
   }
  }
 },
 "nbformat": 4,
 "nbformat_minor": 2
}
