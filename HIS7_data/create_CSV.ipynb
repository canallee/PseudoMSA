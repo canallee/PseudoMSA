{
 "cells": [
  {
   "cell_type": "code",
   "execution_count": 4,
   "metadata": {},
   "outputs": [],
   "source": [
    "import pandas as pd\n",
    "WT_HIS7 = 'MTEQKALVKRITNETKIQIAISLKGGPLAIEHSIFPEKEAEAVAEQATQSQVINVHTGIGFLDHMIHALAKHSGWSLIVECIGDLHIDDHHTTEDCGIALGQAFKEALGAVRGVKRFGSGFAPLDEALSRAVVDLSNRPYAVVELGLQREKVGDLSCEMIPHFLESFAEASRITLHVDCLRGKNDHHRSESAFKALAVAIREATSPNGTNDVPSTKGVLM'\n",
    "\n",
    "def clean_HIS7_data():\n",
    "    df = pd.read_csv('his7.tsv', sep='\\t')\n",
    "    mutation_lst = df['mutation'].tolist()\n",
    "    fitness_score = df['score'].tolist()\n",
    "    aaSequence = []; edit_distance = []\n",
    "    for mutations in mutation_lst:\n",
    "        mut_lst = mutations.split(\";\")\n",
    "        mutant_seq = WT_HIS7\n",
    "        for mut in mut_lst:\n",
    "            old_aa, new_aa = mut[0], mut[-1]\n",
    "            locus = int(mut[1:-1]) - 1\n",
    "            assert WT_HIS7[locus] == old_aa, 'wrong data'+mut\n",
    "            mutant_seq = mutant_seq[:locus] + new_aa + mutant_seq[locus+1:]\n",
    "        aaSequence.append(mutant_seq)\n",
    "        edit_distance.append(len(mut_lst))\n",
    "    out_df = pd.DataFrame(list(zip(mutation_lst,aaSequence,edit_distance,fitness_score)),\n",
    "                        columns = ['mutation_lst', 'aaSequence', \n",
    "                                    'edit_distance', 'fitness_score'])\n",
    "    out_df.to_csv('his7.csv')   \n",
    "    \n",
    "clean_HIS7_data()"
   ]
  }
 ],
 "metadata": {
  "kernelspec": {
   "display_name": "Python 3.8.8 64-bit",
   "language": "python",
   "name": "python3"
  },
  "language_info": {
   "codemirror_mode": {
    "name": "ipython",
    "version": 3
   },
   "file_extension": ".py",
   "mimetype": "text/x-python",
   "name": "python",
   "nbconvert_exporter": "python",
   "pygments_lexer": "ipython3",
   "version": "3.8.8"
  },
  "orig_nbformat": 4,
  "vscode": {
   "interpreter": {
    "hash": "9650cb4e16cdd4a8e8e2d128bf38d875813998db22a3c986335f89e0cb4d7bb2"
   }
  }
 },
 "nbformat": 4,
 "nbformat_minor": 2
}
